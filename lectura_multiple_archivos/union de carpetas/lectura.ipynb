{
 "cells": [
  {
   "cell_type": "code",
   "execution_count": 1,
   "metadata": {},
   "outputs": [],
   "source": [
    "import os\n",
    "import pandas as pd\n",
    "import re"
   ]
  },
  {
   "cell_type": "code",
   "execution_count": 2,
   "metadata": {},
   "outputs": [],
   "source": [
    "all_data = []"
   ]
  },
  {
   "cell_type": "code",
   "execution_count": 3,
   "metadata": {},
   "outputs": [],
   "source": [
    "for filename in os.listdir(\"Febrero\"):\n",
    "    if filename.endswith(\".csv\"):  # Solo carga archivos .csv\n",
    "        file_path = os.path.join('Febrero', filename)\n",
    "        folder_name = os.path.basename(os.path.dirname(file_path))\n",
    "        name_part = os.path.splitext(filename)[0]\n",
    "        df = pd.read_csv(file_path)\n",
    "        df['Folder'] = folder_name\n",
    "        df['Name_Part'] = name_part\n",
    "        all_data.append(df)"
   ]
  },
  {
   "cell_type": "code",
   "execution_count": 4,
   "metadata": {},
   "outputs": [
    {
     "data": {
      "text/html": [
       "<div>\n",
       "<style scoped>\n",
       "    .dataframe tbody tr th:only-of-type {\n",
       "        vertical-align: middle;\n",
       "    }\n",
       "\n",
       "    .dataframe tbody tr th {\n",
       "        vertical-align: top;\n",
       "    }\n",
       "\n",
       "    .dataframe thead th {\n",
       "        text-align: right;\n",
       "    }\n",
       "</style>\n",
       "<table border=\"1\" class=\"dataframe\">\n",
       "  <thead>\n",
       "    <tr style=\"text-align: right;\">\n",
       "      <th></th>\n",
       "      <th>articulo</th>\n",
       "      <th>valor</th>\n",
       "      <th>Folder</th>\n",
       "      <th>Name_Part</th>\n",
       "    </tr>\n",
       "  </thead>\n",
       "  <tbody>\n",
       "    <tr>\n",
       "      <th>0</th>\n",
       "      <td>a</td>\n",
       "      <td>10</td>\n",
       "      <td>Febrero</td>\n",
       "      <td>numero_1</td>\n",
       "    </tr>\n",
       "    <tr>\n",
       "      <th>1</th>\n",
       "      <td>b</td>\n",
       "      <td>50</td>\n",
       "      <td>Febrero</td>\n",
       "      <td>numero_1</td>\n",
       "    </tr>\n",
       "    <tr>\n",
       "      <th>2</th>\n",
       "      <td>c</td>\n",
       "      <td>3</td>\n",
       "      <td>Febrero</td>\n",
       "      <td>numero_1</td>\n",
       "    </tr>\n",
       "    <tr>\n",
       "      <th>0</th>\n",
       "      <td>a</td>\n",
       "      <td>10</td>\n",
       "      <td>Febrero</td>\n",
       "      <td>numero_2</td>\n",
       "    </tr>\n",
       "    <tr>\n",
       "      <th>1</th>\n",
       "      <td>b</td>\n",
       "      <td>50</td>\n",
       "      <td>Febrero</td>\n",
       "      <td>numero_2</td>\n",
       "    </tr>\n",
       "  </tbody>\n",
       "</table>\n",
       "</div>"
      ],
      "text/plain": [
       "  articulo  valor   Folder Name_Part\n",
       "0        a     10  Febrero  numero_1\n",
       "1        b     50  Febrero  numero_1\n",
       "2        c      3  Febrero  numero_1\n",
       "0        a     10  Febrero  numero_2\n",
       "1        b     50  Febrero  numero_2"
      ]
     },
     "execution_count": 4,
     "metadata": {},
     "output_type": "execute_result"
    }
   ],
   "source": [
    "# Concatenar los datos de todos los archivos\n",
    "combined_data = pd.concat(all_data)\n",
    "\n",
    "re_express = re.compile('(tienda )(.*)')\n",
    "combined_data['Name_Part'] = combined_data['Name_Part'].str.replace(re_express, r'\\2')\n",
    "\n",
    "combined_data.head()"
   ]
  },
  {
   "cell_type": "code",
   "execution_count": 5,
   "metadata": {},
   "outputs": [],
   "source": [
    "# Guardar los datos en un archivo\n",
    "combined_data.to_csv(\"new_file.csv\", index=False)"
   ]
  }
 ],
 "metadata": {
  "kernelspec": {
   "display_name": "Python 3",
   "language": "python",
   "name": "python3"
  },
  "language_info": {
   "codemirror_mode": {
    "name": "ipython",
    "version": 3
   },
   "file_extension": ".py",
   "mimetype": "text/x-python",
   "name": "python",
   "nbconvert_exporter": "python",
   "pygments_lexer": "ipython3",
   "version": "3.11.0"
  },
  "orig_nbformat": 4
 },
 "nbformat": 4,
 "nbformat_minor": 2
}
