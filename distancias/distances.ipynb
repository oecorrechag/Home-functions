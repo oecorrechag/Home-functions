{
 "cells": [
  {
   "cell_type": "code",
   "execution_count": 1,
   "metadata": {},
   "outputs": [],
   "source": [
    "import pandas as pd\n",
    "\n",
    "import geopandas as gpd\n",
    "from shapely.geometry import Point\n",
    "from geopy.distance import distance"
   ]
  },
  {
   "cell_type": "code",
   "execution_count": 2,
   "metadata": {},
   "outputs": [],
   "source": [
    "# Función para calcular la distancia entre dos puntos\n",
    "def calcular_distancia(lat1, lon1, lat2, lon2):\n",
    "    return distance((lat1, lon1), (lat2, lon2)).km"
   ]
  },
  {
   "cell_type": "code",
   "execution_count": 3,
   "metadata": {},
   "outputs": [
    {
     "data": {
      "text/html": [
       "<div>\n",
       "<style scoped>\n",
       "    .dataframe tbody tr th:only-of-type {\n",
       "        vertical-align: middle;\n",
       "    }\n",
       "\n",
       "    .dataframe tbody tr th {\n",
       "        vertical-align: top;\n",
       "    }\n",
       "\n",
       "    .dataframe thead th {\n",
       "        text-align: right;\n",
       "    }\n",
       "</style>\n",
       "<table border=\"1\" class=\"dataframe\">\n",
       "  <thead>\n",
       "    <tr style=\"text-align: right;\">\n",
       "      <th></th>\n",
       "      <th>city</th>\n",
       "      <th>lat</th>\n",
       "      <th>lng</th>\n",
       "      <th>country</th>\n",
       "      <th>iso2</th>\n",
       "      <th>admin_name</th>\n",
       "      <th>capital</th>\n",
       "      <th>population</th>\n",
       "      <th>population_proper</th>\n",
       "      <th>ci_es</th>\n",
       "    </tr>\n",
       "  </thead>\n",
       "  <tbody>\n",
       "    <tr>\n",
       "      <th>0</th>\n",
       "      <td>Bogotá</td>\n",
       "      <td>4.6126</td>\n",
       "      <td>-74.0705</td>\n",
       "      <td>Colombia</td>\n",
       "      <td>CO</td>\n",
       "      <td>Bogotá</td>\n",
       "      <td>primary</td>\n",
       "      <td>9464000.0</td>\n",
       "      <td>7963000.0</td>\n",
       "      <td>Bogotá - Bogotá</td>\n",
       "    </tr>\n",
       "    <tr>\n",
       "      <th>1</th>\n",
       "      <td>Medellín</td>\n",
       "      <td>6.2447</td>\n",
       "      <td>-75.5748</td>\n",
       "      <td>Colombia</td>\n",
       "      <td>CO</td>\n",
       "      <td>Antioquia</td>\n",
       "      <td>admin</td>\n",
       "      <td>2529403.0</td>\n",
       "      <td>2529403.0</td>\n",
       "      <td>Medellín - Antioquia</td>\n",
       "    </tr>\n",
       "    <tr>\n",
       "      <th>2</th>\n",
       "      <td>Cali</td>\n",
       "      <td>3.4400</td>\n",
       "      <td>-76.5197</td>\n",
       "      <td>Colombia</td>\n",
       "      <td>CO</td>\n",
       "      <td>Valle del Cauca</td>\n",
       "      <td>admin</td>\n",
       "      <td>2471474.0</td>\n",
       "      <td>2471474.0</td>\n",
       "      <td>Cali - Valle del Cauca</td>\n",
       "    </tr>\n",
       "    <tr>\n",
       "      <th>3</th>\n",
       "      <td>Barranquilla</td>\n",
       "      <td>10.9639</td>\n",
       "      <td>-74.7964</td>\n",
       "      <td>Colombia</td>\n",
       "      <td>CO</td>\n",
       "      <td>Atlántico</td>\n",
       "      <td>admin</td>\n",
       "      <td>1274250.0</td>\n",
       "      <td>1274250.0</td>\n",
       "      <td>Barranquilla - Atlántico</td>\n",
       "    </tr>\n",
       "    <tr>\n",
       "      <th>4</th>\n",
       "      <td>Cartagena</td>\n",
       "      <td>10.4236</td>\n",
       "      <td>-75.5253</td>\n",
       "      <td>Colombia</td>\n",
       "      <td>CO</td>\n",
       "      <td>Bolívar</td>\n",
       "      <td>admin</td>\n",
       "      <td>1036412.0</td>\n",
       "      <td>1036412.0</td>\n",
       "      <td>Cartagena - Bolívar</td>\n",
       "    </tr>\n",
       "  </tbody>\n",
       "</table>\n",
       "</div>"
      ],
      "text/plain": [
       "           city      lat      lng   country iso2       admin_name  capital  \\\n",
       "0        Bogotá   4.6126 -74.0705  Colombia   CO           Bogotá  primary   \n",
       "1      Medellín   6.2447 -75.5748  Colombia   CO        Antioquia    admin   \n",
       "2          Cali   3.4400 -76.5197  Colombia   CO  Valle del Cauca    admin   \n",
       "3  Barranquilla  10.9639 -74.7964  Colombia   CO        Atlántico    admin   \n",
       "4     Cartagena  10.4236 -75.5253  Colombia   CO          Bolívar    admin   \n",
       "\n",
       "   population  population_proper                     ci_es  \n",
       "0   9464000.0          7963000.0           Bogotá - Bogotá  \n",
       "1   2529403.0          2529403.0      Medellín - Antioquia  \n",
       "2   2471474.0          2471474.0    Cali - Valle del Cauca  \n",
       "3   1274250.0          1274250.0  Barranquilla - Atlántico  \n",
       "4   1036412.0          1036412.0       Cartagena - Bolívar  "
      ]
     },
     "execution_count": 3,
     "metadata": {},
     "output_type": "execute_result"
    }
   ],
   "source": [
    "df = pd.read_csv('data/co.csv', sep = ',', decimal = '.', header = 0, encoding = 'utf-8')\n",
    "df['ci_es'] = df['city'] + ' - ' + df['admin_name']\n",
    "df = df.drop_duplicates(subset=['ci_es'])\n",
    "df.head()"
   ]
  },
  {
   "cell_type": "code",
   "execution_count": 4,
   "metadata": {},
   "outputs": [
    {
     "data": {
      "text/html": [
       "<div>\n",
       "<style scoped>\n",
       "    .dataframe tbody tr th:only-of-type {\n",
       "        vertical-align: middle;\n",
       "    }\n",
       "\n",
       "    .dataframe tbody tr th {\n",
       "        vertical-align: top;\n",
       "    }\n",
       "\n",
       "    .dataframe thead th {\n",
       "        text-align: right;\n",
       "    }\n",
       "</style>\n",
       "<table border=\"1\" class=\"dataframe\">\n",
       "  <thead>\n",
       "    <tr style=\"text-align: right;\">\n",
       "      <th></th>\n",
       "      <th>ci_es</th>\n",
       "      <th>lat</th>\n",
       "      <th>lng</th>\n",
       "    </tr>\n",
       "  </thead>\n",
       "  <tbody>\n",
       "    <tr>\n",
       "      <th>0</th>\n",
       "      <td>Bogotá - Bogotá</td>\n",
       "      <td>4.6126</td>\n",
       "      <td>-74.0705</td>\n",
       "    </tr>\n",
       "    <tr>\n",
       "      <th>1</th>\n",
       "      <td>Medellín - Antioquia</td>\n",
       "      <td>6.2447</td>\n",
       "      <td>-75.5748</td>\n",
       "    </tr>\n",
       "    <tr>\n",
       "      <th>2</th>\n",
       "      <td>Cali - Valle del Cauca</td>\n",
       "      <td>3.4400</td>\n",
       "      <td>-76.5197</td>\n",
       "    </tr>\n",
       "    <tr>\n",
       "      <th>3</th>\n",
       "      <td>Barranquilla - Atlántico</td>\n",
       "      <td>10.9639</td>\n",
       "      <td>-74.7964</td>\n",
       "    </tr>\n",
       "    <tr>\n",
       "      <th>4</th>\n",
       "      <td>Cartagena - Bolívar</td>\n",
       "      <td>10.4236</td>\n",
       "      <td>-75.5253</td>\n",
       "    </tr>\n",
       "  </tbody>\n",
       "</table>\n",
       "</div>"
      ],
      "text/plain": [
       "                      ci_es      lat      lng\n",
       "0           Bogotá - Bogotá   4.6126 -74.0705\n",
       "1      Medellín - Antioquia   6.2447 -75.5748\n",
       "2    Cali - Valle del Cauca   3.4400 -76.5197\n",
       "3  Barranquilla - Atlántico  10.9639 -74.7964\n",
       "4       Cartagena - Bolívar  10.4236 -75.5253"
      ]
     },
     "execution_count": 4,
     "metadata": {},
     "output_type": "execute_result"
    }
   ],
   "source": [
    "base = df.copy()\n",
    "base = base.loc[:,['ci_es','lat','lng']]\n",
    "base.head()"
   ]
  },
  {
   "cell_type": "code",
   "execution_count": 5,
   "metadata": {},
   "outputs": [
    {
     "data": {
      "text/html": [
       "<div>\n",
       "<style scoped>\n",
       "    .dataframe tbody tr th:only-of-type {\n",
       "        vertical-align: middle;\n",
       "    }\n",
       "\n",
       "    .dataframe tbody tr th {\n",
       "        vertical-align: top;\n",
       "    }\n",
       "\n",
       "    .dataframe thead th {\n",
       "        text-align: right;\n",
       "    }\n",
       "</style>\n",
       "<table border=\"1\" class=\"dataframe\">\n",
       "  <thead>\n",
       "    <tr style=\"text-align: right;\">\n",
       "      <th></th>\n",
       "      <th>from</th>\n",
       "      <th>to</th>\n",
       "    </tr>\n",
       "  </thead>\n",
       "  <tbody>\n",
       "    <tr>\n",
       "      <th>0</th>\n",
       "      <td>Bogotá - Bogotá</td>\n",
       "      <td>Bogotá - Bogotá</td>\n",
       "    </tr>\n",
       "    <tr>\n",
       "      <th>0</th>\n",
       "      <td>Bogotá - Bogotá</td>\n",
       "      <td>Medellín - Antioquia</td>\n",
       "    </tr>\n",
       "    <tr>\n",
       "      <th>0</th>\n",
       "      <td>Bogotá - Bogotá</td>\n",
       "      <td>Cali - Valle del Cauca</td>\n",
       "    </tr>\n",
       "    <tr>\n",
       "      <th>0</th>\n",
       "      <td>Bogotá - Bogotá</td>\n",
       "      <td>Barranquilla - Atlántico</td>\n",
       "    </tr>\n",
       "    <tr>\n",
       "      <th>0</th>\n",
       "      <td>Bogotá - Bogotá</td>\n",
       "      <td>Cartagena - Bolívar</td>\n",
       "    </tr>\n",
       "  </tbody>\n",
       "</table>\n",
       "</div>"
      ],
      "text/plain": [
       "              from                        to\n",
       "0  Bogotá - Bogotá           Bogotá - Bogotá\n",
       "0  Bogotá - Bogotá      Medellín - Antioquia\n",
       "0  Bogotá - Bogotá    Cali - Valle del Cauca\n",
       "0  Bogotá - Bogotá  Barranquilla - Atlántico\n",
       "0  Bogotá - Bogotá       Cartagena - Bolívar"
      ]
     },
     "execution_count": 5,
     "metadata": {},
     "output_type": "execute_result"
    }
   ],
   "source": [
    "origen = base.copy()\n",
    "origen = origen.loc[:,['ci_es']]\n",
    "origen.insert(1, 'count', 1)\n",
    "origen['city_list'] = origen['count'].apply(lambda x: list(origen['ci_es']))\n",
    "origen = origen.explode('city_list')\n",
    "origen.rename(columns={'ci_es':'from', 'city_list':'to'}, inplace=True)\n",
    "origen = origen.loc[:,['from','to']]\n",
    "origen.head()"
   ]
  },
  {
   "cell_type": "code",
   "execution_count": 6,
   "metadata": {},
   "outputs": [
    {
     "data": {
      "text/plain": [
       "(1210000, 2)"
      ]
     },
     "execution_count": 6,
     "metadata": {},
     "output_type": "execute_result"
    }
   ],
   "source": [
    "origen.shape"
   ]
  },
  {
   "cell_type": "code",
   "execution_count": 7,
   "metadata": {},
   "outputs": [
    {
     "data": {
      "text/plain": [
       "(1210000, 6)"
      ]
     },
     "execution_count": 7,
     "metadata": {},
     "output_type": "execute_result"
    }
   ],
   "source": [
    "distances = pd.merge(origen, base, how='left', left_on='from', right_on='ci_es')  \n",
    "distances.rename(columns={'lat':'latitud_from', 'lng':'longitud_from'}, inplace=True)\n",
    "distances = pd.merge(distances, base, how='left', left_on='to', right_on='ci_es') \n",
    "distances.rename(columns={'lat':'latitud_to', 'lng':'longitud_to'}, inplace=True)\n",
    "distances = distances.loc[:,['from', 'to', 'latitud_from', 'longitud_from', 'latitud_to', 'longitud_to']]\n",
    "distances.shape"
   ]
  },
  {
   "cell_type": "code",
   "execution_count": 8,
   "metadata": {},
   "outputs": [],
   "source": [
    "distances['distancia'] = distances.apply(lambda row: calcular_distancia(row['latitud_from'], row['longitud_from'], row['latitud_to'], row['longitud_to']), axis=1)"
   ]
  },
  {
   "cell_type": "code",
   "execution_count": 9,
   "metadata": {},
   "outputs": [
    {
     "data": {
      "text/html": [
       "<div>\n",
       "<style scoped>\n",
       "    .dataframe tbody tr th:only-of-type {\n",
       "        vertical-align: middle;\n",
       "    }\n",
       "\n",
       "    .dataframe tbody tr th {\n",
       "        vertical-align: top;\n",
       "    }\n",
       "\n",
       "    .dataframe thead th {\n",
       "        text-align: right;\n",
       "    }\n",
       "</style>\n",
       "<table border=\"1\" class=\"dataframe\">\n",
       "  <thead>\n",
       "    <tr style=\"text-align: right;\">\n",
       "      <th></th>\n",
       "      <th>from</th>\n",
       "      <th>to</th>\n",
       "      <th>latitud_from</th>\n",
       "      <th>longitud_from</th>\n",
       "      <th>latitud_to</th>\n",
       "      <th>longitud_to</th>\n",
       "      <th>distancia</th>\n",
       "    </tr>\n",
       "  </thead>\n",
       "  <tbody>\n",
       "    <tr>\n",
       "      <th>0</th>\n",
       "      <td>Bogotá - Bogotá</td>\n",
       "      <td>Bogotá - Bogotá</td>\n",
       "      <td>4.6126</td>\n",
       "      <td>-74.0705</td>\n",
       "      <td>4.6126</td>\n",
       "      <td>-74.0705</td>\n",
       "      <td>0.000000</td>\n",
       "    </tr>\n",
       "    <tr>\n",
       "      <th>1</th>\n",
       "      <td>Bogotá - Bogotá</td>\n",
       "      <td>Medellín - Antioquia</td>\n",
       "      <td>4.6126</td>\n",
       "      <td>-74.0705</td>\n",
       "      <td>6.2447</td>\n",
       "      <td>-75.5748</td>\n",
       "      <td>245.694109</td>\n",
       "    </tr>\n",
       "    <tr>\n",
       "      <th>2</th>\n",
       "      <td>Bogotá - Bogotá</td>\n",
       "      <td>Cali - Valle del Cauca</td>\n",
       "      <td>4.6126</td>\n",
       "      <td>-74.0705</td>\n",
       "      <td>3.4400</td>\n",
       "      <td>-76.5197</td>\n",
       "      <td>301.299069</td>\n",
       "    </tr>\n",
       "    <tr>\n",
       "      <th>3</th>\n",
       "      <td>Bogotá - Bogotá</td>\n",
       "      <td>Barranquilla - Atlántico</td>\n",
       "      <td>4.6126</td>\n",
       "      <td>-74.0705</td>\n",
       "      <td>10.9639</td>\n",
       "      <td>-74.7964</td>\n",
       "      <td>706.970469</td>\n",
       "    </tr>\n",
       "    <tr>\n",
       "      <th>4</th>\n",
       "      <td>Bogotá - Bogotá</td>\n",
       "      <td>Cartagena - Bolívar</td>\n",
       "      <td>4.6126</td>\n",
       "      <td>-74.0705</td>\n",
       "      <td>10.4236</td>\n",
       "      <td>-75.5253</td>\n",
       "      <td>662.399801</td>\n",
       "    </tr>\n",
       "  </tbody>\n",
       "</table>\n",
       "</div>"
      ],
      "text/plain": [
       "              from                        to  latitud_from  longitud_from  \\\n",
       "0  Bogotá - Bogotá           Bogotá - Bogotá        4.6126       -74.0705   \n",
       "1  Bogotá - Bogotá      Medellín - Antioquia        4.6126       -74.0705   \n",
       "2  Bogotá - Bogotá    Cali - Valle del Cauca        4.6126       -74.0705   \n",
       "3  Bogotá - Bogotá  Barranquilla - Atlántico        4.6126       -74.0705   \n",
       "4  Bogotá - Bogotá       Cartagena - Bolívar        4.6126       -74.0705   \n",
       "\n",
       "   latitud_to  longitud_to   distancia  \n",
       "0      4.6126     -74.0705    0.000000  \n",
       "1      6.2447     -75.5748  245.694109  \n",
       "2      3.4400     -76.5197  301.299069  \n",
       "3     10.9639     -74.7964  706.970469  \n",
       "4     10.4236     -75.5253  662.399801  "
      ]
     },
     "execution_count": 9,
     "metadata": {},
     "output_type": "execute_result"
    }
   ],
   "source": [
    "distances.head()"
   ]
  },
  {
   "cell_type": "code",
   "execution_count": 13,
   "metadata": {},
   "outputs": [],
   "source": [
    "distances.to_csv('data/distances.csv', encoding = 'utf-8-sig', index = False)\n",
    "distances.to_parquet('data/distances.parquet.gzip', compression='gzip')"
   ]
  },
  {
   "cell_type": "code",
   "execution_count": 11,
   "metadata": {},
   "outputs": [],
   "source": [
    "# import pandas as pd\n",
    "\n",
    "# data = {'a': [1, 2, 3, 4, 5], 'b': [10, 20, 30, 40, 50]}\n",
    "# df = pd.DataFrame(data)\n",
    "\n",
    "# df['a_list'] = df['b'].apply(lambda x: list(df['a']))\n",
    "# # df = df.explode('a_list')\n",
    "\n",
    "# print(df)"
   ]
  },
  {
   "cell_type": "code",
   "execution_count": 12,
   "metadata": {},
   "outputs": [
    {
     "name": "stdout",
     "output_type": "stream",
     "text": [
      "ok\n"
     ]
    }
   ],
   "source": [
    "print('ok')"
   ]
  }
 ],
 "metadata": {
  "kernelspec": {
   "display_name": "Python 3",
   "language": "python",
   "name": "python3"
  },
  "language_info": {
   "codemirror_mode": {
    "name": "ipython",
    "version": 3
   },
   "file_extension": ".py",
   "mimetype": "text/x-python",
   "name": "python",
   "nbconvert_exporter": "python",
   "pygments_lexer": "ipython3",
   "version": "3.11.0"
  },
  "orig_nbformat": 4
 },
 "nbformat": 4,
 "nbformat_minor": 2
}
