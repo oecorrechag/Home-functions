{
 "cells": [
  {
   "cell_type": "code",
   "execution_count": 21,
   "metadata": {},
   "outputs": [],
   "source": [
    "import geopandas as gpd\n",
    "import pandas as pd\n",
    "from shapely.geometry import Point\n",
    "from geopy.distance import distance\n",
    "\n",
    "import warnings\n",
    "warnings.filterwarnings(\"ignore\")"
   ]
  },
  {
   "cell_type": "code",
   "execution_count": 112,
   "metadata": {},
   "outputs": [],
   "source": [
    "tiendas = pd.DataFrame({\n",
    "    'nombre': ['T', 'T2', 'T3'],\n",
    "    'latitud': [4.576744763258312, 4.578697849895388, 4.582962141623665],\n",
    "    'longitud': [-74.11454243331224, -74.1078839590082, -74.09932051315734],\n",
    "    'dist': ['Quiroga','Olaya','Fucha']\n",
    "})\n",
    "tiendas = gpd.GeoDataFrame(tiendas, geometry=gpd.points_from_xy(tiendas.latitud, tiendas.longitud))\n",
    "\n",
    "\n",
    "# Crear un dataframe de personas con latitud y longitud\n",
    "personas = pd.DataFrame({\n",
    "    'nombre': ['Persona 1', 'Persona 2', 'Persona 3', 'Persona 4'],\n",
    "    'latitud': [ 4.577831588767381, 4.578035538520844, 4.579576490334676, 4.583744341379929],\n",
    "    'longitud': [-74.11026135190512, -74.10939747472882, -74.1060101668533, -74.09799491105359],\n",
    "    'dist': [500,600,1000,2000]\n",
    "})\n",
    "personas = gpd.GeoDataFrame(personas, geometry=gpd.points_from_xy(personas.latitud, personas.longitud), crs=\"EPSG:4326\") \n",
    "\n",
    "personas['buffer'] = personas['geometry'].buffer(0.005)\n",
    "\n",
    "tiendas.to_csv('tiendas.csv', encoding = 'utf-8-sig', index = False)\n",
    "personas.to_csv('personas.csv', encoding = 'utf-8-sig', index = False)"
   ]
  },
  {
   "cell_type": "code",
   "execution_count": 113,
   "metadata": {},
   "outputs": [
    {
     "data": {
      "text/html": [
       "<div>\n",
       "<style scoped>\n",
       "    .dataframe tbody tr th:only-of-type {\n",
       "        vertical-align: middle;\n",
       "    }\n",
       "\n",
       "    .dataframe tbody tr th {\n",
       "        vertical-align: top;\n",
       "    }\n",
       "\n",
       "    .dataframe thead th {\n",
       "        text-align: right;\n",
       "    }\n",
       "</style>\n",
       "<table border=\"1\" class=\"dataframe\">\n",
       "  <thead>\n",
       "    <tr style=\"text-align: right;\">\n",
       "      <th></th>\n",
       "      <th>nombre</th>\n",
       "      <th>latitud</th>\n",
       "      <th>longitud</th>\n",
       "      <th>dist</th>\n",
       "      <th>geometry</th>\n",
       "      <th>buffer</th>\n",
       "    </tr>\n",
       "  </thead>\n",
       "  <tbody>\n",
       "    <tr>\n",
       "      <th>0</th>\n",
       "      <td>Persona 1</td>\n",
       "      <td>4.577832</td>\n",
       "      <td>-74.110261</td>\n",
       "      <td>500</td>\n",
       "      <td>POINT (4.57783 -74.11026)</td>\n",
       "      <td>POLYGON ((4.58283 -74.11026, 4.58281 -74.11075...</td>\n",
       "    </tr>\n",
       "    <tr>\n",
       "      <th>1</th>\n",
       "      <td>Persona 2</td>\n",
       "      <td>4.578036</td>\n",
       "      <td>-74.109397</td>\n",
       "      <td>600</td>\n",
       "      <td>POINT (4.57804 -74.10940)</td>\n",
       "      <td>POLYGON ((4.58304 -74.10940, 4.58301 -74.10989...</td>\n",
       "    </tr>\n",
       "    <tr>\n",
       "      <th>2</th>\n",
       "      <td>Persona 3</td>\n",
       "      <td>4.579576</td>\n",
       "      <td>-74.106010</td>\n",
       "      <td>1000</td>\n",
       "      <td>POINT (4.57958 -74.10601)</td>\n",
       "      <td>POLYGON ((4.58458 -74.10601, 4.58455 -74.10650...</td>\n",
       "    </tr>\n",
       "    <tr>\n",
       "      <th>3</th>\n",
       "      <td>Persona 4</td>\n",
       "      <td>4.583744</td>\n",
       "      <td>-74.097995</td>\n",
       "      <td>2000</td>\n",
       "      <td>POINT (4.58374 -74.09799)</td>\n",
       "      <td>POLYGON ((4.58874 -74.09799, 4.58872 -74.09848...</td>\n",
       "    </tr>\n",
       "  </tbody>\n",
       "</table>\n",
       "</div>"
      ],
      "text/plain": [
       "      nombre   latitud   longitud  dist                   geometry   \n",
       "0  Persona 1  4.577832 -74.110261   500  POINT (4.57783 -74.11026)  \\\n",
       "1  Persona 2  4.578036 -74.109397   600  POINT (4.57804 -74.10940)   \n",
       "2  Persona 3  4.579576 -74.106010  1000  POINT (4.57958 -74.10601)   \n",
       "3  Persona 4  4.583744 -74.097995  2000  POINT (4.58374 -74.09799)   \n",
       "\n",
       "                                              buffer  \n",
       "0  POLYGON ((4.58283 -74.11026, 4.58281 -74.11075...  \n",
       "1  POLYGON ((4.58304 -74.10940, 4.58301 -74.10989...  \n",
       "2  POLYGON ((4.58458 -74.10601, 4.58455 -74.10650...  \n",
       "3  POLYGON ((4.58874 -74.09799, 4.58872 -74.09848...  "
      ]
     },
     "execution_count": 113,
     "metadata": {},
     "output_type": "execute_result"
    }
   ],
   "source": [
    "personas.head()"
   ]
  },
  {
   "cell_type": "code",
   "execution_count": 114,
   "metadata": {},
   "outputs": [],
   "source": [
    "l500 = []\n",
    "for i, persona in personas.iterrows():\n",
    "    mask = tiendas.within(persona['buffer'])\n",
    "    num_tiendas = mask.sum()\n",
    "    l500.append(num_tiendas)"
   ]
  },
  {
   "cell_type": "code",
   "execution_count": 125,
   "metadata": {},
   "outputs": [
    {
     "data": {
      "text/plain": [
       "[2, 2, 1, 1]"
      ]
     },
     "execution_count": 125,
     "metadata": {},
     "output_type": "execute_result"
    }
   ],
   "source": [
    "l500"
   ]
  },
  {
   "cell_type": "code",
   "execution_count": 134,
   "metadata": {},
   "outputs": [
    {
     "data": {
      "text/plain": [
       "[3, 3, 3, 3]"
      ]
     },
     "execution_count": 134,
     "metadata": {},
     "output_type": "execute_result"
    }
   ],
   "source": [
    "personas['buffer'] = personas['geometry'].buffer(0.02)\n",
    "\n",
    "l500 = []\n",
    "for i, persona in personas.iterrows():\n",
    "    mask = tiendas.within(persona['buffer'])\n",
    "    num_tiendas = mask.sum()\n",
    "    l500.append(num_tiendas)\n",
    "l500"
   ]
  },
  {
   "attachments": {},
   "cell_type": "markdown",
   "metadata": {},
   "source": [
    "l500 -> 0.005\n",
    "l600 -> 0.006\n",
    "l700 -> 0.007\n",
    "l800 -> 0.0075\n",
    "l900 -> 0.008\n",
    "l1000 -> 0.01\n",
    "l1500 -> 0.015\n",
    "l2000 -> 0.02\n",
    "l5000 -> 0.05"
   ]
  },
  {
   "cell_type": "code",
   "execution_count": null,
   "metadata": {},
   "outputs": [],
   "source": []
  }
 ],
 "metadata": {
  "kernelspec": {
   "display_name": "Python 3",
   "language": "python",
   "name": "python3"
  },
  "language_info": {
   "codemirror_mode": {
    "name": "ipython",
    "version": 3
   },
   "file_extension": ".py",
   "mimetype": "text/x-python",
   "name": "python",
   "nbconvert_exporter": "python",
   "pygments_lexer": "ipython3",
   "version": "3.10.6"
  },
  "orig_nbformat": 4
 },
 "nbformat": 4,
 "nbformat_minor": 2
}
