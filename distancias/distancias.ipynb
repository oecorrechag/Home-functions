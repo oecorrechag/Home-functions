{
 "cells": [
  {
   "cell_type": "code",
   "execution_count": 5,
   "metadata": {},
   "outputs": [],
   "source": [
    "import pandas as pd\n",
    "from geopy.distance import distance\n",
    "\n",
    "# Función para calcular la distancia geodésica entre dos puntos\n",
    "def calcular_distancia(lat1, lon1, lat2, lon2):\n",
    "    return distance((lat1, lon1), (lat2, lon2)).km"
   ]
  },
  {
   "cell_type": "code",
   "execution_count": 2,
   "metadata": {},
   "outputs": [],
   "source": [
    "# Crear un dataframe de tiendas con latitud y longitud\n",
    "tiendas = pd.DataFrame({\n",
    "    'nombre': ['Tienda A', 'Tienda B', 'Tienda C', 'Tienda D'],\n",
    "    'latitud': [25.7468, 25.7544, 25.7646, 25.7734],\n",
    "    'longitud': [-100.2964, -100.3051, -100.3171, -100.3258]\n",
    "})\n",
    "\n",
    "# Crear un dataframe de personas con latitud y longitud\n",
    "personas = pd.DataFrame({\n",
    "    'nombre': ['Persona 1', 'Persona 2', 'Persona 3'],\n",
    "    'latitud': [25.7485, 25.7590, 25.7770],\n",
    "    'longitud': [-100.2948, -100.3105, -100.3295]\n",
    "})"
   ]
  },
  {
   "cell_type": "code",
   "execution_count": 3,
   "metadata": {},
   "outputs": [
    {
     "data": {
      "text/html": [
       "<div>\n",
       "<style scoped>\n",
       "    .dataframe tbody tr th:only-of-type {\n",
       "        vertical-align: middle;\n",
       "    }\n",
       "\n",
       "    .dataframe tbody tr th {\n",
       "        vertical-align: top;\n",
       "    }\n",
       "\n",
       "    .dataframe thead th {\n",
       "        text-align: right;\n",
       "    }\n",
       "</style>\n",
       "<table border=\"1\" class=\"dataframe\">\n",
       "  <thead>\n",
       "    <tr style=\"text-align: right;\">\n",
       "      <th></th>\n",
       "      <th>nombre</th>\n",
       "      <th>latitud</th>\n",
       "      <th>longitud</th>\n",
       "    </tr>\n",
       "  </thead>\n",
       "  <tbody>\n",
       "    <tr>\n",
       "      <th>0</th>\n",
       "      <td>Tienda A</td>\n",
       "      <td>25.7468</td>\n",
       "      <td>-100.2964</td>\n",
       "    </tr>\n",
       "    <tr>\n",
       "      <th>1</th>\n",
       "      <td>Tienda B</td>\n",
       "      <td>25.7544</td>\n",
       "      <td>-100.3051</td>\n",
       "    </tr>\n",
       "    <tr>\n",
       "      <th>2</th>\n",
       "      <td>Tienda C</td>\n",
       "      <td>25.7646</td>\n",
       "      <td>-100.3171</td>\n",
       "    </tr>\n",
       "    <tr>\n",
       "      <th>3</th>\n",
       "      <td>Tienda D</td>\n",
       "      <td>25.7734</td>\n",
       "      <td>-100.3258</td>\n",
       "    </tr>\n",
       "  </tbody>\n",
       "</table>\n",
       "</div>"
      ],
      "text/plain": [
       "     nombre  latitud  longitud\n",
       "0  Tienda A  25.7468 -100.2964\n",
       "1  Tienda B  25.7544 -100.3051\n",
       "2  Tienda C  25.7646 -100.3171\n",
       "3  Tienda D  25.7734 -100.3258"
      ]
     },
     "execution_count": 3,
     "metadata": {},
     "output_type": "execute_result"
    }
   ],
   "source": [
    "tiendas.head()"
   ]
  },
  {
   "cell_type": "code",
   "execution_count": 4,
   "metadata": {},
   "outputs": [
    {
     "data": {
      "text/html": [
       "<div>\n",
       "<style scoped>\n",
       "    .dataframe tbody tr th:only-of-type {\n",
       "        vertical-align: middle;\n",
       "    }\n",
       "\n",
       "    .dataframe tbody tr th {\n",
       "        vertical-align: top;\n",
       "    }\n",
       "\n",
       "    .dataframe thead th {\n",
       "        text-align: right;\n",
       "    }\n",
       "</style>\n",
       "<table border=\"1\" class=\"dataframe\">\n",
       "  <thead>\n",
       "    <tr style=\"text-align: right;\">\n",
       "      <th></th>\n",
       "      <th>nombre</th>\n",
       "      <th>latitud</th>\n",
       "      <th>longitud</th>\n",
       "    </tr>\n",
       "  </thead>\n",
       "  <tbody>\n",
       "    <tr>\n",
       "      <th>0</th>\n",
       "      <td>Persona 1</td>\n",
       "      <td>25.7485</td>\n",
       "      <td>-100.2948</td>\n",
       "    </tr>\n",
       "    <tr>\n",
       "      <th>1</th>\n",
       "      <td>Persona 2</td>\n",
       "      <td>25.7590</td>\n",
       "      <td>-100.3105</td>\n",
       "    </tr>\n",
       "    <tr>\n",
       "      <th>2</th>\n",
       "      <td>Persona 3</td>\n",
       "      <td>25.7770</td>\n",
       "      <td>-100.3295</td>\n",
       "    </tr>\n",
       "  </tbody>\n",
       "</table>\n",
       "</div>"
      ],
      "text/plain": [
       "      nombre  latitud  longitud\n",
       "0  Persona 1  25.7485 -100.2948\n",
       "1  Persona 2  25.7590 -100.3105\n",
       "2  Persona 3  25.7770 -100.3295"
      ]
     },
     "execution_count": 4,
     "metadata": {},
     "output_type": "execute_result"
    }
   ],
   "source": [
    "personas.head()"
   ]
  },
  {
   "cell_type": "code",
   "execution_count": 6,
   "metadata": {},
   "outputs": [],
   "source": [
    "# Calcular la distancia entre cada tienda y cada persona\n",
    "for i, tienda in tiendas.iterrows():\n",
    "    for j, persona in personas.iterrows():\n",
    "        distancia = calcular_distancia(tienda['latitud'], tienda['longitud'], persona['latitud'], persona['longitud'])\n",
    "        tiendas.at[i, f\"distancia_persona_{j+1}\"] = distancia\n"
   ]
  },
  {
   "cell_type": "code",
   "execution_count": 7,
   "metadata": {},
   "outputs": [
    {
     "data": {
      "text/html": [
       "<div>\n",
       "<style scoped>\n",
       "    .dataframe tbody tr th:only-of-type {\n",
       "        vertical-align: middle;\n",
       "    }\n",
       "\n",
       "    .dataframe tbody tr th {\n",
       "        vertical-align: top;\n",
       "    }\n",
       "\n",
       "    .dataframe thead th {\n",
       "        text-align: right;\n",
       "    }\n",
       "</style>\n",
       "<table border=\"1\" class=\"dataframe\">\n",
       "  <thead>\n",
       "    <tr style=\"text-align: right;\">\n",
       "      <th></th>\n",
       "      <th>nombre</th>\n",
       "      <th>latitud</th>\n",
       "      <th>longitud</th>\n",
       "      <th>distancia_persona_1</th>\n",
       "      <th>distancia_persona_2</th>\n",
       "      <th>distancia_persona_3</th>\n",
       "    </tr>\n",
       "  </thead>\n",
       "  <tbody>\n",
       "    <tr>\n",
       "      <th>0</th>\n",
       "      <td>Tienda A</td>\n",
       "      <td>25.7468</td>\n",
       "      <td>-100.2964</td>\n",
       "      <td>0.247465</td>\n",
       "      <td>1.956483</td>\n",
       "      <td>4.713774</td>\n",
       "    </tr>\n",
       "    <tr>\n",
       "      <th>1</th>\n",
       "      <td>Tienda B</td>\n",
       "      <td>25.7544</td>\n",
       "      <td>-100.3051</td>\n",
       "      <td>1.222738</td>\n",
       "      <td>0.743765</td>\n",
       "      <td>3.501411</td>\n",
       "    </tr>\n",
       "    <tr>\n",
       "      <th>2</th>\n",
       "      <td>Tienda C</td>\n",
       "      <td>25.7646</td>\n",
       "      <td>-100.3171</td>\n",
       "      <td>2.861192</td>\n",
       "      <td>0.907341</td>\n",
       "      <td>1.853190</td>\n",
       "    </tr>\n",
       "    <tr>\n",
       "      <th>3</th>\n",
       "      <td>Tienda D</td>\n",
       "      <td>25.7734</td>\n",
       "      <td>-100.3258</td>\n",
       "      <td>4.157041</td>\n",
       "      <td>2.213739</td>\n",
       "      <td>0.544797</td>\n",
       "    </tr>\n",
       "  </tbody>\n",
       "</table>\n",
       "</div>"
      ],
      "text/plain": [
       "     nombre  latitud  longitud  distancia_persona_1  distancia_persona_2   \n",
       "0  Tienda A  25.7468 -100.2964             0.247465             1.956483  \\\n",
       "1  Tienda B  25.7544 -100.3051             1.222738             0.743765   \n",
       "2  Tienda C  25.7646 -100.3171             2.861192             0.907341   \n",
       "3  Tienda D  25.7734 -100.3258             4.157041             2.213739   \n",
       "\n",
       "   distancia_persona_3  \n",
       "0             4.713774  \n",
       "1             3.501411  \n",
       "2             1.853190  \n",
       "3             0.544797  "
      ]
     },
     "execution_count": 7,
     "metadata": {},
     "output_type": "execute_result"
    }
   ],
   "source": [
    "tiendas.head()"
   ]
  },
  {
   "cell_type": "code",
   "execution_count": 8,
   "metadata": {},
   "outputs": [
    {
     "name": "stdout",
     "output_type": "stream",
     "text": [
      "La distancia promedio de Persona 1 a sus 10 tiendas más cercanas es 2.12 km\n",
      "La distancia promedio de Persona 2 a sus 10 tiendas más cercanas es 1.46 km\n",
      "La distancia promedio de Persona 3 a sus 10 tiendas más cercanas es 2.65 km\n"
     ]
    }
   ],
   "source": [
    "# Seleccionar las 10 tiendas más cercanas a cada persona y calcular la distancia promedio\n",
    "for i, persona in personas.iterrows():\n",
    "    tiendas_cercanas = tiendas.nsmallest(10, f\"distancia_persona_{i+1}\")\n",
    "    distancia_promedio = tiendas_cercanas[f\"distancia_persona_{i+1}\"].mean()\n",
    "    print(f\"La distancia promedio de {persona['nombre']} a sus 10 tiendas más cercanas es {distancia_promedio:.2f} km\")"
   ]
  },
  {
   "cell_type": "code",
   "execution_count": null,
   "metadata": {},
   "outputs": [],
   "source": [
    "print('ok_')"
   ]
  }
 ],
 "metadata": {
  "kernelspec": {
   "display_name": "Python 3",
   "language": "python",
   "name": "python3"
  },
  "language_info": {
   "codemirror_mode": {
    "name": "ipython",
    "version": 3
   },
   "file_extension": ".py",
   "mimetype": "text/x-python",
   "name": "python",
   "nbconvert_exporter": "python",
   "pygments_lexer": "ipython3",
   "version": "3.10.6"
  },
  "orig_nbformat": 4
 },
 "nbformat": 4,
 "nbformat_minor": 2
}
