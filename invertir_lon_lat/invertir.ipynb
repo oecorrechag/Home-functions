{
 "cells": [
  {
   "cell_type": "code",
   "execution_count": 1,
   "id": "f5e0f8fc",
   "metadata": {},
   "outputs": [],
   "source": [
    "import pandas as pd\n",
    "\n",
    "def invertir_lat_lon(lofl):\n",
    "\n",
    "    ''' Esta funcion invierte una lista de lista, de [latitud-longitud] a [longitud - latitud] '''\n",
    "\n",
    "    salida = []\n",
    "    for i in lofl:\n",
    "        ls = list(reversed(i))\n",
    "        salida.append(ls)\n",
    "    return salida"
   ]
  },
  {
   "cell_type": "code",
   "execution_count": 20,
   "id": "ecd7ae04",
   "metadata": {},
   "outputs": [],
   "source": [
    "x =[[6.2186633217108165, -75.57653686257976],\n",
    "[6.218600660693132, -75.57617074104307],\n",
    "[6.218405907170108, -75.57618892377835],\n",
    "[6.218366086704144, -75.57611262065848],\n",
    "[6.21823120824796, -75.57613116639799],\n",
    "[6.218319268204945, -75.57659744925154],]"
   ]
  },
  {
   "cell_type": "code",
   "execution_count": 22,
   "id": "b80f8a86",
   "metadata": {},
   "outputs": [
    {
     "data": {
      "text/plain": [
       "[[-75.57653686257976, 6.2186633217108165],\n",
       " [-75.57617074104307, 6.218600660693132],\n",
       " [-75.57618892377835, 6.218405907170108],\n",
       " [-75.57611262065848, 6.218366086704144],\n",
       " [-75.57613116639799, 6.21823120824796],\n",
       " [-75.57659744925154, 6.218319268204945]]"
      ]
     },
     "execution_count": 22,
     "metadata": {},
     "output_type": "execute_result"
    }
   ],
   "source": [
    "invertir_lat_lon(x)"
   ]
  }
 ],
 "metadata": {
  "kernelspec": {
   "display_name": "Python 3",
   "language": "python",
   "name": "python3"
  },
  "language_info": {
   "codemirror_mode": {
    "name": "ipython",
    "version": 3
   },
   "file_extension": ".py",
   "mimetype": "text/x-python",
   "name": "python",
   "nbconvert_exporter": "python",
   "pygments_lexer": "ipython3",
   "version": "3.11.0"
  },
  "vscode": {
   "interpreter": {
    "hash": "5238573367df39f7286bb46f9ff5f08f63a01a80960060ce41e3c79b190280fa"
   }
  }
 },
 "nbformat": 4,
 "nbformat_minor": 5
}
