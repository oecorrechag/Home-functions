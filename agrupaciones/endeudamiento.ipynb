{
 "cells": [
  {
   "cell_type": "code",
   "execution_count": 1,
   "metadata": {},
   "outputs": [],
   "source": [
    "import pandas as pd"
   ]
  },
  {
   "cell_type": "code",
   "execution_count": 7,
   "metadata": {},
   "outputs": [
    {
     "data": {
      "text/html": [
       "<div>\n",
       "<style scoped>\n",
       "    .dataframe tbody tr th:only-of-type {\n",
       "        vertical-align: middle;\n",
       "    }\n",
       "\n",
       "    .dataframe tbody tr th {\n",
       "        vertical-align: top;\n",
       "    }\n",
       "\n",
       "    .dataframe thead th {\n",
       "        text-align: right;\n",
       "    }\n",
       "</style>\n",
       "<table border=\"1\" class=\"dataframe\">\n",
       "  <thead>\n",
       "    <tr style=\"text-align: right;\">\n",
       "      <th></th>\n",
       "      <th>id_cliente</th>\n",
       "      <th>id_prestamo</th>\n",
       "      <th>monto</th>\n",
       "      <th>deuda_actual</th>\n",
       "      <th>fecha_inicio</th>\n",
       "      <th>fecha_pago</th>\n",
       "      <th>fecha_pago.1</th>\n",
       "      <th>dias_atraso</th>\n",
       "    </tr>\n",
       "  </thead>\n",
       "  <tbody>\n",
       "    <tr>\n",
       "      <th>0</th>\n",
       "      <td>1</td>\n",
       "      <td>10001</td>\n",
       "      <td>100</td>\n",
       "      <td>80</td>\n",
       "      <td>12/12/2022</td>\n",
       "      <td>12/12/2022</td>\n",
       "      <td>12/12/2022</td>\n",
       "      <td>0</td>\n",
       "    </tr>\n",
       "    <tr>\n",
       "      <th>1</th>\n",
       "      <td>1</td>\n",
       "      <td>10002</td>\n",
       "      <td>200</td>\n",
       "      <td>150</td>\n",
       "      <td>22/12/2022</td>\n",
       "      <td>22/12/2022</td>\n",
       "      <td>23/12/2022</td>\n",
       "      <td>1</td>\n",
       "    </tr>\n",
       "    <tr>\n",
       "      <th>2</th>\n",
       "      <td>2</td>\n",
       "      <td>10003</td>\n",
       "      <td>50</td>\n",
       "      <td>5</td>\n",
       "      <td>23/12/2022</td>\n",
       "      <td>23/12/2022</td>\n",
       "      <td>28/12/2022</td>\n",
       "      <td>5</td>\n",
       "    </tr>\n",
       "    <tr>\n",
       "      <th>3</th>\n",
       "      <td>2</td>\n",
       "      <td>10004</td>\n",
       "      <td>75</td>\n",
       "      <td>70</td>\n",
       "      <td>24/12/2022</td>\n",
       "      <td>24/12/2022</td>\n",
       "      <td>28/12/2022</td>\n",
       "      <td>4</td>\n",
       "    </tr>\n",
       "    <tr>\n",
       "      <th>4</th>\n",
       "      <td>2</td>\n",
       "      <td>10005</td>\n",
       "      <td>125</td>\n",
       "      <td>12</td>\n",
       "      <td>24/12/2022</td>\n",
       "      <td>24/12/2022</td>\n",
       "      <td>29/12/2022</td>\n",
       "      <td>5</td>\n",
       "    </tr>\n",
       "  </tbody>\n",
       "</table>\n",
       "</div>"
      ],
      "text/plain": [
       "   id_cliente  id_prestamo  monto  deuda_actual fecha_inicio  fecha_pago  \\\n",
       "0           1        10001    100            80   12/12/2022  12/12/2022   \n",
       "1           1        10002    200           150   22/12/2022  22/12/2022   \n",
       "2           2        10003     50             5   23/12/2022  23/12/2022   \n",
       "3           2        10004     75            70   24/12/2022  24/12/2022   \n",
       "4           2        10005    125            12   24/12/2022  24/12/2022   \n",
       "\n",
       "  fecha_pago.1  dias_atraso  \n",
       "0   12/12/2022            0  \n",
       "1   23/12/2022            1  \n",
       "2   28/12/2022            5  \n",
       "3   28/12/2022            4  \n",
       "4   29/12/2022            5  "
      ]
     },
     "execution_count": 7,
     "metadata": {},
     "output_type": "execute_result"
    }
   ],
   "source": [
    "creditos = pd.read_csv('creditos.csv', sep = ',', decimal = '.', header = 0, encoding = 'utf-8')\n",
    "creditos.head()"
   ]
  },
  {
   "cell_type": "code",
   "execution_count": 8,
   "metadata": {},
   "outputs": [
    {
     "name": "stderr",
     "output_type": "stream",
     "text": [
      "C:\\Users\\Oscar\\AppData\\Local\\Temp\\ipykernel_7456\\2360885637.py:1: FutureWarning: The default value of numeric_only in DataFrameGroupBy.sum is deprecated. In a future version, numeric_only will default to False. Either specify numeric_only or select only columns which should be valid for the function.\n",
      "  clientes_agrupados = creditos.groupby('id_cliente').sum()\n"
     ]
    },
    {
     "data": {
      "text/html": [
       "<div>\n",
       "<style scoped>\n",
       "    .dataframe tbody tr th:only-of-type {\n",
       "        vertical-align: middle;\n",
       "    }\n",
       "\n",
       "    .dataframe tbody tr th {\n",
       "        vertical-align: top;\n",
       "    }\n",
       "\n",
       "    .dataframe thead th {\n",
       "        text-align: right;\n",
       "    }\n",
       "</style>\n",
       "<table border=\"1\" class=\"dataframe\">\n",
       "  <thead>\n",
       "    <tr style=\"text-align: right;\">\n",
       "      <th></th>\n",
       "      <th>id_prestamo</th>\n",
       "      <th>monto</th>\n",
       "      <th>deuda_actual</th>\n",
       "      <th>dias_atraso</th>\n",
       "    </tr>\n",
       "    <tr>\n",
       "      <th>id_cliente</th>\n",
       "      <th></th>\n",
       "      <th></th>\n",
       "      <th></th>\n",
       "      <th></th>\n",
       "    </tr>\n",
       "  </thead>\n",
       "  <tbody>\n",
       "    <tr>\n",
       "      <th>1</th>\n",
       "      <td>40017</td>\n",
       "      <td>650</td>\n",
       "      <td>241</td>\n",
       "      <td>4</td>\n",
       "    </tr>\n",
       "    <tr>\n",
       "      <th>2</th>\n",
       "      <td>40019</td>\n",
       "      <td>650</td>\n",
       "      <td>109</td>\n",
       "      <td>18</td>\n",
       "    </tr>\n",
       "  </tbody>\n",
       "</table>\n",
       "</div>"
      ],
      "text/plain": [
       "            id_prestamo  monto  deuda_actual  dias_atraso\n",
       "id_cliente                                               \n",
       "1                 40017    650           241            4\n",
       "2                 40019    650           109           18"
      ]
     },
     "execution_count": 8,
     "metadata": {},
     "output_type": "execute_result"
    }
   ],
   "source": [
    "clientes_agrupados = creditos.groupby('id_cliente').sum()\n",
    "clientes_agrupados"
   ]
  },
  {
   "cell_type": "code",
   "execution_count": 9,
   "metadata": {},
   "outputs": [
    {
     "data": {
      "text/html": [
       "<div>\n",
       "<style scoped>\n",
       "    .dataframe tbody tr th:only-of-type {\n",
       "        vertical-align: middle;\n",
       "    }\n",
       "\n",
       "    .dataframe tbody tr th {\n",
       "        vertical-align: top;\n",
       "    }\n",
       "\n",
       "    .dataframe thead th {\n",
       "        text-align: right;\n",
       "    }\n",
       "</style>\n",
       "<table border=\"1\" class=\"dataframe\">\n",
       "  <thead>\n",
       "    <tr style=\"text-align: right;\">\n",
       "      <th></th>\n",
       "      <th>id_prestamo</th>\n",
       "      <th>monto</th>\n",
       "      <th>deuda_actual</th>\n",
       "      <th>dias_atraso</th>\n",
       "      <th>ratio_endeudamiento</th>\n",
       "    </tr>\n",
       "    <tr>\n",
       "      <th>id_cliente</th>\n",
       "      <th></th>\n",
       "      <th></th>\n",
       "      <th></th>\n",
       "      <th></th>\n",
       "      <th></th>\n",
       "    </tr>\n",
       "  </thead>\n",
       "  <tbody>\n",
       "    <tr>\n",
       "      <th>1</th>\n",
       "      <td>40017</td>\n",
       "      <td>650</td>\n",
       "      <td>241</td>\n",
       "      <td>4</td>\n",
       "      <td>0.370769</td>\n",
       "    </tr>\n",
       "    <tr>\n",
       "      <th>2</th>\n",
       "      <td>40019</td>\n",
       "      <td>650</td>\n",
       "      <td>109</td>\n",
       "      <td>18</td>\n",
       "      <td>0.167692</td>\n",
       "    </tr>\n",
       "  </tbody>\n",
       "</table>\n",
       "</div>"
      ],
      "text/plain": [
       "            id_prestamo  monto  deuda_actual  dias_atraso  ratio_endeudamiento\n",
       "id_cliente                                                                    \n",
       "1                 40017    650           241            4             0.370769\n",
       "2                 40019    650           109           18             0.167692"
      ]
     },
     "execution_count": 9,
     "metadata": {},
     "output_type": "execute_result"
    }
   ],
   "source": [
    "clientes_agrupados['ratio_endeudamiento'] = clientes_agrupados['deuda_actual'] / clientes_agrupados['monto']\n",
    "clientes_agrupados"
   ]
  }
 ],
 "metadata": {
  "kernelspec": {
   "display_name": "Python 3",
   "language": "python",
   "name": "python3"
  },
  "language_info": {
   "codemirror_mode": {
    "name": "ipython",
    "version": 3
   },
   "file_extension": ".py",
   "mimetype": "text/x-python",
   "name": "python",
   "nbconvert_exporter": "python",
   "pygments_lexer": "ipython3",
   "version": "3.11.0"
  },
  "orig_nbformat": 4
 },
 "nbformat": 4,
 "nbformat_minor": 2
}
