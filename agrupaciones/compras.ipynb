{
 "cells": [
  {
   "cell_type": "code",
   "execution_count": 2,
   "metadata": {},
   "outputs": [],
   "source": [
    "%load_ext autoreload\n",
    "%autoreload 2"
   ]
  },
  {
   "cell_type": "code",
   "execution_count": 3,
   "metadata": {},
   "outputs": [],
   "source": [
    "import pandas as pd\n",
    "import numpy as np\n",
    "import datetime as dt\n",
    "\n",
    "pd.set_option('display.max_columns', None)\n",
    "pd.set_option('display.max_rows', None)\n",
    "import warnings\n",
    "warnings.filterwarnings(\"ignore\")"
   ]
  },
  {
   "cell_type": "code",
   "execution_count": 4,
   "metadata": {},
   "outputs": [],
   "source": [
    "import sys\n",
    "sys.path.append(\"../\") \n",
    "\n",
    "from utils.paths import make_dir_line\n",
    "\n",
    "modality = 'e'\n",
    "project = 'agrupaciones'\n",
    "data = make_dir_line(modality, project)\n",
    "\n",
    "raw = data('raw')\n",
    "processed = data('processed')"
   ]
  },
  {
   "cell_type": "code",
   "execution_count": 5,
   "metadata": {},
   "outputs": [
    {
     "data": {
      "text/html": [
       "<div>\n",
       "<style scoped>\n",
       "    .dataframe tbody tr th:only-of-type {\n",
       "        vertical-align: middle;\n",
       "    }\n",
       "\n",
       "    .dataframe tbody tr th {\n",
       "        vertical-align: top;\n",
       "    }\n",
       "\n",
       "    .dataframe thead th {\n",
       "        text-align: right;\n",
       "    }\n",
       "</style>\n",
       "<table border=\"1\" class=\"dataframe\">\n",
       "  <thead>\n",
       "    <tr style=\"text-align: right;\">\n",
       "      <th></th>\n",
       "      <th>cliente</th>\n",
       "      <th>monto</th>\n",
       "      <th>cuotas</th>\n",
       "      <th>fecha</th>\n",
       "      <th>dias_mora</th>\n",
       "    </tr>\n",
       "  </thead>\n",
       "  <tbody>\n",
       "    <tr>\n",
       "      <th>2</th>\n",
       "      <td>Ana</td>\n",
       "      <td>2000</td>\n",
       "      <td>6</td>\n",
       "      <td>2022-01-01</td>\n",
       "      <td>25</td>\n",
       "    </tr>\n",
       "    <tr>\n",
       "      <th>3</th>\n",
       "      <td>Ana</td>\n",
       "      <td>3000</td>\n",
       "      <td>12</td>\n",
       "      <td>2022-03-01</td>\n",
       "      <td>0</td>\n",
       "    </tr>\n",
       "    <tr>\n",
       "      <th>6</th>\n",
       "      <td>Ana</td>\n",
       "      <td>5000</td>\n",
       "      <td>24</td>\n",
       "      <td>2022-03-01</td>\n",
       "      <td>8</td>\n",
       "    </tr>\n",
       "    <tr>\n",
       "      <th>7</th>\n",
       "      <td>Ana</td>\n",
       "      <td>300</td>\n",
       "      <td>2</td>\n",
       "      <td>2023-02-01</td>\n",
       "      <td>7</td>\n",
       "    </tr>\n",
       "    <tr>\n",
       "      <th>0</th>\n",
       "      <td>Juan</td>\n",
       "      <td>1000</td>\n",
       "      <td>12</td>\n",
       "      <td>2022-01-01</td>\n",
       "      <td>0</td>\n",
       "    </tr>\n",
       "  </tbody>\n",
       "</table>\n",
       "</div>"
      ],
      "text/plain": [
       "  cliente  monto  cuotas      fecha  dias_mora\n",
       "2     Ana   2000       6 2022-01-01         25\n",
       "3     Ana   3000      12 2022-03-01          0\n",
       "6     Ana   5000      24 2022-03-01          8\n",
       "7     Ana    300       2 2023-02-01          7\n",
       "0    Juan   1000      12 2022-01-01          0"
      ]
     },
     "execution_count": 5,
     "metadata": {},
     "output_type": "execute_result"
    }
   ],
   "source": [
    "compras = pd.read_parquet(processed / 'compras.parquet.gzip')\n",
    "compras.head()"
   ]
  },
  {
   "attachments": {},
   "cell_type": "markdown",
   "metadata": {},
   "source": [
    "# AIMS\n",
    "\n",
    "1. Antiguedad de la cuenta: Dias desde la creacion de la cuenta hasta la fecha.\n",
    "2. Ciclo de vida: Dias desde primer compra a ultima compra.\n",
    "3. Tiempo promedio y mediana entre compras: Dias promedio o mediana entre compras\n",
    "4. Costo de vida: Costo de vida\n",
    "\n",
    "## 1. Antiguedad de la cuenta"
   ]
  },
  {
   "cell_type": "code",
   "execution_count": 5,
   "metadata": {},
   "outputs": [
    {
     "data": {
      "text/html": [
       "<div>\n",
       "<style scoped>\n",
       "    .dataframe tbody tr th:only-of-type {\n",
       "        vertical-align: middle;\n",
       "    }\n",
       "\n",
       "    .dataframe tbody tr th {\n",
       "        vertical-align: top;\n",
       "    }\n",
       "\n",
       "    .dataframe thead th {\n",
       "        text-align: right;\n",
       "    }\n",
       "</style>\n",
       "<table border=\"1\" class=\"dataframe\">\n",
       "  <thead>\n",
       "    <tr style=\"text-align: right;\">\n",
       "      <th></th>\n",
       "      <th>index</th>\n",
       "      <th>cliente</th>\n",
       "      <th>monto</th>\n",
       "      <th>cuotas</th>\n",
       "      <th>fecha</th>\n",
       "      <th>dias_mora</th>\n",
       "      <th>antiguedad</th>\n",
       "    </tr>\n",
       "  </thead>\n",
       "  <tbody>\n",
       "    <tr>\n",
       "      <th>0</th>\n",
       "      <td>7</td>\n",
       "      <td>Ana</td>\n",
       "      <td>300</td>\n",
       "      <td>2</td>\n",
       "      <td>2023-02-01</td>\n",
       "      <td>7</td>\n",
       "      <td>92</td>\n",
       "    </tr>\n",
       "    <tr>\n",
       "      <th>1</th>\n",
       "      <td>1</td>\n",
       "      <td>Juan</td>\n",
       "      <td>5000</td>\n",
       "      <td>24</td>\n",
       "      <td>2022-02-01</td>\n",
       "      <td>0</td>\n",
       "      <td>457</td>\n",
       "    </tr>\n",
       "    <tr>\n",
       "      <th>2</th>\n",
       "      <td>5</td>\n",
       "      <td>Pedro</td>\n",
       "      <td>2000</td>\n",
       "      <td>12</td>\n",
       "      <td>2022-02-01</td>\n",
       "      <td>0</td>\n",
       "      <td>457</td>\n",
       "    </tr>\n",
       "  </tbody>\n",
       "</table>\n",
       "</div>"
      ],
      "text/plain": [
       "   index cliente  monto  cuotas      fecha  dias_mora  antiguedad\n",
       "0      7     Ana    300       2 2023-02-01          7          92\n",
       "1      1    Juan   5000      24 2022-02-01          0         457\n",
       "2      5   Pedro   2000      12 2022-02-01          0         457"
      ]
     },
     "execution_count": 5,
     "metadata": {},
     "output_type": "execute_result"
    }
   ],
   "source": [
    "compras = compras.sort_values(by=['fecha'], ascending=False)\n",
    "compras = compras.groupby('cliente').head(1).reset_index()\n",
    "compras['antiguedad'] = (dt.datetime.now() - compras['fecha']).dt.days\n",
    "compras"
   ]
  },
  {
   "attachments": {},
   "cell_type": "markdown",
   "metadata": {},
   "source": [
    "## 2. Ciclo de vida"
   ]
  },
  {
   "cell_type": "code",
   "execution_count": 6,
   "metadata": {},
   "outputs": [],
   "source": [
    "compras = pd.read_parquet(processed / 'compras.parquet.gzip')"
   ]
  },
  {
   "cell_type": "code",
   "execution_count": 7,
   "metadata": {},
   "outputs": [
    {
     "data": {
      "text/plain": [
       "cliente\n",
       "Ana     2022-01-01\n",
       "Juan    2022-01-01\n",
       "Pedro   2022-01-01\n",
       "Name: fecha, dtype: datetime64[ns]"
      ]
     },
     "execution_count": 7,
     "metadata": {},
     "output_type": "execute_result"
    }
   ],
   "source": [
    "# crear una nueva columna con la fecha de inicio del ciclo de vida de cada cliente\n",
    "fecha_inicio = compras.groupby('cliente')['fecha'].min()\n",
    "fecha_inicio"
   ]
  },
  {
   "cell_type": "code",
   "execution_count": 8,
   "metadata": {},
   "outputs": [
    {
     "data": {
      "text/html": [
       "<div>\n",
       "<style scoped>\n",
       "    .dataframe tbody tr th:only-of-type {\n",
       "        vertical-align: middle;\n",
       "    }\n",
       "\n",
       "    .dataframe tbody tr th {\n",
       "        vertical-align: top;\n",
       "    }\n",
       "\n",
       "    .dataframe thead th {\n",
       "        text-align: right;\n",
       "    }\n",
       "</style>\n",
       "<table border=\"1\" class=\"dataframe\">\n",
       "  <thead>\n",
       "    <tr style=\"text-align: right;\">\n",
       "      <th></th>\n",
       "      <th>cliente</th>\n",
       "      <th>monto</th>\n",
       "      <th>cuotas</th>\n",
       "      <th>fecha</th>\n",
       "      <th>dias_mora</th>\n",
       "      <th>inicio_ciclo_vida</th>\n",
       "    </tr>\n",
       "  </thead>\n",
       "  <tbody>\n",
       "    <tr>\n",
       "      <th>2</th>\n",
       "      <td>Ana</td>\n",
       "      <td>2000</td>\n",
       "      <td>6</td>\n",
       "      <td>2022-01-01</td>\n",
       "      <td>25</td>\n",
       "      <td>2022-01-01</td>\n",
       "    </tr>\n",
       "    <tr>\n",
       "      <th>3</th>\n",
       "      <td>Ana</td>\n",
       "      <td>3000</td>\n",
       "      <td>12</td>\n",
       "      <td>2022-03-01</td>\n",
       "      <td>0</td>\n",
       "      <td>2022-01-01</td>\n",
       "    </tr>\n",
       "    <tr>\n",
       "      <th>6</th>\n",
       "      <td>Ana</td>\n",
       "      <td>5000</td>\n",
       "      <td>24</td>\n",
       "      <td>2022-03-01</td>\n",
       "      <td>8</td>\n",
       "      <td>2022-01-01</td>\n",
       "    </tr>\n",
       "    <tr>\n",
       "      <th>7</th>\n",
       "      <td>Ana</td>\n",
       "      <td>300</td>\n",
       "      <td>2</td>\n",
       "      <td>2023-02-01</td>\n",
       "      <td>7</td>\n",
       "      <td>2022-01-01</td>\n",
       "    </tr>\n",
       "    <tr>\n",
       "      <th>0</th>\n",
       "      <td>Juan</td>\n",
       "      <td>1000</td>\n",
       "      <td>12</td>\n",
       "      <td>2022-01-01</td>\n",
       "      <td>0</td>\n",
       "      <td>2022-01-01</td>\n",
       "    </tr>\n",
       "    <tr>\n",
       "      <th>1</th>\n",
       "      <td>Juan</td>\n",
       "      <td>5000</td>\n",
       "      <td>24</td>\n",
       "      <td>2022-02-01</td>\n",
       "      <td>0</td>\n",
       "      <td>2022-01-01</td>\n",
       "    </tr>\n",
       "    <tr>\n",
       "      <th>4</th>\n",
       "      <td>Pedro</td>\n",
       "      <td>1500</td>\n",
       "      <td>8</td>\n",
       "      <td>2022-01-01</td>\n",
       "      <td>11</td>\n",
       "      <td>2022-01-01</td>\n",
       "    </tr>\n",
       "    <tr>\n",
       "      <th>5</th>\n",
       "      <td>Pedro</td>\n",
       "      <td>2000</td>\n",
       "      <td>12</td>\n",
       "      <td>2022-02-01</td>\n",
       "      <td>0</td>\n",
       "      <td>2022-01-01</td>\n",
       "    </tr>\n",
       "  </tbody>\n",
       "</table>\n",
       "</div>"
      ],
      "text/plain": [
       "  cliente  monto  cuotas      fecha  dias_mora inicio_ciclo_vida\n",
       "2     Ana   2000       6 2022-01-01         25        2022-01-01\n",
       "3     Ana   3000      12 2022-03-01          0        2022-01-01\n",
       "6     Ana   5000      24 2022-03-01          8        2022-01-01\n",
       "7     Ana    300       2 2023-02-01          7        2022-01-01\n",
       "0    Juan   1000      12 2022-01-01          0        2022-01-01\n",
       "1    Juan   5000      24 2022-02-01          0        2022-01-01\n",
       "4   Pedro   1500       8 2022-01-01         11        2022-01-01\n",
       "5   Pedro   2000      12 2022-02-01          0        2022-01-01"
      ]
     },
     "execution_count": 8,
     "metadata": {},
     "output_type": "execute_result"
    }
   ],
   "source": [
    "# agregar el inicio del ciclo de vida\n",
    "compras['inicio_ciclo_vida'] = compras['cliente'].map(fecha_inicio)\n",
    "compras"
   ]
  },
  {
   "cell_type": "code",
   "execution_count": 9,
   "metadata": {},
   "outputs": [
    {
     "data": {
      "text/plain": [
       "cliente\n",
       "Ana     2023-02-01\n",
       "Juan    2022-02-01\n",
       "Pedro   2022-02-01\n",
       "Name: fecha, dtype: datetime64[ns]"
      ]
     },
     "execution_count": 9,
     "metadata": {},
     "output_type": "execute_result"
    }
   ],
   "source": [
    "# crear una nueva columna con la fecha de fin del ciclo de vida de cada cliente\n",
    "fecha_fin = compras.groupby('cliente')['fecha'].max()\n",
    "fecha_fin"
   ]
  },
  {
   "cell_type": "code",
   "execution_count": 10,
   "metadata": {},
   "outputs": [
    {
     "data": {
      "text/html": [
       "<div>\n",
       "<style scoped>\n",
       "    .dataframe tbody tr th:only-of-type {\n",
       "        vertical-align: middle;\n",
       "    }\n",
       "\n",
       "    .dataframe tbody tr th {\n",
       "        vertical-align: top;\n",
       "    }\n",
       "\n",
       "    .dataframe thead th {\n",
       "        text-align: right;\n",
       "    }\n",
       "</style>\n",
       "<table border=\"1\" class=\"dataframe\">\n",
       "  <thead>\n",
       "    <tr style=\"text-align: right;\">\n",
       "      <th></th>\n",
       "      <th>cliente</th>\n",
       "      <th>monto</th>\n",
       "      <th>cuotas</th>\n",
       "      <th>fecha</th>\n",
       "      <th>dias_mora</th>\n",
       "      <th>inicio_ciclo_vida</th>\n",
       "      <th>fin_ciclo_vida</th>\n",
       "    </tr>\n",
       "  </thead>\n",
       "  <tbody>\n",
       "    <tr>\n",
       "      <th>2</th>\n",
       "      <td>Ana</td>\n",
       "      <td>2000</td>\n",
       "      <td>6</td>\n",
       "      <td>2022-01-01</td>\n",
       "      <td>25</td>\n",
       "      <td>2022-01-01</td>\n",
       "      <td>2023-02-01</td>\n",
       "    </tr>\n",
       "    <tr>\n",
       "      <th>3</th>\n",
       "      <td>Ana</td>\n",
       "      <td>3000</td>\n",
       "      <td>12</td>\n",
       "      <td>2022-03-01</td>\n",
       "      <td>0</td>\n",
       "      <td>2022-01-01</td>\n",
       "      <td>2023-02-01</td>\n",
       "    </tr>\n",
       "    <tr>\n",
       "      <th>6</th>\n",
       "      <td>Ana</td>\n",
       "      <td>5000</td>\n",
       "      <td>24</td>\n",
       "      <td>2022-03-01</td>\n",
       "      <td>8</td>\n",
       "      <td>2022-01-01</td>\n",
       "      <td>2023-02-01</td>\n",
       "    </tr>\n",
       "    <tr>\n",
       "      <th>7</th>\n",
       "      <td>Ana</td>\n",
       "      <td>300</td>\n",
       "      <td>2</td>\n",
       "      <td>2023-02-01</td>\n",
       "      <td>7</td>\n",
       "      <td>2022-01-01</td>\n",
       "      <td>2023-02-01</td>\n",
       "    </tr>\n",
       "    <tr>\n",
       "      <th>0</th>\n",
       "      <td>Juan</td>\n",
       "      <td>1000</td>\n",
       "      <td>12</td>\n",
       "      <td>2022-01-01</td>\n",
       "      <td>0</td>\n",
       "      <td>2022-01-01</td>\n",
       "      <td>2022-02-01</td>\n",
       "    </tr>\n",
       "    <tr>\n",
       "      <th>1</th>\n",
       "      <td>Juan</td>\n",
       "      <td>5000</td>\n",
       "      <td>24</td>\n",
       "      <td>2022-02-01</td>\n",
       "      <td>0</td>\n",
       "      <td>2022-01-01</td>\n",
       "      <td>2022-02-01</td>\n",
       "    </tr>\n",
       "    <tr>\n",
       "      <th>4</th>\n",
       "      <td>Pedro</td>\n",
       "      <td>1500</td>\n",
       "      <td>8</td>\n",
       "      <td>2022-01-01</td>\n",
       "      <td>11</td>\n",
       "      <td>2022-01-01</td>\n",
       "      <td>2022-02-01</td>\n",
       "    </tr>\n",
       "    <tr>\n",
       "      <th>5</th>\n",
       "      <td>Pedro</td>\n",
       "      <td>2000</td>\n",
       "      <td>12</td>\n",
       "      <td>2022-02-01</td>\n",
       "      <td>0</td>\n",
       "      <td>2022-01-01</td>\n",
       "      <td>2022-02-01</td>\n",
       "    </tr>\n",
       "  </tbody>\n",
       "</table>\n",
       "</div>"
      ],
      "text/plain": [
       "  cliente  monto  cuotas      fecha  dias_mora inicio_ciclo_vida  \\\n",
       "2     Ana   2000       6 2022-01-01         25        2022-01-01   \n",
       "3     Ana   3000      12 2022-03-01          0        2022-01-01   \n",
       "6     Ana   5000      24 2022-03-01          8        2022-01-01   \n",
       "7     Ana    300       2 2023-02-01          7        2022-01-01   \n",
       "0    Juan   1000      12 2022-01-01          0        2022-01-01   \n",
       "1    Juan   5000      24 2022-02-01          0        2022-01-01   \n",
       "4   Pedro   1500       8 2022-01-01         11        2022-01-01   \n",
       "5   Pedro   2000      12 2022-02-01          0        2022-01-01   \n",
       "\n",
       "  fin_ciclo_vida  \n",
       "2     2023-02-01  \n",
       "3     2023-02-01  \n",
       "6     2023-02-01  \n",
       "7     2023-02-01  \n",
       "0     2022-02-01  \n",
       "1     2022-02-01  \n",
       "4     2022-02-01  \n",
       "5     2022-02-01  "
      ]
     },
     "execution_count": 10,
     "metadata": {},
     "output_type": "execute_result"
    }
   ],
   "source": [
    "compras['fin_ciclo_vida'] = compras['cliente'].map(fecha_fin)\n",
    "compras"
   ]
  },
  {
   "cell_type": "code",
   "execution_count": 11,
   "metadata": {},
   "outputs": [
    {
     "data": {
      "text/html": [
       "<div>\n",
       "<style scoped>\n",
       "    .dataframe tbody tr th:only-of-type {\n",
       "        vertical-align: middle;\n",
       "    }\n",
       "\n",
       "    .dataframe tbody tr th {\n",
       "        vertical-align: top;\n",
       "    }\n",
       "\n",
       "    .dataframe thead th {\n",
       "        text-align: right;\n",
       "    }\n",
       "</style>\n",
       "<table border=\"1\" class=\"dataframe\">\n",
       "  <thead>\n",
       "    <tr style=\"text-align: right;\">\n",
       "      <th></th>\n",
       "      <th>cliente</th>\n",
       "      <th>monto</th>\n",
       "      <th>cuotas</th>\n",
       "      <th>fecha</th>\n",
       "      <th>dias_mora</th>\n",
       "      <th>inicio_ciclo_vida</th>\n",
       "      <th>fin_ciclo_vida</th>\n",
       "      <th>ciclo_vida</th>\n",
       "    </tr>\n",
       "  </thead>\n",
       "  <tbody>\n",
       "    <tr>\n",
       "      <th>2</th>\n",
       "      <td>Ana</td>\n",
       "      <td>2000</td>\n",
       "      <td>6</td>\n",
       "      <td>2022-01-01</td>\n",
       "      <td>25</td>\n",
       "      <td>2022-01-01</td>\n",
       "      <td>2023-02-01</td>\n",
       "      <td>396</td>\n",
       "    </tr>\n",
       "    <tr>\n",
       "      <th>3</th>\n",
       "      <td>Ana</td>\n",
       "      <td>3000</td>\n",
       "      <td>12</td>\n",
       "      <td>2022-03-01</td>\n",
       "      <td>0</td>\n",
       "      <td>2022-01-01</td>\n",
       "      <td>2023-02-01</td>\n",
       "      <td>396</td>\n",
       "    </tr>\n",
       "    <tr>\n",
       "      <th>6</th>\n",
       "      <td>Ana</td>\n",
       "      <td>5000</td>\n",
       "      <td>24</td>\n",
       "      <td>2022-03-01</td>\n",
       "      <td>8</td>\n",
       "      <td>2022-01-01</td>\n",
       "      <td>2023-02-01</td>\n",
       "      <td>396</td>\n",
       "    </tr>\n",
       "    <tr>\n",
       "      <th>7</th>\n",
       "      <td>Ana</td>\n",
       "      <td>300</td>\n",
       "      <td>2</td>\n",
       "      <td>2023-02-01</td>\n",
       "      <td>7</td>\n",
       "      <td>2022-01-01</td>\n",
       "      <td>2023-02-01</td>\n",
       "      <td>396</td>\n",
       "    </tr>\n",
       "    <tr>\n",
       "      <th>0</th>\n",
       "      <td>Juan</td>\n",
       "      <td>1000</td>\n",
       "      <td>12</td>\n",
       "      <td>2022-01-01</td>\n",
       "      <td>0</td>\n",
       "      <td>2022-01-01</td>\n",
       "      <td>2022-02-01</td>\n",
       "      <td>31</td>\n",
       "    </tr>\n",
       "    <tr>\n",
       "      <th>1</th>\n",
       "      <td>Juan</td>\n",
       "      <td>5000</td>\n",
       "      <td>24</td>\n",
       "      <td>2022-02-01</td>\n",
       "      <td>0</td>\n",
       "      <td>2022-01-01</td>\n",
       "      <td>2022-02-01</td>\n",
       "      <td>31</td>\n",
       "    </tr>\n",
       "    <tr>\n",
       "      <th>4</th>\n",
       "      <td>Pedro</td>\n",
       "      <td>1500</td>\n",
       "      <td>8</td>\n",
       "      <td>2022-01-01</td>\n",
       "      <td>11</td>\n",
       "      <td>2022-01-01</td>\n",
       "      <td>2022-02-01</td>\n",
       "      <td>31</td>\n",
       "    </tr>\n",
       "    <tr>\n",
       "      <th>5</th>\n",
       "      <td>Pedro</td>\n",
       "      <td>2000</td>\n",
       "      <td>12</td>\n",
       "      <td>2022-02-01</td>\n",
       "      <td>0</td>\n",
       "      <td>2022-01-01</td>\n",
       "      <td>2022-02-01</td>\n",
       "      <td>31</td>\n",
       "    </tr>\n",
       "  </tbody>\n",
       "</table>\n",
       "</div>"
      ],
      "text/plain": [
       "  cliente  monto  cuotas      fecha  dias_mora inicio_ciclo_vida  \\\n",
       "2     Ana   2000       6 2022-01-01         25        2022-01-01   \n",
       "3     Ana   3000      12 2022-03-01          0        2022-01-01   \n",
       "6     Ana   5000      24 2022-03-01          8        2022-01-01   \n",
       "7     Ana    300       2 2023-02-01          7        2022-01-01   \n",
       "0    Juan   1000      12 2022-01-01          0        2022-01-01   \n",
       "1    Juan   5000      24 2022-02-01          0        2022-01-01   \n",
       "4   Pedro   1500       8 2022-01-01         11        2022-01-01   \n",
       "5   Pedro   2000      12 2022-02-01          0        2022-01-01   \n",
       "\n",
       "  fin_ciclo_vida  ciclo_vida  \n",
       "2     2023-02-01         396  \n",
       "3     2023-02-01         396  \n",
       "6     2023-02-01         396  \n",
       "7     2023-02-01         396  \n",
       "0     2022-02-01          31  \n",
       "1     2022-02-01          31  \n",
       "4     2022-02-01          31  \n",
       "5     2022-02-01          31  "
      ]
     },
     "execution_count": 11,
     "metadata": {},
     "output_type": "execute_result"
    }
   ],
   "source": [
    "# calcular la duración del ciclo de vida de cada cliente\n",
    "compras['ciclo_vida'] = (pd.to_datetime(compras['fin_ciclo_vida']) - pd.to_datetime(compras['inicio_ciclo_vida'])).dt.days\n",
    "compras"
   ]
  },
  {
   "cell_type": "code",
   "execution_count": 12,
   "metadata": {},
   "outputs": [
    {
     "data": {
      "text/html": [
       "<div>\n",
       "<style scoped>\n",
       "    .dataframe tbody tr th:only-of-type {\n",
       "        vertical-align: middle;\n",
       "    }\n",
       "\n",
       "    .dataframe tbody tr th {\n",
       "        vertical-align: top;\n",
       "    }\n",
       "\n",
       "    .dataframe thead th {\n",
       "        text-align: right;\n",
       "    }\n",
       "</style>\n",
       "<table border=\"1\" class=\"dataframe\">\n",
       "  <thead>\n",
       "    <tr style=\"text-align: right;\">\n",
       "      <th></th>\n",
       "      <th>index</th>\n",
       "      <th>cliente</th>\n",
       "      <th>monto</th>\n",
       "      <th>cuotas</th>\n",
       "      <th>fecha</th>\n",
       "      <th>dias_mora</th>\n",
       "      <th>inicio_ciclo_vida</th>\n",
       "      <th>fin_ciclo_vida</th>\n",
       "      <th>ciclo_vida</th>\n",
       "    </tr>\n",
       "  </thead>\n",
       "  <tbody>\n",
       "    <tr>\n",
       "      <th>0</th>\n",
       "      <td>2</td>\n",
       "      <td>Ana</td>\n",
       "      <td>2000</td>\n",
       "      <td>6</td>\n",
       "      <td>2022-01-01</td>\n",
       "      <td>25</td>\n",
       "      <td>2022-01-01</td>\n",
       "      <td>2023-02-01</td>\n",
       "      <td>396</td>\n",
       "    </tr>\n",
       "    <tr>\n",
       "      <th>1</th>\n",
       "      <td>0</td>\n",
       "      <td>Juan</td>\n",
       "      <td>1000</td>\n",
       "      <td>12</td>\n",
       "      <td>2022-01-01</td>\n",
       "      <td>0</td>\n",
       "      <td>2022-01-01</td>\n",
       "      <td>2022-02-01</td>\n",
       "      <td>31</td>\n",
       "    </tr>\n",
       "    <tr>\n",
       "      <th>2</th>\n",
       "      <td>4</td>\n",
       "      <td>Pedro</td>\n",
       "      <td>1500</td>\n",
       "      <td>8</td>\n",
       "      <td>2022-01-01</td>\n",
       "      <td>11</td>\n",
       "      <td>2022-01-01</td>\n",
       "      <td>2022-02-01</td>\n",
       "      <td>31</td>\n",
       "    </tr>\n",
       "  </tbody>\n",
       "</table>\n",
       "</div>"
      ],
      "text/plain": [
       "   index cliente  monto  cuotas      fecha  dias_mora inicio_ciclo_vida  \\\n",
       "0      2     Ana   2000       6 2022-01-01         25        2022-01-01   \n",
       "1      0    Juan   1000      12 2022-01-01          0        2022-01-01   \n",
       "2      4   Pedro   1500       8 2022-01-01         11        2022-01-01   \n",
       "\n",
       "  fin_ciclo_vida  ciclo_vida  \n",
       "0     2023-02-01         396  \n",
       "1     2022-02-01          31  \n",
       "2     2022-02-01          31  "
      ]
     },
     "execution_count": 12,
     "metadata": {},
     "output_type": "execute_result"
    }
   ],
   "source": [
    "compras = compras.groupby('cliente').head(1).reset_index()\n",
    "compras"
   ]
  },
  {
   "attachments": {},
   "cell_type": "markdown",
   "metadata": {},
   "source": [
    "## 3. Tiempo promedio y mediana entre creditos"
   ]
  },
  {
   "cell_type": "code",
   "execution_count": 13,
   "metadata": {},
   "outputs": [],
   "source": [
    "compras = pd.read_parquet(processed / 'compras.parquet.gzip')"
   ]
  },
  {
   "cell_type": "code",
   "execution_count": 14,
   "metadata": {},
   "outputs": [
    {
     "data": {
      "text/plain": [
       "<pandas.core.groupby.generic.DataFrameGroupBy object at 0x000001F991929810>"
      ]
     },
     "execution_count": 14,
     "metadata": {},
     "output_type": "execute_result"
    }
   ],
   "source": [
    "# agrupar los créditos por ID de cliente\n",
    "grupo_clientes = compras.groupby('cliente')\n",
    "grupo_clientes"
   ]
  },
  {
   "cell_type": "code",
   "execution_count": 15,
   "metadata": {},
   "outputs": [
    {
     "data": {
      "text/plain": [
       "2      NaN\n",
       "3     59.0\n",
       "6      0.0\n",
       "7    337.0\n",
       "0      NaN\n",
       "1     31.0\n",
       "4      NaN\n",
       "5     31.0\n",
       "Name: fecha, dtype: float64"
      ]
     },
     "execution_count": 15,
     "metadata": {},
     "output_type": "execute_result"
    }
   ],
   "source": [
    "# calcular la diferencia en días entre cada crédito y el siguiente crédito\n",
    "diferencia_dias = grupo_clientes['fecha'].diff().dt.days\n",
    "diferencia_dias"
   ]
  },
  {
   "cell_type": "code",
   "execution_count": 16,
   "metadata": {},
   "outputs": [
    {
     "data": {
      "text/plain": [
       "cliente\n",
       "Ana      132.0\n",
       "Juan      31.0\n",
       "Pedro     31.0\n",
       "Name: fecha, dtype: float64"
      ]
     },
     "execution_count": 16,
     "metadata": {},
     "output_type": "execute_result"
    }
   ],
   "source": [
    "# calcular el promedio de la diferencia en días para cada cliente\n",
    "promedio_dias = diferencia_dias.groupby(compras['cliente']).mean()\n",
    "promedio_dias"
   ]
  },
  {
   "cell_type": "code",
   "execution_count": 17,
   "metadata": {},
   "outputs": [
    {
     "data": {
      "text/plain": [
       "cliente\n",
       "Ana      59.0\n",
       "Juan     31.0\n",
       "Pedro    31.0\n",
       "Name: fecha, dtype: float64"
      ]
     },
     "execution_count": 17,
     "metadata": {},
     "output_type": "execute_result"
    }
   ],
   "source": [
    "# calcular la mediana de la diferencia en días para cada cliente\n",
    "promedio_dias = diferencia_dias.groupby(compras['cliente']).median()\n",
    "promedio_dias"
   ]
  },
  {
   "attachments": {},
   "cell_type": "markdown",
   "metadata": {},
   "source": [
    "## 4. Costo de vida"
   ]
  },
  {
   "cell_type": "code",
   "execution_count": 18,
   "metadata": {},
   "outputs": [],
   "source": [
    "compras = pd.read_parquet(processed / 'compras.parquet.gzip')"
   ]
  },
  {
   "cell_type": "code",
   "execution_count": 19,
   "metadata": {},
   "outputs": [
    {
     "data": {
      "text/plain": [
       "<pandas.core.groupby.generic.DataFrameGroupBy object at 0x000001F991949150>"
      ]
     },
     "execution_count": 19,
     "metadata": {},
     "output_type": "execute_result"
    }
   ],
   "source": [
    "# agrupar las transacciones del cliente por ID\n",
    "grupo_clientes = compras.groupby('cliente')\n",
    "grupo_clientes"
   ]
  },
  {
   "cell_type": "code",
   "execution_count": 20,
   "metadata": {},
   "outputs": [],
   "source": [
    "# calcular la fecha de la última transacción y el tiempo transcurrido desde la primera\n",
    "fecha_ultima_trans = grupo_clientes['fecha'].max()\n",
    "tiempo_transcurrido = (fecha_ultima_trans - grupo_clientes['fecha'].min()).dt.days"
   ]
  },
  {
   "cell_type": "code",
   "execution_count": 21,
   "metadata": {},
   "outputs": [],
   "source": [
    "# calcular el número de transacciones del cliente y el valor promedio de la transacción\n",
    "num_transacciones = grupo_clientes['monto'].count()\n",
    "valor_promedio = grupo_clientes['monto'].mean()"
   ]
  },
  {
   "cell_type": "code",
   "execution_count": 22,
   "metadata": {},
   "outputs": [],
   "source": [
    "# definir la tasa de descuento\n",
    "tasa_descuento = 0.1"
   ]
  },
  {
   "cell_type": "code",
   "execution_count": 23,
   "metadata": {},
   "outputs": [
    {
     "name": "stdout",
     "output_type": "stream",
     "text": [
      "cliente\n",
      "Ana      103000.000000\n",
      "Juan      57297.047856\n",
      "Pedro     33423.277916\n",
      "dtype: float64\n"
     ]
    }
   ],
   "source": [
    "# calcular el CLV utilizando la fórmula de VPN\n",
    "clv = (valor_promedio * num_transacciones * (1 - np.exp(-tasa_descuento * tiempo_transcurrido))) / tasa_descuento\n",
    "\n",
    "# imprimir el resultado\n",
    "print(clv)"
   ]
  },
  {
   "cell_type": "code",
   "execution_count": 24,
   "metadata": {},
   "outputs": [
    {
     "name": "stdout",
     "output_type": "stream",
     "text": [
      "ok_\n"
     ]
    }
   ],
   "source": [
    "print('ok_')"
   ]
  }
 ],
 "metadata": {
  "kernelspec": {
   "display_name": "Python 3",
   "language": "python",
   "name": "python3"
  },
  "language_info": {
   "codemirror_mode": {
    "name": "ipython",
    "version": 3
   },
   "file_extension": ".py",
   "mimetype": "text/x-python",
   "name": "python",
   "nbconvert_exporter": "python",
   "pygments_lexer": "ipython3",
   "version": "3.11.0"
  },
  "orig_nbformat": 4
 },
 "nbformat": 4,
 "nbformat_minor": 2
}
