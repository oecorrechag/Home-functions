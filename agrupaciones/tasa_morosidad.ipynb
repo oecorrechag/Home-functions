{
 "cells": [
  {
   "cell_type": "code",
   "execution_count": 1,
   "metadata": {},
   "outputs": [],
   "source": [
    "import pandas as pd"
   ]
  },
  {
   "attachments": {},
   "cell_type": "markdown",
   "metadata": {},
   "source": [
    "# AIMS\n",
    "\n",
    "1. tasa de morosidad\n",
    "2. Tasa de incumplimiento\n",
    "\n",
    "## 1. tasa de morosidad"
   ]
  },
  {
   "cell_type": "code",
   "execution_count": 2,
   "metadata": {},
   "outputs": [
    {
     "data": {
      "text/html": [
       "<div>\n",
       "<style scoped>\n",
       "    .dataframe tbody tr th:only-of-type {\n",
       "        vertical-align: middle;\n",
       "    }\n",
       "\n",
       "    .dataframe tbody tr th {\n",
       "        vertical-align: top;\n",
       "    }\n",
       "\n",
       "    .dataframe thead th {\n",
       "        text-align: right;\n",
       "    }\n",
       "</style>\n",
       "<table border=\"1\" class=\"dataframe\">\n",
       "  <thead>\n",
       "    <tr style=\"text-align: right;\">\n",
       "      <th></th>\n",
       "      <th>id_prestamo</th>\n",
       "      <th>monto</th>\n",
       "      <th>fecha_inicio</th>\n",
       "      <th>fecha2</th>\n",
       "      <th>fecha_pago</th>\n",
       "      <th>dias_atraso</th>\n",
       "    </tr>\n",
       "  </thead>\n",
       "  <tbody>\n",
       "    <tr>\n",
       "      <th>0</th>\n",
       "      <td>10001</td>\n",
       "      <td>100</td>\n",
       "      <td>2022-12-12</td>\n",
       "      <td>2022-12-12</td>\n",
       "      <td>2022-12-12</td>\n",
       "      <td>0</td>\n",
       "    </tr>\n",
       "    <tr>\n",
       "      <th>1</th>\n",
       "      <td>10002</td>\n",
       "      <td>200</td>\n",
       "      <td>2022-12-22</td>\n",
       "      <td>2022-12-22</td>\n",
       "      <td>2022-12-23</td>\n",
       "      <td>1</td>\n",
       "    </tr>\n",
       "    <tr>\n",
       "      <th>2</th>\n",
       "      <td>10003</td>\n",
       "      <td>50</td>\n",
       "      <td>2022-12-23</td>\n",
       "      <td>2022-12-23</td>\n",
       "      <td>2022-12-28</td>\n",
       "      <td>5</td>\n",
       "    </tr>\n",
       "    <tr>\n",
       "      <th>3</th>\n",
       "      <td>10004</td>\n",
       "      <td>75</td>\n",
       "      <td>2022-12-24</td>\n",
       "      <td>2022-12-24</td>\n",
       "      <td>2022-12-28</td>\n",
       "      <td>4</td>\n",
       "    </tr>\n",
       "    <tr>\n",
       "      <th>4</th>\n",
       "      <td>10005</td>\n",
       "      <td>125</td>\n",
       "      <td>2022-12-24</td>\n",
       "      <td>2022-12-24</td>\n",
       "      <td>2022-12-29</td>\n",
       "      <td>5</td>\n",
       "    </tr>\n",
       "  </tbody>\n",
       "</table>\n",
       "</div>"
      ],
      "text/plain": [
       "  id_prestamo  monto fecha_inicio     fecha2 fecha_pago  dias_atraso\n",
       "0       10001    100   2022-12-12 2022-12-12 2022-12-12            0\n",
       "1       10002    200   2022-12-22 2022-12-22 2022-12-23            1\n",
       "2       10003     50   2022-12-23 2022-12-23 2022-12-28            5\n",
       "3       10004     75   2022-12-24 2022-12-24 2022-12-28            4\n",
       "4       10005    125   2022-12-24 2022-12-24 2022-12-29            5"
      ]
     },
     "execution_count": 2,
     "metadata": {},
     "output_type": "execute_result"
    }
   ],
   "source": [
    "prestamos = pd.read_csv('prestamos.csv', sep = ',', decimal = '.', header = 0, encoding = 'utf-8')\n",
    "prestamos.columns = ['id_prestamo', 'monto', 'fecha_inicio', 'fecha2', 'fecha_pago','dias_atraso']\n",
    "\n",
    "prestamos['id_prestamo'] = prestamos['id_prestamo'].astype(str)\n",
    "prestamos['fecha_inicio'] = pd.to_datetime(prestamos['fecha_inicio'], dayfirst='true', errors = 'coerce')\n",
    "prestamos['fecha2'] = pd.to_datetime(prestamos['fecha2'], dayfirst='true', errors = 'coerce')\n",
    "prestamos['fecha_pago'] = pd.to_datetime(prestamos['fecha_pago'], dayfirst='true', errors = 'coerce')\n",
    "\n",
    "prestamos.head()"
   ]
  },
  {
   "cell_type": "code",
   "execution_count": 3,
   "metadata": {},
   "outputs": [
    {
     "data": {
      "text/plain": [
       "fecha_inicio\n",
       "2022-12-12    100\n",
       "2022-12-22    200\n",
       "2022-12-23     50\n",
       "2022-12-24    500\n",
       "2022-12-25    450\n",
       "Name: monto, dtype: int64"
      ]
     },
     "execution_count": 3,
     "metadata": {},
     "output_type": "execute_result"
    }
   ],
   "source": [
    "prestamos_agrupados = prestamos.groupby('fecha_inicio')['monto'].sum()\n",
    "prestamos_agrupados"
   ]
  },
  {
   "cell_type": "code",
   "execution_count": 4,
   "metadata": {},
   "outputs": [
    {
     "data": {
      "text/plain": [
       "fecha_inicio\n",
       "2022-12-12    0\n",
       "2022-12-22    1\n",
       "2022-12-23    5\n",
       "2022-12-24    9\n",
       "2022-12-25    7\n",
       "Name: dias_atraso, dtype: int64"
      ]
     },
     "execution_count": 4,
     "metadata": {},
     "output_type": "execute_result"
    }
   ],
   "source": [
    "atrasos_agrupados = prestamos.groupby('fecha_inicio')['dias_atraso'].sum()\n",
    "atrasos_agrupados"
   ]
  },
  {
   "cell_type": "code",
   "execution_count": 5,
   "metadata": {},
   "outputs": [
    {
     "data": {
      "text/html": [
       "<div>\n",
       "<style scoped>\n",
       "    .dataframe tbody tr th:only-of-type {\n",
       "        vertical-align: middle;\n",
       "    }\n",
       "\n",
       "    .dataframe tbody tr th {\n",
       "        vertical-align: top;\n",
       "    }\n",
       "\n",
       "    .dataframe thead th {\n",
       "        text-align: right;\n",
       "    }\n",
       "</style>\n",
       "<table border=\"1\" class=\"dataframe\">\n",
       "  <thead>\n",
       "    <tr style=\"text-align: right;\">\n",
       "      <th></th>\n",
       "      <th>monto</th>\n",
       "      <th>dias_atraso</th>\n",
       "      <th>tasa</th>\n",
       "    </tr>\n",
       "    <tr>\n",
       "      <th>fecha_inicio</th>\n",
       "      <th></th>\n",
       "      <th></th>\n",
       "      <th></th>\n",
       "    </tr>\n",
       "  </thead>\n",
       "  <tbody>\n",
       "    <tr>\n",
       "      <th>2022-12-12</th>\n",
       "      <td>100</td>\n",
       "      <td>0</td>\n",
       "      <td>0.000000</td>\n",
       "    </tr>\n",
       "    <tr>\n",
       "      <th>2022-12-22</th>\n",
       "      <td>200</td>\n",
       "      <td>1</td>\n",
       "      <td>0.005000</td>\n",
       "    </tr>\n",
       "    <tr>\n",
       "      <th>2022-12-23</th>\n",
       "      <td>50</td>\n",
       "      <td>5</td>\n",
       "      <td>0.100000</td>\n",
       "    </tr>\n",
       "    <tr>\n",
       "      <th>2022-12-24</th>\n",
       "      <td>500</td>\n",
       "      <td>9</td>\n",
       "      <td>0.018000</td>\n",
       "    </tr>\n",
       "    <tr>\n",
       "      <th>2022-12-25</th>\n",
       "      <td>450</td>\n",
       "      <td>7</td>\n",
       "      <td>0.015556</td>\n",
       "    </tr>\n",
       "  </tbody>\n",
       "</table>\n",
       "</div>"
      ],
      "text/plain": [
       "              monto  dias_atraso      tasa\n",
       "fecha_inicio                              \n",
       "2022-12-12      100            0  0.000000\n",
       "2022-12-22      200            1  0.005000\n",
       "2022-12-23       50            5  0.100000\n",
       "2022-12-24      500            9  0.018000\n",
       "2022-12-25      450            7  0.015556"
      ]
     },
     "execution_count": 5,
     "metadata": {},
     "output_type": "execute_result"
    }
   ],
   "source": [
    "morosidad = pd.concat([prestamos_agrupados, atrasos_agrupados], axis=1)\n",
    "morosidad['tasa'] = morosidad['dias_atraso'] / morosidad['monto']\n",
    "morosidad"
   ]
  },
  {
   "attachments": {},
   "cell_type": "markdown",
   "metadata": {},
   "source": [
    "## 2. Tasa de incumplimiento"
   ]
  },
  {
   "cell_type": "code",
   "execution_count": 11,
   "metadata": {},
   "outputs": [
    {
     "data": {
      "text/html": [
       "<div>\n",
       "<style scoped>\n",
       "    .dataframe tbody tr th:only-of-type {\n",
       "        vertical-align: middle;\n",
       "    }\n",
       "\n",
       "    .dataframe tbody tr th {\n",
       "        vertical-align: top;\n",
       "    }\n",
       "\n",
       "    .dataframe thead th {\n",
       "        text-align: right;\n",
       "    }\n",
       "</style>\n",
       "<table border=\"1\" class=\"dataframe\">\n",
       "  <thead>\n",
       "    <tr style=\"text-align: right;\">\n",
       "      <th></th>\n",
       "      <th>Cliente</th>\n",
       "      <th>Monto</th>\n",
       "      <th>Cuotas</th>\n",
       "      <th>Fecha</th>\n",
       "      <th>dias_mora</th>\n",
       "      <th>count</th>\n",
       "    </tr>\n",
       "  </thead>\n",
       "  <tbody>\n",
       "    <tr>\n",
       "      <th>0</th>\n",
       "      <td>Juan</td>\n",
       "      <td>1000</td>\n",
       "      <td>12</td>\n",
       "      <td>2022-01-01</td>\n",
       "      <td>0</td>\n",
       "      <td>1</td>\n",
       "    </tr>\n",
       "    <tr>\n",
       "      <th>1</th>\n",
       "      <td>Juan</td>\n",
       "      <td>5000</td>\n",
       "      <td>24</td>\n",
       "      <td>2022-02-01</td>\n",
       "      <td>0</td>\n",
       "      <td>1</td>\n",
       "    </tr>\n",
       "    <tr>\n",
       "      <th>2</th>\n",
       "      <td>Ana</td>\n",
       "      <td>2000</td>\n",
       "      <td>6</td>\n",
       "      <td>2022-01-01</td>\n",
       "      <td>25</td>\n",
       "      <td>1</td>\n",
       "    </tr>\n",
       "    <tr>\n",
       "      <th>3</th>\n",
       "      <td>Ana</td>\n",
       "      <td>3000</td>\n",
       "      <td>12</td>\n",
       "      <td>2022-03-01</td>\n",
       "      <td>0</td>\n",
       "      <td>1</td>\n",
       "    </tr>\n",
       "    <tr>\n",
       "      <th>4</th>\n",
       "      <td>Pedro</td>\n",
       "      <td>1500</td>\n",
       "      <td>8</td>\n",
       "      <td>2022-01-01</td>\n",
       "      <td>11</td>\n",
       "      <td>1</td>\n",
       "    </tr>\n",
       "  </tbody>\n",
       "</table>\n",
       "</div>"
      ],
      "text/plain": [
       "  Cliente  Monto  Cuotas      Fecha  dias_mora  count\n",
       "0    Juan   1000      12 2022-01-01          0      1\n",
       "1    Juan   5000      24 2022-02-01          0      1\n",
       "2     Ana   2000       6 2022-01-01         25      1\n",
       "3     Ana   3000      12 2022-03-01          0      1\n",
       "4   Pedro   1500       8 2022-01-01         11      1"
      ]
     },
     "execution_count": 11,
     "metadata": {},
     "output_type": "execute_result"
    }
   ],
   "source": [
    "creditos = pd.DataFrame({\n",
    "    \"Cliente\": [\"Juan\", \"Juan\", \"Ana\", \"Ana\", \"Pedro\", \"Pedro\", 'Carlos'],\n",
    "    \"Monto\": [1000, 5000, 2000, 3000, 1500, 2000, 800],\n",
    "    \"Cuotas\": [12, 24, 6, 12, 8, 12, 10],\n",
    "    \"Fecha\": [\"2022-01-01\", \"2022-02-01\", \"2022-01-01\", \"2022-03-01\", \"2022-01-01\", \"2022-02-01\", \"2022-02-01\"],\n",
    "    \"dias_mora\":[0,0,25,0,11,0,9]\n",
    "})\n",
    "creditos[\"Fecha\"] = pd.to_datetime(creditos[\"Fecha\"])\n",
    "\n",
    "creditos.insert(5, 'count', 1)\n",
    "\n",
    "creditos.head()"
   ]
  },
  {
   "cell_type": "code",
   "execution_count": 18,
   "metadata": {},
   "outputs": [
    {
     "data": {
      "text/html": [
       "<div>\n",
       "<style scoped>\n",
       "    .dataframe tbody tr th:only-of-type {\n",
       "        vertical-align: middle;\n",
       "    }\n",
       "\n",
       "    .dataframe tbody tr th {\n",
       "        vertical-align: top;\n",
       "    }\n",
       "\n",
       "    .dataframe thead th {\n",
       "        text-align: right;\n",
       "    }\n",
       "</style>\n",
       "<table border=\"1\" class=\"dataframe\">\n",
       "  <thead>\n",
       "    <tr style=\"text-align: right;\">\n",
       "      <th></th>\n",
       "      <th>Cliente</th>\n",
       "      <th>credits_total</th>\n",
       "      <th>credits_mora</th>\n",
       "      <th>mora_tasa</th>\n",
       "    </tr>\n",
       "  </thead>\n",
       "  <tbody>\n",
       "    <tr>\n",
       "      <th>0</th>\n",
       "      <td>Ana</td>\n",
       "      <td>2</td>\n",
       "      <td>1.0</td>\n",
       "      <td>0.5</td>\n",
       "    </tr>\n",
       "    <tr>\n",
       "      <th>1</th>\n",
       "      <td>Carlos</td>\n",
       "      <td>1</td>\n",
       "      <td>0.0</td>\n",
       "      <td>0.0</td>\n",
       "    </tr>\n",
       "    <tr>\n",
       "      <th>2</th>\n",
       "      <td>Juan</td>\n",
       "      <td>2</td>\n",
       "      <td>2.0</td>\n",
       "      <td>1.0</td>\n",
       "    </tr>\n",
       "    <tr>\n",
       "      <th>3</th>\n",
       "      <td>Pedro</td>\n",
       "      <td>2</td>\n",
       "      <td>1.0</td>\n",
       "      <td>0.5</td>\n",
       "    </tr>\n",
       "  </tbody>\n",
       "</table>\n",
       "</div>"
      ],
      "text/plain": [
       "  Cliente  credits_total  credits_mora  mora_tasa\n",
       "0     Ana              2           1.0        0.5\n",
       "1  Carlos              1           0.0        0.0\n",
       "2    Juan              2           2.0        1.0\n",
       "3   Pedro              2           1.0        0.5"
      ]
     },
     "execution_count": 18,
     "metadata": {},
     "output_type": "execute_result"
    }
   ],
   "source": [
    "ndf = creditos.groupby('Cliente')['count'].sum().reset_index()\n",
    "ndf.rename(columns={'count':'credits_total'}, inplace=True)\n",
    "\n",
    "ndf2 = creditos[creditos['dias_mora'] == 0 ]\n",
    "ndf2 = ndf2.groupby('Cliente')['count'].sum().reset_index()\n",
    "ndf2.rename(columns={'count':'credits_mora'}, inplace=True)\n",
    "\n",
    "ndf = pd.merge(ndf, ndf2, how='left', on=['Cliente'])\n",
    "ndf = ndf.fillna(0)  \n",
    "\n",
    "ndf['mora_tasa'] = ndf['credits_mora'] / ndf['credits_total']\n",
    "\n",
    "ndf"
   ]
  }
 ],
 "metadata": {
  "kernelspec": {
   "display_name": "Python 3",
   "language": "python",
   "name": "python3"
  },
  "language_info": {
   "codemirror_mode": {
    "name": "ipython",
    "version": 3
   },
   "file_extension": ".py",
   "mimetype": "text/x-python",
   "name": "python",
   "nbconvert_exporter": "python",
   "pygments_lexer": "ipython3",
   "version": "3.11.0"
  },
  "orig_nbformat": 4
 },
 "nbformat": 4,
 "nbformat_minor": 2
}
