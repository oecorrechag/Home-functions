{
 "cells": [
  {
   "cell_type": "code",
   "execution_count": null,
   "metadata": {},
   "outputs": [],
   "source": [
    "from sklearn.cluster import KMeans\n",
    "from sklearn.datasets import make_blobs\n",
    "import numpy as np"
   ]
  },
  {
   "cell_type": "code",
   "execution_count": 1,
   "metadata": {},
   "outputs": [
    {
     "ename": "NameError",
     "evalue": "name 'make_blobs' is not defined",
     "output_type": "error",
     "traceback": [
      "\u001b[1;31m---------------------------------------------------------------------------\u001b[0m",
      "\u001b[1;31mNameError\u001b[0m                                 Traceback (most recent call last)",
      "\u001b[1;32mg:\\Mi unidad\\Proyectos\\Proyectos\\Home-funtions\\metodos_selectores_k\\bic.ipynb Cell 2\u001b[0m in \u001b[0;36m2\n\u001b[0;32m      <a href='vscode-notebook-cell:/g%3A/Mi%20unidad/Proyectos/Proyectos/Home-funtions/metodos_selectores_k/bic.ipynb#W1sZmlsZQ%3D%3D?line=0'>1</a>\u001b[0m \u001b[39m# Generate sample data\u001b[39;00m\n\u001b[1;32m----> <a href='vscode-notebook-cell:/g%3A/Mi%20unidad/Proyectos/Proyectos/Home-funtions/metodos_selectores_k/bic.ipynb#W1sZmlsZQ%3D%3D?line=1'>2</a>\u001b[0m X, y_true \u001b[39m=\u001b[39m make_blobs(n_samples\u001b[39m=\u001b[39m\u001b[39m300\u001b[39m, centers\u001b[39m=\u001b[39m\u001b[39m4\u001b[39m, cluster_std\u001b[39m=\u001b[39m\u001b[39m0.60\u001b[39m, random_state\u001b[39m=\u001b[39m\u001b[39m0\u001b[39m)\n\u001b[0;32m      <a href='vscode-notebook-cell:/g%3A/Mi%20unidad/Proyectos/Proyectos/Home-funtions/metodos_selectores_k/bic.ipynb#W1sZmlsZQ%3D%3D?line=3'>4</a>\u001b[0m \u001b[39m# Initialize k-means with different numbers of clusters\u001b[39;00m\n\u001b[0;32m      <a href='vscode-notebook-cell:/g%3A/Mi%20unidad/Proyectos/Proyectos/Home-funtions/metodos_selectores_k/bic.ipynb#W1sZmlsZQ%3D%3D?line=4'>5</a>\u001b[0m k_values \u001b[39m=\u001b[39m \u001b[39mrange\u001b[39m(\u001b[39m1\u001b[39m, \u001b[39m10\u001b[39m)\n",
      "\u001b[1;31mNameError\u001b[0m: name 'make_blobs' is not defined"
     ]
    }
   ],
   "source": [
    "# Generate sample data\n",
    "X, y_true = make_blobs(n_samples=300, centers=4, cluster_std=0.60, random_state=0)\n",
    "\n",
    "# Initialize k-means with different numbers of clusters\n",
    "k_values = range(1, 10)\n",
    "kmeans_models = [KMeans(n_clusters=k).fit(X) for k in k_values]\n",
    "\n",
    "# Compute the BIC score for each model\n",
    "bic_scores = [model.bic(X) for model in kmeans_models]"
   ]
  },
  {
   "cell_type": "code",
   "execution_count": null,
   "metadata": {},
   "outputs": [],
   "source": []
  },
  {
   "cell_type": "code",
   "execution_count": null,
   "metadata": {},
   "outputs": [],
   "source": []
  },
  {
   "cell_type": "code",
   "execution_count": null,
   "metadata": {},
   "outputs": [],
   "source": []
  },
  {
   "cell_type": "code",
   "execution_count": null,
   "metadata": {},
   "outputs": [],
   "source": []
  }
 ],
 "metadata": {
  "kernelspec": {
   "display_name": "Python 3",
   "language": "python",
   "name": "python3"
  },
  "language_info": {
   "codemirror_mode": {
    "name": "ipython",
    "version": 3
   },
   "file_extension": ".py",
   "mimetype": "text/x-python",
   "name": "python",
   "nbconvert_exporter": "python",
   "pygments_lexer": "ipython3",
   "version": "3.11.0"
  },
  "orig_nbformat": 4
 },
 "nbformat": 4,
 "nbformat_minor": 2
}
