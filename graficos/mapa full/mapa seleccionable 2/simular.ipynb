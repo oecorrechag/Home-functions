{
 "cells": [
  {
   "cell_type": "code",
   "execution_count": 27,
   "metadata": {},
   "outputs": [],
   "source": [
    "import pandas as pd\n",
    "import random\n",
    "\n",
    "import geopandas as gpd \n",
    "from shapely.geometry import Point, Polygon\n",
    "import h3\n",
    "\n",
    "import plotly.express as px\n",
    "\n",
    "import json"
   ]
  },
  {
   "cell_type": "code",
   "execution_count": 28,
   "metadata": {},
   "outputs": [],
   "source": [
    "data = pd.DataFrame(columns=['Latitude', 'Longitude'])"
   ]
  },
  {
   "cell_type": "code",
   "execution_count": 29,
   "metadata": {},
   "outputs": [],
   "source": [
    "min_latitude = 43.5\n",
    "max_latitude = 47.1\n",
    "min_longitude = 6.6\n",
    "max_longitude = 11.5"
   ]
  },
  {
   "cell_type": "code",
   "execution_count": 30,
   "metadata": {},
   "outputs": [],
   "source": [
    "num_points = 1000000  # Cantidad de puntos a generar\n",
    "\n",
    "lat = []\n",
    "long = []\n",
    "\n",
    "for _ in range(num_points):\n",
    "    latitude = random.uniform(min_latitude, max_latitude)\n",
    "    longitude = random.uniform(min_longitude, max_longitude)\n",
    "    \n",
    "    lat.append(latitude)\n",
    "    long.append(longitude)"
   ]
  },
  {
   "cell_type": "code",
   "execution_count": 31,
   "metadata": {},
   "outputs": [],
   "source": [
    "df = pd.DataFrame(list(zip(lat, long)),\n",
    "               columns =['latitude', 'longitude'])"
   ]
  },
  {
   "cell_type": "code",
   "execution_count": 32,
   "metadata": {},
   "outputs": [
    {
     "data": {
      "text/html": [
       "<div>\n",
       "<style scoped>\n",
       "    .dataframe tbody tr th:only-of-type {\n",
       "        vertical-align: middle;\n",
       "    }\n",
       "\n",
       "    .dataframe tbody tr th {\n",
       "        vertical-align: top;\n",
       "    }\n",
       "\n",
       "    .dataframe thead th {\n",
       "        text-align: right;\n",
       "    }\n",
       "</style>\n",
       "<table border=\"1\" class=\"dataframe\">\n",
       "  <thead>\n",
       "    <tr style=\"text-align: right;\">\n",
       "      <th></th>\n",
       "      <th>geometry</th>\n",
       "      <th>COD_UTS</th>\n",
       "      <th>DEN_UTS</th>\n",
       "    </tr>\n",
       "  </thead>\n",
       "  <tbody>\n",
       "    <tr>\n",
       "      <th>0</th>\n",
       "      <td>POLYGON ((7.85904 45.59758, 7.86228 45.59699, ...</td>\n",
       "      <td>201</td>\n",
       "      <td>Torino</td>\n",
       "    </tr>\n",
       "    <tr>\n",
       "      <th>1</th>\n",
       "      <td>POLYGON ((8.20447 45.93567, 8.21365 45.92490, ...</td>\n",
       "      <td>2</td>\n",
       "      <td>Vercelli</td>\n",
       "    </tr>\n",
       "    <tr>\n",
       "      <th>2</th>\n",
       "      <td>POLYGON ((8.49688 45.83934, 8.49996 45.83402, ...</td>\n",
       "      <td>3</td>\n",
       "      <td>Novara</td>\n",
       "    </tr>\n",
       "    <tr>\n",
       "      <th>3</th>\n",
       "      <td>MULTIPOLYGON (((7.46667 44.77289, 7.46997 44.7...</td>\n",
       "      <td>4</td>\n",
       "      <td>Cuneo</td>\n",
       "    </tr>\n",
       "    <tr>\n",
       "      <th>4</th>\n",
       "      <td>POLYGON ((8.04681 45.12815, 8.04572 45.12300, ...</td>\n",
       "      <td>5</td>\n",
       "      <td>Asti</td>\n",
       "    </tr>\n",
       "  </tbody>\n",
       "</table>\n",
       "</div>"
      ],
      "text/plain": [
       "                                            geometry  COD_UTS   DEN_UTS\n",
       "0  POLYGON ((7.85904 45.59758, 7.86228 45.59699, ...      201    Torino\n",
       "1  POLYGON ((8.20447 45.93567, 8.21365 45.92490, ...        2  Vercelli\n",
       "2  POLYGON ((8.49688 45.83934, 8.49996 45.83402, ...        3    Novara\n",
       "3  MULTIPOLYGON (((7.46667 44.77289, 7.46997 44.7...        4     Cuneo\n",
       "4  POLYGON ((8.04681 45.12815, 8.04572 45.12300, ...        5      Asti"
      ]
     },
     "execution_count": 32,
     "metadata": {},
     "output_type": "execute_result"
    }
   ],
   "source": [
    "italia = gpd.read_file(\"data/ProvCM01012023_g_WGS84.shp\")\n",
    "italia = italia.loc[:,['geometry','COD_UTS','DEN_UTS']]\n",
    "italia.geometry = italia.geometry.to_crs(epsg = 4326)\n",
    "italia.head()"
   ]
  },
  {
   "cell_type": "code",
   "execution_count": 33,
   "metadata": {},
   "outputs": [
    {
     "name": "stdout",
     "output_type": "stream",
     "text": [
      "<class 'geopandas.geodataframe.GeoDataFrame'>\n"
     ]
    },
    {
     "data": {
      "text/html": [
       "<div>\n",
       "<style scoped>\n",
       "    .dataframe tbody tr th:only-of-type {\n",
       "        vertical-align: middle;\n",
       "    }\n",
       "\n",
       "    .dataframe tbody tr th {\n",
       "        vertical-align: top;\n",
       "    }\n",
       "\n",
       "    .dataframe thead th {\n",
       "        text-align: right;\n",
       "    }\n",
       "</style>\n",
       "<table border=\"1\" class=\"dataframe\">\n",
       "  <thead>\n",
       "    <tr style=\"text-align: right;\">\n",
       "      <th></th>\n",
       "      <th>latitude</th>\n",
       "      <th>longitude</th>\n",
       "      <th>geometry</th>\n",
       "    </tr>\n",
       "  </thead>\n",
       "  <tbody>\n",
       "    <tr>\n",
       "      <th>0</th>\n",
       "      <td>44.132290</td>\n",
       "      <td>11.208522</td>\n",
       "      <td>POINT (11.20852 44.13229)</td>\n",
       "    </tr>\n",
       "    <tr>\n",
       "      <th>1</th>\n",
       "      <td>46.018014</td>\n",
       "      <td>9.717334</td>\n",
       "      <td>POINT (9.71733 46.01801)</td>\n",
       "    </tr>\n",
       "    <tr>\n",
       "      <th>2</th>\n",
       "      <td>45.602047</td>\n",
       "      <td>8.040641</td>\n",
       "      <td>POINT (8.04064 45.60205)</td>\n",
       "    </tr>\n",
       "    <tr>\n",
       "      <th>3</th>\n",
       "      <td>43.677091</td>\n",
       "      <td>8.407280</td>\n",
       "      <td>POINT (8.40728 43.67709)</td>\n",
       "    </tr>\n",
       "    <tr>\n",
       "      <th>4</th>\n",
       "      <td>45.508038</td>\n",
       "      <td>10.445698</td>\n",
       "      <td>POINT (10.44570 45.50804)</td>\n",
       "    </tr>\n",
       "  </tbody>\n",
       "</table>\n",
       "</div>"
      ],
      "text/plain": [
       "    latitude  longitude                   geometry\n",
       "0  44.132290  11.208522  POINT (11.20852 44.13229)\n",
       "1  46.018014   9.717334   POINT (9.71733 46.01801)\n",
       "2  45.602047   8.040641   POINT (8.04064 45.60205)\n",
       "3  43.677091   8.407280   POINT (8.40728 43.67709)\n",
       "4  45.508038  10.445698  POINT (10.44570 45.50804)"
      ]
     },
     "execution_count": 33,
     "metadata": {},
     "output_type": "execute_result"
    }
   ],
   "source": [
    "# Create a geometry column from lng & lat\n",
    "df['geometry'] = df.apply(lambda x: Point(float(x.longitude), float(x.latitude)), axis=1)\n",
    "\n",
    "# Create a GeoDataFrame from art and verify the type\n",
    "df_points = gpd.GeoDataFrame(df, crs = italia.crs, geometry = df.geometry)\n",
    "print(type(df_points))\n",
    "\n",
    "df_points.head()"
   ]
  },
  {
   "cell_type": "code",
   "execution_count": 34,
   "metadata": {},
   "outputs": [
    {
     "name": "stderr",
     "output_type": "stream",
     "text": [
      "/home/oecorrechag/.local/lib/python3.11/site-packages/IPython/core/interactiveshell.py:3448: FutureWarning: The `op` parameter is deprecated and will be removed in a future release. Please use the `predicate` parameter instead.\n",
      "  if await self.run_code(code, result, async_=asy):\n"
     ]
    },
    {
     "name": "stdout",
     "output_type": "stream",
     "text": [
      "(613032, 5)\n"
     ]
    }
   ],
   "source": [
    "df_italia = gpd.sjoin(df_points, italia, op = 'within')\n",
    "df_italia.drop(['index_right'], axis=1, inplace=True)\n",
    "print(df_italia.shape)"
   ]
  },
  {
   "cell_type": "code",
   "execution_count": 35,
   "metadata": {},
   "outputs": [],
   "source": [
    "# df_italia = df_italia[df_italia['DEN_RIP'] == 'Nord-Ovest']\n",
    "# df_italia.head()"
   ]
  },
  {
   "cell_type": "code",
   "execution_count": 36,
   "metadata": {},
   "outputs": [
    {
     "data": {
      "text/plain": [
       "(43.50000957942039, 47.0087788438763)"
      ]
     },
     "execution_count": 36,
     "metadata": {},
     "output_type": "execute_result"
    }
   ],
   "source": [
    "df_italia['latitude'].min(), df_italia['latitude'].max()"
   ]
  },
  {
   "cell_type": "code",
   "execution_count": 37,
   "metadata": {},
   "outputs": [
    {
     "data": {
      "text/plain": [
       "(6.626822600773331, 11.499997538201253)"
      ]
     },
     "execution_count": 37,
     "metadata": {},
     "output_type": "execute_result"
    }
   ],
   "source": [
    "df_italia['longitude'].min(), df_italia['longitude'].max()"
   ]
  },
  {
   "attachments": {},
   "cell_type": "markdown",
   "metadata": {},
   "source": [
    "# Agregar las ciudades"
   ]
  },
  {
   "cell_type": "code",
   "execution_count": 38,
   "metadata": {},
   "outputs": [],
   "source": [
    "# it = pd.read_csv('data/it.csv', sep = ',', decimal = '.', header = 0, encoding = 'utf-8')\n",
    "# it = it.loc[:,['lat','lng','city','population']]\n",
    "\n",
    "# # Create a geometry column from lng & lat\n",
    "# it['geometry'] = it.apply(lambda x: Point(float(x.lng), float(x.lat)), axis=1)\n",
    "\n",
    "# # Create a GeoDataFrame from art and verify the type\n",
    "# df_it = gpd.GeoDataFrame(it, crs = italia.crs, geometry = it.geometry)\n",
    "# df_it = df_it.loc[:,['geometry','city','population']]\n",
    "# print(type(df_it))\n",
    "\n",
    "# df_it.head(20)"
   ]
  },
  {
   "cell_type": "code",
   "execution_count": 39,
   "metadata": {},
   "outputs": [],
   "source": [
    "# df_italia.head()"
   ]
  },
  {
   "cell_type": "code",
   "execution_count": 40,
   "metadata": {},
   "outputs": [],
   "source": [
    "# print(df_italia.shape)\n",
    "# df_italia = gpd.sjoin(df_it, df_italia, op = 'within')\n",
    "# print(df_italia.shape)"
   ]
  },
  {
   "cell_type": "code",
   "execution_count": 41,
   "metadata": {},
   "outputs": [],
   "source": [
    "# # save\n",
    "# df.to_csv('data/df.csv', encoding = 'utf-8-sig', index = False)"
   ]
  },
  {
   "attachments": {},
   "cell_type": "markdown",
   "metadata": {},
   "source": [
    "# Generar los H3"
   ]
  },
  {
   "cell_type": "code",
   "execution_count": 42,
   "metadata": {},
   "outputs": [],
   "source": [
    "def get_h3_shape(row):\n",
    "    h = h3.geo_to_h3(row[\"latitude\"], row[\"longitude\"], 7)\n",
    "    return h\n",
    "\n",
    "def get_geometry(h) :\n",
    "    vertices = h3.h3_to_geo_boundary(h,  geo_json=True)\n",
    "    polygon = Polygon(vertices)\n",
    "    return polygon\n",
    "\n",
    "# def get_geometry(h) :\n",
    "#     h = h3.h3_to_geo_boundary(h, geo_json=True)\n",
    "#     return Polygon(h)"
   ]
  },
  {
   "cell_type": "code",
   "execution_count": 43,
   "metadata": {},
   "outputs": [
    {
     "data": {
      "text/html": [
       "<div>\n",
       "<style scoped>\n",
       "    .dataframe tbody tr th:only-of-type {\n",
       "        vertical-align: middle;\n",
       "    }\n",
       "\n",
       "    .dataframe tbody tr th {\n",
       "        vertical-align: top;\n",
       "    }\n",
       "\n",
       "    .dataframe thead th {\n",
       "        text-align: right;\n",
       "    }\n",
       "</style>\n",
       "<table border=\"1\" class=\"dataframe\">\n",
       "  <thead>\n",
       "    <tr style=\"text-align: right;\">\n",
       "      <th></th>\n",
       "      <th>latitude</th>\n",
       "      <th>longitude</th>\n",
       "      <th>geometry</th>\n",
       "      <th>COD_UTS</th>\n",
       "      <th>DEN_UTS</th>\n",
       "      <th>h3</th>\n",
       "    </tr>\n",
       "  </thead>\n",
       "  <tbody>\n",
       "    <tr>\n",
       "      <th>0</th>\n",
       "      <td>44.132290</td>\n",
       "      <td>11.208522</td>\n",
       "      <td>POLYGON ((11.18001 44.13542, 11.18112 44.12276...</td>\n",
       "      <td>237</td>\n",
       "      <td>Bologna</td>\n",
       "      <td>871ea28f4ffffff</td>\n",
       "    </tr>\n",
       "    <tr>\n",
       "      <th>46</th>\n",
       "      <td>44.203164</td>\n",
       "      <td>11.230192</td>\n",
       "      <td>POLYGON ((11.20463 44.21380, 11.20574 44.20115...</td>\n",
       "      <td>237</td>\n",
       "      <td>Bologna</td>\n",
       "      <td>871ea280effffff</td>\n",
       "    </tr>\n",
       "    <tr>\n",
       "      <th>52</th>\n",
       "      <td>44.512040</td>\n",
       "      <td>11.161696</td>\n",
       "      <td>POLYGON ((11.14648 44.51445, 11.14760 44.50184...</td>\n",
       "      <td>237</td>\n",
       "      <td>Bologna</td>\n",
       "      <td>871ea62c5ffffff</td>\n",
       "    </tr>\n",
       "    <tr>\n",
       "      <th>71</th>\n",
       "      <td>44.706942</td>\n",
       "      <td>11.264529</td>\n",
       "      <td>POLYGON ((11.25556 44.71333, 11.25667 44.70074...</td>\n",
       "      <td>237</td>\n",
       "      <td>Bologna</td>\n",
       "      <td>871ea0c92ffffff</td>\n",
       "    </tr>\n",
       "    <tr>\n",
       "      <th>83</th>\n",
       "      <td>44.621070</td>\n",
       "      <td>11.219537</td>\n",
       "      <td>POLYGON ((11.19927 44.63284, 11.20039 44.62024...</td>\n",
       "      <td>237</td>\n",
       "      <td>Bologna</td>\n",
       "      <td>871ea6246ffffff</td>\n",
       "    </tr>\n",
       "  </tbody>\n",
       "</table>\n",
       "</div>"
      ],
      "text/plain": [
       "     latitude  longitude                                           geometry  \\\n",
       "0   44.132290  11.208522  POLYGON ((11.18001 44.13542, 11.18112 44.12276...   \n",
       "46  44.203164  11.230192  POLYGON ((11.20463 44.21380, 11.20574 44.20115...   \n",
       "52  44.512040  11.161696  POLYGON ((11.14648 44.51445, 11.14760 44.50184...   \n",
       "71  44.706942  11.264529  POLYGON ((11.25556 44.71333, 11.25667 44.70074...   \n",
       "83  44.621070  11.219537  POLYGON ((11.19927 44.63284, 11.20039 44.62024...   \n",
       "\n",
       "    COD_UTS  DEN_UTS               h3  \n",
       "0       237  Bologna  871ea28f4ffffff  \n",
       "46      237  Bologna  871ea280effffff  \n",
       "52      237  Bologna  871ea62c5ffffff  \n",
       "71      237  Bologna  871ea0c92ffffff  \n",
       "83      237  Bologna  871ea6246ffffff  "
      ]
     },
     "execution_count": 43,
     "metadata": {},
     "output_type": "execute_result"
    }
   ],
   "source": [
    "df_italia[\"h3\"] = df_italia.apply(get_h3_shape, axis=1)\n",
    "df_italia[\"geometry\"] = df_italia[\"h3\"].apply(get_geometry)\n",
    "df_italia.head()"
   ]
  },
  {
   "cell_type": "code",
   "execution_count": 44,
   "metadata": {},
   "outputs": [
    {
     "data": {
      "text/plain": [
       "geopandas.geodataframe.GeoDataFrame"
      ]
     },
     "execution_count": 44,
     "metadata": {},
     "output_type": "execute_result"
    }
   ],
   "source": [
    "type(df_italia)"
   ]
  },
  {
   "attachments": {},
   "cell_type": "markdown",
   "metadata": {},
   "source": [
    "# Agrupar los poligonos"
   ]
  },
  {
   "cell_type": "code",
   "execution_count": 45,
   "metadata": {},
   "outputs": [
    {
     "name": "stdout",
     "output_type": "stream",
     "text": [
      "(613032, 5)\n",
      "(20892, 5)\n"
     ]
    },
    {
     "data": {
      "text/html": [
       "<div>\n",
       "<style scoped>\n",
       "    .dataframe tbody tr th:only-of-type {\n",
       "        vertical-align: middle;\n",
       "    }\n",
       "\n",
       "    .dataframe tbody tr th {\n",
       "        vertical-align: top;\n",
       "    }\n",
       "\n",
       "    .dataframe thead th {\n",
       "        text-align: right;\n",
       "    }\n",
       "</style>\n",
       "<table border=\"1\" class=\"dataframe\">\n",
       "  <thead>\n",
       "    <tr style=\"text-align: right;\">\n",
       "      <th></th>\n",
       "      <th>h3</th>\n",
       "      <th>geometry</th>\n",
       "      <th>COD_UTS</th>\n",
       "      <th>DEN_UTS</th>\n",
       "      <th>count</th>\n",
       "    </tr>\n",
       "  </thead>\n",
       "  <tbody>\n",
       "    <tr>\n",
       "      <th>0</th>\n",
       "      <td>871ea0412ffffff</td>\n",
       "      <td>POLYGON ((11.49877 44.46552, 11.49983 44.45289...</td>\n",
       "      <td>237</td>\n",
       "      <td>Bologna</td>\n",
       "      <td>3</td>\n",
       "    </tr>\n",
       "    <tr>\n",
       "      <th>1</th>\n",
       "      <td>871ea0414ffffff</td>\n",
       "      <td>POLYGON ((11.49556 44.50340, 11.49663 44.49078...</td>\n",
       "      <td>237</td>\n",
       "      <td>Bologna</td>\n",
       "      <td>3</td>\n",
       "    </tr>\n",
       "    <tr>\n",
       "      <th>2</th>\n",
       "      <td>871ea0416ffffff</td>\n",
       "      <td>POLYGON ((11.48143 44.48327, 11.48251 44.47064...</td>\n",
       "      <td>237</td>\n",
       "      <td>Bologna</td>\n",
       "      <td>17</td>\n",
       "    </tr>\n",
       "    <tr>\n",
       "      <th>3</th>\n",
       "      <td>871ea0430ffffff</td>\n",
       "      <td>POLYGON ((11.49234 44.54127, 11.49341 44.52865...</td>\n",
       "      <td>237</td>\n",
       "      <td>Bologna</td>\n",
       "      <td>4</td>\n",
       "    </tr>\n",
       "    <tr>\n",
       "      <th>4</th>\n",
       "      <td>871ea0432ffffff</td>\n",
       "      <td>POLYGON ((11.47821 44.52114, 11.47929 44.50852...</td>\n",
       "      <td>237</td>\n",
       "      <td>Bologna</td>\n",
       "      <td>24</td>\n",
       "    </tr>\n",
       "  </tbody>\n",
       "</table>\n",
       "</div>"
      ],
      "text/plain": [
       "                h3                                           geometry  \\\n",
       "0  871ea0412ffffff  POLYGON ((11.49877 44.46552, 11.49983 44.45289...   \n",
       "1  871ea0414ffffff  POLYGON ((11.49556 44.50340, 11.49663 44.49078...   \n",
       "2  871ea0416ffffff  POLYGON ((11.48143 44.48327, 11.48251 44.47064...   \n",
       "3  871ea0430ffffff  POLYGON ((11.49234 44.54127, 11.49341 44.52865...   \n",
       "4  871ea0432ffffff  POLYGON ((11.47821 44.52114, 11.47929 44.50852...   \n",
       "\n",
       "   COD_UTS  DEN_UTS  count  \n",
       "0      237  Bologna      3  \n",
       "1      237  Bologna      3  \n",
       "2      237  Bologna     17  \n",
       "3      237  Bologna      4  \n",
       "4      237  Bologna     24  "
      ]
     },
     "execution_count": 45,
     "metadata": {},
     "output_type": "execute_result"
    }
   ],
   "source": [
    "df_poly = df_italia.copy()\n",
    "df_poly = df_poly.loc[:,['h3','geometry','COD_UTS','DEN_UTS']]\n",
    "df_poly.insert(0, 'count', 1)\n",
    "print(df_poly.shape)\n",
    "df_poly = df_poly.groupby(['h3','geometry','COD_UTS','DEN_UTS'], as_index=False).sum()\n",
    "print(df_poly.shape)\n",
    "df_poly.head()"
   ]
  },
  {
   "cell_type": "code",
   "execution_count": 46,
   "metadata": {},
   "outputs": [
    {
     "data": {
      "text/plain": [
       "geopandas.geodataframe.GeoDataFrame"
      ]
     },
     "execution_count": 46,
     "metadata": {},
     "output_type": "execute_result"
    }
   ],
   "source": [
    "df_poly = gpd.GeoDataFrame(df_poly, crs = italia.crs, geometry = df_poly.geometry)\n",
    "type(df_poly)"
   ]
  },
  {
   "cell_type": "code",
   "execution_count": 47,
   "metadata": {},
   "outputs": [
    {
     "data": {
      "text/plain": [
       "(20892, 5)"
      ]
     },
     "execution_count": 47,
     "metadata": {},
     "output_type": "execute_result"
    }
   ],
   "source": [
    "df_poly.shape"
   ]
  },
  {
   "cell_type": "code",
   "execution_count": 48,
   "metadata": {},
   "outputs": [
    {
     "data": {
      "text/plain": [
       "array(['Bologna', 'Ferrara', 'Rovigo', 'Modena', 'Mantova', 'Verona',\n",
       "       'Padova', 'Firenze', 'Prato', 'Pistoia', 'Siena', 'Pisa', 'Arezzo',\n",
       "       'Lucca', 'Vicenza', 'Trento', 'Brescia', 'Bolzano',\n",
       "       \"Reggio nell'Emilia\", 'Parma', 'Massa Carrara', 'La Spezia',\n",
       "       'Cremona', 'Piacenza', 'Imperia', 'Savona', 'Cuneo', 'Livorno',\n",
       "       'Genova', 'Sondrio', 'Bergamo', 'Vercelli', 'Biella', 'Torino',\n",
       "       'Novara', 'Pavia', 'Milano', 'Alessandria', 'Asti', 'Aosta',\n",
       "       'Verbano-Cusio-Ossola', 'Varese', 'Lodi', 'Lecco',\n",
       "       'Monza e della Brianza', 'Como'], dtype=object)"
      ]
     },
     "execution_count": 48,
     "metadata": {},
     "output_type": "execute_result"
    }
   ],
   "source": [
    "df_poly['DEN_UTS'].unique()"
   ]
  },
  {
   "cell_type": "code",
   "execution_count": 49,
   "metadata": {},
   "outputs": [],
   "source": [
    "df_poly = df_poly[df_poly['DEN_UTS'] == 'Milano']\n",
    "df_poly = df_poly.loc[:,['COD_UTS','DEN_UTS','h3','geometry','count']]"
   ]
  },
  {
   "cell_type": "code",
   "execution_count": 52,
   "metadata": {},
   "outputs": [
    {
     "data": {
      "text/html": [
       "<div>\n",
       "<style scoped>\n",
       "    .dataframe tbody tr th:only-of-type {\n",
       "        vertical-align: middle;\n",
       "    }\n",
       "\n",
       "    .dataframe tbody tr th {\n",
       "        vertical-align: top;\n",
       "    }\n",
       "\n",
       "    .dataframe thead th {\n",
       "        text-align: right;\n",
       "    }\n",
       "</style>\n",
       "<table border=\"1\" class=\"dataframe\">\n",
       "  <thead>\n",
       "    <tr style=\"text-align: right;\">\n",
       "      <th></th>\n",
       "      <th>COD_UTS</th>\n",
       "      <th>DEN_UTS</th>\n",
       "      <th>h3</th>\n",
       "      <th>geometry</th>\n",
       "      <th>count</th>\n",
       "    </tr>\n",
       "  </thead>\n",
       "  <tbody>\n",
       "    <tr>\n",
       "      <th>10095</th>\n",
       "      <td>215</td>\n",
       "      <td>Milano</td>\n",
       "      <td>871f98241ffffff</td>\n",
       "      <td>POLYGON ((8.86056 45.35089, 8.86204 45.33849, ...</td>\n",
       "      <td>20</td>\n",
       "    </tr>\n",
       "    <tr>\n",
       "      <th>10100</th>\n",
       "      <td>215</td>\n",
       "      <td>Milano</td>\n",
       "      <td>871f98245ffffff</td>\n",
       "      <td>POLYGON ((8.84271 45.36792, 8.84419 45.35552, ...</td>\n",
       "      <td>18</td>\n",
       "    </tr>\n",
       "    <tr>\n",
       "      <th>10102</th>\n",
       "      <td>215</td>\n",
       "      <td>Milano</td>\n",
       "      <td>871f98248ffffff</td>\n",
       "      <td>POLYGON ((8.90969 45.33698, 8.91115 45.32458, ...</td>\n",
       "      <td>30</td>\n",
       "    </tr>\n",
       "    <tr>\n",
       "      <th>10103</th>\n",
       "      <td>215</td>\n",
       "      <td>Milano</td>\n",
       "      <td>871f98249ffffff</td>\n",
       "      <td>POLYGON ((8.94097 45.34010, 8.94244 45.32769, ...</td>\n",
       "      <td>33</td>\n",
       "    </tr>\n",
       "    <tr>\n",
       "      <th>10105</th>\n",
       "      <td>215</td>\n",
       "      <td>Milano</td>\n",
       "      <td>871f9824affffff</td>\n",
       "      <td>POLYGON ((8.89625 45.31681, 8.89772 45.30440, ...</td>\n",
       "      <td>3</td>\n",
       "    </tr>\n",
       "  </tbody>\n",
       "</table>\n",
       "</div>"
      ],
      "text/plain": [
       "       COD_UTS DEN_UTS               h3  \\\n",
       "10095      215  Milano  871f98241ffffff   \n",
       "10100      215  Milano  871f98245ffffff   \n",
       "10102      215  Milano  871f98248ffffff   \n",
       "10103      215  Milano  871f98249ffffff   \n",
       "10105      215  Milano  871f9824affffff   \n",
       "\n",
       "                                                geometry  count  \n",
       "10095  POLYGON ((8.86056 45.35089, 8.86204 45.33849, ...     20  \n",
       "10100  POLYGON ((8.84271 45.36792, 8.84419 45.35552, ...     18  \n",
       "10102  POLYGON ((8.90969 45.33698, 8.91115 45.32458, ...     30  \n",
       "10103  POLYGON ((8.94097 45.34010, 8.94244 45.32769, ...     33  \n",
       "10105  POLYGON ((8.89625 45.31681, 8.89772 45.30440, ...      3  "
      ]
     },
     "execution_count": 52,
     "metadata": {},
     "output_type": "execute_result"
    }
   ],
   "source": [
    "df_poly.head()"
   ]
  },
  {
   "cell_type": "code",
   "execution_count": 50,
   "metadata": {},
   "outputs": [
    {
     "data": {
      "text/plain": [
       "(364, 5)"
      ]
     },
     "execution_count": 50,
     "metadata": {},
     "output_type": "execute_result"
    }
   ],
   "source": [
    "df_poly.shape"
   ]
  },
  {
   "cell_type": "code",
   "execution_count": 51,
   "metadata": {},
   "outputs": [],
   "source": [
    "# save\n",
    "df_poly.to_file('data/df_italia.geojson', driver='GeoJSON')  "
   ]
  },
  {
   "cell_type": "code",
   "execution_count": null,
   "metadata": {},
   "outputs": [],
   "source": []
  },
  {
   "cell_type": "code",
   "execution_count": null,
   "metadata": {},
   "outputs": [],
   "source": []
  },
  {
   "cell_type": "code",
   "execution_count": null,
   "metadata": {},
   "outputs": [],
   "source": []
  },
  {
   "cell_type": "code",
   "execution_count": null,
   "metadata": {},
   "outputs": [],
   "source": []
  },
  {
   "cell_type": "code",
   "execution_count": null,
   "metadata": {},
   "outputs": [],
   "source": []
  },
  {
   "cell_type": "code",
   "execution_count": null,
   "metadata": {},
   "outputs": [],
   "source": []
  },
  {
   "cell_type": "code",
   "execution_count": null,
   "metadata": {},
   "outputs": [],
   "source": []
  },
  {
   "cell_type": "code",
   "execution_count": null,
   "metadata": {},
   "outputs": [
    {
     "name": "stdout",
     "output_type": "stream",
     "text": [
      "<class 'geopandas.geodataframe.GeoDataFrame'>\n"
     ]
    },
    {
     "data": {
      "text/html": [
       "<div>\n",
       "<style scoped>\n",
       "    .dataframe tbody tr th:only-of-type {\n",
       "        vertical-align: middle;\n",
       "    }\n",
       "\n",
       "    .dataframe tbody tr th {\n",
       "        vertical-align: top;\n",
       "    }\n",
       "\n",
       "    .dataframe thead th {\n",
       "        text-align: right;\n",
       "    }\n",
       "</style>\n",
       "<table border=\"1\" class=\"dataframe\">\n",
       "  <thead>\n",
       "    <tr style=\"text-align: right;\">\n",
       "      <th></th>\n",
       "      <th>geometry</th>\n",
       "      <th>h3</th>\n",
       "      <th>COD_RIP</th>\n",
       "    </tr>\n",
       "  </thead>\n",
       "  <tbody>\n",
       "    <tr>\n",
       "      <th>1</th>\n",
       "      <td>POLYGON ((8.70271 45.72135, 8.70293 45.71959, ...</td>\n",
       "      <td>891f98a4027ffff</td>\n",
       "      <td>1</td>\n",
       "    </tr>\n",
       "    <tr>\n",
       "      <th>24</th>\n",
       "      <td>POLYGON ((9.33777 45.41386, 9.33797 45.41208, ...</td>\n",
       "      <td>891f9956aafffff</td>\n",
       "      <td>1</td>\n",
       "    </tr>\n",
       "    <tr>\n",
       "      <th>36</th>\n",
       "      <td>POLYGON ((9.10932 44.97942, 9.10952 44.97764, ...</td>\n",
       "      <td>891f9bb32d3ffff</td>\n",
       "      <td>1</td>\n",
       "    </tr>\n",
       "    <tr>\n",
       "      <th>41</th>\n",
       "      <td>POLYGON ((7.02920 45.89853, 7.02945 45.89679, ...</td>\n",
       "      <td>891f9c45d13ffff</td>\n",
       "      <td>1</td>\n",
       "    </tr>\n",
       "    <tr>\n",
       "      <th>46</th>\n",
       "      <td>POLYGON ((8.96436 44.73538, 8.96456 44.73360, ...</td>\n",
       "      <td>891f9b17517ffff</td>\n",
       "      <td>1</td>\n",
       "    </tr>\n",
       "  </tbody>\n",
       "</table>\n",
       "</div>"
      ],
      "text/plain": [
       "                                             geometry               h3  \\\n",
       "1   POLYGON ((8.70271 45.72135, 8.70293 45.71959, ...  891f98a4027ffff   \n",
       "24  POLYGON ((9.33777 45.41386, 9.33797 45.41208, ...  891f9956aafffff   \n",
       "36  POLYGON ((9.10932 44.97942, 9.10952 44.97764, ...  891f9bb32d3ffff   \n",
       "41  POLYGON ((7.02920 45.89853, 7.02945 45.89679, ...  891f9c45d13ffff   \n",
       "46  POLYGON ((8.96436 44.73538, 8.96456 44.73360, ...  891f9b17517ffff   \n",
       "\n",
       "    COD_RIP  \n",
       "1         1  \n",
       "24        1  \n",
       "36        1  \n",
       "41        1  \n",
       "46        1  "
      ]
     },
     "execution_count": 31,
     "metadata": {},
     "output_type": "execute_result"
    }
   ],
   "source": [
    "df_italia = gpd.GeoDataFrame(df_italia, crs = italia.crs, geometry = df_italia.geometry)\n",
    "df_italia = df_italia.loc[:,['geometry', 'h3', 'COD_RIP']]\n",
    "print(type(df_italia))\n",
    "df_italia.head()"
   ]
  },
  {
   "cell_type": "code",
   "execution_count": null,
   "metadata": {},
   "outputs": [],
   "source": []
  },
  {
   "cell_type": "code",
   "execution_count": null,
   "metadata": {},
   "outputs": [],
   "source": []
  },
  {
   "cell_type": "code",
   "execution_count": null,
   "metadata": {},
   "outputs": [],
   "source": []
  },
  {
   "cell_type": "code",
   "execution_count": null,
   "metadata": {},
   "outputs": [],
   "source": []
  },
  {
   "cell_type": "code",
   "execution_count": null,
   "metadata": {},
   "outputs": [],
   "source": []
  },
  {
   "cell_type": "code",
   "execution_count": null,
   "metadata": {},
   "outputs": [],
   "source": []
  },
  {
   "cell_type": "code",
   "execution_count": null,
   "metadata": {},
   "outputs": [],
   "source": [
    "with open('data/df_italia2.geojson', 'r') as infile:\n",
    "    geo_json = json.load(infile)"
   ]
  },
  {
   "cell_type": "code",
   "execution_count": null,
   "metadata": {},
   "outputs": [],
   "source": [
    "geo_json"
   ]
  },
  {
   "cell_type": "code",
   "execution_count": null,
   "metadata": {},
   "outputs": [],
   "source": [
    "fig = px.choropleth(df_italia2, geojson=geo_json, locations='COD_RIP', color='COD_RIP',\n",
    "                           color_continuous_scale=\"Viridis\",\n",
    "                           range_color=(0, 12),\n",
    "                        #    scope=\"usa\",\n",
    "                           labels={'unemp':'unemployment rate'}\n",
    "                          )\n",
    "fig.update_layout(margin={\"r\":0,\"t\":0,\"l\":0,\"b\":0})\n",
    "fig.show()"
   ]
  },
  {
   "cell_type": "code",
   "execution_count": null,
   "metadata": {},
   "outputs": [],
   "source": [
    "df_italia['DEN_RIP'].unique()"
   ]
  },
  {
   "cell_type": "code",
   "execution_count": null,
   "metadata": {},
   "outputs": [],
   "source": []
  },
  {
   "cell_type": "code",
   "execution_count": null,
   "metadata": {},
   "outputs": [],
   "source": []
  },
  {
   "cell_type": "code",
   "execution_count": null,
   "metadata": {},
   "outputs": [],
   "source": [
    "type(df_italia)"
   ]
  },
  {
   "cell_type": "code",
   "execution_count": null,
   "metadata": {},
   "outputs": [],
   "source": [
    "import pyproj"
   ]
  },
  {
   "cell_type": "code",
   "execution_count": null,
   "metadata": {},
   "outputs": [],
   "source": [
    "df_italia.to_crs(pyproj.CRS.from_epsg(4326), inplace=True)"
   ]
  },
  {
   "cell_type": "code",
   "execution_count": null,
   "metadata": {},
   "outputs": [],
   "source": [
    "df_italia.head()"
   ]
  },
  {
   "cell_type": "code",
   "execution_count": null,
   "metadata": {},
   "outputs": [],
   "source": [
    "\n",
    "fig = (\n",
    "    px.scatter_mapbox(\n",
    "        df_italia,\n",
    "        lat=\"latitude\",\n",
    "        lon=\"longitude\",\n",
    "        color=\"COD_RIP\",\n",
    "        hover_data=[\"COD_RIP\", \"DEN_RIP\"],\n",
    "    )\n",
    "    .update_traces(marker={\"size\": 10})\n",
    "    .update_layout(\n",
    "        mapbox={\n",
    "            \"style\": \"open-street-map\",\n",
    "            \"zoom\": 5,\n",
    "            \"layers\": [\n",
    "                {\n",
    "                    \"source\": json.loads(df_italia.geometry2.to_json()),\n",
    "                    \"below\": \"traces\",\n",
    "                    \"type\": \"line\",\n",
    "                    \"color\": \"purple\",\n",
    "                    \"line\": {\"width\": 1.5},\n",
    "                }\n",
    "            ],\n",
    "        },\n",
    "        margin={\"l\": 0, \"r\": 0, \"t\": 0, \"b\": 0},\n",
    "    )\n",
    ")\n",
    "fig.show()"
   ]
  },
  {
   "cell_type": "code",
   "execution_count": null,
   "metadata": {},
   "outputs": [],
   "source": []
  },
  {
   "cell_type": "code",
   "execution_count": null,
   "metadata": {},
   "outputs": [],
   "source": []
  },
  {
   "cell_type": "code",
   "execution_count": null,
   "metadata": {},
   "outputs": [],
   "source": []
  },
  {
   "cell_type": "code",
   "execution_count": null,
   "metadata": {},
   "outputs": [],
   "source": [
    "print('Ok_')"
   ]
  }
 ],
 "metadata": {
  "kernelspec": {
   "display_name": "Python 3",
   "language": "python",
   "name": "python3"
  },
  "language_info": {
   "codemirror_mode": {
    "name": "ipython",
    "version": 3
   },
   "file_extension": ".py",
   "mimetype": "text/x-python",
   "name": "python",
   "nbconvert_exporter": "python",
   "pygments_lexer": "ipython3",
   "version": "3.11.4"
  },
  "orig_nbformat": 4
 },
 "nbformat": 4,
 "nbformat_minor": 2
}
