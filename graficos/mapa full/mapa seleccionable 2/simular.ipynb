{
 "cells": [
  {
   "cell_type": "code",
   "execution_count": 1,
   "metadata": {},
   "outputs": [],
   "source": [
    "import pandas as pd\n",
    "import random\n",
    "\n",
    "import geopandas as gpd \n",
    "from shapely.geometry import Point, Polygon\n",
    "import h3\n",
    "\n",
    "import plotly.express as px\n",
    "\n",
    "import json"
   ]
  },
  {
   "cell_type": "code",
   "execution_count": 2,
   "metadata": {},
   "outputs": [],
   "source": [
    "data = pd.DataFrame(columns=['Latitude', 'Longitude'])"
   ]
  },
  {
   "cell_type": "code",
   "execution_count": 3,
   "metadata": {},
   "outputs": [],
   "source": [
    "min_latitude = 43.5\n",
    "max_latitude = 47.1\n",
    "min_longitude = 6.6\n",
    "max_longitude = 11.5"
   ]
  },
  {
   "cell_type": "code",
   "execution_count": 4,
   "metadata": {},
   "outputs": [],
   "source": [
    "num_points = 1000000  # Cantidad de puntos a generar\n",
    "\n",
    "lat = []\n",
    "long = []\n",
    "\n",
    "for _ in range(num_points):\n",
    "    latitude = random.uniform(min_latitude, max_latitude)\n",
    "    longitude = random.uniform(min_longitude, max_longitude)\n",
    "    \n",
    "    lat.append(latitude)\n",
    "    long.append(longitude)"
   ]
  },
  {
   "cell_type": "code",
   "execution_count": 5,
   "metadata": {},
   "outputs": [],
   "source": [
    "df = pd.DataFrame(list(zip(lat, long)),\n",
    "               columns =['latitude', 'longitude'])"
   ]
  },
  {
   "cell_type": "code",
   "execution_count": 6,
   "metadata": {},
   "outputs": [
    {
     "data": {
      "text/html": [
       "<div>\n",
       "<style scoped>\n",
       "    .dataframe tbody tr th:only-of-type {\n",
       "        vertical-align: middle;\n",
       "    }\n",
       "\n",
       "    .dataframe tbody tr th {\n",
       "        vertical-align: top;\n",
       "    }\n",
       "\n",
       "    .dataframe thead th {\n",
       "        text-align: right;\n",
       "    }\n",
       "</style>\n",
       "<table border=\"1\" class=\"dataframe\">\n",
       "  <thead>\n",
       "    <tr style=\"text-align: right;\">\n",
       "      <th></th>\n",
       "      <th>COD_RIP</th>\n",
       "      <th>DEN_RIP</th>\n",
       "      <th>Shape_Leng</th>\n",
       "      <th>Shape_Area</th>\n",
       "      <th>geometry</th>\n",
       "    </tr>\n",
       "  </thead>\n",
       "  <tbody>\n",
       "    <tr>\n",
       "      <th>0</th>\n",
       "      <td>1</td>\n",
       "      <td>Nord-Ovest</td>\n",
       "      <td>2.330183e+06</td>\n",
       "      <td>5.792958e+10</td>\n",
       "      <td>MULTIPOLYGON (((9.85132 44.02340, 9.85122 44.0...</td>\n",
       "    </tr>\n",
       "    <tr>\n",
       "      <th>1</th>\n",
       "      <td>2</td>\n",
       "      <td>Nord-Est</td>\n",
       "      <td>2.327765e+06</td>\n",
       "      <td>6.238509e+10</td>\n",
       "      <td>MULTIPOLYGON (((10.48080 44.18949, 10.48069 44...</td>\n",
       "    </tr>\n",
       "    <tr>\n",
       "      <th>2</th>\n",
       "      <td>3</td>\n",
       "      <td>Centro</td>\n",
       "      <td>2.010203e+06</td>\n",
       "      <td>5.801865e+10</td>\n",
       "      <td>MULTIPOLYGON (((13.45526 40.78719, 13.45309 40...</td>\n",
       "    </tr>\n",
       "    <tr>\n",
       "      <th>3</th>\n",
       "      <td>4</td>\n",
       "      <td>Sud</td>\n",
       "      <td>2.517097e+06</td>\n",
       "      <td>7.377795e+10</td>\n",
       "      <td>MULTIPOLYGON (((15.80124 39.69743, 15.80108 39...</td>\n",
       "    </tr>\n",
       "    <tr>\n",
       "      <th>4</th>\n",
       "      <td>5</td>\n",
       "      <td>Isole</td>\n",
       "      <td>2.775538e+06</td>\n",
       "      <td>4.991778e+10</td>\n",
       "      <td>MULTIPOLYGON (((12.55987 35.50930, 12.55969 35...</td>\n",
       "    </tr>\n",
       "  </tbody>\n",
       "</table>\n",
       "</div>"
      ],
      "text/plain": [
       "   COD_RIP     DEN_RIP    Shape_Leng    Shape_Area  \\\n",
       "0        1  Nord-Ovest  2.330183e+06  5.792958e+10   \n",
       "1        2    Nord-Est  2.327765e+06  6.238509e+10   \n",
       "2        3      Centro  2.010203e+06  5.801865e+10   \n",
       "3        4         Sud  2.517097e+06  7.377795e+10   \n",
       "4        5       Isole  2.775538e+06  4.991778e+10   \n",
       "\n",
       "                                            geometry  \n",
       "0  MULTIPOLYGON (((9.85132 44.02340, 9.85122 44.0...  \n",
       "1  MULTIPOLYGON (((10.48080 44.18949, 10.48069 44...  \n",
       "2  MULTIPOLYGON (((13.45526 40.78719, 13.45309 40...  \n",
       "3  MULTIPOLYGON (((15.80124 39.69743, 15.80108 39...  \n",
       "4  MULTIPOLYGON (((12.55987 35.50930, 12.55969 35...  "
      ]
     },
     "execution_count": 6,
     "metadata": {},
     "output_type": "execute_result"
    }
   ],
   "source": [
    "italia = gpd.read_file(\"data/Com01012023_g_WGS84.shp\")\n",
    "italia.geometry = italia.geometry.to_crs(epsg = 4326)\n",
    "italia.head()"
   ]
  },
  {
   "cell_type": "code",
   "execution_count": 7,
   "metadata": {},
   "outputs": [
    {
     "name": "stdout",
     "output_type": "stream",
     "text": [
      "<class 'geopandas.geodataframe.GeoDataFrame'>\n"
     ]
    },
    {
     "data": {
      "text/html": [
       "<div>\n",
       "<style scoped>\n",
       "    .dataframe tbody tr th:only-of-type {\n",
       "        vertical-align: middle;\n",
       "    }\n",
       "\n",
       "    .dataframe tbody tr th {\n",
       "        vertical-align: top;\n",
       "    }\n",
       "\n",
       "    .dataframe thead th {\n",
       "        text-align: right;\n",
       "    }\n",
       "</style>\n",
       "<table border=\"1\" class=\"dataframe\">\n",
       "  <thead>\n",
       "    <tr style=\"text-align: right;\">\n",
       "      <th></th>\n",
       "      <th>latitude</th>\n",
       "      <th>longitude</th>\n",
       "      <th>geometry</th>\n",
       "    </tr>\n",
       "  </thead>\n",
       "  <tbody>\n",
       "    <tr>\n",
       "      <th>0</th>\n",
       "      <td>44.560293</td>\n",
       "      <td>7.196442</td>\n",
       "      <td>POINT (7.19644 44.56029)</td>\n",
       "    </tr>\n",
       "    <tr>\n",
       "      <th>1</th>\n",
       "      <td>46.595971</td>\n",
       "      <td>6.797809</td>\n",
       "      <td>POINT (6.79781 46.59597)</td>\n",
       "    </tr>\n",
       "    <tr>\n",
       "      <th>2</th>\n",
       "      <td>44.443197</td>\n",
       "      <td>7.931607</td>\n",
       "      <td>POINT (7.93161 44.44320)</td>\n",
       "    </tr>\n",
       "    <tr>\n",
       "      <th>3</th>\n",
       "      <td>46.415057</td>\n",
       "      <td>8.258995</td>\n",
       "      <td>POINT (8.25900 46.41506)</td>\n",
       "    </tr>\n",
       "    <tr>\n",
       "      <th>4</th>\n",
       "      <td>44.263331</td>\n",
       "      <td>8.692100</td>\n",
       "      <td>POINT (8.69210 44.26333)</td>\n",
       "    </tr>\n",
       "  </tbody>\n",
       "</table>\n",
       "</div>"
      ],
      "text/plain": [
       "    latitude  longitude                  geometry\n",
       "0  44.560293   7.196442  POINT (7.19644 44.56029)\n",
       "1  46.595971   6.797809  POINT (6.79781 46.59597)\n",
       "2  44.443197   7.931607  POINT (7.93161 44.44320)\n",
       "3  46.415057   8.258995  POINT (8.25900 46.41506)\n",
       "4  44.263331   8.692100  POINT (8.69210 44.26333)"
      ]
     },
     "execution_count": 7,
     "metadata": {},
     "output_type": "execute_result"
    }
   ],
   "source": [
    "# Create a geometry column from lng & lat\n",
    "df['geometry'] = df.apply(lambda x: Point(float(x.longitude), float(x.latitude)), axis=1)\n",
    "\n",
    "# Create a GeoDataFrame from art and verify the type\n",
    "df_points = gpd.GeoDataFrame(df, crs = italia.crs, geometry = df.geometry)\n",
    "print(type(df_points))\n",
    "\n",
    "df_points.head()"
   ]
  },
  {
   "cell_type": "code",
   "execution_count": 8,
   "metadata": {},
   "outputs": [
    {
     "name": "stderr",
     "output_type": "stream",
     "text": [
      "/home/oecorrechag/.local/lib/python3.11/site-packages/IPython/core/interactiveshell.py:3448: FutureWarning: The `op` parameter is deprecated and will be removed in a future release. Please use the `predicate` parameter instead.\n",
      "  if await self.run_code(code, result, async_=asy):\n"
     ]
    },
    {
     "name": "stdout",
     "output_type": "stream",
     "text": [
      "(612382, 8)\n"
     ]
    }
   ],
   "source": [
    "df_italia = gpd.sjoin(df_points, italia, op = 'within')\n",
    "print(df_italia.shape)"
   ]
  },
  {
   "cell_type": "code",
   "execution_count": 9,
   "metadata": {},
   "outputs": [
    {
     "data": {
      "text/html": [
       "<div>\n",
       "<style scoped>\n",
       "    .dataframe tbody tr th:only-of-type {\n",
       "        vertical-align: middle;\n",
       "    }\n",
       "\n",
       "    .dataframe tbody tr th {\n",
       "        vertical-align: top;\n",
       "    }\n",
       "\n",
       "    .dataframe thead th {\n",
       "        text-align: right;\n",
       "    }\n",
       "</style>\n",
       "<table border=\"1\" class=\"dataframe\">\n",
       "  <thead>\n",
       "    <tr style=\"text-align: right;\">\n",
       "      <th></th>\n",
       "      <th>latitude</th>\n",
       "      <th>longitude</th>\n",
       "      <th>geometry</th>\n",
       "      <th>index_right</th>\n",
       "      <th>COD_RIP</th>\n",
       "      <th>DEN_RIP</th>\n",
       "      <th>Shape_Leng</th>\n",
       "      <th>Shape_Area</th>\n",
       "    </tr>\n",
       "  </thead>\n",
       "  <tbody>\n",
       "    <tr>\n",
       "      <th>0</th>\n",
       "      <td>44.560293</td>\n",
       "      <td>7.196442</td>\n",
       "      <td>POINT (7.19644 44.56029)</td>\n",
       "      <td>0</td>\n",
       "      <td>1</td>\n",
       "      <td>Nord-Ovest</td>\n",
       "      <td>2.330183e+06</td>\n",
       "      <td>5.792958e+10</td>\n",
       "    </tr>\n",
       "    <tr>\n",
       "      <th>2</th>\n",
       "      <td>44.443197</td>\n",
       "      <td>7.931607</td>\n",
       "      <td>POINT (7.93161 44.44320)</td>\n",
       "      <td>0</td>\n",
       "      <td>1</td>\n",
       "      <td>Nord-Ovest</td>\n",
       "      <td>2.330183e+06</td>\n",
       "      <td>5.792958e+10</td>\n",
       "    </tr>\n",
       "    <tr>\n",
       "      <th>6</th>\n",
       "      <td>44.353628</td>\n",
       "      <td>7.840122</td>\n",
       "      <td>POINT (7.84012 44.35363)</td>\n",
       "      <td>0</td>\n",
       "      <td>1</td>\n",
       "      <td>Nord-Ovest</td>\n",
       "      <td>2.330183e+06</td>\n",
       "      <td>5.792958e+10</td>\n",
       "    </tr>\n",
       "    <tr>\n",
       "      <th>7</th>\n",
       "      <td>44.654045</td>\n",
       "      <td>7.587566</td>\n",
       "      <td>POINT (7.58757 44.65405)</td>\n",
       "      <td>0</td>\n",
       "      <td>1</td>\n",
       "      <td>Nord-Ovest</td>\n",
       "      <td>2.330183e+06</td>\n",
       "      <td>5.792958e+10</td>\n",
       "    </tr>\n",
       "    <tr>\n",
       "      <th>9</th>\n",
       "      <td>45.352362</td>\n",
       "      <td>7.979367</td>\n",
       "      <td>POINT (7.97937 45.35236)</td>\n",
       "      <td>0</td>\n",
       "      <td>1</td>\n",
       "      <td>Nord-Ovest</td>\n",
       "      <td>2.330183e+06</td>\n",
       "      <td>5.792958e+10</td>\n",
       "    </tr>\n",
       "  </tbody>\n",
       "</table>\n",
       "</div>"
      ],
      "text/plain": [
       "    latitude  longitude                  geometry  index_right  COD_RIP  \\\n",
       "0  44.560293   7.196442  POINT (7.19644 44.56029)            0        1   \n",
       "2  44.443197   7.931607  POINT (7.93161 44.44320)            0        1   \n",
       "6  44.353628   7.840122  POINT (7.84012 44.35363)            0        1   \n",
       "7  44.654045   7.587566  POINT (7.58757 44.65405)            0        1   \n",
       "9  45.352362   7.979367  POINT (7.97937 45.35236)            0        1   \n",
       "\n",
       "      DEN_RIP    Shape_Leng    Shape_Area  \n",
       "0  Nord-Ovest  2.330183e+06  5.792958e+10  \n",
       "2  Nord-Ovest  2.330183e+06  5.792958e+10  \n",
       "6  Nord-Ovest  2.330183e+06  5.792958e+10  \n",
       "7  Nord-Ovest  2.330183e+06  5.792958e+10  \n",
       "9  Nord-Ovest  2.330183e+06  5.792958e+10  "
      ]
     },
     "execution_count": 9,
     "metadata": {},
     "output_type": "execute_result"
    }
   ],
   "source": [
    "# df_italia = df_italia[df_italia['DEN_RIP'] == 'Nord-Ovest']\n",
    "# df_italia.head()"
   ]
  },
  {
   "cell_type": "code",
   "execution_count": 10,
   "metadata": {},
   "outputs": [
    {
     "data": {
      "text/plain": [
       "(43.77943444589514, 46.631824373573004)"
      ]
     },
     "execution_count": 10,
     "metadata": {},
     "output_type": "execute_result"
    }
   ],
   "source": [
    "df_italia['latitude'].min(), df_italia['latitude'].max()"
   ]
  },
  {
   "cell_type": "code",
   "execution_count": 11,
   "metadata": {},
   "outputs": [
    {
     "data": {
      "text/plain": [
       "(6.631585445831979, 11.42294280863007)"
      ]
     },
     "execution_count": 11,
     "metadata": {},
     "output_type": "execute_result"
    }
   ],
   "source": [
    "df_italia['longitude'].min(), df_italia['longitude'].max()"
   ]
  },
  {
   "cell_type": "code",
   "execution_count": 12,
   "metadata": {},
   "outputs": [
    {
     "data": {
      "text/plain": [
       "array(['Nord-Ovest'], dtype=object)"
      ]
     },
     "execution_count": 12,
     "metadata": {},
     "output_type": "execute_result"
    }
   ],
   "source": [
    "df_italia['DEN_RIP'].unique()"
   ]
  },
  {
   "cell_type": "code",
   "execution_count": 13,
   "metadata": {},
   "outputs": [
    {
     "data": {
      "text/plain": [
       "DEN_RIP\n",
       "Nord-Ovest    376266\n",
       "Name: count, dtype: int64"
      ]
     },
     "execution_count": 13,
     "metadata": {},
     "output_type": "execute_result"
    }
   ],
   "source": [
    "df_italia['DEN_RIP'].value_counts()"
   ]
  },
  {
   "attachments": {},
   "cell_type": "markdown",
   "metadata": {},
   "source": [
    "# Agregar las ciudades"
   ]
  },
  {
   "cell_type": "code",
   "execution_count": null,
   "metadata": {},
   "outputs": [],
   "source": []
  },
  {
   "cell_type": "code",
   "execution_count": 14,
   "metadata": {},
   "outputs": [],
   "source": [
    "# # save\n",
    "# df.to_csv('data/df.csv', encoding = 'utf-8-sig', index = False)"
   ]
  },
  {
   "attachments": {},
   "cell_type": "markdown",
   "metadata": {},
   "source": [
    "# Generar los H3"
   ]
  },
  {
   "cell_type": "code",
   "execution_count": 15,
   "metadata": {},
   "outputs": [],
   "source": [
    "def get_h3_shape(row):\n",
    "    h = h3.geo_to_h3(row[\"latitude\"], row[\"longitude\"], 9)\n",
    "    return h\n",
    "\n",
    "def get_geometry(h) :\n",
    "    vertices = h3.h3_to_geo_boundary(h,  geo_json=True)\n",
    "    polygon = Polygon(vertices)\n",
    "    return polygon\n",
    "\n",
    "# def get_geometry(h) :\n",
    "#     h = h3.h3_to_geo_boundary(h, geo_json=True)\n",
    "#     return Polygon(h)"
   ]
  },
  {
   "cell_type": "code",
   "execution_count": 16,
   "metadata": {},
   "outputs": [
    {
     "data": {
      "text/html": [
       "<div>\n",
       "<style scoped>\n",
       "    .dataframe tbody tr th:only-of-type {\n",
       "        vertical-align: middle;\n",
       "    }\n",
       "\n",
       "    .dataframe tbody tr th {\n",
       "        vertical-align: top;\n",
       "    }\n",
       "\n",
       "    .dataframe thead th {\n",
       "        text-align: right;\n",
       "    }\n",
       "</style>\n",
       "<table border=\"1\" class=\"dataframe\">\n",
       "  <thead>\n",
       "    <tr style=\"text-align: right;\">\n",
       "      <th></th>\n",
       "      <th>latitude</th>\n",
       "      <th>longitude</th>\n",
       "      <th>geometry</th>\n",
       "      <th>index_right</th>\n",
       "      <th>COD_RIP</th>\n",
       "      <th>DEN_RIP</th>\n",
       "      <th>Shape_Leng</th>\n",
       "      <th>Shape_Area</th>\n",
       "      <th>h3</th>\n",
       "    </tr>\n",
       "  </thead>\n",
       "  <tbody>\n",
       "    <tr>\n",
       "      <th>0</th>\n",
       "      <td>44.560293</td>\n",
       "      <td>7.196442</td>\n",
       "      <td>POLYGON ((7.19431 44.55942, 7.19455 44.55764, ...</td>\n",
       "      <td>0</td>\n",
       "      <td>1</td>\n",
       "      <td>Nord-Ovest</td>\n",
       "      <td>2.330183e+06</td>\n",
       "      <td>5.792958e+10</td>\n",
       "      <td>891f9a89a3bffff</td>\n",
       "    </tr>\n",
       "    <tr>\n",
       "      <th>2</th>\n",
       "      <td>44.443197</td>\n",
       "      <td>7.931607</td>\n",
       "      <td>POLYGON ((7.92737 44.44378, 7.92760 44.44200, ...</td>\n",
       "      <td>0</td>\n",
       "      <td>1</td>\n",
       "      <td>Nord-Ovest</td>\n",
       "      <td>2.330183e+06</td>\n",
       "      <td>5.792958e+10</td>\n",
       "      <td>891f9a3089bffff</td>\n",
       "    </tr>\n",
       "    <tr>\n",
       "      <th>6</th>\n",
       "      <td>44.353628</td>\n",
       "      <td>7.840122</td>\n",
       "      <td>POLYGON ((7.83864 44.35554, 7.83887 44.35376, ...</td>\n",
       "      <td>0</td>\n",
       "      <td>1</td>\n",
       "      <td>Nord-Ovest</td>\n",
       "      <td>2.330183e+06</td>\n",
       "      <td>5.792958e+10</td>\n",
       "      <td>891f9a3a9d3ffff</td>\n",
       "    </tr>\n",
       "    <tr>\n",
       "      <th>7</th>\n",
       "      <td>44.654045</td>\n",
       "      <td>7.587566</td>\n",
       "      <td>POLYGON ((7.58385 44.65493, 7.58409 44.65315, ...</td>\n",
       "      <td>0</td>\n",
       "      <td>1</td>\n",
       "      <td>Nord-Ovest</td>\n",
       "      <td>2.330183e+06</td>\n",
       "      <td>5.792958e+10</td>\n",
       "      <td>891f9ab824bffff</td>\n",
       "    </tr>\n",
       "    <tr>\n",
       "      <th>9</th>\n",
       "      <td>45.352362</td>\n",
       "      <td>7.979367</td>\n",
       "      <td>POLYGON ((7.97821 45.35287, 7.97844 45.35111, ...</td>\n",
       "      <td>0</td>\n",
       "      <td>1</td>\n",
       "      <td>Nord-Ovest</td>\n",
       "      <td>2.330183e+06</td>\n",
       "      <td>5.792958e+10</td>\n",
       "      <td>891f98016bbffff</td>\n",
       "    </tr>\n",
       "  </tbody>\n",
       "</table>\n",
       "</div>"
      ],
      "text/plain": [
       "    latitude  longitude                                           geometry  \\\n",
       "0  44.560293   7.196442  POLYGON ((7.19431 44.55942, 7.19455 44.55764, ...   \n",
       "2  44.443197   7.931607  POLYGON ((7.92737 44.44378, 7.92760 44.44200, ...   \n",
       "6  44.353628   7.840122  POLYGON ((7.83864 44.35554, 7.83887 44.35376, ...   \n",
       "7  44.654045   7.587566  POLYGON ((7.58385 44.65493, 7.58409 44.65315, ...   \n",
       "9  45.352362   7.979367  POLYGON ((7.97821 45.35287, 7.97844 45.35111, ...   \n",
       "\n",
       "   index_right  COD_RIP     DEN_RIP    Shape_Leng    Shape_Area  \\\n",
       "0            0        1  Nord-Ovest  2.330183e+06  5.792958e+10   \n",
       "2            0        1  Nord-Ovest  2.330183e+06  5.792958e+10   \n",
       "6            0        1  Nord-Ovest  2.330183e+06  5.792958e+10   \n",
       "7            0        1  Nord-Ovest  2.330183e+06  5.792958e+10   \n",
       "9            0        1  Nord-Ovest  2.330183e+06  5.792958e+10   \n",
       "\n",
       "                h3  \n",
       "0  891f9a89a3bffff  \n",
       "2  891f9a3089bffff  \n",
       "6  891f9a3a9d3ffff  \n",
       "7  891f9ab824bffff  \n",
       "9  891f98016bbffff  "
      ]
     },
     "execution_count": 16,
     "metadata": {},
     "output_type": "execute_result"
    }
   ],
   "source": [
    "df_italia[\"h3\"] = df_italia.apply(get_h3_shape, axis=1)\n",
    "df_italia[\"geometry\"] = df_italia[\"h3\"].apply(get_geometry)\n",
    "df_italia.head()"
   ]
  },
  {
   "cell_type": "code",
   "execution_count": null,
   "metadata": {},
   "outputs": [],
   "source": []
  },
  {
   "cell_type": "code",
   "execution_count": null,
   "metadata": {},
   "outputs": [],
   "source": []
  },
  {
   "cell_type": "code",
   "execution_count": 31,
   "metadata": {},
   "outputs": [
    {
     "name": "stdout",
     "output_type": "stream",
     "text": [
      "<class 'geopandas.geodataframe.GeoDataFrame'>\n"
     ]
    },
    {
     "data": {
      "text/html": [
       "<div>\n",
       "<style scoped>\n",
       "    .dataframe tbody tr th:only-of-type {\n",
       "        vertical-align: middle;\n",
       "    }\n",
       "\n",
       "    .dataframe tbody tr th {\n",
       "        vertical-align: top;\n",
       "    }\n",
       "\n",
       "    .dataframe thead th {\n",
       "        text-align: right;\n",
       "    }\n",
       "</style>\n",
       "<table border=\"1\" class=\"dataframe\">\n",
       "  <thead>\n",
       "    <tr style=\"text-align: right;\">\n",
       "      <th></th>\n",
       "      <th>geometry</th>\n",
       "      <th>h3</th>\n",
       "      <th>COD_RIP</th>\n",
       "    </tr>\n",
       "  </thead>\n",
       "  <tbody>\n",
       "    <tr>\n",
       "      <th>1</th>\n",
       "      <td>POLYGON ((8.70271 45.72135, 8.70293 45.71959, ...</td>\n",
       "      <td>891f98a4027ffff</td>\n",
       "      <td>1</td>\n",
       "    </tr>\n",
       "    <tr>\n",
       "      <th>24</th>\n",
       "      <td>POLYGON ((9.33777 45.41386, 9.33797 45.41208, ...</td>\n",
       "      <td>891f9956aafffff</td>\n",
       "      <td>1</td>\n",
       "    </tr>\n",
       "    <tr>\n",
       "      <th>36</th>\n",
       "      <td>POLYGON ((9.10932 44.97942, 9.10952 44.97764, ...</td>\n",
       "      <td>891f9bb32d3ffff</td>\n",
       "      <td>1</td>\n",
       "    </tr>\n",
       "    <tr>\n",
       "      <th>41</th>\n",
       "      <td>POLYGON ((7.02920 45.89853, 7.02945 45.89679, ...</td>\n",
       "      <td>891f9c45d13ffff</td>\n",
       "      <td>1</td>\n",
       "    </tr>\n",
       "    <tr>\n",
       "      <th>46</th>\n",
       "      <td>POLYGON ((8.96436 44.73538, 8.96456 44.73360, ...</td>\n",
       "      <td>891f9b17517ffff</td>\n",
       "      <td>1</td>\n",
       "    </tr>\n",
       "  </tbody>\n",
       "</table>\n",
       "</div>"
      ],
      "text/plain": [
       "                                             geometry               h3  \\\n",
       "1   POLYGON ((8.70271 45.72135, 8.70293 45.71959, ...  891f98a4027ffff   \n",
       "24  POLYGON ((9.33777 45.41386, 9.33797 45.41208, ...  891f9956aafffff   \n",
       "36  POLYGON ((9.10932 44.97942, 9.10952 44.97764, ...  891f9bb32d3ffff   \n",
       "41  POLYGON ((7.02920 45.89853, 7.02945 45.89679, ...  891f9c45d13ffff   \n",
       "46  POLYGON ((8.96436 44.73538, 8.96456 44.73360, ...  891f9b17517ffff   \n",
       "\n",
       "    COD_RIP  \n",
       "1         1  \n",
       "24        1  \n",
       "36        1  \n",
       "41        1  \n",
       "46        1  "
      ]
     },
     "execution_count": 31,
     "metadata": {},
     "output_type": "execute_result"
    }
   ],
   "source": [
    "df_italia = gpd.GeoDataFrame(df_italia, crs = italia.crs, geometry = df_italia.geometry)\n",
    "df_italia = df_italia.loc[:,['geometry', 'h3', 'COD_RIP']]\n",
    "print(type(df_italia))\n",
    "df_italia.head()"
   ]
  },
  {
   "cell_type": "code",
   "execution_count": 32,
   "metadata": {},
   "outputs": [],
   "source": [
    "# save\n",
    "df_italia.to_file('data/df_italia.geojson', driver='GeoJSON')  "
   ]
  },
  {
   "cell_type": "code",
   "execution_count": null,
   "metadata": {},
   "outputs": [],
   "source": []
  },
  {
   "cell_type": "code",
   "execution_count": null,
   "metadata": {},
   "outputs": [],
   "source": []
  },
  {
   "cell_type": "code",
   "execution_count": null,
   "metadata": {},
   "outputs": [],
   "source": []
  },
  {
   "cell_type": "code",
   "execution_count": null,
   "metadata": {},
   "outputs": [],
   "source": []
  },
  {
   "cell_type": "code",
   "execution_count": null,
   "metadata": {},
   "outputs": [],
   "source": []
  },
  {
   "cell_type": "code",
   "execution_count": null,
   "metadata": {},
   "outputs": [],
   "source": [
    "with open('data/df_italia2.geojson', 'r') as infile:\n",
    "    geo_json = json.load(infile)"
   ]
  },
  {
   "cell_type": "code",
   "execution_count": null,
   "metadata": {},
   "outputs": [],
   "source": [
    "geo_json"
   ]
  },
  {
   "cell_type": "code",
   "execution_count": null,
   "metadata": {},
   "outputs": [],
   "source": [
    "fig = px.choropleth(df_italia2, geojson=geo_json, locations='COD_RIP', color='COD_RIP',\n",
    "                           color_continuous_scale=\"Viridis\",\n",
    "                           range_color=(0, 12),\n",
    "                        #    scope=\"usa\",\n",
    "                           labels={'unemp':'unemployment rate'}\n",
    "                          )\n",
    "fig.update_layout(margin={\"r\":0,\"t\":0,\"l\":0,\"b\":0})\n",
    "fig.show()"
   ]
  },
  {
   "cell_type": "code",
   "execution_count": null,
   "metadata": {},
   "outputs": [],
   "source": [
    "df_italia['DEN_RIP'].unique()"
   ]
  },
  {
   "cell_type": "code",
   "execution_count": null,
   "metadata": {},
   "outputs": [],
   "source": []
  },
  {
   "cell_type": "code",
   "execution_count": null,
   "metadata": {},
   "outputs": [],
   "source": []
  },
  {
   "cell_type": "code",
   "execution_count": null,
   "metadata": {},
   "outputs": [],
   "source": [
    "type(df_italia)"
   ]
  },
  {
   "cell_type": "code",
   "execution_count": null,
   "metadata": {},
   "outputs": [],
   "source": [
    "import pyproj"
   ]
  },
  {
   "cell_type": "code",
   "execution_count": null,
   "metadata": {},
   "outputs": [],
   "source": [
    "df_italia.to_crs(pyproj.CRS.from_epsg(4326), inplace=True)"
   ]
  },
  {
   "cell_type": "code",
   "execution_count": null,
   "metadata": {},
   "outputs": [],
   "source": [
    "df_italia.head()"
   ]
  },
  {
   "cell_type": "code",
   "execution_count": null,
   "metadata": {},
   "outputs": [],
   "source": [
    "\n",
    "fig = (\n",
    "    px.scatter_mapbox(\n",
    "        df_italia,\n",
    "        lat=\"latitude\",\n",
    "        lon=\"longitude\",\n",
    "        color=\"COD_RIP\",\n",
    "        hover_data=[\"COD_RIP\", \"DEN_RIP\"],\n",
    "    )\n",
    "    .update_traces(marker={\"size\": 10})\n",
    "    .update_layout(\n",
    "        mapbox={\n",
    "            \"style\": \"open-street-map\",\n",
    "            \"zoom\": 5,\n",
    "            \"layers\": [\n",
    "                {\n",
    "                    \"source\": json.loads(df_italia.geometry2.to_json()),\n",
    "                    \"below\": \"traces\",\n",
    "                    \"type\": \"line\",\n",
    "                    \"color\": \"purple\",\n",
    "                    \"line\": {\"width\": 1.5},\n",
    "                }\n",
    "            ],\n",
    "        },\n",
    "        margin={\"l\": 0, \"r\": 0, \"t\": 0, \"b\": 0},\n",
    "    )\n",
    ")\n",
    "fig.show()"
   ]
  },
  {
   "cell_type": "code",
   "execution_count": null,
   "metadata": {},
   "outputs": [],
   "source": []
  },
  {
   "cell_type": "code",
   "execution_count": null,
   "metadata": {},
   "outputs": [],
   "source": []
  },
  {
   "cell_type": "code",
   "execution_count": null,
   "metadata": {},
   "outputs": [],
   "source": []
  },
  {
   "cell_type": "code",
   "execution_count": null,
   "metadata": {},
   "outputs": [],
   "source": [
    "print('Ok_')"
   ]
  }
 ],
 "metadata": {
  "kernelspec": {
   "display_name": "Python 3",
   "language": "python",
   "name": "python3"
  },
  "language_info": {
   "codemirror_mode": {
    "name": "ipython",
    "version": 3
   },
   "file_extension": ".py",
   "mimetype": "text/x-python",
   "name": "python",
   "nbconvert_exporter": "python",
   "pygments_lexer": "ipython3",
   "version": "3.11.4"
  },
  "orig_nbformat": 4
 },
 "nbformat": 4,
 "nbformat_minor": 2
}
