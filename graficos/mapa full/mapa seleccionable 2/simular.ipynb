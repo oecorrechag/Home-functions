{
 "cells": [
  {
   "cell_type": "code",
   "execution_count": 1,
   "metadata": {},
   "outputs": [],
   "source": [
    "import pandas as pd\n",
    "import random\n",
    "\n",
    "import geopandas as gpd \n",
    "from shapely.geometry import Point, Polygon\n",
    "import h3\n",
    "\n",
    "import plotly.express as px\n",
    "\n",
    "import json"
   ]
  },
  {
   "cell_type": "code",
   "execution_count": 2,
   "metadata": {},
   "outputs": [],
   "source": [
    "data = pd.DataFrame(columns=['Latitude', 'Longitude'])"
   ]
  },
  {
   "cell_type": "code",
   "execution_count": 3,
   "metadata": {},
   "outputs": [],
   "source": [
    "min_latitude = 43.5\n",
    "max_latitude = 47.1\n",
    "min_longitude = 6.6\n",
    "max_longitude = 11.5"
   ]
  },
  {
   "cell_type": "code",
   "execution_count": 4,
   "metadata": {},
   "outputs": [],
   "source": [
    "num_points = 1000000  # Cantidad de puntos a generar\n",
    "\n",
    "lat = []\n",
    "long = []\n",
    "\n",
    "for _ in range(num_points):\n",
    "    latitude = random.uniform(min_latitude, max_latitude)\n",
    "    longitude = random.uniform(min_longitude, max_longitude)\n",
    "    \n",
    "    lat.append(latitude)\n",
    "    long.append(longitude)"
   ]
  },
  {
   "cell_type": "code",
   "execution_count": 5,
   "metadata": {},
   "outputs": [],
   "source": [
    "df = pd.DataFrame(list(zip(lat, long)),\n",
    "               columns =['latitude', 'longitude'])"
   ]
  },
  {
   "cell_type": "code",
   "execution_count": 6,
   "metadata": {},
   "outputs": [
    {
     "data": {
      "text/html": [
       "<div>\n",
       "<style scoped>\n",
       "    .dataframe tbody tr th:only-of-type {\n",
       "        vertical-align: middle;\n",
       "    }\n",
       "\n",
       "    .dataframe tbody tr th {\n",
       "        vertical-align: top;\n",
       "    }\n",
       "\n",
       "    .dataframe thead th {\n",
       "        text-align: right;\n",
       "    }\n",
       "</style>\n",
       "<table border=\"1\" class=\"dataframe\">\n",
       "  <thead>\n",
       "    <tr style=\"text-align: right;\">\n",
       "      <th></th>\n",
       "      <th>geometry</th>\n",
       "      <th>COD_UTS</th>\n",
       "      <th>DEN_UTS</th>\n",
       "    </tr>\n",
       "  </thead>\n",
       "  <tbody>\n",
       "    <tr>\n",
       "      <th>0</th>\n",
       "      <td>POLYGON ((7.85904 45.59758, 7.86228 45.59699, ...</td>\n",
       "      <td>201</td>\n",
       "      <td>Torino</td>\n",
       "    </tr>\n",
       "    <tr>\n",
       "      <th>1</th>\n",
       "      <td>POLYGON ((8.20447 45.93567, 8.21365 45.92490, ...</td>\n",
       "      <td>2</td>\n",
       "      <td>Vercelli</td>\n",
       "    </tr>\n",
       "    <tr>\n",
       "      <th>2</th>\n",
       "      <td>POLYGON ((8.49688 45.83934, 8.49996 45.83402, ...</td>\n",
       "      <td>3</td>\n",
       "      <td>Novara</td>\n",
       "    </tr>\n",
       "    <tr>\n",
       "      <th>3</th>\n",
       "      <td>MULTIPOLYGON (((7.46667 44.77289, 7.46997 44.7...</td>\n",
       "      <td>4</td>\n",
       "      <td>Cuneo</td>\n",
       "    </tr>\n",
       "    <tr>\n",
       "      <th>4</th>\n",
       "      <td>POLYGON ((8.04681 45.12815, 8.04572 45.12300, ...</td>\n",
       "      <td>5</td>\n",
       "      <td>Asti</td>\n",
       "    </tr>\n",
       "  </tbody>\n",
       "</table>\n",
       "</div>"
      ],
      "text/plain": [
       "                                            geometry  COD_UTS   DEN_UTS\n",
       "0  POLYGON ((7.85904 45.59758, 7.86228 45.59699, ...      201    Torino\n",
       "1  POLYGON ((8.20447 45.93567, 8.21365 45.92490, ...        2  Vercelli\n",
       "2  POLYGON ((8.49688 45.83934, 8.49996 45.83402, ...        3    Novara\n",
       "3  MULTIPOLYGON (((7.46667 44.77289, 7.46997 44.7...        4     Cuneo\n",
       "4  POLYGON ((8.04681 45.12815, 8.04572 45.12300, ...        5      Asti"
      ]
     },
     "execution_count": 6,
     "metadata": {},
     "output_type": "execute_result"
    }
   ],
   "source": [
    "italia = gpd.read_file(\"data/ProvCM01012023_g_WGS84.shp\")\n",
    "italia = italia.loc[:,['geometry','COD_UTS','DEN_UTS']]\n",
    "italia.geometry = italia.geometry.to_crs(epsg = 4326)\n",
    "italia.head()"
   ]
  },
  {
   "cell_type": "code",
   "execution_count": 7,
   "metadata": {},
   "outputs": [
    {
     "name": "stdout",
     "output_type": "stream",
     "text": [
      "<class 'geopandas.geodataframe.GeoDataFrame'>\n"
     ]
    },
    {
     "data": {
      "text/html": [
       "<div>\n",
       "<style scoped>\n",
       "    .dataframe tbody tr th:only-of-type {\n",
       "        vertical-align: middle;\n",
       "    }\n",
       "\n",
       "    .dataframe tbody tr th {\n",
       "        vertical-align: top;\n",
       "    }\n",
       "\n",
       "    .dataframe thead th {\n",
       "        text-align: right;\n",
       "    }\n",
       "</style>\n",
       "<table border=\"1\" class=\"dataframe\">\n",
       "  <thead>\n",
       "    <tr style=\"text-align: right;\">\n",
       "      <th></th>\n",
       "      <th>latitude</th>\n",
       "      <th>longitude</th>\n",
       "      <th>geometry</th>\n",
       "    </tr>\n",
       "  </thead>\n",
       "  <tbody>\n",
       "    <tr>\n",
       "      <th>0</th>\n",
       "      <td>44.930258</td>\n",
       "      <td>8.203329</td>\n",
       "      <td>POINT (8.20333 44.93026)</td>\n",
       "    </tr>\n",
       "    <tr>\n",
       "      <th>1</th>\n",
       "      <td>46.295594</td>\n",
       "      <td>7.894834</td>\n",
       "      <td>POINT (7.89483 46.29559)</td>\n",
       "    </tr>\n",
       "    <tr>\n",
       "      <th>2</th>\n",
       "      <td>44.153144</td>\n",
       "      <td>9.237340</td>\n",
       "      <td>POINT (9.23734 44.15314)</td>\n",
       "    </tr>\n",
       "    <tr>\n",
       "      <th>3</th>\n",
       "      <td>46.505900</td>\n",
       "      <td>9.991903</td>\n",
       "      <td>POINT (9.99190 46.50590)</td>\n",
       "    </tr>\n",
       "    <tr>\n",
       "      <th>4</th>\n",
       "      <td>45.779005</td>\n",
       "      <td>7.744820</td>\n",
       "      <td>POINT (7.74482 45.77901)</td>\n",
       "    </tr>\n",
       "  </tbody>\n",
       "</table>\n",
       "</div>"
      ],
      "text/plain": [
       "    latitude  longitude                  geometry\n",
       "0  44.930258   8.203329  POINT (8.20333 44.93026)\n",
       "1  46.295594   7.894834  POINT (7.89483 46.29559)\n",
       "2  44.153144   9.237340  POINT (9.23734 44.15314)\n",
       "3  46.505900   9.991903  POINT (9.99190 46.50590)\n",
       "4  45.779005   7.744820  POINT (7.74482 45.77901)"
      ]
     },
     "execution_count": 7,
     "metadata": {},
     "output_type": "execute_result"
    }
   ],
   "source": [
    "# Create a geometry column from lng & lat\n",
    "df['geometry'] = df.apply(lambda x: Point(float(x.longitude), float(x.latitude)), axis=1)\n",
    "\n",
    "# Create a GeoDataFrame from art and verify the type\n",
    "df_points = gpd.GeoDataFrame(df, crs = italia.crs, geometry = df.geometry)\n",
    "print(type(df_points))\n",
    "\n",
    "df_points.head()"
   ]
  },
  {
   "cell_type": "code",
   "execution_count": 8,
   "metadata": {},
   "outputs": [
    {
     "name": "stderr",
     "output_type": "stream",
     "text": [
      "/home/oecorrechag/.local/lib/python3.11/site-packages/IPython/core/interactiveshell.py:3448: FutureWarning: The `op` parameter is deprecated and will be removed in a future release. Please use the `predicate` parameter instead.\n",
      "  if await self.run_code(code, result, async_=asy):\n"
     ]
    },
    {
     "name": "stdout",
     "output_type": "stream",
     "text": [
      "(613095, 5)\n"
     ]
    }
   ],
   "source": [
    "df_italia = gpd.sjoin(df_points, italia, op = 'within')\n",
    "df_italia.drop(['index_right'], axis=1, inplace=True)\n",
    "print(df_italia.shape)"
   ]
  },
  {
   "cell_type": "code",
   "execution_count": 9,
   "metadata": {},
   "outputs": [],
   "source": [
    "# df_italia = df_italia[df_italia['DEN_RIP'] == 'Nord-Ovest']\n",
    "# df_italia.head()"
   ]
  },
  {
   "cell_type": "code",
   "execution_count": 10,
   "metadata": {},
   "outputs": [
    {
     "data": {
      "text/plain": [
       "(43.50000925673767, 47.00979075076456)"
      ]
     },
     "execution_count": 10,
     "metadata": {},
     "output_type": "execute_result"
    }
   ],
   "source": [
    "df_italia['latitude'].min(), df_italia['latitude'].max()"
   ]
  },
  {
   "cell_type": "code",
   "execution_count": 11,
   "metadata": {},
   "outputs": [
    {
     "data": {
      "text/plain": [
       "(6.6280175101423, 11.499993426914166)"
      ]
     },
     "execution_count": 11,
     "metadata": {},
     "output_type": "execute_result"
    }
   ],
   "source": [
    "df_italia['longitude'].min(), df_italia['longitude'].max()"
   ]
  },
  {
   "cell_type": "code",
   "execution_count": 14,
   "metadata": {},
   "outputs": [
    {
     "data": {
      "text/html": [
       "<div>\n",
       "<style scoped>\n",
       "    .dataframe tbody tr th:only-of-type {\n",
       "        vertical-align: middle;\n",
       "    }\n",
       "\n",
       "    .dataframe tbody tr th {\n",
       "        vertical-align: top;\n",
       "    }\n",
       "\n",
       "    .dataframe thead th {\n",
       "        text-align: right;\n",
       "    }\n",
       "</style>\n",
       "<table border=\"1\" class=\"dataframe\">\n",
       "  <thead>\n",
       "    <tr style=\"text-align: right;\">\n",
       "      <th></th>\n",
       "      <th>latitude</th>\n",
       "      <th>longitude</th>\n",
       "      <th>DEN_UTS</th>\n",
       "      <th>COD_UTS</th>\n",
       "    </tr>\n",
       "  </thead>\n",
       "  <tbody>\n",
       "    <tr>\n",
       "      <th>0</th>\n",
       "      <td>44.930258</td>\n",
       "      <td>8.203329</td>\n",
       "      <td>Asti</td>\n",
       "      <td>5</td>\n",
       "    </tr>\n",
       "    <tr>\n",
       "      <th>91</th>\n",
       "      <td>44.945503</td>\n",
       "      <td>8.269372</td>\n",
       "      <td>Asti</td>\n",
       "      <td>5</td>\n",
       "    </tr>\n",
       "    <tr>\n",
       "      <th>196</th>\n",
       "      <td>44.972304</td>\n",
       "      <td>8.096594</td>\n",
       "      <td>Asti</td>\n",
       "      <td>5</td>\n",
       "    </tr>\n",
       "    <tr>\n",
       "      <th>204</th>\n",
       "      <td>44.831389</td>\n",
       "      <td>8.240147</td>\n",
       "      <td>Asti</td>\n",
       "      <td>5</td>\n",
       "    </tr>\n",
       "    <tr>\n",
       "      <th>447</th>\n",
       "      <td>44.838099</td>\n",
       "      <td>8.377956</td>\n",
       "      <td>Asti</td>\n",
       "      <td>5</td>\n",
       "    </tr>\n",
       "  </tbody>\n",
       "</table>\n",
       "</div>"
      ],
      "text/plain": [
       "      latitude  longitude DEN_UTS  COD_UTS\n",
       "0    44.930258   8.203329    Asti        5\n",
       "91   44.945503   8.269372    Asti        5\n",
       "196  44.972304   8.096594    Asti        5\n",
       "204  44.831389   8.240147    Asti        5\n",
       "447  44.838099   8.377956    Asti        5"
      ]
     },
     "execution_count": 14,
     "metadata": {},
     "output_type": "execute_result"
    }
   ],
   "source": [
    "df_punticos = df_italia.copy()\n",
    "df_punticos = df_punticos.loc[:,['latitude','longitude','DEN_UTS','COD_UTS']]\n",
    "df_punticos.head()"
   ]
  },
  {
   "cell_type": "code",
   "execution_count": 15,
   "metadata": {},
   "outputs": [],
   "source": [
    "df_punticos.to_csv('data/df_punticos.csv', encoding = 'utf-8-sig', index = False)"
   ]
  },
  {
   "attachments": {},
   "cell_type": "markdown",
   "metadata": {},
   "source": [
    "# Agregar las ciudades"
   ]
  },
  {
   "cell_type": "code",
   "execution_count": 16,
   "metadata": {},
   "outputs": [],
   "source": [
    "# it = pd.read_csv('data/it.csv', sep = ',', decimal = '.', header = 0, encoding = 'utf-8')\n",
    "# it = it.loc[:,['lat','lng','city','population']]\n",
    "\n",
    "# # Create a geometry column from lng & lat\n",
    "# it['geometry'] = it.apply(lambda x: Point(float(x.lng), float(x.lat)), axis=1)\n",
    "\n",
    "# # Create a GeoDataFrame from art and verify the type\n",
    "# df_it = gpd.GeoDataFrame(it, crs = italia.crs, geometry = it.geometry)\n",
    "# df_it = df_it.loc[:,['geometry','city','population']]\n",
    "# print(type(df_it))\n",
    "\n",
    "# df_it.head(20)"
   ]
  },
  {
   "cell_type": "code",
   "execution_count": 17,
   "metadata": {},
   "outputs": [],
   "source": [
    "# df_italia.head()"
   ]
  },
  {
   "cell_type": "code",
   "execution_count": 18,
   "metadata": {},
   "outputs": [],
   "source": [
    "# print(df_italia.shape)\n",
    "# df_italia = gpd.sjoin(df_it, df_italia, op = 'within')\n",
    "# print(df_italia.shape)"
   ]
  },
  {
   "cell_type": "code",
   "execution_count": 19,
   "metadata": {},
   "outputs": [],
   "source": [
    "# # save\n",
    "# df.to_csv('data/df.csv', encoding = 'utf-8-sig', index = False)"
   ]
  },
  {
   "attachments": {},
   "cell_type": "markdown",
   "metadata": {},
   "source": [
    "# Generar los H3"
   ]
  },
  {
   "cell_type": "code",
   "execution_count": 20,
   "metadata": {},
   "outputs": [],
   "source": [
    "def get_h3_shape(row):\n",
    "    h = h3.geo_to_h3(row[\"latitude\"], row[\"longitude\"], 7)\n",
    "    return h\n",
    "\n",
    "def get_geometry(h) :\n",
    "    vertices = h3.h3_to_geo_boundary(h,  geo_json=True)\n",
    "    polygon = Polygon(vertices)\n",
    "    return polygon\n",
    "\n",
    "# def get_geometry(h) :\n",
    "#     h = h3.h3_to_geo_boundary(h, geo_json=True)\n",
    "#     return Polygon(h)"
   ]
  },
  {
   "cell_type": "code",
   "execution_count": 21,
   "metadata": {},
   "outputs": [
    {
     "data": {
      "text/html": [
       "<div>\n",
       "<style scoped>\n",
       "    .dataframe tbody tr th:only-of-type {\n",
       "        vertical-align: middle;\n",
       "    }\n",
       "\n",
       "    .dataframe tbody tr th {\n",
       "        vertical-align: top;\n",
       "    }\n",
       "\n",
       "    .dataframe thead th {\n",
       "        text-align: right;\n",
       "    }\n",
       "</style>\n",
       "<table border=\"1\" class=\"dataframe\">\n",
       "  <thead>\n",
       "    <tr style=\"text-align: right;\">\n",
       "      <th></th>\n",
       "      <th>latitude</th>\n",
       "      <th>longitude</th>\n",
       "      <th>geometry</th>\n",
       "      <th>COD_UTS</th>\n",
       "      <th>DEN_UTS</th>\n",
       "      <th>h3</th>\n",
       "    </tr>\n",
       "  </thead>\n",
       "  <tbody>\n",
       "    <tr>\n",
       "      <th>0</th>\n",
       "      <td>44.930258</td>\n",
       "      <td>8.203329</td>\n",
       "      <td>POLYGON ((8.18576 44.94187, 8.18733 44.92945, ...</td>\n",
       "      <td>5</td>\n",
       "      <td>Asti</td>\n",
       "      <td>871f986adffffff</td>\n",
       "    </tr>\n",
       "    <tr>\n",
       "      <th>91</th>\n",
       "      <td>44.945503</td>\n",
       "      <td>8.269372</td>\n",
       "      <td>POLYGON ((8.24772 44.94843, 8.24927 44.93601, ...</td>\n",
       "      <td>5</td>\n",
       "      <td>Asti</td>\n",
       "      <td>871f9861bffffff</td>\n",
       "    </tr>\n",
       "    <tr>\n",
       "      <th>196</th>\n",
       "      <td>44.972304</td>\n",
       "      <td>8.096594</td>\n",
       "      <td>POLYGON ((8.08816 44.96921, 8.08974 44.95679, ...</td>\n",
       "      <td>5</td>\n",
       "      <td>Asti</td>\n",
       "      <td>871f9878bffffff</td>\n",
       "    </tr>\n",
       "    <tr>\n",
       "      <th>204</th>\n",
       "      <td>44.831389</td>\n",
       "      <td>8.240147</td>\n",
       "      <td>POLYGON ((8.23076 44.83329, 8.23232 44.82085, ...</td>\n",
       "      <td>5</td>\n",
       "      <td>Asti</td>\n",
       "      <td>871f9bd25ffffff</td>\n",
       "    </tr>\n",
       "    <tr>\n",
       "      <th>447</th>\n",
       "      <td>44.838099</td>\n",
       "      <td>8.377956</td>\n",
       "      <td>POLYGON ((8.35458 44.84632, 8.35612 44.83387, ...</td>\n",
       "      <td>5</td>\n",
       "      <td>Asti</td>\n",
       "      <td>871f986d8ffffff</td>\n",
       "    </tr>\n",
       "  </tbody>\n",
       "</table>\n",
       "</div>"
      ],
      "text/plain": [
       "      latitude  longitude                                           geometry  \\\n",
       "0    44.930258   8.203329  POLYGON ((8.18576 44.94187, 8.18733 44.92945, ...   \n",
       "91   44.945503   8.269372  POLYGON ((8.24772 44.94843, 8.24927 44.93601, ...   \n",
       "196  44.972304   8.096594  POLYGON ((8.08816 44.96921, 8.08974 44.95679, ...   \n",
       "204  44.831389   8.240147  POLYGON ((8.23076 44.83329, 8.23232 44.82085, ...   \n",
       "447  44.838099   8.377956  POLYGON ((8.35458 44.84632, 8.35612 44.83387, ...   \n",
       "\n",
       "     COD_UTS DEN_UTS               h3  \n",
       "0          5    Asti  871f986adffffff  \n",
       "91         5    Asti  871f9861bffffff  \n",
       "196        5    Asti  871f9878bffffff  \n",
       "204        5    Asti  871f9bd25ffffff  \n",
       "447        5    Asti  871f986d8ffffff  "
      ]
     },
     "execution_count": 21,
     "metadata": {},
     "output_type": "execute_result"
    }
   ],
   "source": [
    "df_italia[\"h3\"] = df_italia.apply(get_h3_shape, axis=1)\n",
    "df_italia[\"geometry\"] = df_italia[\"h3\"].apply(get_geometry)\n",
    "df_italia.head()"
   ]
  },
  {
   "cell_type": "code",
   "execution_count": 22,
   "metadata": {},
   "outputs": [
    {
     "data": {
      "text/plain": [
       "geopandas.geodataframe.GeoDataFrame"
      ]
     },
     "execution_count": 22,
     "metadata": {},
     "output_type": "execute_result"
    }
   ],
   "source": [
    "type(df_italia)"
   ]
  },
  {
   "attachments": {},
   "cell_type": "markdown",
   "metadata": {},
   "source": [
    "# Agrupar los poligonos"
   ]
  },
  {
   "cell_type": "code",
   "execution_count": 23,
   "metadata": {},
   "outputs": [
    {
     "name": "stdout",
     "output_type": "stream",
     "text": [
      "(613095, 5)\n",
      "(20889, 5)\n"
     ]
    },
    {
     "data": {
      "text/html": [
       "<div>\n",
       "<style scoped>\n",
       "    .dataframe tbody tr th:only-of-type {\n",
       "        vertical-align: middle;\n",
       "    }\n",
       "\n",
       "    .dataframe tbody tr th {\n",
       "        vertical-align: top;\n",
       "    }\n",
       "\n",
       "    .dataframe thead th {\n",
       "        text-align: right;\n",
       "    }\n",
       "</style>\n",
       "<table border=\"1\" class=\"dataframe\">\n",
       "  <thead>\n",
       "    <tr style=\"text-align: right;\">\n",
       "      <th></th>\n",
       "      <th>h3</th>\n",
       "      <th>geometry</th>\n",
       "      <th>COD_UTS</th>\n",
       "      <th>DEN_UTS</th>\n",
       "      <th>count</th>\n",
       "    </tr>\n",
       "  </thead>\n",
       "  <tbody>\n",
       "    <tr>\n",
       "      <th>0</th>\n",
       "      <td>871ea0412ffffff</td>\n",
       "      <td>POLYGON ((11.49877 44.46552, 11.49983 44.45289...</td>\n",
       "      <td>237</td>\n",
       "      <td>Bologna</td>\n",
       "      <td>2</td>\n",
       "    </tr>\n",
       "    <tr>\n",
       "      <th>1</th>\n",
       "      <td>871ea0414ffffff</td>\n",
       "      <td>POLYGON ((11.49556 44.50340, 11.49663 44.49078...</td>\n",
       "      <td>237</td>\n",
       "      <td>Bologna</td>\n",
       "      <td>1</td>\n",
       "    </tr>\n",
       "    <tr>\n",
       "      <th>2</th>\n",
       "      <td>871ea0416ffffff</td>\n",
       "      <td>POLYGON ((11.48143 44.48327, 11.48251 44.47064...</td>\n",
       "      <td>237</td>\n",
       "      <td>Bologna</td>\n",
       "      <td>16</td>\n",
       "    </tr>\n",
       "    <tr>\n",
       "      <th>3</th>\n",
       "      <td>871ea0430ffffff</td>\n",
       "      <td>POLYGON ((11.49234 44.54127, 11.49341 44.52865...</td>\n",
       "      <td>237</td>\n",
       "      <td>Bologna</td>\n",
       "      <td>6</td>\n",
       "    </tr>\n",
       "    <tr>\n",
       "      <th>4</th>\n",
       "      <td>871ea0432ffffff</td>\n",
       "      <td>POLYGON ((11.47821 44.52114, 11.47929 44.50852...</td>\n",
       "      <td>237</td>\n",
       "      <td>Bologna</td>\n",
       "      <td>24</td>\n",
       "    </tr>\n",
       "  </tbody>\n",
       "</table>\n",
       "</div>"
      ],
      "text/plain": [
       "                h3                                           geometry  \\\n",
       "0  871ea0412ffffff  POLYGON ((11.49877 44.46552, 11.49983 44.45289...   \n",
       "1  871ea0414ffffff  POLYGON ((11.49556 44.50340, 11.49663 44.49078...   \n",
       "2  871ea0416ffffff  POLYGON ((11.48143 44.48327, 11.48251 44.47064...   \n",
       "3  871ea0430ffffff  POLYGON ((11.49234 44.54127, 11.49341 44.52865...   \n",
       "4  871ea0432ffffff  POLYGON ((11.47821 44.52114, 11.47929 44.50852...   \n",
       "\n",
       "   COD_UTS  DEN_UTS  count  \n",
       "0      237  Bologna      2  \n",
       "1      237  Bologna      1  \n",
       "2      237  Bologna     16  \n",
       "3      237  Bologna      6  \n",
       "4      237  Bologna     24  "
      ]
     },
     "execution_count": 23,
     "metadata": {},
     "output_type": "execute_result"
    }
   ],
   "source": [
    "df_poly = df_italia.copy()\n",
    "df_poly = df_poly.loc[:,['h3','geometry','COD_UTS','DEN_UTS']]\n",
    "df_poly.insert(0, 'count', 1)\n",
    "print(df_poly.shape)\n",
    "df_poly = df_poly.groupby(['h3','geometry','COD_UTS','DEN_UTS'], as_index=False).sum()\n",
    "print(df_poly.shape)\n",
    "df_poly.head()"
   ]
  },
  {
   "cell_type": "code",
   "execution_count": 24,
   "metadata": {},
   "outputs": [
    {
     "data": {
      "text/plain": [
       "geopandas.geodataframe.GeoDataFrame"
      ]
     },
     "execution_count": 24,
     "metadata": {},
     "output_type": "execute_result"
    }
   ],
   "source": [
    "df_poly = gpd.GeoDataFrame(df_poly, crs = italia.crs, geometry = df_poly.geometry)\n",
    "type(df_poly)"
   ]
  },
  {
   "cell_type": "code",
   "execution_count": 25,
   "metadata": {},
   "outputs": [
    {
     "data": {
      "text/plain": [
       "(20889, 5)"
      ]
     },
     "execution_count": 25,
     "metadata": {},
     "output_type": "execute_result"
    }
   ],
   "source": [
    "df_poly.shape"
   ]
  },
  {
   "cell_type": "code",
   "execution_count": 26,
   "metadata": {},
   "outputs": [
    {
     "data": {
      "text/plain": [
       "array(['Bologna', 'Ferrara', 'Rovigo', 'Modena', 'Mantova', 'Verona',\n",
       "       'Padova', 'Firenze', 'Arezzo', 'Prato', 'Pistoia', 'Siena', 'Pisa',\n",
       "       'Lucca', 'Vicenza', 'Trento', 'Brescia', 'Bolzano',\n",
       "       \"Reggio nell'Emilia\", 'Parma', 'Massa Carrara', 'La Spezia',\n",
       "       'Cremona', 'Piacenza', 'Imperia', 'Savona', 'Cuneo', 'Livorno',\n",
       "       'Genova', 'Sondrio', 'Bergamo', 'Vercelli', 'Biella', 'Torino',\n",
       "       'Novara', 'Aosta', 'Pavia', 'Milano', 'Alessandria', 'Asti',\n",
       "       'Verbano-Cusio-Ossola', 'Varese', 'Lodi', 'Lecco',\n",
       "       'Monza e della Brianza', 'Como'], dtype=object)"
      ]
     },
     "execution_count": 26,
     "metadata": {},
     "output_type": "execute_result"
    }
   ],
   "source": [
    "df_poly['DEN_UTS'].unique()"
   ]
  },
  {
   "cell_type": "code",
   "execution_count": 27,
   "metadata": {},
   "outputs": [],
   "source": [
    "df_poly = df_poly[df_poly['DEN_UTS'] == 'Milano']\n",
    "df_poly = df_poly.loc[:,['COD_UTS','DEN_UTS','h3','geometry','count']]"
   ]
  },
  {
   "cell_type": "code",
   "execution_count": 28,
   "metadata": {},
   "outputs": [
    {
     "data": {
      "text/html": [
       "<div>\n",
       "<style scoped>\n",
       "    .dataframe tbody tr th:only-of-type {\n",
       "        vertical-align: middle;\n",
       "    }\n",
       "\n",
       "    .dataframe tbody tr th {\n",
       "        vertical-align: top;\n",
       "    }\n",
       "\n",
       "    .dataframe thead th {\n",
       "        text-align: right;\n",
       "    }\n",
       "</style>\n",
       "<table border=\"1\" class=\"dataframe\">\n",
       "  <thead>\n",
       "    <tr style=\"text-align: right;\">\n",
       "      <th></th>\n",
       "      <th>COD_UTS</th>\n",
       "      <th>DEN_UTS</th>\n",
       "      <th>h3</th>\n",
       "      <th>geometry</th>\n",
       "      <th>count</th>\n",
       "    </tr>\n",
       "  </thead>\n",
       "  <tbody>\n",
       "    <tr>\n",
       "      <th>10096</th>\n",
       "      <td>215</td>\n",
       "      <td>Milano</td>\n",
       "      <td>871f98241ffffff</td>\n",
       "      <td>POLYGON ((8.86056 45.35089, 8.86204 45.33849, ...</td>\n",
       "      <td>22</td>\n",
       "    </tr>\n",
       "    <tr>\n",
       "      <th>10101</th>\n",
       "      <td>215</td>\n",
       "      <td>Milano</td>\n",
       "      <td>871f98245ffffff</td>\n",
       "      <td>POLYGON ((8.84271 45.36792, 8.84419 45.35552, ...</td>\n",
       "      <td>17</td>\n",
       "    </tr>\n",
       "    <tr>\n",
       "      <th>10103</th>\n",
       "      <td>215</td>\n",
       "      <td>Milano</td>\n",
       "      <td>871f98248ffffff</td>\n",
       "      <td>POLYGON ((8.90969 45.33698, 8.91115 45.32458, ...</td>\n",
       "      <td>37</td>\n",
       "    </tr>\n",
       "    <tr>\n",
       "      <th>10104</th>\n",
       "      <td>215</td>\n",
       "      <td>Milano</td>\n",
       "      <td>871f98249ffffff</td>\n",
       "      <td>POLYGON ((8.94097 45.34010, 8.94244 45.32769, ...</td>\n",
       "      <td>42</td>\n",
       "    </tr>\n",
       "    <tr>\n",
       "      <th>10106</th>\n",
       "      <td>215</td>\n",
       "      <td>Milano</td>\n",
       "      <td>871f9824affffff</td>\n",
       "      <td>POLYGON ((8.89625 45.31681, 8.89772 45.30440, ...</td>\n",
       "      <td>2</td>\n",
       "    </tr>\n",
       "  </tbody>\n",
       "</table>\n",
       "</div>"
      ],
      "text/plain": [
       "       COD_UTS DEN_UTS               h3  \\\n",
       "10096      215  Milano  871f98241ffffff   \n",
       "10101      215  Milano  871f98245ffffff   \n",
       "10103      215  Milano  871f98248ffffff   \n",
       "10104      215  Milano  871f98249ffffff   \n",
       "10106      215  Milano  871f9824affffff   \n",
       "\n",
       "                                                geometry  count  \n",
       "10096  POLYGON ((8.86056 45.35089, 8.86204 45.33849, ...     22  \n",
       "10101  POLYGON ((8.84271 45.36792, 8.84419 45.35552, ...     17  \n",
       "10103  POLYGON ((8.90969 45.33698, 8.91115 45.32458, ...     37  \n",
       "10104  POLYGON ((8.94097 45.34010, 8.94244 45.32769, ...     42  \n",
       "10106  POLYGON ((8.89625 45.31681, 8.89772 45.30440, ...      2  "
      ]
     },
     "execution_count": 28,
     "metadata": {},
     "output_type": "execute_result"
    }
   ],
   "source": [
    "df_poly.head()"
   ]
  },
  {
   "cell_type": "code",
   "execution_count": 29,
   "metadata": {},
   "outputs": [
    {
     "data": {
      "text/plain": [
       "(367, 5)"
      ]
     },
     "execution_count": 29,
     "metadata": {},
     "output_type": "execute_result"
    }
   ],
   "source": [
    "df_poly.shape"
   ]
  },
  {
   "cell_type": "code",
   "execution_count": 30,
   "metadata": {},
   "outputs": [],
   "source": [
    "# save\n",
    "df_poly.to_file('data/df_italia.geojson', driver='GeoJSON')  "
   ]
  },
  {
   "cell_type": "code",
   "execution_count": null,
   "metadata": {},
   "outputs": [],
   "source": []
  },
  {
   "cell_type": "code",
   "execution_count": null,
   "metadata": {},
   "outputs": [],
   "source": []
  },
  {
   "cell_type": "code",
   "execution_count": null,
   "metadata": {},
   "outputs": [],
   "source": []
  },
  {
   "cell_type": "code",
   "execution_count": null,
   "metadata": {},
   "outputs": [],
   "source": []
  },
  {
   "cell_type": "code",
   "execution_count": null,
   "metadata": {},
   "outputs": [],
   "source": []
  },
  {
   "cell_type": "code",
   "execution_count": null,
   "metadata": {},
   "outputs": [],
   "source": []
  },
  {
   "cell_type": "code",
   "execution_count": null,
   "metadata": {},
   "outputs": [],
   "source": []
  },
  {
   "cell_type": "code",
   "execution_count": null,
   "metadata": {},
   "outputs": [
    {
     "name": "stdout",
     "output_type": "stream",
     "text": [
      "<class 'geopandas.geodataframe.GeoDataFrame'>\n"
     ]
    },
    {
     "data": {
      "text/html": [
       "<div>\n",
       "<style scoped>\n",
       "    .dataframe tbody tr th:only-of-type {\n",
       "        vertical-align: middle;\n",
       "    }\n",
       "\n",
       "    .dataframe tbody tr th {\n",
       "        vertical-align: top;\n",
       "    }\n",
       "\n",
       "    .dataframe thead th {\n",
       "        text-align: right;\n",
       "    }\n",
       "</style>\n",
       "<table border=\"1\" class=\"dataframe\">\n",
       "  <thead>\n",
       "    <tr style=\"text-align: right;\">\n",
       "      <th></th>\n",
       "      <th>geometry</th>\n",
       "      <th>h3</th>\n",
       "      <th>COD_RIP</th>\n",
       "    </tr>\n",
       "  </thead>\n",
       "  <tbody>\n",
       "    <tr>\n",
       "      <th>1</th>\n",
       "      <td>POLYGON ((8.70271 45.72135, 8.70293 45.71959, ...</td>\n",
       "      <td>891f98a4027ffff</td>\n",
       "      <td>1</td>\n",
       "    </tr>\n",
       "    <tr>\n",
       "      <th>24</th>\n",
       "      <td>POLYGON ((9.33777 45.41386, 9.33797 45.41208, ...</td>\n",
       "      <td>891f9956aafffff</td>\n",
       "      <td>1</td>\n",
       "    </tr>\n",
       "    <tr>\n",
       "      <th>36</th>\n",
       "      <td>POLYGON ((9.10932 44.97942, 9.10952 44.97764, ...</td>\n",
       "      <td>891f9bb32d3ffff</td>\n",
       "      <td>1</td>\n",
       "    </tr>\n",
       "    <tr>\n",
       "      <th>41</th>\n",
       "      <td>POLYGON ((7.02920 45.89853, 7.02945 45.89679, ...</td>\n",
       "      <td>891f9c45d13ffff</td>\n",
       "      <td>1</td>\n",
       "    </tr>\n",
       "    <tr>\n",
       "      <th>46</th>\n",
       "      <td>POLYGON ((8.96436 44.73538, 8.96456 44.73360, ...</td>\n",
       "      <td>891f9b17517ffff</td>\n",
       "      <td>1</td>\n",
       "    </tr>\n",
       "  </tbody>\n",
       "</table>\n",
       "</div>"
      ],
      "text/plain": [
       "                                             geometry               h3  \\\n",
       "1   POLYGON ((8.70271 45.72135, 8.70293 45.71959, ...  891f98a4027ffff   \n",
       "24  POLYGON ((9.33777 45.41386, 9.33797 45.41208, ...  891f9956aafffff   \n",
       "36  POLYGON ((9.10932 44.97942, 9.10952 44.97764, ...  891f9bb32d3ffff   \n",
       "41  POLYGON ((7.02920 45.89853, 7.02945 45.89679, ...  891f9c45d13ffff   \n",
       "46  POLYGON ((8.96436 44.73538, 8.96456 44.73360, ...  891f9b17517ffff   \n",
       "\n",
       "    COD_RIP  \n",
       "1         1  \n",
       "24        1  \n",
       "36        1  \n",
       "41        1  \n",
       "46        1  "
      ]
     },
     "execution_count": 31,
     "metadata": {},
     "output_type": "execute_result"
    }
   ],
   "source": [
    "df_italia = gpd.GeoDataFrame(df_italia, crs = italia.crs, geometry = df_italia.geometry)\n",
    "df_italia = df_italia.loc[:,['geometry', 'h3', 'COD_RIP']]\n",
    "print(type(df_italia))\n",
    "df_italia.head()"
   ]
  },
  {
   "cell_type": "code",
   "execution_count": null,
   "metadata": {},
   "outputs": [],
   "source": []
  },
  {
   "cell_type": "code",
   "execution_count": null,
   "metadata": {},
   "outputs": [],
   "source": []
  },
  {
   "cell_type": "code",
   "execution_count": null,
   "metadata": {},
   "outputs": [],
   "source": []
  },
  {
   "cell_type": "code",
   "execution_count": null,
   "metadata": {},
   "outputs": [],
   "source": []
  },
  {
   "cell_type": "code",
   "execution_count": null,
   "metadata": {},
   "outputs": [],
   "source": []
  },
  {
   "cell_type": "code",
   "execution_count": null,
   "metadata": {},
   "outputs": [],
   "source": []
  },
  {
   "cell_type": "code",
   "execution_count": null,
   "metadata": {},
   "outputs": [],
   "source": [
    "with open('data/df_italia2.geojson', 'r') as infile:\n",
    "    geo_json = json.load(infile)"
   ]
  },
  {
   "cell_type": "code",
   "execution_count": null,
   "metadata": {},
   "outputs": [],
   "source": [
    "geo_json"
   ]
  },
  {
   "cell_type": "code",
   "execution_count": null,
   "metadata": {},
   "outputs": [],
   "source": [
    "fig = px.choropleth(df_italia2, geojson=geo_json, locations='COD_RIP', color='COD_RIP',\n",
    "                           color_continuous_scale=\"Viridis\",\n",
    "                           range_color=(0, 12),\n",
    "                        #    scope=\"usa\",\n",
    "                           labels={'unemp':'unemployment rate'}\n",
    "                          )\n",
    "fig.update_layout(margin={\"r\":0,\"t\":0,\"l\":0,\"b\":0})\n",
    "fig.show()"
   ]
  },
  {
   "cell_type": "code",
   "execution_count": null,
   "metadata": {},
   "outputs": [],
   "source": [
    "df_italia['DEN_RIP'].unique()"
   ]
  },
  {
   "cell_type": "code",
   "execution_count": null,
   "metadata": {},
   "outputs": [],
   "source": []
  },
  {
   "cell_type": "code",
   "execution_count": null,
   "metadata": {},
   "outputs": [],
   "source": []
  },
  {
   "cell_type": "code",
   "execution_count": null,
   "metadata": {},
   "outputs": [],
   "source": [
    "type(df_italia)"
   ]
  },
  {
   "cell_type": "code",
   "execution_count": null,
   "metadata": {},
   "outputs": [],
   "source": [
    "import pyproj"
   ]
  },
  {
   "cell_type": "code",
   "execution_count": null,
   "metadata": {},
   "outputs": [],
   "source": [
    "df_italia.to_crs(pyproj.CRS.from_epsg(4326), inplace=True)"
   ]
  },
  {
   "cell_type": "code",
   "execution_count": null,
   "metadata": {},
   "outputs": [],
   "source": [
    "df_italia.head()"
   ]
  },
  {
   "cell_type": "code",
   "execution_count": null,
   "metadata": {},
   "outputs": [],
   "source": [
    "\n",
    "fig = (\n",
    "    px.scatter_mapbox(\n",
    "        df_italia,\n",
    "        lat=\"latitude\",\n",
    "        lon=\"longitude\",\n",
    "        color=\"COD_RIP\",\n",
    "        hover_data=[\"COD_RIP\", \"DEN_RIP\"],\n",
    "    )\n",
    "    .update_traces(marker={\"size\": 10})\n",
    "    .update_layout(\n",
    "        mapbox={\n",
    "            \"style\": \"open-street-map\",\n",
    "            \"zoom\": 5,\n",
    "            \"layers\": [\n",
    "                {\n",
    "                    \"source\": json.loads(df_italia.geometry2.to_json()),\n",
    "                    \"below\": \"traces\",\n",
    "                    \"type\": \"line\",\n",
    "                    \"color\": \"purple\",\n",
    "                    \"line\": {\"width\": 1.5},\n",
    "                }\n",
    "            ],\n",
    "        },\n",
    "        margin={\"l\": 0, \"r\": 0, \"t\": 0, \"b\": 0},\n",
    "    )\n",
    ")\n",
    "fig.show()"
   ]
  },
  {
   "cell_type": "code",
   "execution_count": null,
   "metadata": {},
   "outputs": [],
   "source": []
  },
  {
   "cell_type": "code",
   "execution_count": null,
   "metadata": {},
   "outputs": [],
   "source": []
  },
  {
   "cell_type": "code",
   "execution_count": null,
   "metadata": {},
   "outputs": [],
   "source": []
  },
  {
   "cell_type": "code",
   "execution_count": null,
   "metadata": {},
   "outputs": [],
   "source": [
    "print('Ok_')"
   ]
  }
 ],
 "metadata": {
  "kernelspec": {
   "display_name": "Python 3",
   "language": "python",
   "name": "python3"
  },
  "language_info": {
   "codemirror_mode": {
    "name": "ipython",
    "version": 3
   },
   "file_extension": ".py",
   "mimetype": "text/x-python",
   "name": "python",
   "nbconvert_exporter": "python",
   "pygments_lexer": "ipython3",
   "version": "3.11.4"
  },
  "orig_nbformat": 4
 },
 "nbformat": 4,
 "nbformat_minor": 2
}
