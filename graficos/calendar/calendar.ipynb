{
 "cells": [
  {
   "cell_type": "code",
   "execution_count": 1,
   "metadata": {},
   "outputs": [],
   "source": [
    "import plotly.graph_objects as go\n"
   ]
  },
  {
   "cell_type": "code",
   "execution_count": 4,
   "metadata": {},
   "outputs": [
    {
     "data": {
      "application/vnd.plotly.v1+json": {
       "config": {
        "plotlyServerURL": "https://plot.ly"
       },
       "data": [
        {
         "colorscale": [
          [
           0,
           "#440154"
          ],
          [
           0.1111111111111111,
           "#482878"
          ],
          [
           0.2222222222222222,
           "#3e4989"
          ],
          [
           0.3333333333333333,
           "#31688e"
          ],
          [
           0.4444444444444444,
           "#26828e"
          ],
          [
           0.5555555555555556,
           "#1f9e89"
          ],
          [
           0.6666666666666666,
           "#35b779"
          ],
          [
           0.7777777777777778,
           "#6ece58"
          ],
          [
           0.8888888888888888,
           "#b5de2b"
          ],
          [
           1,
           "#fde725"
          ]
         ],
         "type": "heatmap",
         "x": [
          "2023-01-01",
          "2023-01-05",
          "2023-01-10",
          "2023-01-15"
         ],
         "y": [
          25,
          28,
          30,
          27
         ],
         "z": [
          25,
          28,
          30,
          27
         ]
        }
       ],
       "layout": {
        "template": {
         "data": {
          "bar": [
           {
            "error_x": {
             "color": "#2a3f5f"
            },
            "error_y": {
             "color": "#2a3f5f"
            },
            "marker": {
             "line": {
              "color": "#E5ECF6",
              "width": 0.5
             },
             "pattern": {
              "fillmode": "overlay",
              "size": 10,
              "solidity": 0.2
             }
            },
            "type": "bar"
           }
          ],
          "barpolar": [
           {
            "marker": {
             "line": {
              "color": "#E5ECF6",
              "width": 0.5
             },
             "pattern": {
              "fillmode": "overlay",
              "size": 10,
              "solidity": 0.2
             }
            },
            "type": "barpolar"
           }
          ],
          "carpet": [
           {
            "aaxis": {
             "endlinecolor": "#2a3f5f",
             "gridcolor": "white",
             "linecolor": "white",
             "minorgridcolor": "white",
             "startlinecolor": "#2a3f5f"
            },
            "baxis": {
             "endlinecolor": "#2a3f5f",
             "gridcolor": "white",
             "linecolor": "white",
             "minorgridcolor": "white",
             "startlinecolor": "#2a3f5f"
            },
            "type": "carpet"
           }
          ],
          "choropleth": [
           {
            "colorbar": {
             "outlinewidth": 0,
             "ticks": ""
            },
            "type": "choropleth"
           }
          ],
          "contour": [
           {
            "colorbar": {
             "outlinewidth": 0,
             "ticks": ""
            },
            "colorscale": [
             [
              0,
              "#0d0887"
             ],
             [
              0.1111111111111111,
              "#46039f"
             ],
             [
              0.2222222222222222,
              "#7201a8"
             ],
             [
              0.3333333333333333,
              "#9c179e"
             ],
             [
              0.4444444444444444,
              "#bd3786"
             ],
             [
              0.5555555555555556,
              "#d8576b"
             ],
             [
              0.6666666666666666,
              "#ed7953"
             ],
             [
              0.7777777777777778,
              "#fb9f3a"
             ],
             [
              0.8888888888888888,
              "#fdca26"
             ],
             [
              1,
              "#f0f921"
             ]
            ],
            "type": "contour"
           }
          ],
          "contourcarpet": [
           {
            "colorbar": {
             "outlinewidth": 0,
             "ticks": ""
            },
            "type": "contourcarpet"
           }
          ],
          "heatmap": [
           {
            "colorbar": {
             "outlinewidth": 0,
             "ticks": ""
            },
            "colorscale": [
             [
              0,
              "#0d0887"
             ],
             [
              0.1111111111111111,
              "#46039f"
             ],
             [
              0.2222222222222222,
              "#7201a8"
             ],
             [
              0.3333333333333333,
              "#9c179e"
             ],
             [
              0.4444444444444444,
              "#bd3786"
             ],
             [
              0.5555555555555556,
              "#d8576b"
             ],
             [
              0.6666666666666666,
              "#ed7953"
             ],
             [
              0.7777777777777778,
              "#fb9f3a"
             ],
             [
              0.8888888888888888,
              "#fdca26"
             ],
             [
              1,
              "#f0f921"
             ]
            ],
            "type": "heatmap"
           }
          ],
          "heatmapgl": [
           {
            "colorbar": {
             "outlinewidth": 0,
             "ticks": ""
            },
            "colorscale": [
             [
              0,
              "#0d0887"
             ],
             [
              0.1111111111111111,
              "#46039f"
             ],
             [
              0.2222222222222222,
              "#7201a8"
             ],
             [
              0.3333333333333333,
              "#9c179e"
             ],
             [
              0.4444444444444444,
              "#bd3786"
             ],
             [
              0.5555555555555556,
              "#d8576b"
             ],
             [
              0.6666666666666666,
              "#ed7953"
             ],
             [
              0.7777777777777778,
              "#fb9f3a"
             ],
             [
              0.8888888888888888,
              "#fdca26"
             ],
             [
              1,
              "#f0f921"
             ]
            ],
            "type": "heatmapgl"
           }
          ],
          "histogram": [
           {
            "marker": {
             "pattern": {
              "fillmode": "overlay",
              "size": 10,
              "solidity": 0.2
             }
            },
            "type": "histogram"
           }
          ],
          "histogram2d": [
           {
            "colorbar": {
             "outlinewidth": 0,
             "ticks": ""
            },
            "colorscale": [
             [
              0,
              "#0d0887"
             ],
             [
              0.1111111111111111,
              "#46039f"
             ],
             [
              0.2222222222222222,
              "#7201a8"
             ],
             [
              0.3333333333333333,
              "#9c179e"
             ],
             [
              0.4444444444444444,
              "#bd3786"
             ],
             [
              0.5555555555555556,
              "#d8576b"
             ],
             [
              0.6666666666666666,
              "#ed7953"
             ],
             [
              0.7777777777777778,
              "#fb9f3a"
             ],
             [
              0.8888888888888888,
              "#fdca26"
             ],
             [
              1,
              "#f0f921"
             ]
            ],
            "type": "histogram2d"
           }
          ],
          "histogram2dcontour": [
           {
            "colorbar": {
             "outlinewidth": 0,
             "ticks": ""
            },
            "colorscale": [
             [
              0,
              "#0d0887"
             ],
             [
              0.1111111111111111,
              "#46039f"
             ],
             [
              0.2222222222222222,
              "#7201a8"
             ],
             [
              0.3333333333333333,
              "#9c179e"
             ],
             [
              0.4444444444444444,
              "#bd3786"
             ],
             [
              0.5555555555555556,
              "#d8576b"
             ],
             [
              0.6666666666666666,
              "#ed7953"
             ],
             [
              0.7777777777777778,
              "#fb9f3a"
             ],
             [
              0.8888888888888888,
              "#fdca26"
             ],
             [
              1,
              "#f0f921"
             ]
            ],
            "type": "histogram2dcontour"
           }
          ],
          "mesh3d": [
           {
            "colorbar": {
             "outlinewidth": 0,
             "ticks": ""
            },
            "type": "mesh3d"
           }
          ],
          "parcoords": [
           {
            "line": {
             "colorbar": {
              "outlinewidth": 0,
              "ticks": ""
             }
            },
            "type": "parcoords"
           }
          ],
          "pie": [
           {
            "automargin": true,
            "type": "pie"
           }
          ],
          "scatter": [
           {
            "fillpattern": {
             "fillmode": "overlay",
             "size": 10,
             "solidity": 0.2
            },
            "type": "scatter"
           }
          ],
          "scatter3d": [
           {
            "line": {
             "colorbar": {
              "outlinewidth": 0,
              "ticks": ""
             }
            },
            "marker": {
             "colorbar": {
              "outlinewidth": 0,
              "ticks": ""
             }
            },
            "type": "scatter3d"
           }
          ],
          "scattercarpet": [
           {
            "marker": {
             "colorbar": {
              "outlinewidth": 0,
              "ticks": ""
             }
            },
            "type": "scattercarpet"
           }
          ],
          "scattergeo": [
           {
            "marker": {
             "colorbar": {
              "outlinewidth": 0,
              "ticks": ""
             }
            },
            "type": "scattergeo"
           }
          ],
          "scattergl": [
           {
            "marker": {
             "colorbar": {
              "outlinewidth": 0,
              "ticks": ""
             }
            },
            "type": "scattergl"
           }
          ],
          "scattermapbox": [
           {
            "marker": {
             "colorbar": {
              "outlinewidth": 0,
              "ticks": ""
             }
            },
            "type": "scattermapbox"
           }
          ],
          "scatterpolar": [
           {
            "marker": {
             "colorbar": {
              "outlinewidth": 0,
              "ticks": ""
             }
            },
            "type": "scatterpolar"
           }
          ],
          "scatterpolargl": [
           {
            "marker": {
             "colorbar": {
              "outlinewidth": 0,
              "ticks": ""
             }
            },
            "type": "scatterpolargl"
           }
          ],
          "scatterternary": [
           {
            "marker": {
             "colorbar": {
              "outlinewidth": 0,
              "ticks": ""
             }
            },
            "type": "scatterternary"
           }
          ],
          "surface": [
           {
            "colorbar": {
             "outlinewidth": 0,
             "ticks": ""
            },
            "colorscale": [
             [
              0,
              "#0d0887"
             ],
             [
              0.1111111111111111,
              "#46039f"
             ],
             [
              0.2222222222222222,
              "#7201a8"
             ],
             [
              0.3333333333333333,
              "#9c179e"
             ],
             [
              0.4444444444444444,
              "#bd3786"
             ],
             [
              0.5555555555555556,
              "#d8576b"
             ],
             [
              0.6666666666666666,
              "#ed7953"
             ],
             [
              0.7777777777777778,
              "#fb9f3a"
             ],
             [
              0.8888888888888888,
              "#fdca26"
             ],
             [
              1,
              "#f0f921"
             ]
            ],
            "type": "surface"
           }
          ],
          "table": [
           {
            "cells": {
             "fill": {
              "color": "#EBF0F8"
             },
             "line": {
              "color": "white"
             }
            },
            "header": {
             "fill": {
              "color": "#C8D4E3"
             },
             "line": {
              "color": "white"
             }
            },
            "type": "table"
           }
          ]
         },
         "layout": {
          "annotationdefaults": {
           "arrowcolor": "#2a3f5f",
           "arrowhead": 0,
           "arrowwidth": 1
          },
          "autotypenumbers": "strict",
          "coloraxis": {
           "colorbar": {
            "outlinewidth": 0,
            "ticks": ""
           }
          },
          "colorscale": {
           "diverging": [
            [
             0,
             "#8e0152"
            ],
            [
             0.1,
             "#c51b7d"
            ],
            [
             0.2,
             "#de77ae"
            ],
            [
             0.3,
             "#f1b6da"
            ],
            [
             0.4,
             "#fde0ef"
            ],
            [
             0.5,
             "#f7f7f7"
            ],
            [
             0.6,
             "#e6f5d0"
            ],
            [
             0.7,
             "#b8e186"
            ],
            [
             0.8,
             "#7fbc41"
            ],
            [
             0.9,
             "#4d9221"
            ],
            [
             1,
             "#276419"
            ]
           ],
           "sequential": [
            [
             0,
             "#0d0887"
            ],
            [
             0.1111111111111111,
             "#46039f"
            ],
            [
             0.2222222222222222,
             "#7201a8"
            ],
            [
             0.3333333333333333,
             "#9c179e"
            ],
            [
             0.4444444444444444,
             "#bd3786"
            ],
            [
             0.5555555555555556,
             "#d8576b"
            ],
            [
             0.6666666666666666,
             "#ed7953"
            ],
            [
             0.7777777777777778,
             "#fb9f3a"
            ],
            [
             0.8888888888888888,
             "#fdca26"
            ],
            [
             1,
             "#f0f921"
            ]
           ],
           "sequentialminus": [
            [
             0,
             "#0d0887"
            ],
            [
             0.1111111111111111,
             "#46039f"
            ],
            [
             0.2222222222222222,
             "#7201a8"
            ],
            [
             0.3333333333333333,
             "#9c179e"
            ],
            [
             0.4444444444444444,
             "#bd3786"
            ],
            [
             0.5555555555555556,
             "#d8576b"
            ],
            [
             0.6666666666666666,
             "#ed7953"
            ],
            [
             0.7777777777777778,
             "#fb9f3a"
            ],
            [
             0.8888888888888888,
             "#fdca26"
            ],
            [
             1,
             "#f0f921"
            ]
           ]
          },
          "colorway": [
           "#636efa",
           "#EF553B",
           "#00cc96",
           "#ab63fa",
           "#FFA15A",
           "#19d3f3",
           "#FF6692",
           "#B6E880",
           "#FF97FF",
           "#FECB52"
          ],
          "font": {
           "color": "#2a3f5f"
          },
          "geo": {
           "bgcolor": "white",
           "lakecolor": "white",
           "landcolor": "#E5ECF6",
           "showlakes": true,
           "showland": true,
           "subunitcolor": "white"
          },
          "hoverlabel": {
           "align": "left"
          },
          "hovermode": "closest",
          "mapbox": {
           "style": "light"
          },
          "paper_bgcolor": "white",
          "plot_bgcolor": "#E5ECF6",
          "polar": {
           "angularaxis": {
            "gridcolor": "white",
            "linecolor": "white",
            "ticks": ""
           },
           "bgcolor": "#E5ECF6",
           "radialaxis": {
            "gridcolor": "white",
            "linecolor": "white",
            "ticks": ""
           }
          },
          "scene": {
           "xaxis": {
            "backgroundcolor": "#E5ECF6",
            "gridcolor": "white",
            "gridwidth": 2,
            "linecolor": "white",
            "showbackground": true,
            "ticks": "",
            "zerolinecolor": "white"
           },
           "yaxis": {
            "backgroundcolor": "#E5ECF6",
            "gridcolor": "white",
            "gridwidth": 2,
            "linecolor": "white",
            "showbackground": true,
            "ticks": "",
            "zerolinecolor": "white"
           },
           "zaxis": {
            "backgroundcolor": "#E5ECF6",
            "gridcolor": "white",
            "gridwidth": 2,
            "linecolor": "white",
            "showbackground": true,
            "ticks": "",
            "zerolinecolor": "white"
           }
          },
          "shapedefaults": {
           "line": {
            "color": "#2a3f5f"
           }
          },
          "ternary": {
           "aaxis": {
            "gridcolor": "white",
            "linecolor": "white",
            "ticks": ""
           },
           "baxis": {
            "gridcolor": "white",
            "linecolor": "white",
            "ticks": ""
           },
           "bgcolor": "#E5ECF6",
           "caxis": {
            "gridcolor": "white",
            "linecolor": "white",
            "ticks": ""
           }
          },
          "title": {
           "x": 0.05
          },
          "xaxis": {
           "automargin": true,
           "gridcolor": "white",
           "linecolor": "white",
           "ticks": "",
           "title": {
            "standoff": 15
           },
           "zerolinecolor": "white",
           "zerolinewidth": 2
          },
          "yaxis": {
           "automargin": true,
           "gridcolor": "white",
           "linecolor": "white",
           "ticks": "",
           "title": {
            "standoff": 15
           },
           "zerolinecolor": "white",
           "zerolinewidth": 2
          }
         }
        },
        "title": {
         "text": "Intensidad de la temperatura"
        },
        "xaxis": {
         "nticks": 36
        }
       }
      }
     },
     "metadata": {},
     "output_type": "display_data"
    }
   ],
   "source": [
    "# Datos de ejemplo (fecha y temperatura)\n",
    "fechas = ['2023-01-01', '2023-01-05', '2023-01-10', '2023-01-15']\n",
    "temperaturas = [25, 28, 30, 27]\n",
    "\n",
    "# Crear el gráfico de calendario\n",
    "fig = go.Figure(data=go.Heatmap(\n",
    "    z=temperaturas,\n",
    "    x=fechas,\n",
    "    y=temperaturas,\n",
    "    colorscale='Viridis'))\n",
    "\n",
    "# Configurar el diseño del gráfico\n",
    "fig.update_layout(\n",
    "    title='Intensidad de la temperatura',\n",
    "    xaxis_nticks=36)\n",
    "\n",
    "# Mostrar el gráfico\n",
    "fig.show()"
   ]
  },
  {
   "cell_type": "code",
   "execution_count": 18,
   "metadata": {},
   "outputs": [
    {
     "data": {
      "application/vnd.plotly.v1+json": {
       "config": {
        "plotlyServerURL": "https://plot.ly"
       },
       "data": [
        {
         "colorscale": [
          [
           0,
           "#440154"
          ],
          [
           0.1111111111111111,
           "#482878"
          ],
          [
           0.2222222222222222,
           "#3e4989"
          ],
          [
           0.3333333333333333,
           "#31688e"
          ],
          [
           0.4444444444444444,
           "#26828e"
          ],
          [
           0.5555555555555556,
           "#1f9e89"
          ],
          [
           0.6666666666666666,
           "#35b779"
          ],
          [
           0.7777777777777778,
           "#6ece58"
          ],
          [
           0.8888888888888888,
           "#b5de2b"
          ],
          [
           1,
           "#fde725"
          ]
         ],
         "hovertemplate": "%{x}<br>%{y}: %{text}",
         "showscale": false,
         "text": [
          "Trabajo",
          "Descanso",
          "Trabajo",
          "Descanso",
          "Trabajo",
          "Descanso"
         ],
         "type": "heatmap",
         "x": [
          "2023-01-01",
          "2023-01-02",
          "2023-01-03",
          "2023-01-04",
          "2023-01-04",
          "2023-01-05"
         ],
         "y": [
          "Trabajo",
          "Descanso",
          "Trabajo",
          "Descanso",
          "Trabajo",
          "Descanso"
         ],
         "z": [
          1,
          1,
          1,
          1,
          1,
          1
         ]
        }
       ],
       "layout": {
        "template": {
         "data": {
          "bar": [
           {
            "error_x": {
             "color": "#2a3f5f"
            },
            "error_y": {
             "color": "#2a3f5f"
            },
            "marker": {
             "line": {
              "color": "#E5ECF6",
              "width": 0.5
             },
             "pattern": {
              "fillmode": "overlay",
              "size": 10,
              "solidity": 0.2
             }
            },
            "type": "bar"
           }
          ],
          "barpolar": [
           {
            "marker": {
             "line": {
              "color": "#E5ECF6",
              "width": 0.5
             },
             "pattern": {
              "fillmode": "overlay",
              "size": 10,
              "solidity": 0.2
             }
            },
            "type": "barpolar"
           }
          ],
          "carpet": [
           {
            "aaxis": {
             "endlinecolor": "#2a3f5f",
             "gridcolor": "white",
             "linecolor": "white",
             "minorgridcolor": "white",
             "startlinecolor": "#2a3f5f"
            },
            "baxis": {
             "endlinecolor": "#2a3f5f",
             "gridcolor": "white",
             "linecolor": "white",
             "minorgridcolor": "white",
             "startlinecolor": "#2a3f5f"
            },
            "type": "carpet"
           }
          ],
          "choropleth": [
           {
            "colorbar": {
             "outlinewidth": 0,
             "ticks": ""
            },
            "type": "choropleth"
           }
          ],
          "contour": [
           {
            "colorbar": {
             "outlinewidth": 0,
             "ticks": ""
            },
            "colorscale": [
             [
              0,
              "#0d0887"
             ],
             [
              0.1111111111111111,
              "#46039f"
             ],
             [
              0.2222222222222222,
              "#7201a8"
             ],
             [
              0.3333333333333333,
              "#9c179e"
             ],
             [
              0.4444444444444444,
              "#bd3786"
             ],
             [
              0.5555555555555556,
              "#d8576b"
             ],
             [
              0.6666666666666666,
              "#ed7953"
             ],
             [
              0.7777777777777778,
              "#fb9f3a"
             ],
             [
              0.8888888888888888,
              "#fdca26"
             ],
             [
              1,
              "#f0f921"
             ]
            ],
            "type": "contour"
           }
          ],
          "contourcarpet": [
           {
            "colorbar": {
             "outlinewidth": 0,
             "ticks": ""
            },
            "type": "contourcarpet"
           }
          ],
          "heatmap": [
           {
            "colorbar": {
             "outlinewidth": 0,
             "ticks": ""
            },
            "colorscale": [
             [
              0,
              "#0d0887"
             ],
             [
              0.1111111111111111,
              "#46039f"
             ],
             [
              0.2222222222222222,
              "#7201a8"
             ],
             [
              0.3333333333333333,
              "#9c179e"
             ],
             [
              0.4444444444444444,
              "#bd3786"
             ],
             [
              0.5555555555555556,
              "#d8576b"
             ],
             [
              0.6666666666666666,
              "#ed7953"
             ],
             [
              0.7777777777777778,
              "#fb9f3a"
             ],
             [
              0.8888888888888888,
              "#fdca26"
             ],
             [
              1,
              "#f0f921"
             ]
            ],
            "type": "heatmap"
           }
          ],
          "heatmapgl": [
           {
            "colorbar": {
             "outlinewidth": 0,
             "ticks": ""
            },
            "colorscale": [
             [
              0,
              "#0d0887"
             ],
             [
              0.1111111111111111,
              "#46039f"
             ],
             [
              0.2222222222222222,
              "#7201a8"
             ],
             [
              0.3333333333333333,
              "#9c179e"
             ],
             [
              0.4444444444444444,
              "#bd3786"
             ],
             [
              0.5555555555555556,
              "#d8576b"
             ],
             [
              0.6666666666666666,
              "#ed7953"
             ],
             [
              0.7777777777777778,
              "#fb9f3a"
             ],
             [
              0.8888888888888888,
              "#fdca26"
             ],
             [
              1,
              "#f0f921"
             ]
            ],
            "type": "heatmapgl"
           }
          ],
          "histogram": [
           {
            "marker": {
             "pattern": {
              "fillmode": "overlay",
              "size": 10,
              "solidity": 0.2
             }
            },
            "type": "histogram"
           }
          ],
          "histogram2d": [
           {
            "colorbar": {
             "outlinewidth": 0,
             "ticks": ""
            },
            "colorscale": [
             [
              0,
              "#0d0887"
             ],
             [
              0.1111111111111111,
              "#46039f"
             ],
             [
              0.2222222222222222,
              "#7201a8"
             ],
             [
              0.3333333333333333,
              "#9c179e"
             ],
             [
              0.4444444444444444,
              "#bd3786"
             ],
             [
              0.5555555555555556,
              "#d8576b"
             ],
             [
              0.6666666666666666,
              "#ed7953"
             ],
             [
              0.7777777777777778,
              "#fb9f3a"
             ],
             [
              0.8888888888888888,
              "#fdca26"
             ],
             [
              1,
              "#f0f921"
             ]
            ],
            "type": "histogram2d"
           }
          ],
          "histogram2dcontour": [
           {
            "colorbar": {
             "outlinewidth": 0,
             "ticks": ""
            },
            "colorscale": [
             [
              0,
              "#0d0887"
             ],
             [
              0.1111111111111111,
              "#46039f"
             ],
             [
              0.2222222222222222,
              "#7201a8"
             ],
             [
              0.3333333333333333,
              "#9c179e"
             ],
             [
              0.4444444444444444,
              "#bd3786"
             ],
             [
              0.5555555555555556,
              "#d8576b"
             ],
             [
              0.6666666666666666,
              "#ed7953"
             ],
             [
              0.7777777777777778,
              "#fb9f3a"
             ],
             [
              0.8888888888888888,
              "#fdca26"
             ],
             [
              1,
              "#f0f921"
             ]
            ],
            "type": "histogram2dcontour"
           }
          ],
          "mesh3d": [
           {
            "colorbar": {
             "outlinewidth": 0,
             "ticks": ""
            },
            "type": "mesh3d"
           }
          ],
          "parcoords": [
           {
            "line": {
             "colorbar": {
              "outlinewidth": 0,
              "ticks": ""
             }
            },
            "type": "parcoords"
           }
          ],
          "pie": [
           {
            "automargin": true,
            "type": "pie"
           }
          ],
          "scatter": [
           {
            "fillpattern": {
             "fillmode": "overlay",
             "size": 10,
             "solidity": 0.2
            },
            "type": "scatter"
           }
          ],
          "scatter3d": [
           {
            "line": {
             "colorbar": {
              "outlinewidth": 0,
              "ticks": ""
             }
            },
            "marker": {
             "colorbar": {
              "outlinewidth": 0,
              "ticks": ""
             }
            },
            "type": "scatter3d"
           }
          ],
          "scattercarpet": [
           {
            "marker": {
             "colorbar": {
              "outlinewidth": 0,
              "ticks": ""
             }
            },
            "type": "scattercarpet"
           }
          ],
          "scattergeo": [
           {
            "marker": {
             "colorbar": {
              "outlinewidth": 0,
              "ticks": ""
             }
            },
            "type": "scattergeo"
           }
          ],
          "scattergl": [
           {
            "marker": {
             "colorbar": {
              "outlinewidth": 0,
              "ticks": ""
             }
            },
            "type": "scattergl"
           }
          ],
          "scattermapbox": [
           {
            "marker": {
             "colorbar": {
              "outlinewidth": 0,
              "ticks": ""
             }
            },
            "type": "scattermapbox"
           }
          ],
          "scatterpolar": [
           {
            "marker": {
             "colorbar": {
              "outlinewidth": 0,
              "ticks": ""
             }
            },
            "type": "scatterpolar"
           }
          ],
          "scatterpolargl": [
           {
            "marker": {
             "colorbar": {
              "outlinewidth": 0,
              "ticks": ""
             }
            },
            "type": "scatterpolargl"
           }
          ],
          "scatterternary": [
           {
            "marker": {
             "colorbar": {
              "outlinewidth": 0,
              "ticks": ""
             }
            },
            "type": "scatterternary"
           }
          ],
          "surface": [
           {
            "colorbar": {
             "outlinewidth": 0,
             "ticks": ""
            },
            "colorscale": [
             [
              0,
              "#0d0887"
             ],
             [
              0.1111111111111111,
              "#46039f"
             ],
             [
              0.2222222222222222,
              "#7201a8"
             ],
             [
              0.3333333333333333,
              "#9c179e"
             ],
             [
              0.4444444444444444,
              "#bd3786"
             ],
             [
              0.5555555555555556,
              "#d8576b"
             ],
             [
              0.6666666666666666,
              "#ed7953"
             ],
             [
              0.7777777777777778,
              "#fb9f3a"
             ],
             [
              0.8888888888888888,
              "#fdca26"
             ],
             [
              1,
              "#f0f921"
             ]
            ],
            "type": "surface"
           }
          ],
          "table": [
           {
            "cells": {
             "fill": {
              "color": "#EBF0F8"
             },
             "line": {
              "color": "white"
             }
            },
            "header": {
             "fill": {
              "color": "#C8D4E3"
             },
             "line": {
              "color": "white"
             }
            },
            "type": "table"
           }
          ]
         },
         "layout": {
          "annotationdefaults": {
           "arrowcolor": "#2a3f5f",
           "arrowhead": 0,
           "arrowwidth": 1
          },
          "autotypenumbers": "strict",
          "coloraxis": {
           "colorbar": {
            "outlinewidth": 0,
            "ticks": ""
           }
          },
          "colorscale": {
           "diverging": [
            [
             0,
             "#8e0152"
            ],
            [
             0.1,
             "#c51b7d"
            ],
            [
             0.2,
             "#de77ae"
            ],
            [
             0.3,
             "#f1b6da"
            ],
            [
             0.4,
             "#fde0ef"
            ],
            [
             0.5,
             "#f7f7f7"
            ],
            [
             0.6,
             "#e6f5d0"
            ],
            [
             0.7,
             "#b8e186"
            ],
            [
             0.8,
             "#7fbc41"
            ],
            [
             0.9,
             "#4d9221"
            ],
            [
             1,
             "#276419"
            ]
           ],
           "sequential": [
            [
             0,
             "#0d0887"
            ],
            [
             0.1111111111111111,
             "#46039f"
            ],
            [
             0.2222222222222222,
             "#7201a8"
            ],
            [
             0.3333333333333333,
             "#9c179e"
            ],
            [
             0.4444444444444444,
             "#bd3786"
            ],
            [
             0.5555555555555556,
             "#d8576b"
            ],
            [
             0.6666666666666666,
             "#ed7953"
            ],
            [
             0.7777777777777778,
             "#fb9f3a"
            ],
            [
             0.8888888888888888,
             "#fdca26"
            ],
            [
             1,
             "#f0f921"
            ]
           ],
           "sequentialminus": [
            [
             0,
             "#0d0887"
            ],
            [
             0.1111111111111111,
             "#46039f"
            ],
            [
             0.2222222222222222,
             "#7201a8"
            ],
            [
             0.3333333333333333,
             "#9c179e"
            ],
            [
             0.4444444444444444,
             "#bd3786"
            ],
            [
             0.5555555555555556,
             "#d8576b"
            ],
            [
             0.6666666666666666,
             "#ed7953"
            ],
            [
             0.7777777777777778,
             "#fb9f3a"
            ],
            [
             0.8888888888888888,
             "#fdca26"
            ],
            [
             1,
             "#f0f921"
            ]
           ]
          },
          "colorway": [
           "#636efa",
           "#EF553B",
           "#00cc96",
           "#ab63fa",
           "#FFA15A",
           "#19d3f3",
           "#FF6692",
           "#B6E880",
           "#FF97FF",
           "#FECB52"
          ],
          "font": {
           "color": "#2a3f5f"
          },
          "geo": {
           "bgcolor": "white",
           "lakecolor": "white",
           "landcolor": "#E5ECF6",
           "showlakes": true,
           "showland": true,
           "subunitcolor": "white"
          },
          "hoverlabel": {
           "align": "left"
          },
          "hovermode": "closest",
          "mapbox": {
           "style": "light"
          },
          "paper_bgcolor": "white",
          "plot_bgcolor": "#E5ECF6",
          "polar": {
           "angularaxis": {
            "gridcolor": "white",
            "linecolor": "white",
            "ticks": ""
           },
           "bgcolor": "#E5ECF6",
           "radialaxis": {
            "gridcolor": "white",
            "linecolor": "white",
            "ticks": ""
           }
          },
          "scene": {
           "xaxis": {
            "backgroundcolor": "#E5ECF6",
            "gridcolor": "white",
            "gridwidth": 2,
            "linecolor": "white",
            "showbackground": true,
            "ticks": "",
            "zerolinecolor": "white"
           },
           "yaxis": {
            "backgroundcolor": "#E5ECF6",
            "gridcolor": "white",
            "gridwidth": 2,
            "linecolor": "white",
            "showbackground": true,
            "ticks": "",
            "zerolinecolor": "white"
           },
           "zaxis": {
            "backgroundcolor": "#E5ECF6",
            "gridcolor": "white",
            "gridwidth": 2,
            "linecolor": "white",
            "showbackground": true,
            "ticks": "",
            "zerolinecolor": "white"
           }
          },
          "shapedefaults": {
           "line": {
            "color": "#2a3f5f"
           }
          },
          "ternary": {
           "aaxis": {
            "gridcolor": "white",
            "linecolor": "white",
            "ticks": ""
           },
           "baxis": {
            "gridcolor": "white",
            "linecolor": "white",
            "ticks": ""
           },
           "bgcolor": "#E5ECF6",
           "caxis": {
            "gridcolor": "white",
            "linecolor": "white",
            "ticks": ""
           }
          },
          "title": {
           "x": 0.05
          },
          "xaxis": {
           "automargin": true,
           "gridcolor": "white",
           "linecolor": "white",
           "ticks": "",
           "title": {
            "standoff": 15
           },
           "zerolinecolor": "white",
           "zerolinewidth": 2
          },
          "yaxis": {
           "automargin": true,
           "gridcolor": "white",
           "linecolor": "white",
           "ticks": "",
           "title": {
            "standoff": 15
           },
           "zerolinecolor": "white",
           "zerolinewidth": 2
          }
         }
        },
        "title": {
         "text": "Actividad diaria"
        },
        "xaxis": {
         "nticks": 6
        },
        "yaxis": {
         "nticks": 1
        }
       }
      }
     },
     "metadata": {},
     "output_type": "display_data"
    }
   ],
   "source": [
    "import plotly.graph_objects as go\n",
    "\n",
    "# Datos de ejemplo: actividad por día\n",
    "actividades = [\n",
    "    (\"2023-01-01\", \"Trabajo\"),\n",
    "    (\"2023-01-02\", \"Descanso\"),\n",
    "    \n",
    "    (\"2023-01-03\", \"Trabajo\"),\n",
    "    (\"2023-01-04\", \"Descanso\"),\n",
    "    \n",
    "    (\"2023-01-04\", \"Trabajo\"),\n",
    "    (\"2023-01-05\", \"Descanso\"),\n",
    "    # Agrega más datos aquí\n",
    "]\n",
    "\n",
    "# Crear listas separadas para las fechas y las actividades\n",
    "fechas = [fecha for fecha, _ in actividades]\n",
    "valores = [valor for _, valor in actividades]\n",
    "\n",
    "# Crear figura de calendario\n",
    "fig = go.Figure(data=go.Heatmap(\n",
    "    z=[1] * len(fechas),\n",
    "    x=fechas,\n",
    "    y=valores,\n",
    "    colorscale=\"Viridis\",\n",
    "    hovertemplate='%{x}<br>%{y}: %{text}',\n",
    "    text=valores,\n",
    "    showscale=False\n",
    "))\n",
    "\n",
    "# Configurar el diseño del gráfico\n",
    "fig.update_layout(\n",
    "    title=\"Actividad diaria\",\n",
    "    xaxis_nticks=len(fechas),\n",
    "    yaxis_nticks=1\n",
    ")\n",
    "\n",
    "# Mostrar el gráfico\n",
    "fig.show()\n"
   ]
  },
  {
   "cell_type": "code",
   "execution_count": 26,
   "metadata": {},
   "outputs": [
    {
     "data": {
      "application/vnd.plotly.v1+json": {
       "config": {
        "plotlyServerURL": "https://plot.ly"
       },
       "data": [
        {
         "hovertemplate": "Actividad=Trabajo<br>Fecha=%{y}<extra></extra>",
         "legendgroup": "Trabajo",
         "marker": {
          "color": "blue",
          "line": {
           "color": "black",
           "width": 0.5
          },
          "symbol": "circle"
         },
         "mode": "markers",
         "name": "Trabajo",
         "orientation": "v",
         "showlegend": true,
         "type": "scatter",
         "x": [
          "2023-01-01T00:00:00"
         ],
         "xaxis": "x",
         "y": [
          "2023-01-01T00:00:00"
         ],
         "yaxis": "y"
        },
        {
         "hovertemplate": "Actividad=Descanso<br>Fecha=%{y}<extra></extra>",
         "legendgroup": "Descanso",
         "marker": {
          "color": "green",
          "line": {
           "color": "black",
           "width": 0.5
          },
          "symbol": "circle"
         },
         "mode": "markers",
         "name": "Descanso",
         "orientation": "v",
         "showlegend": true,
         "type": "scatter",
         "x": [
          "2023-01-02T00:00:00"
         ],
         "xaxis": "x",
         "y": [
          "2023-01-02T00:00:00"
         ],
         "yaxis": "y"
        }
       ],
       "layout": {
        "height": 600,
        "legend": {
         "title": {
          "text": "Actividad"
         },
         "tracegroupgap": 0
        },
        "margin": {
         "t": 60
        },
        "showlegend": false,
        "template": {
         "data": {
          "bar": [
           {
            "error_x": {
             "color": "#2a3f5f"
            },
            "error_y": {
             "color": "#2a3f5f"
            },
            "marker": {
             "line": {
              "color": "#E5ECF6",
              "width": 0.5
             },
             "pattern": {
              "fillmode": "overlay",
              "size": 10,
              "solidity": 0.2
             }
            },
            "type": "bar"
           }
          ],
          "barpolar": [
           {
            "marker": {
             "line": {
              "color": "#E5ECF6",
              "width": 0.5
             },
             "pattern": {
              "fillmode": "overlay",
              "size": 10,
              "solidity": 0.2
             }
            },
            "type": "barpolar"
           }
          ],
          "carpet": [
           {
            "aaxis": {
             "endlinecolor": "#2a3f5f",
             "gridcolor": "white",
             "linecolor": "white",
             "minorgridcolor": "white",
             "startlinecolor": "#2a3f5f"
            },
            "baxis": {
             "endlinecolor": "#2a3f5f",
             "gridcolor": "white",
             "linecolor": "white",
             "minorgridcolor": "white",
             "startlinecolor": "#2a3f5f"
            },
            "type": "carpet"
           }
          ],
          "choropleth": [
           {
            "colorbar": {
             "outlinewidth": 0,
             "ticks": ""
            },
            "type": "choropleth"
           }
          ],
          "contour": [
           {
            "colorbar": {
             "outlinewidth": 0,
             "ticks": ""
            },
            "colorscale": [
             [
              0,
              "#0d0887"
             ],
             [
              0.1111111111111111,
              "#46039f"
             ],
             [
              0.2222222222222222,
              "#7201a8"
             ],
             [
              0.3333333333333333,
              "#9c179e"
             ],
             [
              0.4444444444444444,
              "#bd3786"
             ],
             [
              0.5555555555555556,
              "#d8576b"
             ],
             [
              0.6666666666666666,
              "#ed7953"
             ],
             [
              0.7777777777777778,
              "#fb9f3a"
             ],
             [
              0.8888888888888888,
              "#fdca26"
             ],
             [
              1,
              "#f0f921"
             ]
            ],
            "type": "contour"
           }
          ],
          "contourcarpet": [
           {
            "colorbar": {
             "outlinewidth": 0,
             "ticks": ""
            },
            "type": "contourcarpet"
           }
          ],
          "heatmap": [
           {
            "colorbar": {
             "outlinewidth": 0,
             "ticks": ""
            },
            "colorscale": [
             [
              0,
              "#0d0887"
             ],
             [
              0.1111111111111111,
              "#46039f"
             ],
             [
              0.2222222222222222,
              "#7201a8"
             ],
             [
              0.3333333333333333,
              "#9c179e"
             ],
             [
              0.4444444444444444,
              "#bd3786"
             ],
             [
              0.5555555555555556,
              "#d8576b"
             ],
             [
              0.6666666666666666,
              "#ed7953"
             ],
             [
              0.7777777777777778,
              "#fb9f3a"
             ],
             [
              0.8888888888888888,
              "#fdca26"
             ],
             [
              1,
              "#f0f921"
             ]
            ],
            "type": "heatmap"
           }
          ],
          "heatmapgl": [
           {
            "colorbar": {
             "outlinewidth": 0,
             "ticks": ""
            },
            "colorscale": [
             [
              0,
              "#0d0887"
             ],
             [
              0.1111111111111111,
              "#46039f"
             ],
             [
              0.2222222222222222,
              "#7201a8"
             ],
             [
              0.3333333333333333,
              "#9c179e"
             ],
             [
              0.4444444444444444,
              "#bd3786"
             ],
             [
              0.5555555555555556,
              "#d8576b"
             ],
             [
              0.6666666666666666,
              "#ed7953"
             ],
             [
              0.7777777777777778,
              "#fb9f3a"
             ],
             [
              0.8888888888888888,
              "#fdca26"
             ],
             [
              1,
              "#f0f921"
             ]
            ],
            "type": "heatmapgl"
           }
          ],
          "histogram": [
           {
            "marker": {
             "pattern": {
              "fillmode": "overlay",
              "size": 10,
              "solidity": 0.2
             }
            },
            "type": "histogram"
           }
          ],
          "histogram2d": [
           {
            "colorbar": {
             "outlinewidth": 0,
             "ticks": ""
            },
            "colorscale": [
             [
              0,
              "#0d0887"
             ],
             [
              0.1111111111111111,
              "#46039f"
             ],
             [
              0.2222222222222222,
              "#7201a8"
             ],
             [
              0.3333333333333333,
              "#9c179e"
             ],
             [
              0.4444444444444444,
              "#bd3786"
             ],
             [
              0.5555555555555556,
              "#d8576b"
             ],
             [
              0.6666666666666666,
              "#ed7953"
             ],
             [
              0.7777777777777778,
              "#fb9f3a"
             ],
             [
              0.8888888888888888,
              "#fdca26"
             ],
             [
              1,
              "#f0f921"
             ]
            ],
            "type": "histogram2d"
           }
          ],
          "histogram2dcontour": [
           {
            "colorbar": {
             "outlinewidth": 0,
             "ticks": ""
            },
            "colorscale": [
             [
              0,
              "#0d0887"
             ],
             [
              0.1111111111111111,
              "#46039f"
             ],
             [
              0.2222222222222222,
              "#7201a8"
             ],
             [
              0.3333333333333333,
              "#9c179e"
             ],
             [
              0.4444444444444444,
              "#bd3786"
             ],
             [
              0.5555555555555556,
              "#d8576b"
             ],
             [
              0.6666666666666666,
              "#ed7953"
             ],
             [
              0.7777777777777778,
              "#fb9f3a"
             ],
             [
              0.8888888888888888,
              "#fdca26"
             ],
             [
              1,
              "#f0f921"
             ]
            ],
            "type": "histogram2dcontour"
           }
          ],
          "mesh3d": [
           {
            "colorbar": {
             "outlinewidth": 0,
             "ticks": ""
            },
            "type": "mesh3d"
           }
          ],
          "parcoords": [
           {
            "line": {
             "colorbar": {
              "outlinewidth": 0,
              "ticks": ""
             }
            },
            "type": "parcoords"
           }
          ],
          "pie": [
           {
            "automargin": true,
            "type": "pie"
           }
          ],
          "scatter": [
           {
            "fillpattern": {
             "fillmode": "overlay",
             "size": 10,
             "solidity": 0.2
            },
            "type": "scatter"
           }
          ],
          "scatter3d": [
           {
            "line": {
             "colorbar": {
              "outlinewidth": 0,
              "ticks": ""
             }
            },
            "marker": {
             "colorbar": {
              "outlinewidth": 0,
              "ticks": ""
             }
            },
            "type": "scatter3d"
           }
          ],
          "scattercarpet": [
           {
            "marker": {
             "colorbar": {
              "outlinewidth": 0,
              "ticks": ""
             }
            },
            "type": "scattercarpet"
           }
          ],
          "scattergeo": [
           {
            "marker": {
             "colorbar": {
              "outlinewidth": 0,
              "ticks": ""
             }
            },
            "type": "scattergeo"
           }
          ],
          "scattergl": [
           {
            "marker": {
             "colorbar": {
              "outlinewidth": 0,
              "ticks": ""
             }
            },
            "type": "scattergl"
           }
          ],
          "scattermapbox": [
           {
            "marker": {
             "colorbar": {
              "outlinewidth": 0,
              "ticks": ""
             }
            },
            "type": "scattermapbox"
           }
          ],
          "scatterpolar": [
           {
            "marker": {
             "colorbar": {
              "outlinewidth": 0,
              "ticks": ""
             }
            },
            "type": "scatterpolar"
           }
          ],
          "scatterpolargl": [
           {
            "marker": {
             "colorbar": {
              "outlinewidth": 0,
              "ticks": ""
             }
            },
            "type": "scatterpolargl"
           }
          ],
          "scatterternary": [
           {
            "marker": {
             "colorbar": {
              "outlinewidth": 0,
              "ticks": ""
             }
            },
            "type": "scatterternary"
           }
          ],
          "surface": [
           {
            "colorbar": {
             "outlinewidth": 0,
             "ticks": ""
            },
            "colorscale": [
             [
              0,
              "#0d0887"
             ],
             [
              0.1111111111111111,
              "#46039f"
             ],
             [
              0.2222222222222222,
              "#7201a8"
             ],
             [
              0.3333333333333333,
              "#9c179e"
             ],
             [
              0.4444444444444444,
              "#bd3786"
             ],
             [
              0.5555555555555556,
              "#d8576b"
             ],
             [
              0.6666666666666666,
              "#ed7953"
             ],
             [
              0.7777777777777778,
              "#fb9f3a"
             ],
             [
              0.8888888888888888,
              "#fdca26"
             ],
             [
              1,
              "#f0f921"
             ]
            ],
            "type": "surface"
           }
          ],
          "table": [
           {
            "cells": {
             "fill": {
              "color": "#EBF0F8"
             },
             "line": {
              "color": "white"
             }
            },
            "header": {
             "fill": {
              "color": "#C8D4E3"
             },
             "line": {
              "color": "white"
             }
            },
            "type": "table"
           }
          ]
         },
         "layout": {
          "annotationdefaults": {
           "arrowcolor": "#2a3f5f",
           "arrowhead": 0,
           "arrowwidth": 1
          },
          "autotypenumbers": "strict",
          "coloraxis": {
           "colorbar": {
            "outlinewidth": 0,
            "ticks": ""
           }
          },
          "colorscale": {
           "diverging": [
            [
             0,
             "#8e0152"
            ],
            [
             0.1,
             "#c51b7d"
            ],
            [
             0.2,
             "#de77ae"
            ],
            [
             0.3,
             "#f1b6da"
            ],
            [
             0.4,
             "#fde0ef"
            ],
            [
             0.5,
             "#f7f7f7"
            ],
            [
             0.6,
             "#e6f5d0"
            ],
            [
             0.7,
             "#b8e186"
            ],
            [
             0.8,
             "#7fbc41"
            ],
            [
             0.9,
             "#4d9221"
            ],
            [
             1,
             "#276419"
            ]
           ],
           "sequential": [
            [
             0,
             "#0d0887"
            ],
            [
             0.1111111111111111,
             "#46039f"
            ],
            [
             0.2222222222222222,
             "#7201a8"
            ],
            [
             0.3333333333333333,
             "#9c179e"
            ],
            [
             0.4444444444444444,
             "#bd3786"
            ],
            [
             0.5555555555555556,
             "#d8576b"
            ],
            [
             0.6666666666666666,
             "#ed7953"
            ],
            [
             0.7777777777777778,
             "#fb9f3a"
            ],
            [
             0.8888888888888888,
             "#fdca26"
            ],
            [
             1,
             "#f0f921"
            ]
           ],
           "sequentialminus": [
            [
             0,
             "#0d0887"
            ],
            [
             0.1111111111111111,
             "#46039f"
            ],
            [
             0.2222222222222222,
             "#7201a8"
            ],
            [
             0.3333333333333333,
             "#9c179e"
            ],
            [
             0.4444444444444444,
             "#bd3786"
            ],
            [
             0.5555555555555556,
             "#d8576b"
            ],
            [
             0.6666666666666666,
             "#ed7953"
            ],
            [
             0.7777777777777778,
             "#fb9f3a"
            ],
            [
             0.8888888888888888,
             "#fdca26"
            ],
            [
             1,
             "#f0f921"
            ]
           ]
          },
          "colorway": [
           "#636efa",
           "#EF553B",
           "#00cc96",
           "#ab63fa",
           "#FFA15A",
           "#19d3f3",
           "#FF6692",
           "#B6E880",
           "#FF97FF",
           "#FECB52"
          ],
          "font": {
           "color": "#2a3f5f"
          },
          "geo": {
           "bgcolor": "white",
           "lakecolor": "white",
           "landcolor": "#E5ECF6",
           "showlakes": true,
           "showland": true,
           "subunitcolor": "white"
          },
          "hoverlabel": {
           "align": "left"
          },
          "hovermode": "closest",
          "mapbox": {
           "style": "light"
          },
          "paper_bgcolor": "white",
          "plot_bgcolor": "#E5ECF6",
          "polar": {
           "angularaxis": {
            "gridcolor": "white",
            "linecolor": "white",
            "ticks": ""
           },
           "bgcolor": "#E5ECF6",
           "radialaxis": {
            "gridcolor": "white",
            "linecolor": "white",
            "ticks": ""
           }
          },
          "scene": {
           "xaxis": {
            "backgroundcolor": "#E5ECF6",
            "gridcolor": "white",
            "gridwidth": 2,
            "linecolor": "white",
            "showbackground": true,
            "ticks": "",
            "zerolinecolor": "white"
           },
           "yaxis": {
            "backgroundcolor": "#E5ECF6",
            "gridcolor": "white",
            "gridwidth": 2,
            "linecolor": "white",
            "showbackground": true,
            "ticks": "",
            "zerolinecolor": "white"
           },
           "zaxis": {
            "backgroundcolor": "#E5ECF6",
            "gridcolor": "white",
            "gridwidth": 2,
            "linecolor": "white",
            "showbackground": true,
            "ticks": "",
            "zerolinecolor": "white"
           }
          },
          "shapedefaults": {
           "line": {
            "color": "#2a3f5f"
           }
          },
          "ternary": {
           "aaxis": {
            "gridcolor": "white",
            "linecolor": "white",
            "ticks": ""
           },
           "baxis": {
            "gridcolor": "white",
            "linecolor": "white",
            "ticks": ""
           },
           "bgcolor": "#E5ECF6",
           "caxis": {
            "gridcolor": "white",
            "linecolor": "white",
            "ticks": ""
           }
          },
          "title": {
           "x": 0.05
          },
          "xaxis": {
           "automargin": true,
           "gridcolor": "white",
           "linecolor": "white",
           "ticks": "",
           "title": {
            "standoff": 15
           },
           "zerolinecolor": "white",
           "zerolinewidth": 2
          },
          "yaxis": {
           "automargin": true,
           "gridcolor": "white",
           "linecolor": "white",
           "ticks": "",
           "title": {
            "standoff": 15
           },
           "zerolinecolor": "white",
           "zerolinewidth": 2
          }
         }
        },
        "title": {
         "text": "Actividad diaria"
        },
        "xaxis": {
         "anchor": "y",
         "domain": [
          0,
          1
         ],
         "title": {
          "text": "Fecha"
         }
        },
        "yaxis": {
         "anchor": "x",
         "domain": [
          0,
          1
         ],
         "title": {
          "text": "Fecha"
         }
        }
       }
      }
     },
     "metadata": {},
     "output_type": "display_data"
    }
   ],
   "source": [
    "import plotly.express as px\n",
    "import pandas as pd\n",
    "\n",
    "# Datos de ejemplo: actividad por día\n",
    "actividades = [\n",
    "    (\"2023-01-01\", \"Trabajo\"),\n",
    "    (\"2023-01-02\", \"Descanso\"),\n",
    "    # Agrega más datos aquí\n",
    "]\n",
    "\n",
    "# Crear un DataFrame con las actividades\n",
    "df = pd.DataFrame(actividades, columns=[\"Fecha\", \"Actividad\"])\n",
    "df[\"Fecha\"] = pd.to_datetime(df[\"Fecha\"])\n",
    "\n",
    "# Crear un nuevo DataFrame para el gráfico tabular\n",
    "df_table = pd.DataFrame(columns=[\"Fecha\", \"Actividad\"])\n",
    "\n",
    "# Iterar sobre las fechas únicas y agregar la actividad correspondiente\n",
    "for fecha in df[\"Fecha\"].unique():\n",
    "    actividad = df.loc[df[\"Fecha\"] == fecha, \"Actividad\"].values[0]\n",
    "    nueva_fila = pd.DataFrame({\"Fecha\": fecha, \"Actividad\": actividad}, index=[0])\n",
    "    df_table = pd.concat([df_table, nueva_fila], ignore_index=True)\n",
    "\n",
    "# Crear el gráfico de calendario tabular\n",
    "fig = px.scatter(df_table, x=\"Fecha\", y=\"Fecha\", color=\"Actividad\",\n",
    "                 color_discrete_map={\"Trabajo\": \"blue\", \"Descanso\": \"green\"},\n",
    "                 size_max=100)\n",
    "\n",
    "# Configurar el diseño del gráfico\n",
    "fig.update_traces(marker=dict(line=dict(width=0.5, color='black')),\n",
    "                  selector=dict(mode='markers'))\n",
    "\n",
    "fig.update_layout(\n",
    "    title=\"Actividad diaria\",\n",
    "    showlegend=False,\n",
    "    height=600\n",
    ")\n",
    "\n",
    "# Mostrar el gráfico\n",
    "fig.show()\n",
    "\n"
   ]
  },
  {
   "cell_type": "code",
   "execution_count": 34,
   "metadata": {},
   "outputs": [],
   "source": [
    "import calplot\n",
    "import numpy as np; np.random.seed(sum(map(ord, 'calplot')))\n",
    "import pandas as pd"
   ]
  },
  {
   "cell_type": "code",
   "execution_count": 36,
   "metadata": {},
   "outputs": [
    {
     "name": "stderr",
     "output_type": "stream",
     "text": [
      "findfont: Font family 'Helvetica' not found.\n",
      "findfont: Font family 'Helvetica' not found.\n",
      "findfont: Font family 'Helvetica' not found.\n",
      "findfont: Font family 'Helvetica' not found.\n",
      "findfont: Font family 'Helvetica' not found.\n",
      "findfont: Font family 'Helvetica' not found.\n",
      "findfont: Font family 'Helvetica' not found.\n",
      "findfont: Font family 'Helvetica' not found.\n",
      "findfont: Font family 'Helvetica' not found.\n",
      "findfont: Font family 'Helvetica' not found.\n"
     ]
    },
    {
     "data": {
      "image/png": "[encoded data removed]",
      "text/plain": [
       "<Figure size 1250x340 with 3 Axes>"
      ]
     },
     "metadata": {},
     "output_type": "display_data"
    }
   ],
   "source": [
    "all_days = pd.date_range('1/1/2019', periods=730, freq='D')\n",
    "days = np.random.choice(all_days, 500)\n",
    "events = pd.Series(np.random.randn(len(days)), index=days)\n",
    "calplot.calplot(events);"
   ]
  },
  {
   "cell_type": "code",
   "execution_count": 38,
   "metadata": {},
   "outputs": [],
   "source": [
    "# Datos de ejemplo (fecha y temperatura)\n",
    "fechas = ['2023-01-01', '2023-01-05', '2023-01-10', '2023-01-15']\n",
    "temperaturas = [25, 28, 30, 27]"
   ]
  },
  {
   "cell_type": "code",
   "execution_count": 43,
   "metadata": {},
   "outputs": [
    {
     "data": {
      "text/html": [
       "<div>\n",
       "<style scoped>\n",
       "    .dataframe tbody tr th:only-of-type {\n",
       "        vertical-align: middle;\n",
       "    }\n",
       "\n",
       "    .dataframe tbody tr th {\n",
       "        vertical-align: top;\n",
       "    }\n",
       "\n",
       "    .dataframe thead th {\n",
       "        text-align: right;\n",
       "    }\n",
       "</style>\n",
       "<table border=\"1\" class=\"dataframe\">\n",
       "  <thead>\n",
       "    <tr style=\"text-align: right;\">\n",
       "      <th></th>\n",
       "      <th>Date</th>\n",
       "      <th>Value</th>\n",
       "    </tr>\n",
       "  </thead>\n",
       "  <tbody>\n",
       "    <tr>\n",
       "      <th>0</th>\n",
       "      <td>2023-01-01</td>\n",
       "      <td>25</td>\n",
       "    </tr>\n",
       "    <tr>\n",
       "      <th>1</th>\n",
       "      <td>2023-01-05</td>\n",
       "      <td>28</td>\n",
       "    </tr>\n",
       "    <tr>\n",
       "      <th>2</th>\n",
       "      <td>2023-01-10</td>\n",
       "      <td>30</td>\n",
       "    </tr>\n",
       "    <tr>\n",
       "      <th>3</th>\n",
       "      <td>2023-01-15</td>\n",
       "      <td>27</td>\n",
       "    </tr>\n",
       "  </tbody>\n",
       "</table>\n",
       "</div>"
      ],
      "text/plain": [
       "         Date  Value\n",
       "0  2023-01-01     25\n",
       "1  2023-01-05     28\n",
       "2  2023-01-10     30\n",
       "3  2023-01-15     27"
      ]
     },
     "execution_count": 43,
     "metadata": {},
     "output_type": "execute_result"
    }
   ],
   "source": [
    "df = pd.DataFrame(list(zip(fechas, temperaturas)),\n",
    "               columns =['Date', 'Value'])\n",
    "df.head()"
   ]
  },
  {
   "cell_type": "code",
   "execution_count": 44,
   "metadata": {},
   "outputs": [
    {
     "data": {
      "image/png": "[encoded data removed]",
      "text/plain": [
       "<Figure size 1100x850 with 12 Axes>"
      ]
     },
     "metadata": {},
     "output_type": "display_data"
    }
   ],
   "source": [
    "import pandas as pd\n",
    "\n",
    "from calendarplot import create_year_calendar\n",
    "\n",
    "# load the CSV into a DataFrame\n",
    "# df = pd.read_csv('data.csv')\n",
    "# convert the date strings to timestamps\n",
    "df['Date'] = pd.to_datetime(df.Date)\n",
    "# set the index to the Date column\n",
    "df.set_index('Date', inplace=True)\n",
    "\n",
    "# create the highlight map for all possible values, as we intend to cover the\n",
    "# entire calendar.  Days with no data will get a value of 0 and by using None\n",
    "# as the description, it won't show up in the legend\n",
    "hlmap = {0: ('gainsboro', None),\n",
    "         1: ('lightblue', 'Near Miss'),\n",
    "         2: ('tomato', 'Hit')}\n",
    "\n",
    "# create the calendar using the Value column\n",
    "create_year_calendar(df['Value'], 2023, '2022 Safety Report', 'example.png', hlmap=hlmap)"
   ]
  },
  {
   "attachments": {},
   "cell_type": "markdown",
   "metadata": {},
   "source": [
    "# Intento bubble chart en plotly\n",
    "\n",
    "Esto es un test, falta automatizarlo."
   ]
  },
  {
   "cell_type": "code",
   "execution_count": 41,
   "metadata": {},
   "outputs": [],
   "source": [
    "labels_en = {\n",
    "    'color':'characteristic',\n",
    "    'day':'Day',\n",
    "    'month':'Month'\n",
    "}"
   ]
  },
  {
   "cell_type": "code",
   "execution_count": 42,
   "metadata": {},
   "outputs": [],
   "source": [
    "import plotly.express as px\n",
    "import pandas as pd\n",
    "import numpy as np"
   ]
  },
  {
   "cell_type": "code",
   "execution_count": 43,
   "metadata": {},
   "outputs": [],
   "source": [
    "# fig = px.scatter(data, x='day', y='y', color='color', size='y', \n",
    "#                  hover_data=['date', 'event', 'month'], \n",
    "#                  title='Calendar',\n",
    "#                  labels = labels_en,\n",
    "#                  animation_frame=\"color\", \n",
    "#                  )\n",
    "# fig.update_yaxes(showticklabels=False, title=None)# title_text=\"\", visible=False, title=None, showticklabels=False, title=None\n",
    "# fig.update_xaxes(\n",
    "#     tickvals=[1,2,3,4,5,6,7],\n",
    "#     ticktext=['Monday','Tuesday','Wednesday','Thursday','Friday','Saturday','Sunday'],\n",
    "#     )\n",
    "# fig.update_traces(\n",
    "#     hovertemplate=\"<br>\".join([\n",
    "#         \"Fecha: %{customdata[0]}\",\n",
    "#         \"Dia de la semana: %{x}\",\n",
    "#         \"Evento: %{customdata[1]}\",\n",
    "#         \"Mes: %{customdata[2]}\"\n",
    "#         # \"scaled value: %{y:,.2f}\",\n",
    "#     ])\n",
    "# )\n",
    "# fig[\"layout\"].pop(\"updatemenus\") \n",
    "# fig.update_layout({'plot_bgcolor': 'rgba(0, 0, 0, 0)', 'paper_bgcolor': 'rgba(0, 0, 0, 0)'})\n",
    "# fig.show()"
   ]
  },
  {
   "cell_type": "code",
   "execution_count": 44,
   "metadata": {},
   "outputs": [
    {
     "name": "stdout",
     "output_type": "stream",
     "text": [
      "['2022-01-01', '2022-01-02', '2022-01-03', '2022-01-04', '2022-01-05', '2022-01-06', '2022-01-07', '2022-01-08', '2022-01-09', '2022-01-10', '2022-01-11', '2022-01-12', '2022-01-13', '2022-01-14', '2022-01-15', '2022-01-16', '2022-01-17', '2022-01-18', '2022-01-19', '2022-01-20', '2022-01-21', '2022-01-22', '2022-01-23', '2022-01-24', '2022-01-25', '2022-01-26', '2022-01-27', '2022-01-28', '2022-01-29', '2022-01-30', '2022-01-31', '2022-01-31', '2022-01-31', '2022-02-01', '2022-02-02', '2022-02-03', '2022-02-04', '2022-02-05', '2022-02-06', '2022-02-07', '2022-02-08', '2022-02-09', '2022-02-10', '2022-02-11', '2022-02-12', '2022-02-13', '2022-02-14', '2022-02-15', '2022-02-16', '2022-02-17', '2022-02-18', '2022-02-19', '2022-02-20', '2022-02-21', '2022-02-22', '2022-02-23', '2022-02-24', '2022-02-25', '2022-02-26', '2022-02-27', '2022-02-28']\n"
     ]
    }
   ],
   "source": [
    "from datetime import datetime, timedelta\n",
    "\n",
    "start_date = datetime(2022, 1, 1)\n",
    "end_date = datetime(2022, 2, 28)\n",
    "\n",
    "date_list = []\n",
    "\n",
    "current_date = start_date\n",
    "while current_date <= end_date:\n",
    "    date_list.append(current_date.strftime(\"%Y-%m-%d\"))\n",
    "    current_date += timedelta(days=1)\n",
    "\n",
    "# Agregar fechas adicionales\n",
    "additional_dates = [\"2022-01-31\", \"2022-01-31\"]\n",
    "date_list.extend(additional_dates)\n",
    "\n",
    "date_list.sort()\n",
    "\n",
    "print(date_list)"
   ]
  },
  {
   "cell_type": "code",
   "execution_count": 51,
   "metadata": {},
   "outputs": [],
   "source": [
    "data = pd.DataFrame({\n",
    "    \n",
    "    'day': [\n",
    "            6,7,\n",
    "            1,2,3,4,5,6,7,\n",
    "            1,2,3,4,5,6,7,\n",
    "            1,2,3,4,5,6,7,\n",
    "            1,2,3,4,5,6,7,\n",
    "            1,1,1,\n",
    "            2,3,4,5,6,7,\n",
    "            1,2,3,4,5,6,7,\n",
    "            1,2,3,4,5,6,7,\n",
    "            1,2,3,4,5,6,7,\n",
    "            1,\n",
    "           ],\n",
    "    \n",
    "    'num_month':[\n",
    "           1,1,\n",
    "           1,1,1,1,1,1,1,\n",
    "           1,1,1,1,1,1,1,\n",
    "           1,1,1,1,1,1,1,\n",
    "           1,1,1,1,1,1,1,\n",
    "           1,1,1,\n",
    "           2,2,2,2,2,2,\n",
    "           2,2,2,2,2,2,2,\n",
    "           2,2,2,2,2,2,2,\n",
    "           2,2,2,2,2,2,2,\n",
    "           2,\n",
    "    ],\n",
    "    \n",
    "    'month':['2022-January','2022-January',\n",
    "             '2022-January','2022-January','2022-January','2022-January','2022-January','2022-January','2022-January',\n",
    "             '2022-January','2022-January','2022-January','2022-January','2022-January','2022-January','2022-January',\n",
    "             '2022-January','2022-January','2022-January','2022-January','2022-January','2022-January','2022-January',\n",
    "             '2022-January','2022-January','2022-January','2022-January','2022-January','2022-January','2022-January',\n",
    "             '2022-January','2022-January','2022-January', \n",
    "             '2022-February','2022-February','2022-February','2022-February','2022-February','2022-February',\n",
    "             '2022-February','2022-February','2022-February','2022-February','2022-February','2022-February','2022-February',\n",
    "             '2022-February','2022-February','2022-February','2022-February','2022-February','2022-February','2022-February',\n",
    "             '2022-February','2022-February','2022-February','2022-February','2022-February','2022-February','2022-February',\n",
    "             '2022-February',\n",
    "    ],\n",
    "\n",
    "    'y': [50, 50,\n",
    "          40, 40, 40, 40, 40, 40, 40, \n",
    "          30, 30, 30, 30, 30, 30, 30,\n",
    "          20, 20, 20, 20, 20, 20, 20,\n",
    "          10, 10, 10, 10, 10, 10, 10,\n",
    "           0,   0,  0,\n",
    "          50, 50, 50, 50, 50, 50,\n",
    "          40, 40, 40, 40, 40, 40, 40, \n",
    "          30, 30, 30, 30, 30, 30, 30,\n",
    "          20, 20, 20, 20, 20, 20, 20,\n",
    "          10,\n",
    "               ],\n",
    "    \n",
    "    'date': date_list,\n",
    "    \n",
    "    'color': [\n",
    "              'A', 'B', \n",
    "              'B', 'B', 'C', 'A', 'B', 'B', 'C', \n",
    "              'B', 'C', 'A', 'B', 'B', 'C', 'B', \n",
    "              'B', 'C', 'B', 'C', 'A', 'C', 'A', \n",
    "              'B', 'B', 'C', 'A', 'B', 'B', 'C',\n",
    "              'B', 'E', 'H',\n",
    "              'A', 'B', 'B', 'B', 'C', 'E',\n",
    "              'A', 'B', 'B', 'B', 'C', 'C', 'A',\n",
    "              'A', 'B', 'C', 'A', 'C', 'E', 'E',\n",
    "              'E', 'E', 'E', 'B', 'B', 'C', 'C',\n",
    "              'H', \n",
    "              ],\n",
    "    \n",
    "    'event': [\n",
    "              'A', 'B', \n",
    "              'B', 'B', 'C', 'A', 'B', 'B', 'C', \n",
    "              'B', 'C', 'A', 'B', 'B', 'C', 'B', \n",
    "              'B', 'C', 'B', 'C', 'A', 'C', 'A', \n",
    "              'B', 'B', 'C', 'A', 'B', 'B', 'C',\n",
    "              'B', 'E', 'H',\n",
    "              'A', 'B', 'B', 'B', 'C', 'E',\n",
    "              'A', 'B', 'B', 'B', 'C', 'C', 'A',\n",
    "              'A', 'B', 'C', 'A', 'C', 'E', 'E',\n",
    "              'E', 'E', 'E', 'B', 'B', 'C', 'C',\n",
    "              'H',\n",
    "              ],\n",
    "    \n",
    "    'size': [\n",
    "           50,50,\n",
    "           50,50,50,50,50,50,50,\n",
    "           50,50,50,50,50,50,50,\n",
    "           50,50,50,50,50,50,50,\n",
    "           50,50,50,50,50,50,50,\n",
    "           50, 0, 0,\n",
    "           50,50,50,50,50,50,\n",
    "           50,50,50,50,50,50,50,\n",
    "           50,50,50,50,50,50,50,\n",
    "           50,50,50,50,50,50,50,\n",
    "           50,\n",
    "    ]\n",
    "    \n",
    "})\n",
    "data['date'] = pd.to_datetime(data['date'])\n",
    "data['month'] = data['month'].astype(str)\n",
    "\n",
    "data['day_num'] = pd.to_datetime(data['date']).dt.day\n",
    "\n",
    "# data.loc[(data['date'] == '2022-01-31') & (data['size'] == 0), 'day_num'] = np.nan\n",
    "# data['day_num'] = np.where(data['size'] == 0, np.nan, data['day_num'])"
   ]
  },
  {
   "cell_type": "code",
   "execution_count": 52,
   "metadata": {},
   "outputs": [
    {
     "data": {
      "text/html": [
       "<div>\n",
       "<style scoped>\n",
       "    .dataframe tbody tr th:only-of-type {\n",
       "        vertical-align: middle;\n",
       "    }\n",
       "\n",
       "    .dataframe tbody tr th {\n",
       "        vertical-align: top;\n",
       "    }\n",
       "\n",
       "    .dataframe thead th {\n",
       "        text-align: right;\n",
       "    }\n",
       "</style>\n",
       "<table border=\"1\" class=\"dataframe\">\n",
       "  <thead>\n",
       "    <tr style=\"text-align: right;\">\n",
       "      <th></th>\n",
       "      <th>day</th>\n",
       "      <th>num_month</th>\n",
       "      <th>month</th>\n",
       "      <th>y</th>\n",
       "      <th>date</th>\n",
       "      <th>color</th>\n",
       "      <th>event</th>\n",
       "      <th>size</th>\n",
       "      <th>day_num</th>\n",
       "    </tr>\n",
       "  </thead>\n",
       "  <tbody>\n",
       "    <tr>\n",
       "      <th>0</th>\n",
       "      <td>6</td>\n",
       "      <td>1</td>\n",
       "      <td>2022-January</td>\n",
       "      <td>50</td>\n",
       "      <td>2022-01-01</td>\n",
       "      <td>A</td>\n",
       "      <td>A</td>\n",
       "      <td>50</td>\n",
       "      <td>1</td>\n",
       "    </tr>\n",
       "    <tr>\n",
       "      <th>1</th>\n",
       "      <td>7</td>\n",
       "      <td>1</td>\n",
       "      <td>2022-January</td>\n",
       "      <td>50</td>\n",
       "      <td>2022-01-02</td>\n",
       "      <td>B</td>\n",
       "      <td>B</td>\n",
       "      <td>50</td>\n",
       "      <td>2</td>\n",
       "    </tr>\n",
       "    <tr>\n",
       "      <th>2</th>\n",
       "      <td>1</td>\n",
       "      <td>1</td>\n",
       "      <td>2022-January</td>\n",
       "      <td>40</td>\n",
       "      <td>2022-01-03</td>\n",
       "      <td>B</td>\n",
       "      <td>B</td>\n",
       "      <td>50</td>\n",
       "      <td>3</td>\n",
       "    </tr>\n",
       "    <tr>\n",
       "      <th>3</th>\n",
       "      <td>2</td>\n",
       "      <td>1</td>\n",
       "      <td>2022-January</td>\n",
       "      <td>40</td>\n",
       "      <td>2022-01-04</td>\n",
       "      <td>B</td>\n",
       "      <td>B</td>\n",
       "      <td>50</td>\n",
       "      <td>4</td>\n",
       "    </tr>\n",
       "    <tr>\n",
       "      <th>4</th>\n",
       "      <td>3</td>\n",
       "      <td>1</td>\n",
       "      <td>2022-January</td>\n",
       "      <td>40</td>\n",
       "      <td>2022-01-05</td>\n",
       "      <td>C</td>\n",
       "      <td>C</td>\n",
       "      <td>50</td>\n",
       "      <td>5</td>\n",
       "    </tr>\n",
       "    <tr>\n",
       "      <th>5</th>\n",
       "      <td>4</td>\n",
       "      <td>1</td>\n",
       "      <td>2022-January</td>\n",
       "      <td>40</td>\n",
       "      <td>2022-01-06</td>\n",
       "      <td>A</td>\n",
       "      <td>A</td>\n",
       "      <td>50</td>\n",
       "      <td>6</td>\n",
       "    </tr>\n",
       "    <tr>\n",
       "      <th>6</th>\n",
       "      <td>5</td>\n",
       "      <td>1</td>\n",
       "      <td>2022-January</td>\n",
       "      <td>40</td>\n",
       "      <td>2022-01-07</td>\n",
       "      <td>B</td>\n",
       "      <td>B</td>\n",
       "      <td>50</td>\n",
       "      <td>7</td>\n",
       "    </tr>\n",
       "    <tr>\n",
       "      <th>7</th>\n",
       "      <td>6</td>\n",
       "      <td>1</td>\n",
       "      <td>2022-January</td>\n",
       "      <td>40</td>\n",
       "      <td>2022-01-08</td>\n",
       "      <td>B</td>\n",
       "      <td>B</td>\n",
       "      <td>50</td>\n",
       "      <td>8</td>\n",
       "    </tr>\n",
       "    <tr>\n",
       "      <th>8</th>\n",
       "      <td>7</td>\n",
       "      <td>1</td>\n",
       "      <td>2022-January</td>\n",
       "      <td>40</td>\n",
       "      <td>2022-01-09</td>\n",
       "      <td>C</td>\n",
       "      <td>C</td>\n",
       "      <td>50</td>\n",
       "      <td>9</td>\n",
       "    </tr>\n",
       "    <tr>\n",
       "      <th>9</th>\n",
       "      <td>1</td>\n",
       "      <td>1</td>\n",
       "      <td>2022-January</td>\n",
       "      <td>30</td>\n",
       "      <td>2022-01-10</td>\n",
       "      <td>B</td>\n",
       "      <td>B</td>\n",
       "      <td>50</td>\n",
       "      <td>10</td>\n",
       "    </tr>\n",
       "    <tr>\n",
       "      <th>10</th>\n",
       "      <td>2</td>\n",
       "      <td>1</td>\n",
       "      <td>2022-January</td>\n",
       "      <td>30</td>\n",
       "      <td>2022-01-11</td>\n",
       "      <td>C</td>\n",
       "      <td>C</td>\n",
       "      <td>50</td>\n",
       "      <td>11</td>\n",
       "    </tr>\n",
       "    <tr>\n",
       "      <th>11</th>\n",
       "      <td>3</td>\n",
       "      <td>1</td>\n",
       "      <td>2022-January</td>\n",
       "      <td>30</td>\n",
       "      <td>2022-01-12</td>\n",
       "      <td>A</td>\n",
       "      <td>A</td>\n",
       "      <td>50</td>\n",
       "      <td>12</td>\n",
       "    </tr>\n",
       "    <tr>\n",
       "      <th>12</th>\n",
       "      <td>4</td>\n",
       "      <td>1</td>\n",
       "      <td>2022-January</td>\n",
       "      <td>30</td>\n",
       "      <td>2022-01-13</td>\n",
       "      <td>B</td>\n",
       "      <td>B</td>\n",
       "      <td>50</td>\n",
       "      <td>13</td>\n",
       "    </tr>\n",
       "    <tr>\n",
       "      <th>13</th>\n",
       "      <td>5</td>\n",
       "      <td>1</td>\n",
       "      <td>2022-January</td>\n",
       "      <td>30</td>\n",
       "      <td>2022-01-14</td>\n",
       "      <td>B</td>\n",
       "      <td>B</td>\n",
       "      <td>50</td>\n",
       "      <td>14</td>\n",
       "    </tr>\n",
       "    <tr>\n",
       "      <th>14</th>\n",
       "      <td>6</td>\n",
       "      <td>1</td>\n",
       "      <td>2022-January</td>\n",
       "      <td>30</td>\n",
       "      <td>2022-01-15</td>\n",
       "      <td>C</td>\n",
       "      <td>C</td>\n",
       "      <td>50</td>\n",
       "      <td>15</td>\n",
       "    </tr>\n",
       "    <tr>\n",
       "      <th>15</th>\n",
       "      <td>7</td>\n",
       "      <td>1</td>\n",
       "      <td>2022-January</td>\n",
       "      <td>30</td>\n",
       "      <td>2022-01-16</td>\n",
       "      <td>B</td>\n",
       "      <td>B</td>\n",
       "      <td>50</td>\n",
       "      <td>16</td>\n",
       "    </tr>\n",
       "    <tr>\n",
       "      <th>16</th>\n",
       "      <td>1</td>\n",
       "      <td>1</td>\n",
       "      <td>2022-January</td>\n",
       "      <td>20</td>\n",
       "      <td>2022-01-17</td>\n",
       "      <td>B</td>\n",
       "      <td>B</td>\n",
       "      <td>50</td>\n",
       "      <td>17</td>\n",
       "    </tr>\n",
       "    <tr>\n",
       "      <th>17</th>\n",
       "      <td>2</td>\n",
       "      <td>1</td>\n",
       "      <td>2022-January</td>\n",
       "      <td>20</td>\n",
       "      <td>2022-01-18</td>\n",
       "      <td>C</td>\n",
       "      <td>C</td>\n",
       "      <td>50</td>\n",
       "      <td>18</td>\n",
       "    </tr>\n",
       "    <tr>\n",
       "      <th>18</th>\n",
       "      <td>3</td>\n",
       "      <td>1</td>\n",
       "      <td>2022-January</td>\n",
       "      <td>20</td>\n",
       "      <td>2022-01-19</td>\n",
       "      <td>B</td>\n",
       "      <td>B</td>\n",
       "      <td>50</td>\n",
       "      <td>19</td>\n",
       "    </tr>\n",
       "    <tr>\n",
       "      <th>19</th>\n",
       "      <td>4</td>\n",
       "      <td>1</td>\n",
       "      <td>2022-January</td>\n",
       "      <td>20</td>\n",
       "      <td>2022-01-20</td>\n",
       "      <td>C</td>\n",
       "      <td>C</td>\n",
       "      <td>50</td>\n",
       "      <td>20</td>\n",
       "    </tr>\n",
       "    <tr>\n",
       "      <th>20</th>\n",
       "      <td>5</td>\n",
       "      <td>1</td>\n",
       "      <td>2022-January</td>\n",
       "      <td>20</td>\n",
       "      <td>2022-01-21</td>\n",
       "      <td>A</td>\n",
       "      <td>A</td>\n",
       "      <td>50</td>\n",
       "      <td>21</td>\n",
       "    </tr>\n",
       "    <tr>\n",
       "      <th>21</th>\n",
       "      <td>6</td>\n",
       "      <td>1</td>\n",
       "      <td>2022-January</td>\n",
       "      <td>20</td>\n",
       "      <td>2022-01-22</td>\n",
       "      <td>C</td>\n",
       "      <td>C</td>\n",
       "      <td>50</td>\n",
       "      <td>22</td>\n",
       "    </tr>\n",
       "    <tr>\n",
       "      <th>22</th>\n",
       "      <td>7</td>\n",
       "      <td>1</td>\n",
       "      <td>2022-January</td>\n",
       "      <td>20</td>\n",
       "      <td>2022-01-23</td>\n",
       "      <td>A</td>\n",
       "      <td>A</td>\n",
       "      <td>50</td>\n",
       "      <td>23</td>\n",
       "    </tr>\n",
       "    <tr>\n",
       "      <th>23</th>\n",
       "      <td>1</td>\n",
       "      <td>1</td>\n",
       "      <td>2022-January</td>\n",
       "      <td>10</td>\n",
       "      <td>2022-01-24</td>\n",
       "      <td>B</td>\n",
       "      <td>B</td>\n",
       "      <td>50</td>\n",
       "      <td>24</td>\n",
       "    </tr>\n",
       "    <tr>\n",
       "      <th>24</th>\n",
       "      <td>2</td>\n",
       "      <td>1</td>\n",
       "      <td>2022-January</td>\n",
       "      <td>10</td>\n",
       "      <td>2022-01-25</td>\n",
       "      <td>B</td>\n",
       "      <td>B</td>\n",
       "      <td>50</td>\n",
       "      <td>25</td>\n",
       "    </tr>\n",
       "    <tr>\n",
       "      <th>25</th>\n",
       "      <td>3</td>\n",
       "      <td>1</td>\n",
       "      <td>2022-January</td>\n",
       "      <td>10</td>\n",
       "      <td>2022-01-26</td>\n",
       "      <td>C</td>\n",
       "      <td>C</td>\n",
       "      <td>50</td>\n",
       "      <td>26</td>\n",
       "    </tr>\n",
       "    <tr>\n",
       "      <th>26</th>\n",
       "      <td>4</td>\n",
       "      <td>1</td>\n",
       "      <td>2022-January</td>\n",
       "      <td>10</td>\n",
       "      <td>2022-01-27</td>\n",
       "      <td>A</td>\n",
       "      <td>A</td>\n",
       "      <td>50</td>\n",
       "      <td>27</td>\n",
       "    </tr>\n",
       "    <tr>\n",
       "      <th>27</th>\n",
       "      <td>5</td>\n",
       "      <td>1</td>\n",
       "      <td>2022-January</td>\n",
       "      <td>10</td>\n",
       "      <td>2022-01-28</td>\n",
       "      <td>B</td>\n",
       "      <td>B</td>\n",
       "      <td>50</td>\n",
       "      <td>28</td>\n",
       "    </tr>\n",
       "    <tr>\n",
       "      <th>28</th>\n",
       "      <td>6</td>\n",
       "      <td>1</td>\n",
       "      <td>2022-January</td>\n",
       "      <td>10</td>\n",
       "      <td>2022-01-29</td>\n",
       "      <td>B</td>\n",
       "      <td>B</td>\n",
       "      <td>50</td>\n",
       "      <td>29</td>\n",
       "    </tr>\n",
       "    <tr>\n",
       "      <th>29</th>\n",
       "      <td>7</td>\n",
       "      <td>1</td>\n",
       "      <td>2022-January</td>\n",
       "      <td>10</td>\n",
       "      <td>2022-01-30</td>\n",
       "      <td>C</td>\n",
       "      <td>C</td>\n",
       "      <td>50</td>\n",
       "      <td>30</td>\n",
       "    </tr>\n",
       "    <tr>\n",
       "      <th>30</th>\n",
       "      <td>1</td>\n",
       "      <td>1</td>\n",
       "      <td>2022-January</td>\n",
       "      <td>0</td>\n",
       "      <td>2022-01-31</td>\n",
       "      <td>B</td>\n",
       "      <td>B</td>\n",
       "      <td>50</td>\n",
       "      <td>31</td>\n",
       "    </tr>\n",
       "    <tr>\n",
       "      <th>31</th>\n",
       "      <td>1</td>\n",
       "      <td>1</td>\n",
       "      <td>2022-January</td>\n",
       "      <td>0</td>\n",
       "      <td>2022-01-31</td>\n",
       "      <td>E</td>\n",
       "      <td>E</td>\n",
       "      <td>0</td>\n",
       "      <td>31</td>\n",
       "    </tr>\n",
       "    <tr>\n",
       "      <th>32</th>\n",
       "      <td>1</td>\n",
       "      <td>1</td>\n",
       "      <td>2022-January</td>\n",
       "      <td>0</td>\n",
       "      <td>2022-01-31</td>\n",
       "      <td>H</td>\n",
       "      <td>H</td>\n",
       "      <td>0</td>\n",
       "      <td>31</td>\n",
       "    </tr>\n",
       "    <tr>\n",
       "      <th>33</th>\n",
       "      <td>2</td>\n",
       "      <td>2</td>\n",
       "      <td>2022-February</td>\n",
       "      <td>50</td>\n",
       "      <td>2022-02-01</td>\n",
       "      <td>A</td>\n",
       "      <td>A</td>\n",
       "      <td>50</td>\n",
       "      <td>1</td>\n",
       "    </tr>\n",
       "    <tr>\n",
       "      <th>34</th>\n",
       "      <td>3</td>\n",
       "      <td>2</td>\n",
       "      <td>2022-February</td>\n",
       "      <td>50</td>\n",
       "      <td>2022-02-02</td>\n",
       "      <td>B</td>\n",
       "      <td>B</td>\n",
       "      <td>50</td>\n",
       "      <td>2</td>\n",
       "    </tr>\n",
       "    <tr>\n",
       "      <th>35</th>\n",
       "      <td>4</td>\n",
       "      <td>2</td>\n",
       "      <td>2022-February</td>\n",
       "      <td>50</td>\n",
       "      <td>2022-02-03</td>\n",
       "      <td>B</td>\n",
       "      <td>B</td>\n",
       "      <td>50</td>\n",
       "      <td>3</td>\n",
       "    </tr>\n",
       "    <tr>\n",
       "      <th>36</th>\n",
       "      <td>5</td>\n",
       "      <td>2</td>\n",
       "      <td>2022-February</td>\n",
       "      <td>50</td>\n",
       "      <td>2022-02-04</td>\n",
       "      <td>B</td>\n",
       "      <td>B</td>\n",
       "      <td>50</td>\n",
       "      <td>4</td>\n",
       "    </tr>\n",
       "    <tr>\n",
       "      <th>37</th>\n",
       "      <td>6</td>\n",
       "      <td>2</td>\n",
       "      <td>2022-February</td>\n",
       "      <td>50</td>\n",
       "      <td>2022-02-05</td>\n",
       "      <td>C</td>\n",
       "      <td>C</td>\n",
       "      <td>50</td>\n",
       "      <td>5</td>\n",
       "    </tr>\n",
       "    <tr>\n",
       "      <th>38</th>\n",
       "      <td>7</td>\n",
       "      <td>2</td>\n",
       "      <td>2022-February</td>\n",
       "      <td>50</td>\n",
       "      <td>2022-02-06</td>\n",
       "      <td>E</td>\n",
       "      <td>E</td>\n",
       "      <td>50</td>\n",
       "      <td>6</td>\n",
       "    </tr>\n",
       "    <tr>\n",
       "      <th>39</th>\n",
       "      <td>1</td>\n",
       "      <td>2</td>\n",
       "      <td>2022-February</td>\n",
       "      <td>40</td>\n",
       "      <td>2022-02-07</td>\n",
       "      <td>A</td>\n",
       "      <td>A</td>\n",
       "      <td>50</td>\n",
       "      <td>7</td>\n",
       "    </tr>\n",
       "    <tr>\n",
       "      <th>40</th>\n",
       "      <td>2</td>\n",
       "      <td>2</td>\n",
       "      <td>2022-February</td>\n",
       "      <td>40</td>\n",
       "      <td>2022-02-08</td>\n",
       "      <td>B</td>\n",
       "      <td>B</td>\n",
       "      <td>50</td>\n",
       "      <td>8</td>\n",
       "    </tr>\n",
       "    <tr>\n",
       "      <th>41</th>\n",
       "      <td>3</td>\n",
       "      <td>2</td>\n",
       "      <td>2022-February</td>\n",
       "      <td>40</td>\n",
       "      <td>2022-02-09</td>\n",
       "      <td>B</td>\n",
       "      <td>B</td>\n",
       "      <td>50</td>\n",
       "      <td>9</td>\n",
       "    </tr>\n",
       "    <tr>\n",
       "      <th>42</th>\n",
       "      <td>4</td>\n",
       "      <td>2</td>\n",
       "      <td>2022-February</td>\n",
       "      <td>40</td>\n",
       "      <td>2022-02-10</td>\n",
       "      <td>B</td>\n",
       "      <td>B</td>\n",
       "      <td>50</td>\n",
       "      <td>10</td>\n",
       "    </tr>\n",
       "    <tr>\n",
       "      <th>43</th>\n",
       "      <td>5</td>\n",
       "      <td>2</td>\n",
       "      <td>2022-February</td>\n",
       "      <td>40</td>\n",
       "      <td>2022-02-11</td>\n",
       "      <td>C</td>\n",
       "      <td>C</td>\n",
       "      <td>50</td>\n",
       "      <td>11</td>\n",
       "    </tr>\n",
       "    <tr>\n",
       "      <th>44</th>\n",
       "      <td>6</td>\n",
       "      <td>2</td>\n",
       "      <td>2022-February</td>\n",
       "      <td>40</td>\n",
       "      <td>2022-02-12</td>\n",
       "      <td>C</td>\n",
       "      <td>C</td>\n",
       "      <td>50</td>\n",
       "      <td>12</td>\n",
       "    </tr>\n",
       "    <tr>\n",
       "      <th>45</th>\n",
       "      <td>7</td>\n",
       "      <td>2</td>\n",
       "      <td>2022-February</td>\n",
       "      <td>40</td>\n",
       "      <td>2022-02-13</td>\n",
       "      <td>A</td>\n",
       "      <td>A</td>\n",
       "      <td>50</td>\n",
       "      <td>13</td>\n",
       "    </tr>\n",
       "    <tr>\n",
       "      <th>46</th>\n",
       "      <td>1</td>\n",
       "      <td>2</td>\n",
       "      <td>2022-February</td>\n",
       "      <td>30</td>\n",
       "      <td>2022-02-14</td>\n",
       "      <td>A</td>\n",
       "      <td>A</td>\n",
       "      <td>50</td>\n",
       "      <td>14</td>\n",
       "    </tr>\n",
       "    <tr>\n",
       "      <th>47</th>\n",
       "      <td>2</td>\n",
       "      <td>2</td>\n",
       "      <td>2022-February</td>\n",
       "      <td>30</td>\n",
       "      <td>2022-02-15</td>\n",
       "      <td>B</td>\n",
       "      <td>B</td>\n",
       "      <td>50</td>\n",
       "      <td>15</td>\n",
       "    </tr>\n",
       "    <tr>\n",
       "      <th>48</th>\n",
       "      <td>3</td>\n",
       "      <td>2</td>\n",
       "      <td>2022-February</td>\n",
       "      <td>30</td>\n",
       "      <td>2022-02-16</td>\n",
       "      <td>C</td>\n",
       "      <td>C</td>\n",
       "      <td>50</td>\n",
       "      <td>16</td>\n",
       "    </tr>\n",
       "    <tr>\n",
       "      <th>49</th>\n",
       "      <td>4</td>\n",
       "      <td>2</td>\n",
       "      <td>2022-February</td>\n",
       "      <td>30</td>\n",
       "      <td>2022-02-17</td>\n",
       "      <td>A</td>\n",
       "      <td>A</td>\n",
       "      <td>50</td>\n",
       "      <td>17</td>\n",
       "    </tr>\n",
       "  </tbody>\n",
       "</table>\n",
       "</div>"
      ],
      "text/plain": [
       "    day  num_month          month   y       date color event  size  day_num\n",
       "0     6          1   2022-January  50 2022-01-01     A     A    50        1\n",
       "1     7          1   2022-January  50 2022-01-02     B     B    50        2\n",
       "2     1          1   2022-January  40 2022-01-03     B     B    50        3\n",
       "3     2          1   2022-January  40 2022-01-04     B     B    50        4\n",
       "4     3          1   2022-January  40 2022-01-05     C     C    50        5\n",
       "5     4          1   2022-January  40 2022-01-06     A     A    50        6\n",
       "6     5          1   2022-January  40 2022-01-07     B     B    50        7\n",
       "7     6          1   2022-January  40 2022-01-08     B     B    50        8\n",
       "8     7          1   2022-January  40 2022-01-09     C     C    50        9\n",
       "9     1          1   2022-January  30 2022-01-10     B     B    50       10\n",
       "10    2          1   2022-January  30 2022-01-11     C     C    50       11\n",
       "11    3          1   2022-January  30 2022-01-12     A     A    50       12\n",
       "12    4          1   2022-January  30 2022-01-13     B     B    50       13\n",
       "13    5          1   2022-January  30 2022-01-14     B     B    50       14\n",
       "14    6          1   2022-January  30 2022-01-15     C     C    50       15\n",
       "15    7          1   2022-January  30 2022-01-16     B     B    50       16\n",
       "16    1          1   2022-January  20 2022-01-17     B     B    50       17\n",
       "17    2          1   2022-January  20 2022-01-18     C     C    50       18\n",
       "18    3          1   2022-January  20 2022-01-19     B     B    50       19\n",
       "19    4          1   2022-January  20 2022-01-20     C     C    50       20\n",
       "20    5          1   2022-January  20 2022-01-21     A     A    50       21\n",
       "21    6          1   2022-January  20 2022-01-22     C     C    50       22\n",
       "22    7          1   2022-January  20 2022-01-23     A     A    50       23\n",
       "23    1          1   2022-January  10 2022-01-24     B     B    50       24\n",
       "24    2          1   2022-January  10 2022-01-25     B     B    50       25\n",
       "25    3          1   2022-January  10 2022-01-26     C     C    50       26\n",
       "26    4          1   2022-January  10 2022-01-27     A     A    50       27\n",
       "27    5          1   2022-January  10 2022-01-28     B     B    50       28\n",
       "28    6          1   2022-January  10 2022-01-29     B     B    50       29\n",
       "29    7          1   2022-January  10 2022-01-30     C     C    50       30\n",
       "30    1          1   2022-January   0 2022-01-31     B     B    50       31\n",
       "31    1          1   2022-January   0 2022-01-31     E     E     0       31\n",
       "32    1          1   2022-January   0 2022-01-31     H     H     0       31\n",
       "33    2          2  2022-February  50 2022-02-01     A     A    50        1\n",
       "34    3          2  2022-February  50 2022-02-02     B     B    50        2\n",
       "35    4          2  2022-February  50 2022-02-03     B     B    50        3\n",
       "36    5          2  2022-February  50 2022-02-04     B     B    50        4\n",
       "37    6          2  2022-February  50 2022-02-05     C     C    50        5\n",
       "38    7          2  2022-February  50 2022-02-06     E     E    50        6\n",
       "39    1          2  2022-February  40 2022-02-07     A     A    50        7\n",
       "40    2          2  2022-February  40 2022-02-08     B     B    50        8\n",
       "41    3          2  2022-February  40 2022-02-09     B     B    50        9\n",
       "42    4          2  2022-February  40 2022-02-10     B     B    50       10\n",
       "43    5          2  2022-February  40 2022-02-11     C     C    50       11\n",
       "44    6          2  2022-February  40 2022-02-12     C     C    50       12\n",
       "45    7          2  2022-February  40 2022-02-13     A     A    50       13\n",
       "46    1          2  2022-February  30 2022-02-14     A     A    50       14\n",
       "47    2          2  2022-February  30 2022-02-15     B     B    50       15\n",
       "48    3          2  2022-February  30 2022-02-16     C     C    50       16\n",
       "49    4          2  2022-February  30 2022-02-17     A     A    50       17"
      ]
     },
     "execution_count": 52,
     "metadata": {},
     "output_type": "execute_result"
    }
   ],
   "source": [
    "data.head(50)"
   ]
  },
  {
   "cell_type": "code",
   "execution_count": 53,
   "metadata": {},
   "outputs": [
    {
     "data": {
      "application/vnd.plotly.v1+json": {
       "config": {
        "plotlyServerURL": "https://plot.ly"
       },
       "data": [
        {
         "customdata": [
          [
           "2022-01-01T00:00:00",
           "A",
           "2022-January"
          ],
          [
           "2022-01-06T00:00:00",
           "A",
           "2022-January"
          ],
          [
           "2022-01-12T00:00:00",
           "A",
           "2022-January"
          ],
          [
           "2022-01-21T00:00:00",
           "A",
           "2022-January"
          ],
          [
           "2022-01-23T00:00:00",
           "A",
           "2022-January"
          ],
          [
           "2022-01-27T00:00:00",
           "A",
           "2022-January"
          ]
         ],
         "hovertemplate": "Date: %{customdata[0]}<br>Week day: %{x}<br>Event: %{customdata[1]}<br>Month: %{customdata[2]}",
         "legendgroup": "A",
         "marker": {
          "color": "#636efa",
          "size": [
           50,
           50,
           50,
           50,
           50,
           50
          ],
          "sizemode": "area",
          "sizeref": 0.125,
          "symbol": "circle"
         },
         "mode": "markers+text",
         "name": "A",
         "orientation": "v",
         "showlegend": true,
         "text": [
          1,
          6,
          12,
          21,
          23,
          27
         ],
         "textposition": "middle center",
         "type": "scatter",
         "x": [
          6,
          4,
          3,
          5,
          7,
          4
         ],
         "xaxis": "x",
         "y": [
          50,
          40,
          30,
          20,
          20,
          10
         ],
         "yaxis": "y"
        },
        {
         "customdata": [
          [
           "2022-01-02T00:00:00",
           "B",
           "2022-January"
          ],
          [
           "2022-01-03T00:00:00",
           "B",
           "2022-January"
          ],
          [
           "2022-01-04T00:00:00",
           "B",
           "2022-January"
          ],
          [
           "2022-01-07T00:00:00",
           "B",
           "2022-January"
          ],
          [
           "2022-01-08T00:00:00",
           "B",
           "2022-January"
          ],
          [
           "2022-01-10T00:00:00",
           "B",
           "2022-January"
          ],
          [
           "2022-01-13T00:00:00",
           "B",
           "2022-January"
          ],
          [
           "2022-01-14T00:00:00",
           "B",
           "2022-January"
          ],
          [
           "2022-01-16T00:00:00",
           "B",
           "2022-January"
          ],
          [
           "2022-01-17T00:00:00",
           "B",
           "2022-January"
          ],
          [
           "2022-01-19T00:00:00",
           "B",
           "2022-January"
          ],
          [
           "2022-01-24T00:00:00",
           "B",
           "2022-January"
          ],
          [
           "2022-01-25T00:00:00",
           "B",
           "2022-January"
          ],
          [
           "2022-01-28T00:00:00",
           "B",
           "2022-January"
          ],
          [
           "2022-01-29T00:00:00",
           "B",
           "2022-January"
          ],
          [
           "2022-01-31T00:00:00",
           "B",
           "2022-January"
          ]
         ],
         "hovertemplate": "Date: %{customdata[0]}<br>Week day: %{x}<br>Event: %{customdata[1]}<br>Month: %{customdata[2]}",
         "legendgroup": "B",
         "marker": {
          "color": "#EF553B",
          "size": [
           50,
           50,
           50,
           50,
           50,
           50,
           50,
           50,
           50,
           50,
           50,
           50,
           50,
           50,
           50,
           50
          ],
          "sizemode": "area",
          "sizeref": 0.125,
          "symbol": "circle"
         },
         "mode": "markers+text",
         "name": "B",
         "orientation": "v",
         "showlegend": true,
         "text": [
          2,
          3,
          4,
          7,
          8,
          10,
          13,
          14,
          16,
          17,
          19,
          24,
          25,
          28,
          29,
          31
         ],
         "textposition": "middle center",
         "type": "scatter",
         "x": [
          7,
          1,
          2,
          5,
          6,
          1,
          4,
          5,
          7,
          1,
          3,
          1,
          2,
          5,
          6,
          1
         ],
         "xaxis": "x",
         "y": [
          50,
          40,
          40,
          40,
          40,
          30,
          30,
          30,
          30,
          20,
          20,
          10,
          10,
          10,
          10,
          0
         ],
         "yaxis": "y"
        },
        {
         "customdata": [
          [
           "2022-01-05T00:00:00",
           "C",
           "2022-January"
          ],
          [
           "2022-01-09T00:00:00",
           "C",
           "2022-January"
          ],
          [
           "2022-01-11T00:00:00",
           "C",
           "2022-January"
          ],
          [
           "2022-01-15T00:00:00",
           "C",
           "2022-January"
          ],
          [
           "2022-01-18T00:00:00",
           "C",
           "2022-January"
          ],
          [
           "2022-01-20T00:00:00",
           "C",
           "2022-January"
          ],
          [
           "2022-01-22T00:00:00",
           "C",
           "2022-January"
          ],
          [
           "2022-01-26T00:00:00",
           "C",
           "2022-January"
          ],
          [
           "2022-01-30T00:00:00",
           "C",
           "2022-January"
          ]
         ],
         "hovertemplate": "Date: %{customdata[0]}<br>Week day: %{x}<br>Event: %{customdata[1]}<br>Month: %{customdata[2]}",
         "legendgroup": "C",
         "marker": {
          "color": "#00cc96",
          "size": [
           50,
           50,
           50,
           50,
           50,
           50,
           50,
           50,
           50
          ],
          "sizemode": "area",
          "sizeref": 0.125,
          "symbol": "circle"
         },
         "mode": "markers+text",
         "name": "C",
         "orientation": "v",
         "showlegend": true,
         "text": [
          5,
          9,
          11,
          15,
          18,
          20,
          22,
          26,
          30
         ],
         "textposition": "middle center",
         "type": "scatter",
         "x": [
          3,
          7,
          2,
          6,
          2,
          4,
          6,
          3,
          7
         ],
         "xaxis": "x",
         "y": [
          40,
          40,
          30,
          30,
          20,
          20,
          20,
          10,
          10
         ],
         "yaxis": "y"
        },
        {
         "customdata": [
          [
           "2022-01-31T00:00:00",
           "E",
           "2022-January"
          ]
         ],
         "hovertemplate": "Date: %{customdata[0]}<br>Week day: %{x}<br>Event: %{customdata[1]}<br>Month: %{customdata[2]}",
         "legendgroup": "E",
         "marker": {
          "color": "#ab63fa",
          "size": [
           0
          ],
          "sizemode": "area",
          "sizeref": 0.125,
          "symbol": "circle"
         },
         "mode": "markers+text",
         "name": "E",
         "orientation": "v",
         "showlegend": true,
         "text": [
          31
         ],
         "textposition": "middle center",
         "type": "scatter",
         "x": [
          1
         ],
         "xaxis": "x",
         "y": [
          0
         ],
         "yaxis": "y"
        },
        {
         "customdata": [
          [
           "2022-01-31T00:00:00",
           "H",
           "2022-January"
          ]
         ],
         "hovertemplate": "Date: %{customdata[0]}<br>Week day: %{x}<br>Event: %{customdata[1]}<br>Month: %{customdata[2]}",
         "legendgroup": "H",
         "marker": {
          "color": "#FFA15A",
          "size": [
           0
          ],
          "sizemode": "area",
          "sizeref": 0.125,
          "symbol": "circle"
         },
         "mode": "markers+text",
         "name": "H",
         "orientation": "v",
         "showlegend": true,
         "text": [
          31
         ],
         "textposition": "middle center",
         "type": "scatter",
         "x": [
          1
         ],
         "xaxis": "x",
         "y": [
          0
         ],
         "yaxis": "y"
        }
       ],
       "frames": [
        {
         "data": [
          {
           "customdata": [
            [
             "2022-01-01T00:00:00",
             "A",
             "2022-January"
            ],
            [
             "2022-01-06T00:00:00",
             "A",
             "2022-January"
            ],
            [
             "2022-01-12T00:00:00",
             "A",
             "2022-January"
            ],
            [
             "2022-01-21T00:00:00",
             "A",
             "2022-January"
            ],
            [
             "2022-01-23T00:00:00",
             "A",
             "2022-January"
            ],
            [
             "2022-01-27T00:00:00",
             "A",
             "2022-January"
            ]
           ],
           "hovertemplate": "characteristic=A<br>Month=%{customdata[2]}<br>Day=%{x}<br>y=%{y}<br>size=%{marker.size}<br>day_num=%{text}<br>date=%{customdata[0]}<br>event=%{customdata[1]}<extra></extra>",
           "legendgroup": "A",
           "marker": {
            "color": "#636efa",
            "size": [
             50,
             50,
             50,
             50,
             50,
             50
            ],
            "sizemode": "area",
            "sizeref": 0.125,
            "symbol": "circle"
           },
           "mode": "markers+text",
           "name": "A",
           "orientation": "v",
           "showlegend": true,
           "text": [
            1,
            6,
            12,
            21,
            23,
            27
           ],
           "type": "scatter",
           "x": [
            6,
            4,
            3,
            5,
            7,
            4
           ],
           "xaxis": "x",
           "y": [
            50,
            40,
            30,
            20,
            20,
            10
           ],
           "yaxis": "y"
          },
          {
           "customdata": [
            [
             "2022-01-02T00:00:00",
             "B",
             "2022-January"
            ],
            [
             "2022-01-03T00:00:00",
             "B",
             "2022-January"
            ],
            [
             "2022-01-04T00:00:00",
             "B",
             "2022-January"
            ],
            [
             "2022-01-07T00:00:00",
             "B",
             "2022-January"
            ],
            [
             "2022-01-08T00:00:00",
             "B",
             "2022-January"
            ],
            [
             "2022-01-10T00:00:00",
             "B",
             "2022-January"
            ],
            [
             "2022-01-13T00:00:00",
             "B",
             "2022-January"
            ],
            [
             "2022-01-14T00:00:00",
             "B",
             "2022-January"
            ],
            [
             "2022-01-16T00:00:00",
             "B",
             "2022-January"
            ],
            [
             "2022-01-17T00:00:00",
             "B",
             "2022-January"
            ],
            [
             "2022-01-19T00:00:00",
             "B",
             "2022-January"
            ],
            [
             "2022-01-24T00:00:00",
             "B",
             "2022-January"
            ],
            [
             "2022-01-25T00:00:00",
             "B",
             "2022-January"
            ],
            [
             "2022-01-28T00:00:00",
             "B",
             "2022-January"
            ],
            [
             "2022-01-29T00:00:00",
             "B",
             "2022-January"
            ],
            [
             "2022-01-31T00:00:00",
             "B",
             "2022-January"
            ]
           ],
           "hovertemplate": "characteristic=B<br>Month=%{customdata[2]}<br>Day=%{x}<br>y=%{y}<br>size=%{marker.size}<br>day_num=%{text}<br>date=%{customdata[0]}<br>event=%{customdata[1]}<extra></extra>",
           "legendgroup": "B",
           "marker": {
            "color": "#EF553B",
            "size": [
             50,
             50,
             50,
             50,
             50,
             50,
             50,
             50,
             50,
             50,
             50,
             50,
             50,
             50,
             50,
             50
            ],
            "sizemode": "area",
            "sizeref": 0.125,
            "symbol": "circle"
           },
           "mode": "markers+text",
           "name": "B",
           "orientation": "v",
           "showlegend": true,
           "text": [
            2,
            3,
            4,
            7,
            8,
            10,
            13,
            14,
            16,
            17,
            19,
            24,
            25,
            28,
            29,
            31
           ],
           "type": "scatter",
           "x": [
            7,
            1,
            2,
            5,
            6,
            1,
            4,
            5,
            7,
            1,
            3,
            1,
            2,
            5,
            6,
            1
           ],
           "xaxis": "x",
           "y": [
            50,
            40,
            40,
            40,
            40,
            30,
            30,
            30,
            30,
            20,
            20,
            10,
            10,
            10,
            10,
            0
           ],
           "yaxis": "y"
          },
          {
           "customdata": [
            [
             "2022-01-05T00:00:00",
             "C",
             "2022-January"
            ],
            [
             "2022-01-09T00:00:00",
             "C",
             "2022-January"
            ],
            [
             "2022-01-11T00:00:00",
             "C",
             "2022-January"
            ],
            [
             "2022-01-15T00:00:00",
             "C",
             "2022-January"
            ],
            [
             "2022-01-18T00:00:00",
             "C",
             "2022-January"
            ],
            [
             "2022-01-20T00:00:00",
             "C",
             "2022-January"
            ],
            [
             "2022-01-22T00:00:00",
             "C",
             "2022-January"
            ],
            [
             "2022-01-26T00:00:00",
             "C",
             "2022-January"
            ],
            [
             "2022-01-30T00:00:00",
             "C",
             "2022-January"
            ]
           ],
           "hovertemplate": "characteristic=C<br>Month=%{customdata[2]}<br>Day=%{x}<br>y=%{y}<br>size=%{marker.size}<br>day_num=%{text}<br>date=%{customdata[0]}<br>event=%{customdata[1]}<extra></extra>",
           "legendgroup": "C",
           "marker": {
            "color": "#00cc96",
            "size": [
             50,
             50,
             50,
             50,
             50,
             50,
             50,
             50,
             50
            ],
            "sizemode": "area",
            "sizeref": 0.125,
            "symbol": "circle"
           },
           "mode": "markers+text",
           "name": "C",
           "orientation": "v",
           "showlegend": true,
           "text": [
            5,
            9,
            11,
            15,
            18,
            20,
            22,
            26,
            30
           ],
           "type": "scatter",
           "x": [
            3,
            7,
            2,
            6,
            2,
            4,
            6,
            3,
            7
           ],
           "xaxis": "x",
           "y": [
            40,
            40,
            30,
            30,
            20,
            20,
            20,
            10,
            10
           ],
           "yaxis": "y"
          },
          {
           "customdata": [
            [
             "2022-01-31T00:00:00",
             "E",
             "2022-January"
            ]
           ],
           "hovertemplate": "characteristic=E<br>Month=%{customdata[2]}<br>Day=%{x}<br>y=%{y}<br>size=%{marker.size}<br>day_num=%{text}<br>date=%{customdata[0]}<br>event=%{customdata[1]}<extra></extra>",
           "legendgroup": "E",
           "marker": {
            "color": "#ab63fa",
            "size": [
             0
            ],
            "sizemode": "area",
            "sizeref": 0.125,
            "symbol": "circle"
           },
           "mode": "markers+text",
           "name": "E",
           "orientation": "v",
           "showlegend": true,
           "text": [
            31
           ],
           "type": "scatter",
           "x": [
            1
           ],
           "xaxis": "x",
           "y": [
            0
           ],
           "yaxis": "y"
          },
          {
           "customdata": [
            [
             "2022-01-31T00:00:00",
             "H",
             "2022-January"
            ]
           ],
           "hovertemplate": "characteristic=H<br>Month=%{customdata[2]}<br>Day=%{x}<br>y=%{y}<br>size=%{marker.size}<br>day_num=%{text}<br>date=%{customdata[0]}<br>event=%{customdata[1]}<extra></extra>",
           "legendgroup": "H",
           "marker": {
            "color": "#FFA15A",
            "size": [
             0
            ],
            "sizemode": "area",
            "sizeref": 0.125,
            "symbol": "circle"
           },
           "mode": "markers+text",
           "name": "H",
           "orientation": "v",
           "showlegend": true,
           "text": [
            31
           ],
           "type": "scatter",
           "x": [
            1
           ],
           "xaxis": "x",
           "y": [
            0
           ],
           "yaxis": "y"
          }
         ],
         "name": "2022-January"
        },
        {
         "data": [
          {
           "customdata": [
            [
             "2022-02-01T00:00:00",
             "A",
             "2022-February"
            ],
            [
             "2022-02-07T00:00:00",
             "A",
             "2022-February"
            ],
            [
             "2022-02-13T00:00:00",
             "A",
             "2022-February"
            ],
            [
             "2022-02-14T00:00:00",
             "A",
             "2022-February"
            ],
            [
             "2022-02-17T00:00:00",
             "A",
             "2022-February"
            ]
           ],
           "hovertemplate": "characteristic=A<br>Month=%{customdata[2]}<br>Day=%{x}<br>y=%{y}<br>size=%{marker.size}<br>day_num=%{text}<br>date=%{customdata[0]}<br>event=%{customdata[1]}<extra></extra>",
           "legendgroup": "A",
           "marker": {
            "color": "#636efa",
            "size": [
             50,
             50,
             50,
             50,
             50
            ],
            "sizemode": "area",
            "sizeref": 0.125,
            "symbol": "circle"
           },
           "mode": "markers+text",
           "name": "A",
           "orientation": "v",
           "showlegend": true,
           "text": [
            1,
            7,
            13,
            14,
            17
           ],
           "type": "scatter",
           "x": [
            2,
            1,
            7,
            1,
            4
           ],
           "xaxis": "x",
           "y": [
            50,
            40,
            40,
            30,
            30
           ],
           "yaxis": "y"
          },
          {
           "customdata": [
            [
             "2022-02-02T00:00:00",
             "B",
             "2022-February"
            ],
            [
             "2022-02-03T00:00:00",
             "B",
             "2022-February"
            ],
            [
             "2022-02-04T00:00:00",
             "B",
             "2022-February"
            ],
            [
             "2022-02-08T00:00:00",
             "B",
             "2022-February"
            ],
            [
             "2022-02-09T00:00:00",
             "B",
             "2022-February"
            ],
            [
             "2022-02-10T00:00:00",
             "B",
             "2022-February"
            ],
            [
             "2022-02-15T00:00:00",
             "B",
             "2022-February"
            ],
            [
             "2022-02-24T00:00:00",
             "B",
             "2022-February"
            ],
            [
             "2022-02-25T00:00:00",
             "B",
             "2022-February"
            ]
           ],
           "hovertemplate": "characteristic=B<br>Month=%{customdata[2]}<br>Day=%{x}<br>y=%{y}<br>size=%{marker.size}<br>day_num=%{text}<br>date=%{customdata[0]}<br>event=%{customdata[1]}<extra></extra>",
           "legendgroup": "B",
           "marker": {
            "color": "#EF553B",
            "size": [
             50,
             50,
             50,
             50,
             50,
             50,
             50,
             50,
             50
            ],
            "sizemode": "area",
            "sizeref": 0.125,
            "symbol": "circle"
           },
           "mode": "markers+text",
           "name": "B",
           "orientation": "v",
           "showlegend": true,
           "text": [
            2,
            3,
            4,
            8,
            9,
            10,
            15,
            24,
            25
           ],
           "type": "scatter",
           "x": [
            3,
            4,
            5,
            2,
            3,
            4,
            2,
            4,
            5
           ],
           "xaxis": "x",
           "y": [
            50,
            50,
            50,
            40,
            40,
            40,
            30,
            20,
            20
           ],
           "yaxis": "y"
          },
          {
           "customdata": [
            [
             "2022-02-05T00:00:00",
             "C",
             "2022-February"
            ],
            [
             "2022-02-11T00:00:00",
             "C",
             "2022-February"
            ],
            [
             "2022-02-12T00:00:00",
             "C",
             "2022-February"
            ],
            [
             "2022-02-16T00:00:00",
             "C",
             "2022-February"
            ],
            [
             "2022-02-18T00:00:00",
             "C",
             "2022-February"
            ],
            [
             "2022-02-26T00:00:00",
             "C",
             "2022-February"
            ],
            [
             "2022-02-27T00:00:00",
             "C",
             "2022-February"
            ]
           ],
           "hovertemplate": "characteristic=C<br>Month=%{customdata[2]}<br>Day=%{x}<br>y=%{y}<br>size=%{marker.size}<br>day_num=%{text}<br>date=%{customdata[0]}<br>event=%{customdata[1]}<extra></extra>",
           "legendgroup": "C",
           "marker": {
            "color": "#00cc96",
            "size": [
             50,
             50,
             50,
             50,
             50,
             50,
             50
            ],
            "sizemode": "area",
            "sizeref": 0.125,
            "symbol": "circle"
           },
           "mode": "markers+text",
           "name": "C",
           "orientation": "v",
           "showlegend": true,
           "text": [
            5,
            11,
            12,
            16,
            18,
            26,
            27
           ],
           "type": "scatter",
           "x": [
            6,
            5,
            6,
            3,
            5,
            6,
            7
           ],
           "xaxis": "x",
           "y": [
            50,
            40,
            40,
            30,
            30,
            20,
            20
           ],
           "yaxis": "y"
          },
          {
           "customdata": [
            [
             "2022-02-06T00:00:00",
             "E",
             "2022-February"
            ],
            [
             "2022-02-19T00:00:00",
             "E",
             "2022-February"
            ],
            [
             "2022-02-20T00:00:00",
             "E",
             "2022-February"
            ],
            [
             "2022-02-21T00:00:00",
             "E",
             "2022-February"
            ],
            [
             "2022-02-22T00:00:00",
             "E",
             "2022-February"
            ],
            [
             "2022-02-23T00:00:00",
             "E",
             "2022-February"
            ]
           ],
           "hovertemplate": "characteristic=E<br>Month=%{customdata[2]}<br>Day=%{x}<br>y=%{y}<br>size=%{marker.size}<br>day_num=%{text}<br>date=%{customdata[0]}<br>event=%{customdata[1]}<extra></extra>",
           "legendgroup": "E",
           "marker": {
            "color": "#ab63fa",
            "size": [
             50,
             50,
             50,
             50,
             50,
             50
            ],
            "sizemode": "area",
            "sizeref": 0.125,
            "symbol": "circle"
           },
           "mode": "markers+text",
           "name": "E",
           "orientation": "v",
           "showlegend": true,
           "text": [
            6,
            19,
            20,
            21,
            22,
            23
           ],
           "type": "scatter",
           "x": [
            7,
            6,
            7,
            1,
            2,
            3
           ],
           "xaxis": "x",
           "y": [
            50,
            30,
            30,
            20,
            20,
            20
           ],
           "yaxis": "y"
          },
          {
           "customdata": [
            [
             "2022-02-28T00:00:00",
             "H",
             "2022-February"
            ]
           ],
           "hovertemplate": "characteristic=H<br>Month=%{customdata[2]}<br>Day=%{x}<br>y=%{y}<br>size=%{marker.size}<br>day_num=%{text}<br>date=%{customdata[0]}<br>event=%{customdata[1]}<extra></extra>",
           "legendgroup": "H",
           "marker": {
            "color": "#FFA15A",
            "size": [
             50
            ],
            "sizemode": "area",
            "sizeref": 0.125,
            "symbol": "circle"
           },
           "mode": "markers+text",
           "name": "H",
           "orientation": "v",
           "showlegend": true,
           "text": [
            28
           ],
           "type": "scatter",
           "x": [
            1
           ],
           "xaxis": "x",
           "y": [
            10
           ],
           "yaxis": "y"
          }
         ],
         "name": "2022-February"
        }
       ],
       "layout": {
        "legend": {
         "itemsizing": "constant",
         "title": {
          "text": "characteristic"
         },
         "tracegroupgap": 0
        },
        "showlegend": false,
        "sliders": [
         {
          "active": 0,
          "currentvalue": {
           "prefix": "Month="
          },
          "len": 0.9,
          "pad": {
           "b": 10,
           "t": 60
          },
          "steps": [
           {
            "args": [
             [
              "2022-January"
             ],
             {
              "frame": {
               "duration": 0,
               "redraw": false
              },
              "fromcurrent": true,
              "mode": "immediate",
              "transition": {
               "duration": 0,
               "easing": "linear"
              }
             }
            ],
            "label": "2022-January",
            "method": "animate"
           },
           {
            "args": [
             [
              "2022-February"
             ],
             {
              "frame": {
               "duration": 0,
               "redraw": false
              },
              "fromcurrent": true,
              "mode": "immediate",
              "transition": {
               "duration": 0,
               "easing": "linear"
              }
             }
            ],
            "label": "2022-February",
            "method": "animate"
           }
          ],
          "x": 0.1,
          "xanchor": "left",
          "y": 0,
          "yanchor": "top"
         }
        ],
        "template": {
         "data": {
          "bar": [
           {
            "error_x": {
             "color": "#2a3f5f"
            },
            "error_y": {
             "color": "#2a3f5f"
            },
            "marker": {
             "line": {
              "color": "#E5ECF6",
              "width": 0.5
             },
             "pattern": {
              "fillmode": "overlay",
              "size": 10,
              "solidity": 0.2
             }
            },
            "type": "bar"
           }
          ],
          "barpolar": [
           {
            "marker": {
             "line": {
              "color": "#E5ECF6",
              "width": 0.5
             },
             "pattern": {
              "fillmode": "overlay",
              "size": 10,
              "solidity": 0.2
             }
            },
            "type": "barpolar"
           }
          ],
          "carpet": [
           {
            "aaxis": {
             "endlinecolor": "#2a3f5f",
             "gridcolor": "white",
             "linecolor": "white",
             "minorgridcolor": "white",
             "startlinecolor": "#2a3f5f"
            },
            "baxis": {
             "endlinecolor": "#2a3f5f",
             "gridcolor": "white",
             "linecolor": "white",
             "minorgridcolor": "white",
             "startlinecolor": "#2a3f5f"
            },
            "type": "carpet"
           }
          ],
          "choropleth": [
           {
            "colorbar": {
             "outlinewidth": 0,
             "ticks": ""
            },
            "type": "choropleth"
           }
          ],
          "contour": [
           {
            "colorbar": {
             "outlinewidth": 0,
             "ticks": ""
            },
            "colorscale": [
             [
              0,
              "#0d0887"
             ],
             [
              0.1111111111111111,
              "#46039f"
             ],
             [
              0.2222222222222222,
              "#7201a8"
             ],
             [
              0.3333333333333333,
              "#9c179e"
             ],
             [
              0.4444444444444444,
              "#bd3786"
             ],
             [
              0.5555555555555556,
              "#d8576b"
             ],
             [
              0.6666666666666666,
              "#ed7953"
             ],
             [
              0.7777777777777778,
              "#fb9f3a"
             ],
             [
              0.8888888888888888,
              "#fdca26"
             ],
             [
              1,
              "#f0f921"
             ]
            ],
            "type": "contour"
           }
          ],
          "contourcarpet": [
           {
            "colorbar": {
             "outlinewidth": 0,
             "ticks": ""
            },
            "type": "contourcarpet"
           }
          ],
          "heatmap": [
           {
            "colorbar": {
             "outlinewidth": 0,
             "ticks": ""
            },
            "colorscale": [
             [
              0,
              "#0d0887"
             ],
             [
              0.1111111111111111,
              "#46039f"
             ],
             [
              0.2222222222222222,
              "#7201a8"
             ],
             [
              0.3333333333333333,
              "#9c179e"
             ],
             [
              0.4444444444444444,
              "#bd3786"
             ],
             [
              0.5555555555555556,
              "#d8576b"
             ],
             [
              0.6666666666666666,
              "#ed7953"
             ],
             [
              0.7777777777777778,
              "#fb9f3a"
             ],
             [
              0.8888888888888888,
              "#fdca26"
             ],
             [
              1,
              "#f0f921"
             ]
            ],
            "type": "heatmap"
           }
          ],
          "heatmapgl": [
           {
            "colorbar": {
             "outlinewidth": 0,
             "ticks": ""
            },
            "colorscale": [
             [
              0,
              "#0d0887"
             ],
             [
              0.1111111111111111,
              "#46039f"
             ],
             [
              0.2222222222222222,
              "#7201a8"
             ],
             [
              0.3333333333333333,
              "#9c179e"
             ],
             [
              0.4444444444444444,
              "#bd3786"
             ],
             [
              0.5555555555555556,
              "#d8576b"
             ],
             [
              0.6666666666666666,
              "#ed7953"
             ],
             [
              0.7777777777777778,
              "#fb9f3a"
             ],
             [
              0.8888888888888888,
              "#fdca26"
             ],
             [
              1,
              "#f0f921"
             ]
            ],
            "type": "heatmapgl"
           }
          ],
          "histogram": [
           {
            "marker": {
             "pattern": {
              "fillmode": "overlay",
              "size": 10,
              "solidity": 0.2
             }
            },
            "type": "histogram"
           }
          ],
          "histogram2d": [
           {
            "colorbar": {
             "outlinewidth": 0,
             "ticks": ""
            },
            "colorscale": [
             [
              0,
              "#0d0887"
             ],
             [
              0.1111111111111111,
              "#46039f"
             ],
             [
              0.2222222222222222,
              "#7201a8"
             ],
             [
              0.3333333333333333,
              "#9c179e"
             ],
             [
              0.4444444444444444,
              "#bd3786"
             ],
             [
              0.5555555555555556,
              "#d8576b"
             ],
             [
              0.6666666666666666,
              "#ed7953"
             ],
             [
              0.7777777777777778,
              "#fb9f3a"
             ],
             [
              0.8888888888888888,
              "#fdca26"
             ],
             [
              1,
              "#f0f921"
             ]
            ],
            "type": "histogram2d"
           }
          ],
          "histogram2dcontour": [
           {
            "colorbar": {
             "outlinewidth": 0,
             "ticks": ""
            },
            "colorscale": [
             [
              0,
              "#0d0887"
             ],
             [
              0.1111111111111111,
              "#46039f"
             ],
             [
              0.2222222222222222,
              "#7201a8"
             ],
             [
              0.3333333333333333,
              "#9c179e"
             ],
             [
              0.4444444444444444,
              "#bd3786"
             ],
             [
              0.5555555555555556,
              "#d8576b"
             ],
             [
              0.6666666666666666,
              "#ed7953"
             ],
             [
              0.7777777777777778,
              "#fb9f3a"
             ],
             [
              0.8888888888888888,
              "#fdca26"
             ],
             [
              1,
              "#f0f921"
             ]
            ],
            "type": "histogram2dcontour"
           }
          ],
          "mesh3d": [
           {
            "colorbar": {
             "outlinewidth": 0,
             "ticks": ""
            },
            "type": "mesh3d"
           }
          ],
          "parcoords": [
           {
            "line": {
             "colorbar": {
              "outlinewidth": 0,
              "ticks": ""
             }
            },
            "type": "parcoords"
           }
          ],
          "pie": [
           {
            "automargin": true,
            "type": "pie"
           }
          ],
          "scatter": [
           {
            "fillpattern": {
             "fillmode": "overlay",
             "size": 10,
             "solidity": 0.2
            },
            "type": "scatter"
           }
          ],
          "scatter3d": [
           {
            "line": {
             "colorbar": {
              "outlinewidth": 0,
              "ticks": ""
             }
            },
            "marker": {
             "colorbar": {
              "outlinewidth": 0,
              "ticks": ""
             }
            },
            "type": "scatter3d"
           }
          ],
          "scattercarpet": [
           {
            "marker": {
             "colorbar": {
              "outlinewidth": 0,
              "ticks": ""
             }
            },
            "type": "scattercarpet"
           }
          ],
          "scattergeo": [
           {
            "marker": {
             "colorbar": {
              "outlinewidth": 0,
              "ticks": ""
             }
            },
            "type": "scattergeo"
           }
          ],
          "scattergl": [
           {
            "marker": {
             "colorbar": {
              "outlinewidth": 0,
              "ticks": ""
             }
            },
            "type": "scattergl"
           }
          ],
          "scattermapbox": [
           {
            "marker": {
             "colorbar": {
              "outlinewidth": 0,
              "ticks": ""
             }
            },
            "type": "scattermapbox"
           }
          ],
          "scatterpolar": [
           {
            "marker": {
             "colorbar": {
              "outlinewidth": 0,
              "ticks": ""
             }
            },
            "type": "scatterpolar"
           }
          ],
          "scatterpolargl": [
           {
            "marker": {
             "colorbar": {
              "outlinewidth": 0,
              "ticks": ""
             }
            },
            "type": "scatterpolargl"
           }
          ],
          "scatterternary": [
           {
            "marker": {
             "colorbar": {
              "outlinewidth": 0,
              "ticks": ""
             }
            },
            "type": "scatterternary"
           }
          ],
          "surface": [
           {
            "colorbar": {
             "outlinewidth": 0,
             "ticks": ""
            },
            "colorscale": [
             [
              0,
              "#0d0887"
             ],
             [
              0.1111111111111111,
              "#46039f"
             ],
             [
              0.2222222222222222,
              "#7201a8"
             ],
             [
              0.3333333333333333,
              "#9c179e"
             ],
             [
              0.4444444444444444,
              "#bd3786"
             ],
             [
              0.5555555555555556,
              "#d8576b"
             ],
             [
              0.6666666666666666,
              "#ed7953"
             ],
             [
              0.7777777777777778,
              "#fb9f3a"
             ],
             [
              0.8888888888888888,
              "#fdca26"
             ],
             [
              1,
              "#f0f921"
             ]
            ],
            "type": "surface"
           }
          ],
          "table": [
           {
            "cells": {
             "fill": {
              "color": "#EBF0F8"
             },
             "line": {
              "color": "white"
             }
            },
            "header": {
             "fill": {
              "color": "#C8D4E3"
             },
             "line": {
              "color": "white"
             }
            },
            "type": "table"
           }
          ]
         },
         "layout": {
          "annotationdefaults": {
           "arrowcolor": "#2a3f5f",
           "arrowhead": 0,
           "arrowwidth": 1
          },
          "autotypenumbers": "strict",
          "coloraxis": {
           "colorbar": {
            "outlinewidth": 0,
            "ticks": ""
           }
          },
          "colorscale": {
           "diverging": [
            [
             0,
             "#8e0152"
            ],
            [
             0.1,
             "#c51b7d"
            ],
            [
             0.2,
             "#de77ae"
            ],
            [
             0.3,
             "#f1b6da"
            ],
            [
             0.4,
             "#fde0ef"
            ],
            [
             0.5,
             "#f7f7f7"
            ],
            [
             0.6,
             "#e6f5d0"
            ],
            [
             0.7,
             "#b8e186"
            ],
            [
             0.8,
             "#7fbc41"
            ],
            [
             0.9,
             "#4d9221"
            ],
            [
             1,
             "#276419"
            ]
           ],
           "sequential": [
            [
             0,
             "#0d0887"
            ],
            [
             0.1111111111111111,
             "#46039f"
            ],
            [
             0.2222222222222222,
             "#7201a8"
            ],
            [
             0.3333333333333333,
             "#9c179e"
            ],
            [
             0.4444444444444444,
             "#bd3786"
            ],
            [
             0.5555555555555556,
             "#d8576b"
            ],
            [
             0.6666666666666666,
             "#ed7953"
            ],
            [
             0.7777777777777778,
             "#fb9f3a"
            ],
            [
             0.8888888888888888,
             "#fdca26"
            ],
            [
             1,
             "#f0f921"
            ]
           ],
           "sequentialminus": [
            [
             0,
             "#0d0887"
            ],
            [
             0.1111111111111111,
             "#46039f"
            ],
            [
             0.2222222222222222,
             "#7201a8"
            ],
            [
             0.3333333333333333,
             "#9c179e"
            ],
            [
             0.4444444444444444,
             "#bd3786"
            ],
            [
             0.5555555555555556,
             "#d8576b"
            ],
            [
             0.6666666666666666,
             "#ed7953"
            ],
            [
             0.7777777777777778,
             "#fb9f3a"
            ],
            [
             0.8888888888888888,
             "#fdca26"
            ],
            [
             1,
             "#f0f921"
            ]
           ]
          },
          "colorway": [
           "#636efa",
           "#EF553B",
           "#00cc96",
           "#ab63fa",
           "#FFA15A",
           "#19d3f3",
           "#FF6692",
           "#B6E880",
           "#FF97FF",
           "#FECB52"
          ],
          "font": {
           "color": "#2a3f5f"
          },
          "geo": {
           "bgcolor": "white",
           "lakecolor": "white",
           "landcolor": "#E5ECF6",
           "showlakes": true,
           "showland": true,
           "subunitcolor": "white"
          },
          "hoverlabel": {
           "align": "left"
          },
          "hovermode": "closest",
          "mapbox": {
           "style": "light"
          },
          "paper_bgcolor": "white",
          "plot_bgcolor": "#E5ECF6",
          "polar": {
           "angularaxis": {
            "gridcolor": "white",
            "linecolor": "white",
            "ticks": ""
           },
           "bgcolor": "#E5ECF6",
           "radialaxis": {
            "gridcolor": "white",
            "linecolor": "white",
            "ticks": ""
           }
          },
          "scene": {
           "xaxis": {
            "backgroundcolor": "#E5ECF6",
            "gridcolor": "white",
            "gridwidth": 2,
            "linecolor": "white",
            "showbackground": true,
            "ticks": "",
            "zerolinecolor": "white"
           },
           "yaxis": {
            "backgroundcolor": "#E5ECF6",
            "gridcolor": "white",
            "gridwidth": 2,
            "linecolor": "white",
            "showbackground": true,
            "ticks": "",
            "zerolinecolor": "white"
           },
           "zaxis": {
            "backgroundcolor": "#E5ECF6",
            "gridcolor": "white",
            "gridwidth": 2,
            "linecolor": "white",
            "showbackground": true,
            "ticks": "",
            "zerolinecolor": "white"
           }
          },
          "shapedefaults": {
           "line": {
            "color": "#2a3f5f"
           }
          },
          "ternary": {
           "aaxis": {
            "gridcolor": "white",
            "linecolor": "white",
            "ticks": ""
           },
           "baxis": {
            "gridcolor": "white",
            "linecolor": "white",
            "ticks": ""
           },
           "bgcolor": "#E5ECF6",
           "caxis": {
            "gridcolor": "white",
            "linecolor": "white",
            "ticks": ""
           }
          },
          "title": {
           "x": 0.05
          },
          "xaxis": {
           "automargin": true,
           "gridcolor": "white",
           "linecolor": "white",
           "ticks": "",
           "title": {
            "standoff": 15
           },
           "zerolinecolor": "white",
           "zerolinewidth": 2
          },
          "yaxis": {
           "automargin": true,
           "gridcolor": "white",
           "linecolor": "white",
           "ticks": "",
           "title": {
            "standoff": 15
           },
           "zerolinecolor": "white",
           "zerolinewidth": 2
          }
         }
        },
        "title": {
         "text": "Calendar"
        },
        "xaxis": {
         "anchor": "y",
         "domain": [
          0,
          1
         ],
         "ticktext": [
          "Monday",
          "Tuesday",
          "Wednesday",
          "Thursday",
          "Friday",
          "Saturday",
          "Sunday"
         ],
         "tickvals": [
          1,
          2,
          3,
          4,
          5,
          6,
          7
         ],
         "title": {
          "text": "Day"
         }
        },
        "yaxis": {
         "anchor": "x",
         "domain": [
          0,
          1
         ],
         "showticklabels": false,
         "title": {},
         "visible": false
        }
       }
      }
     },
     "metadata": {},
     "output_type": "display_data"
    }
   ],
   "source": [
    "fig = px.scatter(data, x='day', y='y', color='color', size='size', \n",
    "                 hover_data=['day', 'date', 'event', 'month'], \n",
    "                 title='Calendar',\n",
    "                 labels = labels_en,\n",
    "                 animation_frame=\"month\", \n",
    "                 text='day_num'\n",
    "                #  animation_group=\"event\",\n",
    "                 )\n",
    "fig.update_yaxes(showticklabels=False, title=None)\n",
    "fig.update_xaxes(\n",
    "    tickvals=[1,2,3,4,5,6,7],\n",
    "    ticktext=['Monday','Tuesday','Wednesday','Thursday','Friday','Saturday','Sunday'],\n",
    "    )\n",
    "fig.update_traces(\n",
    "    hovertemplate=\"<br>\".join([\n",
    "        \"Date: %{customdata[0]}\",\n",
    "        \"Week day: %{x}\",\n",
    "        \"Event: %{customdata[1]}\",\n",
    "        \"Month: %{customdata[2]}\"\n",
    "    ])\n",
    ")\n",
    "fig[\"layout\"].pop(\"updatemenus\") \n",
    "fig.update_traces(textposition='middle center')\n",
    "fig.update_layout(showlegend=False) \n",
    "fig.update_yaxes(visible=False, title=None,)\n",
    "# fig.update_layout({'plot_bgcolor': 'rgba(0, 0, 0, 0)', 'paper_bgcolor': 'rgba(0, 0, 0, 0)'})\n",
    "fig.show()"
   ]
  },
  {
   "cell_type": "code",
   "execution_count": null,
   "metadata": {},
   "outputs": [],
   "source": []
  },
  {
   "cell_type": "code",
   "execution_count": 55,
   "metadata": {},
   "outputs": [
    {
     "name": "stdout",
     "output_type": "stream",
     "text": [
      "       Fecha  Semana_Mes\n",
      "0 2022-01-05           1\n",
      "1 2022-01-12           2\n",
      "2 2022-02-02           5\n",
      "3 2022-02-15           7\n"
     ]
    }
   ],
   "source": [
    "import pandas as pd\n",
    "\n",
    "# Crear un DataFrame de ejemplo con una columna de fechas\n",
    "data = {\n",
    "    'Fecha': ['2022-01-05', '2022-01-12', '2022-02-02', '2022-02-15']\n",
    "}\n",
    "df = pd.DataFrame(data)\n",
    "\n",
    "# Convertir la columna 'Fecha' al tipo de dato de fecha\n",
    "df['Fecha'] = pd.to_datetime(df['Fecha'])\n",
    "\n",
    "# Obtener el número de la semana del mes\n",
    "df['Semana_Mes'] = df['Fecha'].dt.isocalendar().week\n",
    "\n",
    "# Imprimir el DataFrame modificado\n",
    "print(df)\n"
   ]
  },
  {
   "cell_type": "code",
   "execution_count": null,
   "metadata": {},
   "outputs": [],
   "source": []
  }
 ],
 "metadata": {
  "kernelspec": {
   "display_name": "Python 3",
   "language": "python",
   "name": "python3"
  },
  "language_info": {
   "codemirror_mode": {
    "name": "ipython",
    "version": 3
   },
   "file_extension": ".py",
   "mimetype": "text/x-python",
   "name": "python",
   "nbconvert_exporter": "python",
   "pygments_lexer": "ipython3",
   "version": "3.11.0"
  },
  "orig_nbformat": 4
 },
 "nbformat": 4,
 "nbformat_minor": 2
}
