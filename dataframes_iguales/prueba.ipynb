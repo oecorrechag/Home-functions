{
 "cells": [
  {
   "cell_type": "code",
   "execution_count": 1,
   "metadata": {},
   "outputs": [],
   "source": [
    "import pandas as pd"
   ]
  },
  {
   "cell_type": "code",
   "execution_count": 2,
   "metadata": {},
   "outputs": [],
   "source": [
    "# Leer los archivos CSV como dataframes\n",
    "df1 = pd.read_csv('archivo1.csv')\n",
    "df2 = pd.read_csv('archivo2.csv')"
   ]
  },
  {
   "cell_type": "code",
   "execution_count": 3,
   "metadata": {},
   "outputs": [
    {
     "name": "stdout",
     "output_type": "stream",
     "text": [
      "Los archivos contienen exactamente la misma información\n"
     ]
    }
   ],
   "source": [
    "# Comparar los dos dataframes\n",
    "if df1.equals(df2):\n",
    "    print(\"Los archivos contienen exactamente la misma información\")\n",
    "else:\n",
    "    print(\"Los archivos son diferentes\")"
   ]
  },
  {
   "cell_type": "code",
   "execution_count": 4,
   "metadata": {},
   "outputs": [],
   "source": [
    "df3 = pd.read_csv('archivo3.csv')"
   ]
  },
  {
   "cell_type": "code",
   "execution_count": 5,
   "metadata": {},
   "outputs": [
    {
     "name": "stdout",
     "output_type": "stream",
     "text": [
      "Los archivos son diferentes\n"
     ]
    }
   ],
   "source": [
    "# Comparar los dos dataframes\n",
    "if df3.equals(df2):\n",
    "    print(\"Los archivos contienen exactamente la misma información\")\n",
    "else:\n",
    "    print(\"Los archivos son diferentes\")"
   ]
  },
  {
   "cell_type": "code",
   "execution_count": 6,
   "metadata": {},
   "outputs": [
    {
     "name": "stdout",
     "output_type": "stream",
     "text": [
      "       pais   color      _merge\n",
      "3  paraguay    rojo   left_only\n",
      "4  paraguay  blanco  right_only\n"
     ]
    }
   ],
   "source": [
    "# Combinar los dataframes y agregar la columna \"_merge\"\n",
    "df_diff = pd.merge(df3, df2, how='outer', indicator=True)\n",
    "\n",
    "# Seleccionar solo las filas diferentes\n",
    "df_diff = df_diff[df_diff['_merge'] != 'both']\n",
    "\n",
    "# Mostrar el resultado\n",
    "print(df_diff)"
   ]
  },
  {
   "cell_type": "code",
   "execution_count": 7,
   "metadata": {},
   "outputs": [],
   "source": [
    "df4 = pd.read_csv('archivo4.csv')"
   ]
  },
  {
   "cell_type": "code",
   "execution_count": 8,
   "metadata": {},
   "outputs": [
    {
     "name": "stdout",
     "output_type": "stream",
     "text": [
      "Los archivos son diferentes\n"
     ]
    }
   ],
   "source": [
    "# Comparar los dos dataframes\n",
    "if df4.equals(df2):\n",
    "    print(\"Los archivos contienen exactamente la misma información\")\n",
    "else:\n",
    "    print(\"Los archivos son diferentes\")"
   ]
  },
  {
   "cell_type": "code",
   "execution_count": 10,
   "metadata": {},
   "outputs": [
    {
     "name": "stdout",
     "output_type": "stream",
     "text": [
      "Empty DataFrame\n",
      "Columns: [pais, color, numero, _merge]\n",
      "Index: []\n"
     ]
    }
   ],
   "source": [
    "# Combinar los dataframes y agregar la columna \"_merge\"\n",
    "df_diff = pd.merge(df4, df2, how='outer', indicator=True)\n",
    "\n",
    "# Seleccionar solo las filas diferentes\n",
    "df_diff = df_diff[df_diff['_merge'] != 'both']\n",
    "\n",
    "# Mostrar el resultado\n",
    "print(df_diff)"
   ]
  },
  {
   "cell_type": "code",
   "execution_count": 11,
   "metadata": {},
   "outputs": [],
   "source": [
    "df5 = pd.read_csv('archivo5.csv')"
   ]
  },
  {
   "cell_type": "code",
   "execution_count": 12,
   "metadata": {},
   "outputs": [
    {
     "name": "stdout",
     "output_type": "stream",
     "text": [
      "Los archivos son diferentes\n"
     ]
    }
   ],
   "source": [
    "# Comparar los dos dataframes\n",
    "if df5.equals(df2):\n",
    "    print(\"Los archivos contienen exactamente la misma información\")\n",
    "else:\n",
    "    print(\"Los archivos son diferentes\")"
   ]
  },
  {
   "cell_type": "code",
   "execution_count": 13,
   "metadata": {},
   "outputs": [
    {
     "name": "stdout",
     "output_type": "stream",
     "text": [
      "         pais     color      _merge\n",
      "0     francia      azul   left_only\n",
      "1      españa      rojo   left_only\n",
      "2  inglaterra    blanco   left_only\n",
      "3     noruega      rojo   left_only\n",
      "4   argentina      azul  right_only\n",
      "5       chile      rojo  right_only\n",
      "6    colombia  amarillo  right_only\n",
      "7    paraguay    blanco  right_only\n"
     ]
    }
   ],
   "source": [
    "# Combinar los dataframes y agregar la columna \"_merge\"\n",
    "df_diff = pd.merge(df5, df2, how='outer', indicator=True)\n",
    "\n",
    "# Seleccionar solo las filas diferentes\n",
    "df_diff = df_diff[df_diff['_merge'] != 'both']\n",
    "\n",
    "# Mostrar el resultado\n",
    "print(df_diff)"
   ]
  },
  {
   "cell_type": "code",
   "execution_count": null,
   "metadata": {},
   "outputs": [],
   "source": []
  }
 ],
 "metadata": {
  "kernelspec": {
   "display_name": "Python 3",
   "language": "python",
   "name": "python3"
  },
  "language_info": {
   "codemirror_mode": {
    "name": "ipython",
    "version": 3
   },
   "file_extension": ".py",
   "mimetype": "text/x-python",
   "name": "python",
   "nbconvert_exporter": "python",
   "pygments_lexer": "ipython3",
   "version": "3.11.0"
  },
  "orig_nbformat": 4
 },
 "nbformat": 4,
 "nbformat_minor": 2
}
