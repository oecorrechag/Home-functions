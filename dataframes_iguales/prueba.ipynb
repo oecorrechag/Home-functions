{
 "cells": [
  {
   "cell_type": "code",
   "execution_count": 1,
   "metadata": {},
   "outputs": [],
   "source": [
    "import pandas as pd"
   ]
  },
  {
   "cell_type": "code",
   "execution_count": 2,
   "metadata": {},
   "outputs": [],
   "source": [
    "# Leer los archivos CSV como dataframes\n",
    "df1 = pd.read_csv('archivo1.csv')\n",
    "df2 = pd.read_csv('archivo2.csv')"
   ]
  },
  {
   "cell_type": "code",
   "execution_count": 3,
   "metadata": {},
   "outputs": [
    {
     "name": "stdout",
     "output_type": "stream",
     "text": [
      "Los archivos contienen exactamente la misma información\n"
     ]
    }
   ],
   "source": [
    "# Comparar los dos dataframes\n",
    "if df1.equals(df2):\n",
    "    print(\"Los archivos contienen exactamente la misma información\")\n",
    "else:\n",
    "    print(\"Los archivos son diferentes\")"
   ]
  },
  {
   "cell_type": "code",
   "execution_count": 4,
   "metadata": {},
   "outputs": [],
   "source": [
    "df3 = pd.read_csv('archivo3.csv')"
   ]
  },
  {
   "cell_type": "code",
   "execution_count": 5,
   "metadata": {},
   "outputs": [
    {
     "name": "stdout",
     "output_type": "stream",
     "text": [
      "Los archivos son diferentes\n"
     ]
    }
   ],
   "source": [
    "# Comparar los dos dataframes\n",
    "if df3.equals(df2):\n",
    "    print(\"Los archivos contienen exactamente la misma información\")\n",
    "else:\n",
    "    print(\"Los archivos son diferentes\")"
   ]
  },
  {
   "cell_type": "code",
   "execution_count": null,
   "metadata": {},
   "outputs": [],
   "source": []
  }
 ],
 "metadata": {
  "kernelspec": {
   "display_name": "Python 3",
   "language": "python",
   "name": "python3"
  },
  "language_info": {
   "codemirror_mode": {
    "name": "ipython",
    "version": 3
   },
   "file_extension": ".py",
   "mimetype": "text/x-python",
   "name": "python",
   "nbconvert_exporter": "python",
   "pygments_lexer": "ipython3",
   "version": "3.11.0"
  },
  "orig_nbformat": 4
 },
 "nbformat": 4,
 "nbformat_minor": 2
}
