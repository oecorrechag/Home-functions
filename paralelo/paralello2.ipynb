{
 "cells": [
  {
   "cell_type": "code",
   "execution_count": 1,
   "metadata": {},
   "outputs": [],
   "source": [
    "%load_ext autoreload\n",
    "%autoreload 2"
   ]
  },
  {
   "cell_type": "code",
   "execution_count": 2,
   "metadata": {},
   "outputs": [],
   "source": [
    "import pandas as pd\n",
    "import numpy as np\t\t\n",
    "import time\n",
    "from pandarallel import pandarallel\n",
    "import numpy as np"
   ]
  },
  {
   "cell_type": "code",
   "execution_count": 3,
   "metadata": {},
   "outputs": [],
   "source": [
    "from geopy.distance import distance"
   ]
  },
  {
   "cell_type": "code",
   "execution_count": 4,
   "metadata": {},
   "outputs": [
    {
     "name": "stdout",
     "output_type": "stream",
     "text": [
      "INFO: Pandarallel will run on 2 workers.\n",
      "INFO: Pandarallel will use Memory file system to transfer data between the main process and workers.\n"
     ]
    }
   ],
   "source": [
    "pandarallel.initialize()\n",
    "# pandarallel.initialize(progress_bar=True)"
   ]
  },
  {
   "cell_type": "code",
   "execution_count": 5,
   "metadata": {},
   "outputs": [],
   "source": [
    "# Función para calcular la distancia entre dos puntos\n",
    "def calcular_distancia(lat1, lon1, lat2, lon2):\n",
    "    return distance((lat1, lon1), (lat2, lon2)).km"
   ]
  },
  {
   "cell_type": "code",
   "execution_count": 6,
   "metadata": {},
   "outputs": [
    {
     "data": {
      "text/html": [
       "<div>\n",
       "<style scoped>\n",
       "    .dataframe tbody tr th:only-of-type {\n",
       "        vertical-align: middle;\n",
       "    }\n",
       "\n",
       "    .dataframe tbody tr th {\n",
       "        vertical-align: top;\n",
       "    }\n",
       "\n",
       "    .dataframe thead th {\n",
       "        text-align: right;\n",
       "    }\n",
       "</style>\n",
       "<table border=\"1\" class=\"dataframe\">\n",
       "  <thead>\n",
       "    <tr style=\"text-align: right;\">\n",
       "      <th></th>\n",
       "      <th>lat_c</th>\n",
       "      <th>long_c</th>\n",
       "      <th>lat_p</th>\n",
       "      <th>long_p</th>\n",
       "    </tr>\n",
       "  </thead>\n",
       "  <tbody>\n",
       "    <tr>\n",
       "      <th>0</th>\n",
       "      <td>4.629752</td>\n",
       "      <td>71.625145</td>\n",
       "      <td>3.584273</td>\n",
       "      <td>79.995352</td>\n",
       "    </tr>\n",
       "    <tr>\n",
       "      <th>1</th>\n",
       "      <td>3.315591</td>\n",
       "      <td>72.034504</td>\n",
       "      <td>4.708573</td>\n",
       "      <td>72.010302</td>\n",
       "    </tr>\n",
       "    <tr>\n",
       "      <th>2</th>\n",
       "      <td>4.340068</td>\n",
       "      <td>77.577133</td>\n",
       "      <td>3.226830</td>\n",
       "      <td>75.897443</td>\n",
       "    </tr>\n",
       "    <tr>\n",
       "      <th>3</th>\n",
       "      <td>5.647548</td>\n",
       "      <td>78.210901</td>\n",
       "      <td>5.947877</td>\n",
       "      <td>70.419278</td>\n",
       "    </tr>\n",
       "    <tr>\n",
       "      <th>4</th>\n",
       "      <td>5.852676</td>\n",
       "      <td>71.896833</td>\n",
       "      <td>4.273809</td>\n",
       "      <td>77.145331</td>\n",
       "    </tr>\n",
       "  </tbody>\n",
       "</table>\n",
       "</div>"
      ],
      "text/plain": [
       "      lat_c     long_c     lat_p     long_p\n",
       "0  4.629752  71.625145  3.584273  79.995352\n",
       "1  3.315591  72.034504  4.708573  72.010302\n",
       "2  4.340068  77.577133  3.226830  75.897443\n",
       "3  5.647548  78.210901  5.947877  70.419278\n",
       "4  5.852676  71.896833  4.273809  77.145331"
      ]
     },
     "execution_count": 6,
     "metadata": {},
     "output_type": "execute_result"
    }
   ],
   "source": [
    "lat_c = np.random.uniform(low=3, high=6, size=(1000000,))\n",
    "long_c = np.random.uniform(low=70, high=80, size=(1000000,))\n",
    "lat_p = np.random.uniform(low=3, high=6, size=(1000000,))\n",
    "long_p = np.random.uniform(low=70, high=80, size=(1000000,))\n",
    "\n",
    "df = pd.DataFrame({'lat_c': lat_c,\n",
    "                   'long_c': long_c,\n",
    "                   'lat_p': lat_p,\n",
    "                   'long_p': long_p,\n",
    "                   })\n",
    "df.head()"
   ]
  },
  {
   "cell_type": "code",
   "execution_count": 7,
   "metadata": {},
   "outputs": [
    {
     "name": "stdout",
     "output_type": "stream",
     "text": [
      "CPU times: user 3min 6s, sys: 210 ms, total: 3min 6s\n",
      "Wall time: 3min 6s\n"
     ]
    },
    {
     "data": {
      "text/html": [
       "<div>\n",
       "<style scoped>\n",
       "    .dataframe tbody tr th:only-of-type {\n",
       "        vertical-align: middle;\n",
       "    }\n",
       "\n",
       "    .dataframe tbody tr th {\n",
       "        vertical-align: top;\n",
       "    }\n",
       "\n",
       "    .dataframe thead th {\n",
       "        text-align: right;\n",
       "    }\n",
       "</style>\n",
       "<table border=\"1\" class=\"dataframe\">\n",
       "  <thead>\n",
       "    <tr style=\"text-align: right;\">\n",
       "      <th></th>\n",
       "      <th>lat_c</th>\n",
       "      <th>long_c</th>\n",
       "      <th>lat_p</th>\n",
       "      <th>long_p</th>\n",
       "      <th>distance</th>\n",
       "    </tr>\n",
       "  </thead>\n",
       "  <tbody>\n",
       "    <tr>\n",
       "      <th>0</th>\n",
       "      <td>4.629752</td>\n",
       "      <td>71.625145</td>\n",
       "      <td>3.584273</td>\n",
       "      <td>79.995352</td>\n",
       "      <td>936.536065</td>\n",
       "    </tr>\n",
       "    <tr>\n",
       "      <th>1</th>\n",
       "      <td>3.315591</td>\n",
       "      <td>72.034504</td>\n",
       "      <td>4.708573</td>\n",
       "      <td>72.010302</td>\n",
       "      <td>154.059015</td>\n",
       "    </tr>\n",
       "    <tr>\n",
       "      <th>2</th>\n",
       "      <td>4.340068</td>\n",
       "      <td>77.577133</td>\n",
       "      <td>3.226830</td>\n",
       "      <td>75.897443</td>\n",
       "      <td>223.525935</td>\n",
       "    </tr>\n",
       "    <tr>\n",
       "      <th>3</th>\n",
       "      <td>5.647548</td>\n",
       "      <td>78.210901</td>\n",
       "      <td>5.947877</td>\n",
       "      <td>70.419278</td>\n",
       "      <td>863.583359</td>\n",
       "    </tr>\n",
       "    <tr>\n",
       "      <th>4</th>\n",
       "      <td>5.852676</td>\n",
       "      <td>71.896833</td>\n",
       "      <td>4.273809</td>\n",
       "      <td>77.145331</td>\n",
       "      <td>607.600851</td>\n",
       "    </tr>\n",
       "  </tbody>\n",
       "</table>\n",
       "</div>"
      ],
      "text/plain": [
       "      lat_c     long_c     lat_p     long_p    distance\n",
       "0  4.629752  71.625145  3.584273  79.995352  936.536065\n",
       "1  3.315591  72.034504  4.708573  72.010302  154.059015\n",
       "2  4.340068  77.577133  3.226830  75.897443  223.525935\n",
       "3  5.647548  78.210901  5.947877  70.419278  863.583359\n",
       "4  5.852676  71.896833  4.273809  77.145331  607.600851"
      ]
     },
     "execution_count": 7,
     "metadata": {},
     "output_type": "execute_result"
    }
   ],
   "source": [
    "%%time\n",
    "df['distance'] = df.apply(lambda row: calcular_distancia(row['lat_c'], row['long_c'], row['lat_p'], row['long_p']), axis=1)\n",
    "df.head()"
   ]
  },
  {
   "cell_type": "code",
   "execution_count": 8,
   "metadata": {},
   "outputs": [
    {
     "name": "stdout",
     "output_type": "stream",
     "text": [
      "CPU times: user 57.2 ms, sys: 70.1 ms, total: 127 ms\n",
      "Wall time: 2min 3s\n"
     ]
    },
    {
     "data": {
      "text/html": [
       "<div>\n",
       "<style scoped>\n",
       "    .dataframe tbody tr th:only-of-type {\n",
       "        vertical-align: middle;\n",
       "    }\n",
       "\n",
       "    .dataframe tbody tr th {\n",
       "        vertical-align: top;\n",
       "    }\n",
       "\n",
       "    .dataframe thead th {\n",
       "        text-align: right;\n",
       "    }\n",
       "</style>\n",
       "<table border=\"1\" class=\"dataframe\">\n",
       "  <thead>\n",
       "    <tr style=\"text-align: right;\">\n",
       "      <th></th>\n",
       "      <th>lat_c</th>\n",
       "      <th>long_c</th>\n",
       "      <th>lat_p</th>\n",
       "      <th>long_p</th>\n",
       "      <th>distance</th>\n",
       "      <th>distance2</th>\n",
       "    </tr>\n",
       "  </thead>\n",
       "  <tbody>\n",
       "    <tr>\n",
       "      <th>0</th>\n",
       "      <td>4.629752</td>\n",
       "      <td>71.625145</td>\n",
       "      <td>3.584273</td>\n",
       "      <td>79.995352</td>\n",
       "      <td>936.536065</td>\n",
       "      <td>936.536065</td>\n",
       "    </tr>\n",
       "    <tr>\n",
       "      <th>1</th>\n",
       "      <td>3.315591</td>\n",
       "      <td>72.034504</td>\n",
       "      <td>4.708573</td>\n",
       "      <td>72.010302</td>\n",
       "      <td>154.059015</td>\n",
       "      <td>154.059015</td>\n",
       "    </tr>\n",
       "    <tr>\n",
       "      <th>2</th>\n",
       "      <td>4.340068</td>\n",
       "      <td>77.577133</td>\n",
       "      <td>3.226830</td>\n",
       "      <td>75.897443</td>\n",
       "      <td>223.525935</td>\n",
       "      <td>223.525935</td>\n",
       "    </tr>\n",
       "    <tr>\n",
       "      <th>3</th>\n",
       "      <td>5.647548</td>\n",
       "      <td>78.210901</td>\n",
       "      <td>5.947877</td>\n",
       "      <td>70.419278</td>\n",
       "      <td>863.583359</td>\n",
       "      <td>863.583359</td>\n",
       "    </tr>\n",
       "    <tr>\n",
       "      <th>4</th>\n",
       "      <td>5.852676</td>\n",
       "      <td>71.896833</td>\n",
       "      <td>4.273809</td>\n",
       "      <td>77.145331</td>\n",
       "      <td>607.600851</td>\n",
       "      <td>607.600851</td>\n",
       "    </tr>\n",
       "  </tbody>\n",
       "</table>\n",
       "</div>"
      ],
      "text/plain": [
       "      lat_c     long_c     lat_p     long_p    distance   distance2\n",
       "0  4.629752  71.625145  3.584273  79.995352  936.536065  936.536065\n",
       "1  3.315591  72.034504  4.708573  72.010302  154.059015  154.059015\n",
       "2  4.340068  77.577133  3.226830  75.897443  223.525935  223.525935\n",
       "3  5.647548  78.210901  5.947877  70.419278  863.583359  863.583359\n",
       "4  5.852676  71.896833  4.273809  77.145331  607.600851  607.600851"
      ]
     },
     "execution_count": 8,
     "metadata": {},
     "output_type": "execute_result"
    }
   ],
   "source": [
    "%%time\n",
    "df['distance2'] = df.parallel_apply(lambda row: calcular_distancia(row['lat_c'], row['long_c'], row['lat_p'], row['long_p']), axis=1)\n",
    "df.head()"
   ]
  },
  {
   "cell_type": "code",
   "execution_count": 9,
   "metadata": {},
   "outputs": [
    {
     "name": "stdout",
     "output_type": "stream",
     "text": [
      "Ok_\n"
     ]
    }
   ],
   "source": [
    "print('Ok_')"
   ]
  }
 ],
 "metadata": {
  "kernelspec": {
   "display_name": "Python 3",
   "language": "python",
   "name": "python3"
  },
  "language_info": {
   "codemirror_mode": {
    "name": "ipython",
    "version": 3
   },
   "file_extension": ".py",
   "mimetype": "text/x-python",
   "name": "python",
   "nbconvert_exporter": "python",
   "pygments_lexer": "ipython3",
   "version": "3.11.3"
  },
  "orig_nbformat": 4
 },
 "nbformat": 4,
 "nbformat_minor": 2
}
