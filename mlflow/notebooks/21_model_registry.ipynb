{
 "cells": [
  {
   "cell_type": "code",
   "execution_count": 1,
   "metadata": {},
   "outputs": [
    {
     "data": {
      "text/plain": [
       "True"
      ]
     },
     "execution_count": 1,
     "metadata": {},
     "output_type": "execute_result"
    }
   ],
   "source": [
    "import os\n",
    "from dotenv import load_dotenv\n",
    "import mlflow \n",
    "\n",
    "from sklearn.linear_model import LinearRegression\n",
    "from sklearn.ensemble import RandomForestRegressor\n",
    "\n",
    "import pandas as pd\n",
    "import numpy as np\n",
    "from sklearn.tree import DecisionTreeRegressor\n",
    "\n",
    "load_dotenv()"
   ]
  },
  {
   "cell_type": "code",
   "execution_count": 2,
   "metadata": {},
   "outputs": [],
   "source": [
    "# conectar con mlflow y minio (por http)\n",
    "mlflow.set_tracking_uri(\"http://127.0.0.1:5000\")\n",
    "\n",
    "os.environ['MLFLOW_S3_ENDPOINT_URL'] = \"http://127.0.0.1:9000\"\n",
    "os.environ['AWS_ACCESS_KEY_ID'] = os.getenv('KEY_ID')\n",
    "os.environ['AWS_SECRET_ACCESS_KEY'] = os.getenv('ACCESS_KEY')"
   ]
  },
  {
   "cell_type": "markdown",
   "metadata": {},
   "source": [
    "# Register model"
   ]
  },
  {
   "cell_type": "code",
   "execution_count": 3,
   "metadata": {},
   "outputs": [],
   "source": [
    "class CustomModel(mlflow.pyfunc.PythonModel):\n",
    "\n",
    "    def predict(self, context, model_input):\n",
    "        return model_input"
   ]
  },
  {
   "cell_type": "code",
   "execution_count": 4,
   "metadata": {},
   "outputs": [
    {
     "name": "stderr",
     "output_type": "stream",
     "text": [
      "Successfully registered model 'CustomModel'.\n",
      "2024/06/19 09:43:58 INFO mlflow.store.model_registry.abstract_store: Waiting up to 300 seconds for model version to finish creation. Model name: CustomModel, version 1\n",
      "Created version '1' of model 'CustomModel'.\n",
      "Successfully registered model 'RandomForestRegressor'.\n",
      "2024/06/19 09:44:00 INFO mlflow.store.model_registry.abstract_store: Waiting up to 300 seconds for model version to finish creation. Model name: RandomForestRegressor, version 1\n",
      "Created version '1' of model 'RandomForestRegressor'.\n"
     ]
    }
   ],
   "source": [
    "# experiment_id = create_mlflow_experiment(\n",
    "#     experiment_name=\"model_registry\",\n",
    "#     artifact_location=\"model_registry_artifacts\",\n",
    "#     tags={\"purpose\": \"learning\"},\n",
    "# )\n",
    "\n",
    "mlflow.set_experiment(\"mlflow_tracking\")\n",
    "\n",
    "# with mlflow.start_run(run_name=\"model_registry\") as run:\n",
    "with mlflow.start_run(run_name=\"logging_artifacts21\") as run:\n",
    "\n",
    "    model = CustomModel()\n",
    "    mlflow.pyfunc.log_model(artifact_path=\"custom_model\", python_model=model, registered_model_name=\"CustomModel\")\n",
    "    mlflow.sklearn.log_model(artifact_path=\"rfr_model\", sk_model=RandomForestRegressor(), registered_model_name=\"RandomForestRegressor\")\n",
    "    mlflow.sklearn.log_model(artifact_path=\"rft_model2\", sk_model=RandomForestRegressor())   "
   ]
  },
  {
   "cell_type": "code",
   "execution_count": 5,
   "metadata": {},
   "outputs": [
    {
     "name": "stdout",
     "output_type": "stream",
     "text": [
      "tracking uri: http://127.0.0.1:5000\n",
      "artifact uri: s3://mlflow/3/ec0a01e3fb994111acb40246b492f97c/artifacts\n"
     ]
    }
   ],
   "source": [
    "print('tracking uri:', mlflow.get_tracking_uri())\n",
    "print('artifact uri:', mlflow.get_artifact_uri())"
   ]
  },
  {
   "cell_type": "code",
   "execution_count": 6,
   "metadata": {},
   "outputs": [],
   "source": [
    "mlflow.end_run()"
   ]
  },
  {
   "cell_type": "markdown",
   "metadata": {},
   "source": [
    "# Otro ejemplo"
   ]
  },
  {
   "cell_type": "code",
   "execution_count": 7,
   "metadata": {},
   "outputs": [
    {
     "name": "stderr",
     "output_type": "stream",
     "text": [
      "Successfully registered model 'model_pyfunc'.\n",
      "2024/06/19 09:44:05 INFO mlflow.store.model_registry.abstract_store: Waiting up to 300 seconds for model version to finish creation. Model name: model_pyfunc, version 1\n",
      "Created version '1' of model 'model_pyfunc'.\n",
      "Successfully registered model 'model_sklearn'.\n",
      "2024/06/19 09:44:07 INFO mlflow.store.model_registry.abstract_store: Waiting up to 300 seconds for model version to finish creation. Model name: model_sklearn, version 1\n",
      "Created version '1' of model 'model_sklearn'.\n"
     ]
    },
    {
     "name": "stdout",
     "output_type": "stream",
     "text": [
      "run_id: 762f938020d64ad9929ad0cf99b4a31e\n"
     ]
    }
   ],
   "source": [
    "# Cargar el conjunto de datos de Boston Housing\n",
    "data = pd.read_csv(\"BostonHousing.csv\")\n",
    "\n",
    "class model_pred(mlflow.pyfunc.PythonModel):\n",
    "\n",
    "    def __init__(self, model):\n",
    "        self.model = model\n",
    "\n",
    "    def predict(self, context, data):\n",
    "        # Implement your prediction logic here\n",
    "        # This example assumes data is a pandas DataFrame\n",
    "        predictions = self.model.predict(data)\n",
    "        return predictions\n",
    "\n",
    "model_lr = LinearRegression()\n",
    "\n",
    "# mlflow.autolog()\n",
    "\n",
    "mlflow.set_experiment(\"mlflow_tracking\")\n",
    "\n",
    "with mlflow.start_run(run_name=\"logging_artifacts21\") as run:\n",
    "\n",
    "    # Separar las características y la variable objetivo\n",
    "    X = data.drop(\"medv\", axis=1)\n",
    "    y = data[\"medv\"]\n",
    "\n",
    "    model = DecisionTreeRegressor(max_depth=5)\n",
    "\n",
    "    mlflow.pyfunc.log_model(artifact_path=\"model0\", python_model=model_pred(model_lr), registered_model_name=\"model_pyfunc\")\n",
    "    mlflow.sklearn.log_model(artifact_path=\"model1\", sk_model=model, registered_model_name=\"model_sklearn\")\n",
    "    mlflow.sklearn.log_model(artifact_path=\"model2\", sk_model=model)\n",
    "\n",
    "    # print info about the run\n",
    "    print(\"run_id: {}\".format(run.info.run_id))"
   ]
  },
  {
   "cell_type": "code",
   "execution_count": 8,
   "metadata": {},
   "outputs": [
    {
     "name": "stdout",
     "output_type": "stream",
     "text": [
      "tracking uri: http://127.0.0.1:5000\n",
      "artifact uri: s3://mlflow/3/3a6ebfa7b1224b44a75479e2a5bd5541/artifacts\n"
     ]
    }
   ],
   "source": [
    "print('tracking uri:', mlflow.get_tracking_uri())\n",
    "print('artifact uri:', mlflow.get_artifact_uri())"
   ]
  },
  {
   "cell_type": "code",
   "execution_count": 9,
   "metadata": {},
   "outputs": [],
   "source": [
    "mlflow.end_run()"
   ]
  },
  {
   "cell_type": "code",
   "execution_count": 10,
   "metadata": {},
   "outputs": [
    {
     "name": "stdout",
     "output_type": "stream",
     "text": [
      "ok_\n"
     ]
    }
   ],
   "source": [
    "print('ok_')"
   ]
  }
 ],
 "metadata": {
  "kernelspec": {
   "display_name": "Python 3",
   "language": "python",
   "name": "python3"
  },
  "language_info": {
   "codemirror_mode": {
    "name": "ipython",
    "version": 3
   },
   "file_extension": ".py",
   "mimetype": "text/x-python",
   "name": "python",
   "nbconvert_exporter": "python",
   "pygments_lexer": "ipython3",
   "version": "3.10.12"
  }
 },
 "nbformat": 4,
 "nbformat_minor": 2
}
