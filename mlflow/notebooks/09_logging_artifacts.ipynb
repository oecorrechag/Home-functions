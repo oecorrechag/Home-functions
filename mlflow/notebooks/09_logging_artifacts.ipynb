{
 "cells": [
  {
   "cell_type": "code",
   "execution_count": 2,
   "metadata": {},
   "outputs": [],
   "source": [
    "import os\n",
    "import mlflow \n",
    "from mlflow_utils import get_mlflow_experiment"
   ]
  },
  {
   "cell_type": "code",
   "execution_count": 3,
   "metadata": {},
   "outputs": [],
   "source": [
    "# conectar con mlflow y minio\n",
    "mlflow.set_tracking_uri(\"http://127.0.0.1:5000\")\n",
    "\n",
    "os.environ['MLFLOW_S3_ENDPOINT_URL'] = \"http://127.0.0.1:9000\"\n",
    "os.environ['AWS_ACCESS_KEY_ID'] = 'admin'\n",
    "os.environ['AWS_SECRET_ACCESS_KEY'] = 'supersecret'"
   ]
  },
  {
   "cell_type": "markdown",
   "metadata": {},
   "source": [
    "# Logging metrics artefacts"
   ]
  },
  {
   "cell_type": "code",
   "execution_count": 4,
   "metadata": {},
   "outputs": [
    {
     "name": "stderr",
     "output_type": "stream",
     "text": [
      "2024/06/06 18:51:07 INFO mlflow.tracking.fluent: Experiment with name 'mlflow_tracking' does not exist. Creating a new experiment.\n"
     ]
    },
    {
     "name": "stdout",
     "output_type": "stream",
     "text": [
      "run_id: c0c9faaa96e7468a85b691e229154327\n",
      "experiment_id: 3\n",
      "status: RUNNING\n",
      "start_time: 1717717867742\n",
      "end_time: None\n",
      "lifecycle_stage: active\n"
     ]
    }
   ],
   "source": [
    "# experiment = get_mlflow_experiment(experiment_name=\"testing_mlflow\")\n",
    "# print(\"Name: {}\".format(experiment.name))\n",
    "\n",
    "mlflow.set_experiment(\"mlflow_tracking\")\n",
    "\n",
    "# with mlflow.start_run(run_name=\"logging_artifacts\", experiment_id=experiment.experiment_id) as run:\n",
    "with mlflow.start_run(run_name=\"logging_artifacts9\") as run:\n",
    "\n",
    "    # your machine learning code goes here\n",
    "\n",
    "    # create a text file that says hello world\n",
    "    with open(\"hello_world.txt\", \"w\") as f:\n",
    "        f.write(\"Hello World!\")\n",
    "\n",
    "    # log the text file as an artifact\n",
    "    mlflow.log_artifact(local_path=\"hello_world.txt\", artifact_path=\"text_files\")\n",
    "\n",
    "    # print run info\n",
    "    print(\"run_id: {}\".format(run.info.run_id))\n",
    "    print(\"experiment_id: {}\".format(run.info.experiment_id))\n",
    "    print(\"status: {}\".format(run.info.status))\n",
    "    print(\"start_time: {}\".format(run.info.start_time))\n",
    "    print(\"end_time: {}\".format(run.info.end_time))\n",
    "    print(\"lifecycle_stage: {}\".format(run.info.lifecycle_stage))"
   ]
  },
  {
   "cell_type": "code",
   "execution_count": null,
   "metadata": {},
   "outputs": [],
   "source": [
    "print('ok_')"
   ]
  }
 ],
 "metadata": {
  "kernelspec": {
   "display_name": "Python 3",
   "language": "python",
   "name": "python3"
  },
  "language_info": {
   "codemirror_mode": {
    "name": "ipython",
    "version": 3
   },
   "file_extension": ".py",
   "mimetype": "text/x-python",
   "name": "python",
   "nbconvert_exporter": "python",
   "pygments_lexer": "ipython3",
   "version": "3.10.12"
  }
 },
 "nbformat": 4,
 "nbformat_minor": 2
}
