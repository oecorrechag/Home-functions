{
 "cells": [
  {
   "cell_type": "code",
   "execution_count": 1,
   "metadata": {},
   "outputs": [],
   "source": [
    "import mlflow\n",
    "\n",
    "# conectar con mlflow (por http)\n",
    "mlflow.set_tracking_uri(\"http://127.0.0.1:5000\")"
   ]
  },
  {
   "cell_type": "markdown",
   "metadata": {},
   "source": [
    "# Register parameter experiment\n",
    "\n",
    "Registrar un parametro, como no pertenece a ningun experimento lo envia a 0.\n",
    "\n",
    "Run name: mlflow_runs"
   ]
  },
  {
   "cell_type": "code",
   "execution_count": 2,
   "metadata": {},
   "outputs": [
    {
     "name": "stdout",
     "output_type": "stream",
     "text": [
      "RUN ID\n",
      "9ee1db9b1d9b4053b52ea82543181ebe\n",
      "<RunInfo: artifact_uri='s3://mlflow/0/9ee1db9b1d9b4053b52ea82543181ebe/artifacts', end_time=None, experiment_id='0', lifecycle_stage='active', run_id='9ee1db9b1d9b4053b52ea82543181ebe', run_name='mlflow_runs', run_uuid='9ee1db9b1d9b4053b52ea82543181ebe', start_time=1718807805865, status='RUNNING', user_id='oecorrechag'>\n"
     ]
    }
   ],
   "source": [
    "with mlflow.start_run(run_name=\"mlflow_runs\") as run:\n",
    "\n",
    "    # Your machine learning code goes here\n",
    "    mlflow.log_param(\"learning_rate\",0.01)\n",
    "    print(\"RUN ID\")\n",
    "    print(run.info.run_id)\n",
    "\n",
    "    print(run.info)"
   ]
  },
  {
   "cell_type": "markdown",
   "metadata": {},
   "source": [
    "![05_1](../images/05_1.PNG)\n",
    "![05_2](../images/05_2.PNG)"
   ]
  },
  {
   "cell_type": "code",
   "execution_count": 3,
   "metadata": {},
   "outputs": [],
   "source": [
    "mlflow.end_run()"
   ]
  },
  {
   "cell_type": "code",
   "execution_count": 4,
   "metadata": {},
   "outputs": [
    {
     "name": "stdout",
     "output_type": "stream",
     "text": [
      "ok_\n"
     ]
    }
   ],
   "source": [
    "print('ok_')"
   ]
  }
 ],
 "metadata": {
  "kernelspec": {
   "display_name": "Python 3",
   "language": "python",
   "name": "python3"
  },
  "language_info": {
   "codemirror_mode": {
    "name": "ipython",
    "version": 3
   },
   "file_extension": ".py",
   "mimetype": "text/x-python",
   "name": "python",
   "nbconvert_exporter": "python",
   "pygments_lexer": "ipython3",
   "version": "3.10.12"
  }
 },
 "nbformat": 4,
 "nbformat_minor": 2
}
