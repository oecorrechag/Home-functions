{
 "cells": [
  {
   "cell_type": "code",
   "execution_count": 2,
   "metadata": {},
   "outputs": [
    {
     "data": {
      "text/plain": [
       "True"
      ]
     },
     "execution_count": 2,
     "metadata": {},
     "output_type": "execute_result"
    }
   ],
   "source": [
    "import os\n",
    "from dotenv import load_dotenv\n",
    "import mlflow\n",
    "from mlflow.models import infer_signature\n",
    "from mlflow_utils import get_mlflow_experiment\n",
    "\n",
    "\n",
    "from sklearn.datasets import make_classification\n",
    "from sklearn.model_selection import train_test_split\n",
    "from sklearn.ensemble import RandomForestClassifier\n",
    "\n",
    "import pandas as pd \n",
    "\n",
    "load_dotenv()"
   ]
  },
  {
   "cell_type": "code",
   "execution_count": 3,
   "metadata": {},
   "outputs": [],
   "source": [
    "# conectar con mlflow y minio (por http)\n",
    "mlflow.set_tracking_uri(\"http://127.0.0.1:5000\")\n",
    "\n",
    "os.environ['MLFLOW_S3_ENDPOINT_URL'] = \"http://127.0.0.1:9000\"\n",
    "os.environ['AWS_ACCESS_KEY_ID'] = os.getenv('KEY_ID')\n",
    "os.environ['AWS_SECRET_ACCESS_KEY'] = os.getenv('ACCESS_KEY')"
   ]
  },
  {
   "cell_type": "code",
   "execution_count": 4,
   "metadata": {},
   "outputs": [
    {
     "name": "stderr",
     "output_type": "stream",
     "text": [
      "/home/oecorrechag/.local/lib/python3.10/site-packages/sklearn/base.py:1473: DataConversionWarning: A column-vector y was passed when a 1d array was expected. Please change the shape of y to (n_samples,), for example using ravel().\n",
      "  return fit_method(estimator, *args, **kwargs)\n",
      "/home/oecorrechag/.local/lib/python3.10/site-packages/mlflow/types/utils.py:394: UserWarning: Hint: Inferred schema contains integer column(s). Integer columns in Python cannot represent missing values. If your input data contains missing values at inference time, it will be encoded as floats and will cause a schema enforcement error. The best way to avoid this problem is to infer the model schema based on a realistic data sample (training dataset) that includes missing values. Alternatively, you can declare integer columns as doubles (float64) whenever these columns may have missing values. See `Handling Integers With Missing Values <https://www.mlflow.org/docs/latest/models.html#handling-integers-with-missing-values>`_ for more details.\n",
      "  warnings.warn(\n"
     ]
    },
    {
     "name": "stdout",
     "output_type": "stream",
     "text": [
      "run_id: 48df5495ed084cebb357aca4a81ad468\n",
      "experiment_id: 3\n",
      "status: RUNNING\n",
      "start_time: 1717780365618\n",
      "end_time: None\n",
      "lifecycle_stage: active\n"
     ]
    }
   ],
   "source": [
    "# experiment = get_mlflow_experiment(experiment_name=\"testing_mlflow\")\n",
    "# print(\"Name: {}\".format(experiment.name))\n",
    "\n",
    "mlflow.set_experiment(\"mlflow_tracking\")\n",
    "\n",
    "# with mlflow.start_run(run_name=\"logging_models\", experiment_id=experiment.experiment_id) as run:\n",
    "with mlflow.start_run(run_name=\"logging_artifacts13\") as run:\n",
    "    \n",
    "    X, y = make_classification(n_samples=1000, n_features=10, n_informative=5, n_redundant=5, random_state=42)\n",
    "    X_train, X_test, y_train, y_test = train_test_split(X, y, test_size=0.2, random_state=43)\n",
    "\n",
    "    X_train = pd.DataFrame(X_train, columns=[\"feature_{}\".format(i) for i in range(10)])\n",
    "    X_test = pd.DataFrame(X_test, columns=[\"feature_{}\".format(i) for i in range(10)])\n",
    "    y_train = pd.DataFrame(y_train, columns=[\"target\"])\n",
    "    y_test = pd.DataFrame(y_test, columns=[\"target\"])\n",
    "\n",
    "    rfc = RandomForestClassifier(n_estimators=100, random_state=42)\n",
    "    rfc.fit(X_train, y_train)\n",
    "    y_pred = rfc.predict(X_test)\n",
    "    y_pred = pd.DataFrame(y_pred, columns=[\"prediction\"])\n",
    "\n",
    "    # infer signature\n",
    "    model_signature = infer_signature(model_input=X_train, model_output=y_pred)\n",
    "\n",
    "\n",
    "    # log model \n",
    "    mlflow.sklearn.log_model(sk_model=rfc, artifact_path=\"random_forest_classifier\", signature=model_signature)\n",
    "    \n",
    "    \n",
    "    # print info about the run\n",
    "    print(\"run_id: {}\".format(run.info.run_id))\n",
    "    print(\"experiment_id: {}\".format(run.info.experiment_id))\n",
    "    print(\"status: {}\".format(run.info.status))\n",
    "    print(\"start_time: {}\".format(run.info.start_time))\n",
    "    print(\"end_time: {}\".format(run.info.end_time))\n",
    "    print(\"lifecycle_stage: {}\".format(run.info.lifecycle_stage))"
   ]
  },
  {
   "cell_type": "code",
   "execution_count": 5,
   "metadata": {},
   "outputs": [
    {
     "name": "stdout",
     "output_type": "stream",
     "text": [
      "tracking uri: http://127.0.0.1:5000\n",
      "artifact uri: s3://mlflow/3/3477a3adc554416a85067fbf1e2d495b/artifacts\n"
     ]
    }
   ],
   "source": [
    "print('tracking uri:', mlflow.get_tracking_uri())\n",
    "print('artifact uri:', mlflow.get_artifact_uri())"
   ]
  },
  {
   "cell_type": "code",
   "execution_count": 6,
   "metadata": {},
   "outputs": [],
   "source": [
    "mlflow.end_run()"
   ]
  },
  {
   "cell_type": "code",
   "execution_count": 7,
   "metadata": {},
   "outputs": [
    {
     "name": "stdout",
     "output_type": "stream",
     "text": [
      "Ok_\n"
     ]
    }
   ],
   "source": [
    "print('ok_')"
   ]
  }
 ],
 "metadata": {
  "kernelspec": {
   "display_name": "Python 3",
   "language": "python",
   "name": "python3"
  },
  "language_info": {
   "codemirror_mode": {
    "name": "ipython",
    "version": 3
   },
   "file_extension": ".py",
   "mimetype": "text/x-python",
   "name": "python",
   "nbconvert_exporter": "python",
   "pygments_lexer": "ipython3",
   "version": "3.10.12"
  }
 },
 "nbformat": 4,
 "nbformat_minor": 2
}
