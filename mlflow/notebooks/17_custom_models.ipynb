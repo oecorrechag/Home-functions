{
 "cells": [
  {
   "cell_type": "code",
   "execution_count": 1,
   "metadata": {},
   "outputs": [
    {
     "data": {
      "text/plain": [
       "True"
      ]
     },
     "execution_count": 1,
     "metadata": {},
     "output_type": "execute_result"
    }
   ],
   "source": [
    "import os\n",
    "from dotenv import load_dotenv\n",
    "import mlflow\n",
    "\n",
    "load_dotenv()"
   ]
  },
  {
   "cell_type": "code",
   "execution_count": 2,
   "metadata": {},
   "outputs": [],
   "source": [
    "# conectar con mlflow y minio (por http)\n",
    "mlflow.set_tracking_uri(\"http://127.0.0.1:5000\")\n",
    "\n",
    "os.environ['MLFLOW_S3_ENDPOINT_URL'] = \"http://127.0.0.1:9000\"\n",
    "os.environ['AWS_ACCESS_KEY_ID'] = os.getenv('KEY_ID')\n",
    "os.environ['AWS_SECRET_ACCESS_KEY'] = os.getenv('ACCESS_KEY')"
   ]
  },
  {
   "cell_type": "markdown",
   "metadata": {},
   "source": [
    "# Custom"
   ]
  },
  {
   "cell_type": "code",
   "execution_count": 3,
   "metadata": {},
   "outputs": [],
   "source": [
    "class CustomModel(mlflow.pyfunc.PythonModel):\n",
    "\n",
    "    def __init__(self):\n",
    "        pass \n",
    "\n",
    "    def fit(self):\n",
    "        print(\"Fitting model...\")\n",
    "\n",
    "    def predict(self, context, model_input:[str]):\n",
    "        return self.get_prediction(model_input)\n",
    "    \n",
    "    def get_prediction(self, model_input:[str]):\n",
    "        # do something with the model input\n",
    "        return \" \".join([w.upper() for w in model_input])"
   ]
  },
  {
   "cell_type": "code",
   "execution_count": 4,
   "metadata": {},
   "outputs": [
    {
     "name": "stderr",
     "output_type": "stream",
     "text": [
      "2024/06/19 09:41:51 INFO mlflow.types.utils: Unsupported type hint: [<class 'str'>], skipping schema inference\n"
     ]
    },
    {
     "name": "stdout",
     "output_type": "stream",
     "text": [
      "Fitting model...\n"
     ]
    },
    {
     "name": "stderr",
     "output_type": "stream",
     "text": [
      "/home/oecorrechag/.local/lib/python3.10/site-packages/tqdm/auto.py:21: TqdmWarning: IProgress not found. Please update jupyter and ipywidgets. See https://ipywidgets.readthedocs.io/en/stable/user_install.html\n",
      "  from .autonotebook import tqdm as notebook_tqdm\n",
      "Downloading artifacts: 100%|██████████| 9/9 [00:00<00:00, 335.36it/s] \n"
     ]
    },
    {
     "name": "stdout",
     "output_type": "stream",
     "text": [
      "HELLO WORLD\n"
     ]
    }
   ],
   "source": [
    "# experiment_id = create_mlflow_experiment(\n",
    "#     experiment_name= \"Custom Models\",\n",
    "#     artifact_location= \"custom_model_artifacts\",\n",
    "#     tags={\"purpose\":\"learning\"}\n",
    "# )\n",
    "\n",
    "mlflow.set_experiment(\"mlflow_tracking\")\n",
    "\n",
    "# with mlflow.start_run(run_name=\"custom_model_run\") as run:\n",
    "with mlflow.start_run(run_name=\"logging_artifacts17\") as run:\n",
    "\n",
    "    custom_model = CustomModel()\n",
    "\n",
    "    custom_model.fit()\n",
    "\n",
    "    mlflow.pyfunc.log_model(\n",
    "        artifact_path=\"custom_model\",\n",
    "        python_model=custom_model)\n",
    "    \n",
    "    mlflow.log_param(\"param1\", \"value1\")\n",
    "\n",
    "    # load model\n",
    "    custom_model = mlflow.pyfunc.load_model(f\"runs:/{run.info.run_id}/custom_model\")\n",
    "\n",
    "    prediction = custom_model.predict([\"hello\", \"world\"])\n",
    "    print(prediction)"
   ]
  },
  {
   "cell_type": "code",
   "execution_count": 5,
   "metadata": {},
   "outputs": [
    {
     "name": "stdout",
     "output_type": "stream",
     "text": [
      "tracking uri: http://127.0.0.1:5000\n",
      "artifact uri: s3://mlflow/3/15ff28d9318744bcb06025e3dded3e00/artifacts\n"
     ]
    }
   ],
   "source": [
    "print('tracking uri:', mlflow.get_tracking_uri())\n",
    "print('artifact uri:', mlflow.get_artifact_uri())"
   ]
  },
  {
   "cell_type": "code",
   "execution_count": 6,
   "metadata": {},
   "outputs": [],
   "source": [
    "mlflow.end_run()"
   ]
  },
  {
   "cell_type": "code",
   "execution_count": 7,
   "metadata": {},
   "outputs": [
    {
     "name": "stdout",
     "output_type": "stream",
     "text": [
      "ok_\n"
     ]
    }
   ],
   "source": [
    "print('ok_')"
   ]
  }
 ],
 "metadata": {
  "kernelspec": {
   "display_name": "Python 3",
   "language": "python",
   "name": "python3"
  },
  "language_info": {
   "codemirror_mode": {
    "name": "ipython",
    "version": 3
   },
   "file_extension": ".py",
   "mimetype": "text/x-python",
   "name": "python",
   "nbconvert_exporter": "python",
   "pygments_lexer": "ipython3",
   "version": "3.10.12"
  }
 },
 "nbformat": 4,
 "nbformat_minor": 2
}
