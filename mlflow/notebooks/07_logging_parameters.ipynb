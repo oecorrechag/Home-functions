{
 "cells": [
  {
   "cell_type": "code",
   "execution_count": 1,
   "metadata": {},
   "outputs": [],
   "source": [
    "import os\n",
    "import mlflow \n",
    "from mlflow_utils import get_mlflow_experiment"
   ]
  },
  {
   "cell_type": "code",
   "execution_count": 2,
   "metadata": {},
   "outputs": [],
   "source": [
    "# conectar con mlflow y minio\n",
    "mlflow.set_tracking_uri(\"http://127.0.0.1:5000\")\n",
    "\n",
    "os.environ['MLFLOW_S3_ENDPOINT_URL'] = \"http://127.0.0.1:9000\"\n",
    "os.environ['AWS_ACCESS_KEY_ID'] = 'admin'\n",
    "os.environ['AWS_SECRET_ACCESS_KEY'] = 'supersecret'"
   ]
  },
  {
   "cell_type": "markdown",
   "metadata": {},
   "source": [
    "# Logging parameter experiment"
   ]
  },
  {
   "cell_type": "code",
   "execution_count": 3,
   "metadata": {},
   "outputs": [
    {
     "name": "stdout",
     "output_type": "stream",
     "text": [
      "Name: testing_mlflow\n",
      "run_id: b4db2b887b3242b383ad9dfcb8423a6d\n",
      "experiment_id: 2\n",
      "status: RUNNING\n",
      "start_time: 1717717680052\n",
      "end_time: None\n",
      "lifecycle_stage: active\n"
     ]
    }
   ],
   "source": [
    "experiment = get_mlflow_experiment(experiment_name=\"testing_mlflow\")\n",
    "print(\"Name: {}\".format(experiment.name))\n",
    "\n",
    "with mlflow.start_run(run_name=\"logging_params\", experiment_id = experiment.experiment_id) as run:\n",
    "\n",
    "    # Your machine learning code goes here\n",
    "    mlflow.log_param(\"learning_rate\", 0.01)\n",
    "\n",
    "    parameters = {\n",
    "        \"learning_rate\": 0.01,\n",
    "        \"epochs\": 10,\n",
    "        \"batch_size\": 100,\n",
    "        \"loss_function\": \"mse\",\n",
    "        \"optimizer\": \"adam\"\n",
    "    }\n",
    "\n",
    "    mlflow.log_params(parameters)\n",
    "\n",
    "    # print run info\n",
    "    print(\"run_id: {}\".format(run.info.run_id))\n",
    "    print(\"experiment_id: {}\".format(run.info.experiment_id))\n",
    "    print(\"status: {}\".format(run.info.status))\n",
    "    print(\"start_time: {}\".format(run.info.start_time))\n",
    "    print(\"end_time: {}\".format(run.info.end_time))\n",
    "    print(\"lifecycle_stage: {}\".format(run.info.lifecycle_stage))"
   ]
  },
  {
   "cell_type": "markdown",
   "metadata": {},
   "source": [
    "![07_1](../images/07_1.PNG)\n",
    "![07_2](../images/07_2.PNG)"
   ]
  },
  {
   "cell_type": "code",
   "execution_count": 4,
   "metadata": {},
   "outputs": [
    {
     "name": "stdout",
     "output_type": "stream",
     "text": [
      "Ok_\n"
     ]
    }
   ],
   "source": [
    "print('Ok_')"
   ]
  }
 ],
 "metadata": {
  "kernelspec": {
   "display_name": "Python 3",
   "language": "python",
   "name": "python3"
  },
  "language_info": {
   "codemirror_mode": {
    "name": "ipython",
    "version": 3
   },
   "file_extension": ".py",
   "mimetype": "text/x-python",
   "name": "python",
   "nbconvert_exporter": "python",
   "pygments_lexer": "ipython3",
   "version": "3.10.12"
  }
 },
 "nbformat": 4,
 "nbformat_minor": 2
}
