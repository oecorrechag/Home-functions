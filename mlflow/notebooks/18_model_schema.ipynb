{
 "cells": [
  {
   "cell_type": "code",
   "execution_count": 1,
   "metadata": {},
   "outputs": [
    {
     "data": {
      "text/plain": [
       "True"
      ]
     },
     "execution_count": 1,
     "metadata": {},
     "output_type": "execute_result"
    }
   ],
   "source": [
    "import os\n",
    "from dotenv import load_dotenv\n",
    "import mlflow\n",
    "from mlflow.models.signature import ModelSignature\n",
    "from mlflow.models.signature import infer_signature\n",
    "from mlflow.types.schema import Schema\n",
    "from mlflow.types.schema import ParamSchema\n",
    "from mlflow.types.schema import ParamSpec\n",
    "from mlflow.types.schema import ColSpec\n",
    "from sklearn.ensemble import RandomForestClassifier\n",
    "import pandas as pd\n",
    "from typing import Tuple\n",
    "\n",
    "load_dotenv()"
   ]
  },
  {
   "cell_type": "code",
   "execution_count": 2,
   "metadata": {},
   "outputs": [],
   "source": [
    "# conectar con mlflow y minio (por http)\n",
    "mlflow.set_tracking_uri(\"http://127.0.0.1:5000\")\n",
    "\n",
    "os.environ['MLFLOW_S3_ENDPOINT_URL'] = \"http://127.0.0.1:9000\"\n",
    "os.environ['AWS_ACCESS_KEY_ID'] = os.getenv('KEY_ID')\n",
    "os.environ['AWS_SECRET_ACCESS_KEY'] = os.getenv('ACCESS_KEY')"
   ]
  },
  {
   "cell_type": "markdown",
   "metadata": {},
   "source": [
    "# Schema"
   ]
  },
  {
   "cell_type": "code",
   "execution_count": 3,
   "metadata": {},
   "outputs": [],
   "source": [
    "def get_train_data() -> Tuple[pd.DataFrame]:\n",
    "    \"\"\"\n",
    "    Generate train and test data.\n",
    "\n",
    "    :return: x_train,y_train\n",
    "    \"\"\"\n",
    "    # Cargar el conjunto de datos de Boston Housing\n",
    "    data = pd.read_csv(\"BostonHousing.csv\")\n",
    "\n",
    "    # Separar las características y la variable objetivo\n",
    "    X = data.drop(\"medv\", axis=1)\n",
    "    y = data[\"medv\"]\n",
    "\n",
    "    return X, y"
   ]
  },
  {
   "cell_type": "code",
   "execution_count": 4,
   "metadata": {},
   "outputs": [
    {
     "data": {
      "text/html": [
       "<div>\n",
       "<style scoped>\n",
       "    .dataframe tbody tr th:only-of-type {\n",
       "        vertical-align: middle;\n",
       "    }\n",
       "\n",
       "    .dataframe tbody tr th {\n",
       "        vertical-align: top;\n",
       "    }\n",
       "\n",
       "    .dataframe thead th {\n",
       "        text-align: right;\n",
       "    }\n",
       "</style>\n",
       "<table border=\"1\" class=\"dataframe\">\n",
       "  <thead>\n",
       "    <tr style=\"text-align: right;\">\n",
       "      <th></th>\n",
       "      <th>crim</th>\n",
       "      <th>zn</th>\n",
       "      <th>indus</th>\n",
       "      <th>chas</th>\n",
       "      <th>nox</th>\n",
       "      <th>rm</th>\n",
       "      <th>age</th>\n",
       "      <th>dis</th>\n",
       "      <th>rad</th>\n",
       "      <th>tax</th>\n",
       "      <th>ptratio</th>\n",
       "      <th>b</th>\n",
       "      <th>lstat</th>\n",
       "    </tr>\n",
       "  </thead>\n",
       "  <tbody>\n",
       "    <tr>\n",
       "      <th>0</th>\n",
       "      <td>0.00632</td>\n",
       "      <td>18.0</td>\n",
       "      <td>2.31</td>\n",
       "      <td>0</td>\n",
       "      <td>0.538</td>\n",
       "      <td>6.575</td>\n",
       "      <td>65.2</td>\n",
       "      <td>4.0900</td>\n",
       "      <td>1</td>\n",
       "      <td>296</td>\n",
       "      <td>15.3</td>\n",
       "      <td>396.90</td>\n",
       "      <td>4.98</td>\n",
       "    </tr>\n",
       "    <tr>\n",
       "      <th>1</th>\n",
       "      <td>0.02731</td>\n",
       "      <td>0.0</td>\n",
       "      <td>7.07</td>\n",
       "      <td>0</td>\n",
       "      <td>0.469</td>\n",
       "      <td>6.421</td>\n",
       "      <td>78.9</td>\n",
       "      <td>4.9671</td>\n",
       "      <td>2</td>\n",
       "      <td>242</td>\n",
       "      <td>17.8</td>\n",
       "      <td>396.90</td>\n",
       "      <td>9.14</td>\n",
       "    </tr>\n",
       "    <tr>\n",
       "      <th>2</th>\n",
       "      <td>0.02729</td>\n",
       "      <td>0.0</td>\n",
       "      <td>7.07</td>\n",
       "      <td>0</td>\n",
       "      <td>0.469</td>\n",
       "      <td>7.185</td>\n",
       "      <td>61.1</td>\n",
       "      <td>4.9671</td>\n",
       "      <td>2</td>\n",
       "      <td>242</td>\n",
       "      <td>17.8</td>\n",
       "      <td>392.83</td>\n",
       "      <td>4.03</td>\n",
       "    </tr>\n",
       "    <tr>\n",
       "      <th>3</th>\n",
       "      <td>0.03237</td>\n",
       "      <td>0.0</td>\n",
       "      <td>2.18</td>\n",
       "      <td>0</td>\n",
       "      <td>0.458</td>\n",
       "      <td>6.998</td>\n",
       "      <td>45.8</td>\n",
       "      <td>6.0622</td>\n",
       "      <td>3</td>\n",
       "      <td>222</td>\n",
       "      <td>18.7</td>\n",
       "      <td>394.63</td>\n",
       "      <td>2.94</td>\n",
       "    </tr>\n",
       "    <tr>\n",
       "      <th>4</th>\n",
       "      <td>0.06905</td>\n",
       "      <td>0.0</td>\n",
       "      <td>2.18</td>\n",
       "      <td>0</td>\n",
       "      <td>0.458</td>\n",
       "      <td>7.147</td>\n",
       "      <td>54.2</td>\n",
       "      <td>6.0622</td>\n",
       "      <td>3</td>\n",
       "      <td>222</td>\n",
       "      <td>18.7</td>\n",
       "      <td>396.90</td>\n",
       "      <td>5.33</td>\n",
       "    </tr>\n",
       "  </tbody>\n",
       "</table>\n",
       "</div>"
      ],
      "text/plain": [
       "      crim    zn  indus  chas    nox     rm   age     dis  rad  tax  ptratio  \\\n",
       "0  0.00632  18.0   2.31     0  0.538  6.575  65.2  4.0900    1  296     15.3   \n",
       "1  0.02731   0.0   7.07     0  0.469  6.421  78.9  4.9671    2  242     17.8   \n",
       "2  0.02729   0.0   7.07     0  0.469  7.185  61.1  4.9671    2  242     17.8   \n",
       "3  0.03237   0.0   2.18     0  0.458  6.998  45.8  6.0622    3  222     18.7   \n",
       "4  0.06905   0.0   2.18     0  0.458  7.147  54.2  6.0622    3  222     18.7   \n",
       "\n",
       "        b  lstat  \n",
       "0  396.90   4.98  \n",
       "1  396.90   9.14  \n",
       "2  392.83   4.03  \n",
       "3  394.63   2.94  \n",
       "4  396.90   5.33  "
      ]
     },
     "execution_count": 4,
     "metadata": {},
     "output_type": "execute_result"
    }
   ],
   "source": [
    "x_train, y_train = get_train_data()\n",
    "x_train.head()"
   ]
  },
  {
   "cell_type": "code",
   "execution_count": 5,
   "metadata": {},
   "outputs": [
    {
     "data": {
      "text/plain": [
       "['crim': double (required),\n",
       " 'zn': double (required),\n",
       " 'indus': double (required),\n",
       " 'chas': integer (required),\n",
       " 'nox': double (required),\n",
       " 'rm': double (required),\n",
       " 'age': double (required),\n",
       " 'dis': double (required),\n",
       " 'rad': integer (required),\n",
       " 'tax': integer (required),\n",
       " 'ptratio': double (required),\n",
       " 'b': double (required),\n",
       " 'lstat': double (required)]"
      ]
     },
     "execution_count": 5,
     "metadata": {},
     "output_type": "execute_result"
    }
   ],
   "source": [
    "cols_spec = []\n",
    "data_map = {\n",
    "    'int64': 'integer',\n",
    "    'float64': 'double',\n",
    "    'bool': 'boolean',\n",
    "    'str': 'string',\n",
    "    \"date\": 'datetime'\n",
    "}\n",
    "\n",
    "for name, dtype in x_train.dtypes.to_dict().items():\n",
    "    cols_spec.append(ColSpec(name=name, type=data_map[str(dtype)]))\n",
    "\n",
    "cols_spec"
   ]
  },
  {
   "cell_type": "code",
   "execution_count": 6,
   "metadata": {},
   "outputs": [
    {
     "name": "stdout",
     "output_type": "stream",
     "text": [
      "<class 'pandas.core.frame.DataFrame'>\n",
      "RangeIndex: 506 entries, 0 to 505\n",
      "Data columns (total 13 columns):\n",
      " #   Column   Non-Null Count  Dtype  \n",
      "---  ------   --------------  -----  \n",
      " 0   crim     506 non-null    float64\n",
      " 1   zn       506 non-null    float64\n",
      " 2   indus    506 non-null    float64\n",
      " 3   chas     506 non-null    int64  \n",
      " 4   nox      506 non-null    float64\n",
      " 5   rm       506 non-null    float64\n",
      " 6   age      506 non-null    float64\n",
      " 7   dis      506 non-null    float64\n",
      " 8   rad      506 non-null    int64  \n",
      " 9   tax      506 non-null    int64  \n",
      " 10  ptratio  506 non-null    float64\n",
      " 11  b        506 non-null    float64\n",
      " 12  lstat    506 non-null    float64\n",
      "dtypes: float64(10), int64(3)\n",
      "memory usage: 51.5 KB\n"
     ]
    }
   ],
   "source": [
    "x_train.info()"
   ]
  },
  {
   "cell_type": "code",
   "execution_count": 7,
   "metadata": {},
   "outputs": [
    {
     "name": "stdout",
     "output_type": "stream",
     "text": [
      "<class 'pandas.core.series.Series'>\n",
      "RangeIndex: 506 entries, 0 to 505\n",
      "Series name: medv\n",
      "Non-Null Count  Dtype  \n",
      "--------------  -----  \n",
      "506 non-null    float64\n",
      "dtypes: float64(1)\n",
      "memory usage: 4.1 KB\n"
     ]
    }
   ],
   "source": [
    "y_train.info()"
   ]
  },
  {
   "cell_type": "code",
   "execution_count": 8,
   "metadata": {},
   "outputs": [
    {
     "data": {
      "text/plain": [
       "(['crim': double (required), 'zn': double (required), 'indus': double (required), 'chas': integer (required), 'nox': double (required), 'rm': double (required), 'age': double (required), 'dis': double (required), 'rad': integer (required), 'tax': integer (required), 'ptratio': double (required), 'b': double (required), 'lstat': double (required)],\n",
       " ['label': integer (required)])"
      ]
     },
     "execution_count": 8,
     "metadata": {},
     "output_type": "execute_result"
    }
   ],
   "source": [
    "input_schema = Schema(inputs=cols_spec)\n",
    "output_schema = Schema([ColSpec(name=\"label\", type=\"integer\")])\n",
    "input_schema, output_schema"
   ]
  },
  {
   "cell_type": "code",
   "execution_count": 9,
   "metadata": {},
   "outputs": [
    {
     "data": {
      "text/plain": [
       "('model_name': string (default: logging_artifacts18),\n",
       " ['model_name': string (default: logging_artifacts18)])"
      ]
     },
     "execution_count": 9,
     "metadata": {},
     "output_type": "execute_result"
    }
   ],
   "source": [
    "parameter = ParamSpec(name=\"model_name\", dtype=\"string\", default=\"logging_artifacts18\")\n",
    "param_schema = ParamSchema(params=[parameter])\n",
    "parameter, param_schema"
   ]
  },
  {
   "cell_type": "code",
   "execution_count": 10,
   "metadata": {},
   "outputs": [
    {
     "name": "stdout",
     "output_type": "stream",
     "text": [
      "MODEL SIGNATURE\n",
      "{'inputs': '[{\"type\": \"double\", \"name\": \"crim\", \"required\": true}, {\"type\": \"double\", \"name\": \"zn\", \"required\": true}, {\"type\": \"double\", \"name\": \"indus\", \"required\": true}, {\"type\": \"integer\", \"name\": \"chas\", \"required\": true}, {\"type\": \"double\", \"name\": \"nox\", \"required\": true}, {\"type\": \"double\", \"name\": \"rm\", \"required\": true}, {\"type\": \"double\", \"name\": \"age\", \"required\": true}, {\"type\": \"double\", \"name\": \"dis\", \"required\": true}, {\"type\": \"integer\", \"name\": \"rad\", \"required\": true}, {\"type\": \"integer\", \"name\": \"tax\", \"required\": true}, {\"type\": \"double\", \"name\": \"ptratio\", \"required\": true}, {\"type\": \"double\", \"name\": \"b\", \"required\": true}, {\"type\": \"double\", \"name\": \"lstat\", \"required\": true}]', 'outputs': '[{\"type\": \"integer\", \"name\": \"label\", \"required\": true}]', 'params': '[{\"name\": \"model_name\", \"type\": \"string\", \"default\": \"logging_artifacts18\", \"shape\": null}]'}\n"
     ]
    }
   ],
   "source": [
    "model_signature = ModelSignature(inputs=input_schema, outputs=output_schema, params=param_schema)\n",
    "print(\"MODEL SIGNATURE\")\n",
    "print(model_signature.to_dict())"
   ]
  },
  {
   "cell_type": "code",
   "execution_count": 11,
   "metadata": {},
   "outputs": [
    {
     "name": "stdout",
     "output_type": "stream",
     "text": [
      "MODEL SIGNATURE\n",
      "{'inputs': '[{\"type\": \"double\", \"name\": \"crim\", \"required\": true}, {\"type\": \"double\", \"name\": \"zn\", \"required\": true}, {\"type\": \"double\", \"name\": \"indus\", \"required\": true}, {\"type\": \"long\", \"name\": \"chas\", \"required\": true}, {\"type\": \"double\", \"name\": \"nox\", \"required\": true}, {\"type\": \"double\", \"name\": \"rm\", \"required\": true}, {\"type\": \"double\", \"name\": \"age\", \"required\": true}, {\"type\": \"double\", \"name\": \"dis\", \"required\": true}, {\"type\": \"long\", \"name\": \"rad\", \"required\": true}, {\"type\": \"long\", \"name\": \"tax\", \"required\": true}, {\"type\": \"double\", \"name\": \"ptratio\", \"required\": true}, {\"type\": \"double\", \"name\": \"b\", \"required\": true}, {\"type\": \"double\", \"name\": \"lstat\", \"required\": true}]', 'outputs': '[{\"type\": \"double\", \"name\": \"medv\", \"required\": true}]', 'params': '[{\"name\": \"model_name\", \"type\": \"string\", \"default\": \"logging_artifacts16\", \"shape\": null}]'}\n"
     ]
    },
    {
     "name": "stderr",
     "output_type": "stream",
     "text": [
      "/home/oecorrechag/.local/lib/python3.10/site-packages/mlflow/types/utils.py:394: UserWarning: Hint: Inferred schema contains integer column(s). Integer columns in Python cannot represent missing values. If your input data contains missing values at inference time, it will be encoded as floats and will cause a schema enforcement error. The best way to avoid this problem is to infer the model schema based on a realistic data sample (training dataset) that includes missing values. Alternatively, you can declare integer columns as doubles (float64) whenever these columns may have missing values. See `Handling Integers With Missing Values <https://www.mlflow.org/docs/latest/models.html#handling-integers-with-missing-values>`_ for more details.\n",
      "  warnings.warn(\n"
     ]
    }
   ],
   "source": [
    "model_signature = infer_signature(x_train, y_train, params={\"model_name\": \"logging_artifacts16\"})\n",
    "print(\"MODEL SIGNATURE\")\n",
    "print(model_signature.to_dict())"
   ]
  },
  {
   "cell_type": "code",
   "execution_count": 12,
   "metadata": {},
   "outputs": [
    {
     "name": "stderr",
     "output_type": "stream",
     "text": [
      "2024/06/19 09:43:10 WARNING mlflow.utils.autologging_utils: You are using an unsupported version of sklearn. If you encounter errors during autologging, try upgrading / downgrading sklearn to a supported version, or try upgrading MLflow.\n",
      "2024/06/19 09:43:10 INFO mlflow.tracking.fluent: Autologging successfully enabled for sklearn.\n"
     ]
    },
    {
     "name": "stdout",
     "output_type": "stream",
     "text": [
      "RUN ID: e53c11b51e94411aaebd3974ebe6387c\n"
     ]
    }
   ],
   "source": [
    "# experiment_id = create_mlflow_experiment(\n",
    "#     experiment_name=\"Model Signature\",\n",
    "#     artifact_location=\"model_signature_artifacts\",\n",
    "#     tags={\"purpose\": \"learning\"},\n",
    "# )\n",
    "\n",
    "mlflow.set_experiment(\"mlflow_tracking\")\n",
    "\n",
    "mlflow.autolog()\n",
    "\n",
    "# with mlflow.start_run(run_name=\"model_signature_run\") as run:\n",
    "with mlflow.start_run(run_name=\"logging_artifacts18\") as run:\n",
    "    print(\"RUN ID:\", run.info.run_id)\n",
    "    mlflow.sklearn.log_model(sk_model=RandomForestClassifier(), artifact_path=\"model_signature\", signature=model_signature)"
   ]
  },
  {
   "cell_type": "code",
   "execution_count": 13,
   "metadata": {},
   "outputs": [
    {
     "name": "stdout",
     "output_type": "stream",
     "text": [
      "tracking uri: http://127.0.0.1:5000\n",
      "artifact uri: s3://mlflow/3/54e4c2ac89364b45927a7a107988be45/artifacts\n"
     ]
    }
   ],
   "source": [
    "print('tracking uri:', mlflow.get_tracking_uri())\n",
    "print('artifact uri:', mlflow.get_artifact_uri())"
   ]
  },
  {
   "cell_type": "code",
   "execution_count": 14,
   "metadata": {},
   "outputs": [],
   "source": [
    "mlflow.end_run()"
   ]
  },
  {
   "cell_type": "code",
   "execution_count": 15,
   "metadata": {},
   "outputs": [
    {
     "name": "stdout",
     "output_type": "stream",
     "text": [
      "ok_\n"
     ]
    }
   ],
   "source": [
    "print('ok_')"
   ]
  }
 ],
 "metadata": {
  "kernelspec": {
   "display_name": "Python 3",
   "language": "python",
   "name": "python3"
  },
  "language_info": {
   "codemirror_mode": {
    "name": "ipython",
    "version": 3
   },
   "file_extension": ".py",
   "mimetype": "text/x-python",
   "name": "python",
   "nbconvert_exporter": "python",
   "pygments_lexer": "ipython3",
   "version": "3.10.12"
  }
 },
 "nbformat": 4,
 "nbformat_minor": 2
}
