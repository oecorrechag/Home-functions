{
 "cells": [
  {
   "cell_type": "code",
   "execution_count": 1,
   "metadata": {},
   "outputs": [
    {
     "data": {
      "text/plain": [
       "True"
      ]
     },
     "execution_count": 1,
     "metadata": {},
     "output_type": "execute_result"
    }
   ],
   "source": [
    "import os\n",
    "from dotenv import load_dotenv\n",
    "import mlflow\n",
    "from mlflow_utils import create_mlflow_experiment\n",
    "from mlflow.models.signature import ModelSignature\n",
    "from mlflow.types import ColSpec\n",
    "from mlflow.types import Schema\n",
    "from mlflow.types import ParamSpec\n",
    "from mlflow.types import ParamSchema\n",
    "\n",
    "import pandas as pd\n",
    "import numpy as np\n",
    "from typing import Tuple\n",
    "\n",
    "load_dotenv()"
   ]
  },
  {
   "cell_type": "code",
   "execution_count": 2,
   "metadata": {},
   "outputs": [],
   "source": [
    "# conectar con mlflow y minio (por http)\n",
    "mlflow.set_tracking_uri(\"http://127.0.0.1:5000\")\n",
    "\n",
    "os.environ['MLFLOW_S3_ENDPOINT_URL'] = \"http://127.0.0.1:9000\"\n",
    "os.environ['AWS_ACCESS_KEY_ID'] = os.getenv('KEY_ID')\n",
    "os.environ['AWS_SECRET_ACCESS_KEY'] = os.getenv('ACCESS_KEY')"
   ]
  },
  {
   "cell_type": "markdown",
   "metadata": {},
   "source": [
    "# Multiple models"
   ]
  },
  {
   "cell_type": "code",
   "execution_count": 3,
   "metadata": {},
   "outputs": [],
   "source": [
    "class CustomModel(mlflow.pyfunc.PythonModel):\n",
    "    def predict_model1(self, model_input):\n",
    "        # do some processing for model 1\n",
    "        return 0 * model_input\n",
    "\n",
    "    def predict_model2(self, model_input):\n",
    "        # do some processing for model 2\n",
    "        return model_input\n",
    "\n",
    "    def predict_model3(self, model_input):\n",
    "        # do some processing for model 3\n",
    "        return 2 * model_input\n",
    "\n",
    "    def predict(self, context, model_input, params):\n",
    "        if params[\"model_name\"] == \"model_1\":\n",
    "            return self.predict_model1(model_input=model_input)\n",
    "\n",
    "        elif params[\"model_name\"] == \"model_2\":\n",
    "            return self.predict_model2(model_input=model_input)\n",
    "\n",
    "        elif params[\"model_name\"] == \"model_3\":\n",
    "            return self.predict_model3(model_input=model_input)\n",
    "\n",
    "        else:\n",
    "            raise Exception(\"Model Not Found!\")"
   ]
  },
  {
   "cell_type": "code",
   "execution_count": 4,
   "metadata": {},
   "outputs": [
    {
     "data": {
      "text/plain": [
       "inputs: \n",
       "  ['input': integer (required)]\n",
       "outputs: \n",
       "  ['output': integer (required)]\n",
       "params: \n",
       "  ['model_name': string (default: None)]"
      ]
     },
     "execution_count": 4,
     "metadata": {},
     "output_type": "execute_result"
    }
   ],
   "source": [
    "input_schema = Schema(inputs=[ColSpec(type=\"integer\", name=\"input\")])\n",
    "output_schema = Schema(inputs=[ColSpec(type=\"integer\", name=\"output\")])\n",
    "param_spec = ParamSpec(name=\"model_name\", dtype=\"string\", default=None)\n",
    "param_schema = ParamSchema(params=[param_spec])\n",
    "model_signature = ModelSignature(\n",
    "    inputs=input_schema, outputs=output_schema, params=param_schema\n",
    ")\n",
    "model_signature"
   ]
  },
  {
   "cell_type": "code",
   "execution_count": 5,
   "metadata": {},
   "outputs": [
    {
     "name": "stderr",
     "output_type": "stream",
     "text": [
      "/home/oecorrechag/.local/lib/python3.10/site-packages/tqdm/auto.py:21: TqdmWarning: IProgress not found. Please update jupyter and ipywidgets. See https://ipywidgets.readthedocs.io/en/stable/user_install.html\n",
      "  from .autonotebook import tqdm as notebook_tqdm\n",
      "Downloading artifacts: 100%|██████████| 9/9 [00:00<00:00, 628.14it/s]  "
     ]
    },
    {
     "name": "stdout",
     "output_type": "stream",
     "text": [
      "PREDICTION FROM MODEL 1\n",
      "   input\n",
      "0      0\n",
      "PREDICTION FROM MODEL 2\n",
      "   input\n",
      "0     10\n",
      "PREDICTION FROM MODEL 3\n",
      "   input\n",
      "0     20\n",
      "RUN_ID: 88d353e428ee470db959f6b6fe2152d5\n"
     ]
    },
    {
     "name": "stderr",
     "output_type": "stream",
     "text": [
      "\n"
     ]
    }
   ],
   "source": [
    "# experiment_id = create_mlflow_experiment(\n",
    "#     experiment_name=\"Serving Multiple Models\",\n",
    "#     artifact_location=\"serving_multiple_models\",\n",
    "#     tags={\"purpose\": \"learning\"},\n",
    "# )\n",
    "\n",
    "mlflow.set_experiment(\"mlflow_tracking\")\n",
    "\n",
    "# with mlflow.start_run(run_name=\"multiple_models\", experiment_id=experiment_id) as run:\n",
    "with mlflow.start_run(run_name=\"logging_artifacts19\") as run:\n",
    "\n",
    "    mlflow.pyfunc.log_model(artifact_path=\"model\", python_model=CustomModel(), signature=model_signature)\n",
    "\n",
    "    model_uri = f\"runs:/{run.info.run_id}/model\"\n",
    "    loaded_model = mlflow.pyfunc.load_model(model_uri=model_uri)\n",
    "\n",
    "    for n in range(3):\n",
    "        print(f\"PREDICTION FROM MODEL {n+1}\")\n",
    "        print(loaded_model.predict(data={\"input\":np.int32(10)}, params={\"model_name\":f\"model_{n+1}\"}))\n",
    "\n",
    "    print(f\"RUN_ID: {run.info.run_id}\")"
   ]
  },
  {
   "cell_type": "code",
   "execution_count": 6,
   "metadata": {},
   "outputs": [
    {
     "name": "stdout",
     "output_type": "stream",
     "text": [
      "tracking uri: http://127.0.0.1:5000\n",
      "artifact uri: s3://mlflow/3/42a662ee775d4b06b9879533aae5a3ab/artifacts\n"
     ]
    }
   ],
   "source": [
    "print('tracking uri:', mlflow.get_tracking_uri())\n",
    "print('artifact uri:', mlflow.get_artifact_uri())"
   ]
  },
  {
   "cell_type": "code",
   "execution_count": 7,
   "metadata": {},
   "outputs": [],
   "source": [
    "mlflow.end_run()"
   ]
  },
  {
   "cell_type": "code",
   "execution_count": 8,
   "metadata": {},
   "outputs": [
    {
     "name": "stdout",
     "output_type": "stream",
     "text": [
      "ok_\n"
     ]
    }
   ],
   "source": [
    "print('ok_')"
   ]
  }
 ],
 "metadata": {
  "kernelspec": {
   "display_name": "Python 3",
   "language": "python",
   "name": "python3"
  },
  "language_info": {
   "codemirror_mode": {
    "name": "ipython",
    "version": 3
   },
   "file_extension": ".py",
   "mimetype": "text/x-python",
   "name": "python",
   "nbconvert_exporter": "python",
   "pygments_lexer": "ipython3",
   "version": "3.10.12"
  }
 },
 "nbformat": 4,
 "nbformat_minor": 2
}
