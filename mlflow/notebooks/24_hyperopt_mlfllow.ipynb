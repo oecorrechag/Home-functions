{
 "cells": [
  {
   "cell_type": "code",
   "execution_count": 1,
   "metadata": {},
   "outputs": [
    {
     "data": {
      "text/plain": [
       "True"
      ]
     },
     "execution_count": 1,
     "metadata": {},
     "output_type": "execute_result"
    }
   ],
   "source": [
    "import os\n",
    "from dotenv import load_dotenv\n",
    "import pandas as pd\n",
    "from functools import partial\n",
    "from typing import Dict, List, Optional\n",
    "from sklearn.pipeline import Pipeline\n",
    "from sklearn.model_selection import train_test_split\n",
    "from sklearn.compose import ColumnTransformer\n",
    "from sklearn.preprocessing import OneHotEncoder\n",
    "from sklearn.impute import SimpleImputer\n",
    "from sklearn.ensemble import RandomForestClassifier\n",
    "from sklearn.metrics import accuracy_score, precision_score, recall_score, f1_score\n",
    "from hyperopt import hp, fmin, tpe, Trials\n",
    "import mlflow \n",
    "from mlflow_utils import create_dataset\n",
    "\n",
    "load_dotenv()"
   ]
  },
  {
   "cell_type": "code",
   "execution_count": 2,
   "metadata": {},
   "outputs": [],
   "source": [
    "def get_classification_metrics(\n",
    "    y_true: pd.Series, y_pred: pd.Series, prefix: str) -> Dict[str, float]:\n",
    "    \"\"\"\n",
    "    Get the classification metrics.\n",
    "\n",
    "    :param y_true: The true target values.\n",
    "    :param y_pred: The predicted target values.\n",
    "    :param prefix: The prefix of the metric names.\n",
    "    :return: The classification metrics.\n",
    "    \"\"\"\n",
    "\n",
    "    return {\n",
    "        f\"{prefix}_accuracy\": accuracy_score(y_true=y_true, y_pred=y_pred),\n",
    "        f\"{prefix}_precision\": precision_score(y_true=y_true, y_pred=y_pred),\n",
    "        f\"{prefix}_recall\": recall_score(y_true=y_true, y_pred=y_pred),\n",
    "        f\"{prefix}_f1\": f1_score(y_true=y_true, y_pred=y_pred),\n",
    "    }\n",
    "\n",
    "\n",
    "def get_sklearn_pipeline(\n",
    "    numerical_features: List[str], categorical_features: Optional[List[str]] = []) -> Pipeline:\n",
    "    \"\"\"\n",
    "    Get the sklearn pipeline.\n",
    "\n",
    "    :param numerical_features: The numerical features.\n",
    "    :param categorical_features: The categorical features.\n",
    "    :return: The sklearn pipeline.\n",
    "    \"\"\"\n",
    "\n",
    "    preprocessing = ColumnTransformer(\n",
    "        transformers=[\n",
    "            (\"numerical\", SimpleImputer(strategy=\"median\"), numerical_features),\n",
    "            (\"categorical\", OneHotEncoder(), categorical_features),\n",
    "        ]\n",
    "    )\n",
    "\n",
    "    pipeline = Pipeline(\n",
    "        steps=[\n",
    "            (\"preprocessing\", preprocessing),\n",
    "            (\"model\", RandomForestClassifier())\n",
    "        ]\n",
    "    )\n",
    "\n",
    "    return pipeline\n",
    "\n",
    "\n",
    "def objective_function(\n",
    "    params: Dict,\n",
    "    x_train: pd.DataFrame,\n",
    "    x_test: pd.DataFrame,\n",
    "    y_train: pd.DataFrame,\n",
    "    y_test: pd.DataFrame,\n",
    "    numerical_features: List[str],\n",
    "    categorical_features: List[str],\n",
    ") -> float:\n",
    "    \"\"\"\n",
    "    Objective function to minimize.\n",
    "\n",
    "    :param params: The hyperparameter values to evaluate.\n",
    "    :param x_train: The training data.\n",
    "    :param x_test: The test data.\n",
    "    :param y_train: The training target.\n",
    "    :param y_test: The test target.\n",
    "    :param numerical_features: The numerical features.\n",
    "    :param categorical_features: The categorical features.\n",
    "    :return: The score of the model.\n",
    "    \"\"\"\n",
    "\n",
    "    pipeline = get_sklearn_pipeline(numerical_features=numerical_features)\n",
    "    params.update({\"model__max_depth\": int(params[\"model__max_depth\"])})\n",
    "    params.update({\"model__n_estimators\": int(params[\"model__n_estimators\"])})\n",
    "    pipeline.set_params(**params)\n",
    "    with mlflow.start_run(nested=True) as run:\n",
    "        pipeline.fit(x_train, y_train)\n",
    "        y_pred = pipeline.predict(x_test)\n",
    "        metrics = get_classification_metrics(\n",
    "            y_true=y_test, y_pred=y_pred, prefix=\"test\"\n",
    "        )\n",
    "\n",
    "        mlflow.log_params(pipeline[\"model\"].get_params())\n",
    "        mlflow.log_metrics(metrics)\n",
    "        mlflow.sklearn.log_model(pipeline, f\"{run.info.run_id}-model\")\n",
    "\n",
    "    return -metrics[\"test_f1\"]\n"
   ]
  },
  {
   "cell_type": "code",
   "execution_count": 3,
   "metadata": {},
   "outputs": [],
   "source": [
    "# conectar con mlflow y minio (por http)\n",
    "mlflow.set_tracking_uri(\"http://127.0.0.1:5000\")\n",
    "\n",
    "os.environ['MLFLOW_S3_ENDPOINT_URL'] = \"http://127.0.0.1:9000\"\n",
    "os.environ['AWS_ACCESS_KEY_ID'] = os.getenv('KEY_ID')\n",
    "os.environ['AWS_SECRET_ACCESS_KEY'] = os.getenv('ACCESS_KEY')"
   ]
  },
  {
   "cell_type": "markdown",
   "metadata": {},
   "source": [
    "# Pipeline\n",
    "\n"
   ]
  },
  {
   "cell_type": "code",
   "execution_count": 4,
   "metadata": {},
   "outputs": [],
   "source": [
    "df = create_dataset()"
   ]
  },
  {
   "cell_type": "code",
   "execution_count": 5,
   "metadata": {},
   "outputs": [],
   "source": [
    "x_train, x_test, y_train, y_test = train_test_split(\n",
    "    df.drop(\"target\", axis=1),\n",
    "    df[\"target\"],\n",
    "    test_size=0.2,\n",
    "    random_state=42,\n",
    ")"
   ]
  },
  {
   "cell_type": "code",
   "execution_count": 6,
   "metadata": {},
   "outputs": [
    {
     "name": "stdout",
     "output_type": "stream",
     "text": [
      "['feature_0', 'feature_1', 'feature_2', 'feature_3', 'feature_4', 'feature_5', 'feature_6', 'feature_7', 'feature_8', 'feature_9', 'feature_10', 'feature_11', 'feature_12', 'feature_13', 'feature_14', 'feature_15', 'feature_16', 'feature_17', 'feature_18', 'feature_19', 'feature_20', 'feature_21', 'feature_22', 'feature_23', 'feature_24', 'feature_25', 'feature_26', 'feature_27', 'feature_28', 'feature_29', 'feature_30', 'feature_31', 'feature_32', 'feature_33', 'feature_34', 'feature_35', 'feature_36', 'feature_37', 'feature_38', 'feature_39', 'feature_40', 'feature_41', 'feature_42', 'feature_43', 'feature_44', 'feature_45', 'feature_46', 'feature_47', 'feature_48', 'feature_49']\n"
     ]
    }
   ],
   "source": [
    "numerical_features = [f for f in x_train.columns if f.startswith(\"feature\")]\n",
    "print(numerical_features)"
   ]
  },
  {
   "cell_type": "code",
   "execution_count": 7,
   "metadata": {},
   "outputs": [],
   "source": [
    "space = {\n",
    "    \"model__n_estimators\": hp.quniform(\"model__n_estimators\", 20, 200, 10),\n",
    "    \"model__max_depth\": hp.quniform(\"model__max_depth\", 10, 100, 10),\n",
    "}"
   ]
  },
  {
   "cell_type": "code",
   "execution_count": 8,
   "metadata": {},
   "outputs": [
    {
     "data": {
      "text/plain": [
       "<Experiment: artifact_location='s3://mlflow/3', creation_time=1718807838682, experiment_id='3', last_update_time=1718807838682, lifecycle_stage='active', name='mlflow_tracking', tags={}>"
      ]
     },
     "execution_count": 8,
     "metadata": {},
     "output_type": "execute_result"
    }
   ],
   "source": [
    "mlflow.set_experiment(\"mlflow_tracking\")"
   ]
  },
  {
   "cell_type": "code",
   "execution_count": 9,
   "metadata": {},
   "outputs": [
    {
     "name": "stdout",
     "output_type": "stream",
     "text": [
      "100%|██████████| 10/10 [02:02<00:00, 12.29s/trial, best loss: -0.905337361530715]\n"
     ]
    }
   ],
   "source": [
    "with mlflow.start_run(run_name=\"logging_artifacts24\") as run:\n",
    "    best_params = fmin(\n",
    "        fn=partial(\n",
    "            objective_function,\n",
    "            x_train=x_train,\n",
    "            x_test=x_test,\n",
    "            y_train=y_train,\n",
    "            y_test=y_test,\n",
    "            numerical_features=numerical_features,\n",
    "            categorical_features=None,\n",
    "        ),\n",
    "        space=space,\n",
    "        algo=tpe.suggest,\n",
    "        max_evals=10,\n",
    "        trials=Trials(),\n",
    "    )\n",
    "\n",
    "    pipeline = get_sklearn_pipeline(numerical_features=numerical_features)\n",
    "\n",
    "    best_params.update({\"model__max_depth\": int(best_params[\"model__max_depth\"])})\n",
    "    best_params.update({\"model__n_estimators\": int(best_params[\"model__n_estimators\"])})\n",
    "\n",
    "    pipeline.set_params(**best_params)\n",
    "    pipeline.fit(x_train, y_train)\n",
    "    y_pred = pipeline.predict(x_test)\n",
    "    metrics = get_classification_metrics(\n",
    "        y_true=y_test, y_pred=y_pred, prefix=\"best_model_test\"\n",
    "    )\n",
    "\n",
    "    mlflow.log_params(pipeline[\"model\"].get_params())\n",
    "    mlflow.log_metrics(metrics)\n",
    "    mlflow.sklearn.log_model(pipeline, f\"{run.info.run_id}-best-model\")"
   ]
  },
  {
   "cell_type": "code",
   "execution_count": 10,
   "metadata": {},
   "outputs": [
    {
     "name": "stdout",
     "output_type": "stream",
     "text": [
      "tracking uri: http://127.0.0.1:5000\n",
      "artifact uri: s3://mlflow/3/0471b98581f8448a99dbd46a724c74a2/artifacts\n"
     ]
    }
   ],
   "source": [
    "print('tracking uri:', mlflow.get_tracking_uri())\n",
    "print('artifact uri:', mlflow.get_artifact_uri())"
   ]
  },
  {
   "cell_type": "code",
   "execution_count": 11,
   "metadata": {},
   "outputs": [],
   "source": [
    "mlflow.end_run()"
   ]
  },
  {
   "cell_type": "code",
   "execution_count": 12,
   "metadata": {},
   "outputs": [
    {
     "name": "stdout",
     "output_type": "stream",
     "text": [
      "ok_\n"
     ]
    }
   ],
   "source": [
    "print('ok_')"
   ]
  }
 ],
 "metadata": {
  "kernelspec": {
   "display_name": "Python 3",
   "language": "python",
   "name": "python3"
  },
  "language_info": {
   "codemirror_mode": {
    "name": "ipython",
    "version": 3
   },
   "file_extension": ".py",
   "mimetype": "text/x-python",
   "name": "python",
   "nbconvert_exporter": "python",
   "pygments_lexer": "ipython3",
   "version": "3.10.12"
  }
 },
 "nbformat": 4,
 "nbformat_minor": 2
}
