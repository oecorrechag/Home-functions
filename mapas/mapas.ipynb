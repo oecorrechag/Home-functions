{
 "cells": [
  {
   "cell_type": "code",
   "execution_count": 20,
   "metadata": {},
   "outputs": [],
   "source": [
    "import pandas as pd\n",
    "from keplergl import KeplerGl"
   ]
  },
  {
   "cell_type": "code",
   "execution_count": 21,
   "metadata": {},
   "outputs": [
    {
     "name": "stdout",
     "output_type": "stream",
     "text": [
      "User Guide: https://docs.kepler.gl/docs/keplergl-jupyter\n"
     ]
    },
    {
     "data": {
      "application/vnd.jupyter.widget-view+json": {
       "model_id": "2f1a9c3eb7d14245b2b91cd54d9e610d",
       "version_major": 2,
       "version_minor": 0
      },
      "text/plain": [
       "KeplerGl()"
      ]
     },
     "metadata": {},
     "output_type": "display_data"
    }
   ],
   "source": [
    "map_1 = KeplerGl()\n",
    "map_1"
   ]
  },
  {
   "cell_type": "code",
   "execution_count": null,
   "metadata": {},
   "outputs": [
    {
     "data": {
      "text/plain": [
       "{}"
      ]
     },
     "execution_count": 3,
     "metadata": {},
     "output_type": "execute_result"
    }
   ],
   "source": [
    "map_1.config\n",
    "## {u'config': {u'mapState': {u'bearing': 2.6192893401015205,\n",
    "#  u'dragRotate': True,\n",
    "#   u'isSplit': False,\n",
    "#   u'latitude': 37.76209132041332,\n",
    "#   u'longitude': -122.42590232651203,"
   ]
  },
  {
   "cell_type": "code",
   "execution_count": null,
   "metadata": {},
   "outputs": [
    {
     "name": "stdout",
     "output_type": "stream",
     "text": [
      "Map saved to first_map.html!\n"
     ]
    }
   ],
   "source": [
    "map_1.save_to_html(file_name='first_map.html')"
   ]
  },
  {
   "cell_type": "code",
   "execution_count": null,
   "metadata": {},
   "outputs": [
    {
     "data": {
      "text/html": [
       "<div>\n",
       "<style scoped>\n",
       "    .dataframe tbody tr th:only-of-type {\n",
       "        vertical-align: middle;\n",
       "    }\n",
       "\n",
       "    .dataframe tbody tr th {\n",
       "        vertical-align: top;\n",
       "    }\n",
       "\n",
       "    .dataframe thead th {\n",
       "        text-align: right;\n",
       "    }\n",
       "</style>\n",
       "<table border=\"1\" class=\"dataframe\">\n",
       "  <thead>\n",
       "    <tr style=\"text-align: right;\">\n",
       "      <th></th>\n",
       "      <th>national_id</th>\n",
       "      <th>neighborhood</th>\n",
       "      <th>total_spent</th>\n",
       "      <th>gis_lon</th>\n",
       "      <th>gis_lat</th>\n",
       "    </tr>\n",
       "  </thead>\n",
       "  <tbody>\n",
       "    <tr>\n",
       "      <th>0</th>\n",
       "      <td>1000257249</td>\n",
       "      <td>ANDALUCIA</td>\n",
       "      <td>49865.5462</td>\n",
       "      <td>-74.054189</td>\n",
       "      <td>4.668159</td>\n",
       "    </tr>\n",
       "    <tr>\n",
       "      <th>1</th>\n",
       "      <td>1000457942</td>\n",
       "      <td>CHAPINERO</td>\n",
       "      <td>79789.9160</td>\n",
       "      <td>-74.062180</td>\n",
       "      <td>4.643080</td>\n",
       "    </tr>\n",
       "    <tr>\n",
       "      <th>2</th>\n",
       "      <td>1000577806</td>\n",
       "      <td>CHAPINERO ALTO - PARDO RUBIO</td>\n",
       "      <td>138348.7395</td>\n",
       "      <td>-74.062120</td>\n",
       "      <td>4.639200</td>\n",
       "    </tr>\n",
       "    <tr>\n",
       "      <th>3</th>\n",
       "      <td>1002402965</td>\n",
       "      <td>CHAPINERO</td>\n",
       "      <td>176420.1681</td>\n",
       "      <td>-74.057580</td>\n",
       "      <td>4.666820</td>\n",
       "    </tr>\n",
       "    <tr>\n",
       "      <th>4</th>\n",
       "      <td>1002402965</td>\n",
       "      <td>CHAPINERO</td>\n",
       "      <td>142907.0000</td>\n",
       "      <td>-74.057580</td>\n",
       "      <td>4.666820</td>\n",
       "    </tr>\n",
       "  </tbody>\n",
       "</table>\n",
       "</div>"
      ],
      "text/plain": [
       "  national_id                  neighborhood  total_spent    gis_lon   gis_lat\n",
       "0  1000257249                     ANDALUCIA   49865.5462 -74.054189  4.668159\n",
       "1  1000457942                     CHAPINERO   79789.9160 -74.062180  4.643080\n",
       "2  1000577806  CHAPINERO ALTO - PARDO RUBIO  138348.7395 -74.062120  4.639200\n",
       "3  1002402965                     CHAPINERO  176420.1681 -74.057580  4.666820\n",
       "4  1002402965                     CHAPINERO  142907.0000 -74.057580  4.666820"
      ]
     },
     "execution_count": 5,
     "metadata": {},
     "output_type": "execute_result"
    }
   ],
   "source": [
    "df = pd.read_csv('data/data.csv', sep = ',', decimal = '.', header = 0, encoding = 'utf-8')\n",
    "df=df[[\"national_id\", \"neighborhood\", \"total_spent\", \"gis_lon\", \"gis_lat\"]]\n",
    "df.head()"
   ]
  },
  {
   "cell_type": "code",
   "execution_count": null,
   "metadata": {},
   "outputs": [
    {
     "name": "stdout",
     "output_type": "stream",
     "text": [
      "User Guide: https://docs.kepler.gl/docs/keplergl-jupyter\n"
     ]
    },
    {
     "name": "stderr",
     "output_type": "stream",
     "text": [
      "C:\\Users\\Oscar\\AppData\\Roaming\\Python\\Python311\\site-packages\\jupyter_client\\session.py:718: UserWarning: Message serialization failed with:\n",
      "Out of range float values are not JSON compliant\n",
      "Supporting this message is deprecated in jupyter-client 7, please make sure your message is JSON-compliant\n",
      "  content = self.pack(content)\n"
     ]
    },
    {
     "data": {
      "application/vnd.jupyter.widget-view+json": {
       "model_id": "ea560ed437334618951a3fdcbaa74cb5",
       "version_major": 2,
       "version_minor": 0
      },
      "text/plain": [
       "KeplerGl(data={'Comercios':       national_id                  neighborhood  total_spent    gis_lon  \\\n",
       "0      …"
      ]
     },
     "metadata": {},
     "output_type": "display_data"
    }
   ],
   "source": [
    "map=KeplerGl(height=800, data={\"Comercios\":df}, show_docs=True)\n",
    "map"
   ]
  },
  {
   "cell_type": "code",
   "execution_count": null,
   "metadata": {},
   "outputs": [
    {
     "name": "stdout",
     "output_type": "stream",
     "text": [
      "Map saved to Bogota_map.html!\n"
     ]
    }
   ],
   "source": [
    "map.save_to_html(file_name='Bogota_map.html')"
   ]
  },
  {
   "cell_type": "code",
   "execution_count": null,
   "metadata": {},
   "outputs": [
    {
     "data": {
      "text/html": [
       "<div>\n",
       "<style scoped>\n",
       "    .dataframe tbody tr th:only-of-type {\n",
       "        vertical-align: middle;\n",
       "    }\n",
       "\n",
       "    .dataframe tbody tr th {\n",
       "        vertical-align: top;\n",
       "    }\n",
       "\n",
       "    .dataframe thead th {\n",
       "        text-align: right;\n",
       "    }\n",
       "</style>\n",
       "<table border=\"1\" class=\"dataframe\">\n",
       "  <thead>\n",
       "    <tr style=\"text-align: right;\">\n",
       "      <th></th>\n",
       "      <th>centroComercial</th>\n",
       "      <th>latitud</th>\n",
       "      <th>longitud</th>\n",
       "    </tr>\n",
       "  </thead>\n",
       "  <tbody>\n",
       "    <tr>\n",
       "      <th>0</th>\n",
       "      <td>Centro Comercial Ciudad Tunal</td>\n",
       "      <td>4.577801</td>\n",
       "      <td>-74.130286</td>\n",
       "    </tr>\n",
       "    <tr>\n",
       "      <th>1</th>\n",
       "      <td>Centro Comercial Centro Mayor</td>\n",
       "      <td>4.591026</td>\n",
       "      <td>-74.124276</td>\n",
       "    </tr>\n",
       "    <tr>\n",
       "      <th>2</th>\n",
       "      <td>Centro Comercial El Tintal</td>\n",
       "      <td>4.642552</td>\n",
       "      <td>-74.156466</td>\n",
       "    </tr>\n",
       "    <tr>\n",
       "      <th>3</th>\n",
       "      <td>Centro Comercial Plaza de las Americas</td>\n",
       "      <td>4.618487</td>\n",
       "      <td>-74.135337</td>\n",
       "    </tr>\n",
       "    <tr>\n",
       "      <th>4</th>\n",
       "      <td>Centro Comercial Plaza Central</td>\n",
       "      <td>4.631764</td>\n",
       "      <td>-74.115776</td>\n",
       "    </tr>\n",
       "  </tbody>\n",
       "</table>\n",
       "</div>"
      ],
      "text/plain": [
       "                          centroComercial   latitud   longitud\n",
       "0           Centro Comercial Ciudad Tunal  4.577801 -74.130286\n",
       "1           Centro Comercial Centro Mayor  4.591026 -74.124276\n",
       "2              Centro Comercial El Tintal  4.642552 -74.156466\n",
       "3  Centro Comercial Plaza de las Americas  4.618487 -74.135337\n",
       "4          Centro Comercial Plaza Central  4.631764 -74.115776"
      ]
     },
     "execution_count": 8,
     "metadata": {},
     "output_type": "execute_result"
    }
   ],
   "source": [
    "df = pd.read_csv('data/centrosComerciales.csv', sep = ',', decimal = '.', header = 0, encoding = 'utf-8')\n",
    "#df=df[[\"national_id\", \"neighborhood\", \"total_spent\", \"gis_lon\", \"gis_lat\"]]\n",
    "df.head()"
   ]
  },
  {
   "cell_type": "code",
   "execution_count": null,
   "metadata": {},
   "outputs": [
    {
     "name": "stdout",
     "output_type": "stream",
     "text": [
      "User Guide: https://docs.kepler.gl/docs/keplergl-jupyter\n"
     ]
    },
    {
     "data": {
      "application/vnd.jupyter.widget-view+json": {
       "model_id": "6536cf924e6844ff8ea026d27e5699a9",
       "version_major": 2,
       "version_minor": 0
      },
      "text/plain": [
       "KeplerGl(data={'Centros Comerciales':                             centroComercial   latitud   longitud\n",
       "0      …"
      ]
     },
     "metadata": {},
     "output_type": "display_data"
    }
   ],
   "source": [
    "map=KeplerGl(height=800, data={\"Centros Comerciales\":df}, show_docs=True)\n",
    "map"
   ]
  },
  {
   "cell_type": "code",
   "execution_count": null,
   "metadata": {},
   "outputs": [
    {
     "name": "stdout",
     "output_type": "stream",
     "text": [
      "Map saved to malls_map.html!\n"
     ]
    }
   ],
   "source": [
    "map.save_to_html(file_name='malls_map.html')"
   ]
  }
 ],
 "metadata": {
  "kernelspec": {
   "display_name": "Python 3",
   "language": "python",
   "name": "python3"
  },
  "language_info": {
   "codemirror_mode": {
    "name": "ipython",
    "version": 3
   },
   "file_extension": ".py",
   "mimetype": "text/x-python",
   "name": "python",
   "nbconvert_exporter": "python",
   "pygments_lexer": "ipython3",
   "version": "3.11.0"
  },
  "orig_nbformat": 4
 },
 "nbformat": 4,
 "nbformat_minor": 2
}
