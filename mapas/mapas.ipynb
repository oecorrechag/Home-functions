{
 "cells": [
  {
   "cell_type": "code",
   "execution_count": 30,
   "metadata": {},
   "outputs": [],
   "source": [
    "import pandas as pd\n",
    "from keplergl import KeplerGl\n",
    "from streamlit_keplergl import keplergl_static"
   ]
  },
  {
   "cell_type": "code",
   "execution_count": 31,
   "metadata": {},
   "outputs": [
    {
     "name": "stdout",
     "output_type": "stream",
     "text": [
      "User Guide: https://docs.kepler.gl/docs/keplergl-jupyter\n"
     ]
    },
    {
     "data": {
      "application/vnd.jupyter.widget-view+json": {
       "model_id": "9b15cb40abe5451b9bf06ed00c68fd9d",
       "version_major": 2,
       "version_minor": 0
      },
      "text/plain": [
       "KeplerGl()"
      ]
     },
     "metadata": {},
     "output_type": "display_data"
    }
   ],
   "source": [
    "map_1 = KeplerGl()\n",
    "map_1"
   ]
  },
  {
   "cell_type": "code",
   "execution_count": 7,
   "metadata": {},
   "outputs": [
    {
     "data": {
      "text/html": [
       "<div>\n",
       "<style scoped>\n",
       "    .dataframe tbody tr th:only-of-type {\n",
       "        vertical-align: middle;\n",
       "    }\n",
       "\n",
       "    .dataframe tbody tr th {\n",
       "        vertical-align: top;\n",
       "    }\n",
       "\n",
       "    .dataframe thead th {\n",
       "        text-align: right;\n",
       "    }\n",
       "</style>\n",
       "<table border=\"1\" class=\"dataframe\">\n",
       "  <thead>\n",
       "    <tr style=\"text-align: right;\">\n",
       "      <th></th>\n",
       "      <th>centroComercial</th>\n",
       "      <th>gis_lat</th>\n",
       "      <th>gis_lon</th>\n",
       "      <th>count</th>\n",
       "      <th>cc</th>\n",
       "    </tr>\n",
       "  </thead>\n",
       "  <tbody>\n",
       "    <tr>\n",
       "      <th>0</th>\n",
       "      <td>Centro Comercial Ciudad Tunal</td>\n",
       "      <td>4.577801</td>\n",
       "      <td>-74.130286</td>\n",
       "      <td>1</td>\n",
       "      <td>centro comercial</td>\n",
       "    </tr>\n",
       "    <tr>\n",
       "      <th>1</th>\n",
       "      <td>Centro Comercial Centro Mayor</td>\n",
       "      <td>4.591026</td>\n",
       "      <td>-74.124276</td>\n",
       "      <td>1</td>\n",
       "      <td>centro comercial</td>\n",
       "    </tr>\n",
       "    <tr>\n",
       "      <th>2</th>\n",
       "      <td>Centro Comercial El Tintal</td>\n",
       "      <td>4.642552</td>\n",
       "      <td>-74.156466</td>\n",
       "      <td>1</td>\n",
       "      <td>centro comercial</td>\n",
       "    </tr>\n",
       "    <tr>\n",
       "      <th>3</th>\n",
       "      <td>Centro Comercial Plaza de las Americas</td>\n",
       "      <td>4.618487</td>\n",
       "      <td>-74.135337</td>\n",
       "      <td>1</td>\n",
       "      <td>centro comercial</td>\n",
       "    </tr>\n",
       "    <tr>\n",
       "      <th>4</th>\n",
       "      <td>Centro Comercial Plaza Central</td>\n",
       "      <td>4.631764</td>\n",
       "      <td>-74.115776</td>\n",
       "      <td>1</td>\n",
       "      <td>centro comercial</td>\n",
       "    </tr>\n",
       "  </tbody>\n",
       "</table>\n",
       "</div>"
      ],
      "text/plain": [
       "                          centroComercial   gis_lat    gis_lon  count  \\\n",
       "0           Centro Comercial Ciudad Tunal  4.577801 -74.130286      1   \n",
       "1           Centro Comercial Centro Mayor  4.591026 -74.124276      1   \n",
       "2              Centro Comercial El Tintal  4.642552 -74.156466      1   \n",
       "3  Centro Comercial Plaza de las Americas  4.618487 -74.135337      1   \n",
       "4          Centro Comercial Plaza Central  4.631764 -74.115776      1   \n",
       "\n",
       "                 cc  \n",
       "0  centro comercial  \n",
       "1  centro comercial  \n",
       "2  centro comercial  \n",
       "3  centro comercial  \n",
       "4  centro comercial  "
      ]
     },
     "execution_count": 7,
     "metadata": {},
     "output_type": "execute_result"
    }
   ],
   "source": [
    "df = pd.read_csv('data/centrosComerciales.csv', sep = ',', decimal = '.', header = 0, encoding = 'utf-8')\n",
    "df.rename(columns={'latitud':'gis_lat', 'longitud':'gis_lon'}, inplace=True)\n",
    "df.insert(3, 'count', 1)\n",
    "df.insert(4, 'cc', 'centro comercial')\n",
    "df.head()"
   ]
  },
  {
   "cell_type": "code",
   "execution_count": 43,
   "metadata": {},
   "outputs": [],
   "source": [
    "config = {\n",
    "    \"version\": \"v1\",\n",
    "    \"config\": {\n",
    "        \"mapState\": {\n",
    "            'label': 'Centro',\n",
    "            \"bearing\": 0,\n",
    "            \"latitude\": 4.57,\n",
    "            \"longitude\": -74.13,\n",
    "            \"pitch\": 0,\n",
    "            \"zoom\": 11,\n",
    "        }\n",
    "    },\n",
    "}"
   ]
  },
  {
   "cell_type": "code",
   "execution_count": 44,
   "metadata": {},
   "outputs": [
    {
     "name": "stdout",
     "output_type": "stream",
     "text": [
      "User Guide: https://docs.kepler.gl/docs/keplergl-jupyter\n"
     ]
    },
    {
     "data": {
      "application/vnd.jupyter.widget-view+json": {
       "model_id": "ebc68a1a726f49bdbf486486d2fb0cb6",
       "version_major": 2,
       "version_minor": 0
      },
      "text/plain": [
       "KeplerGl(config={'version': 'v1', 'config': {'mapState': {'label': 'Centro', 'bearing': 0, 'latitude': 4.57, '…"
      ]
     },
     "metadata": {},
     "output_type": "display_data"
    }
   ],
   "source": [
    "map=KeplerGl(height=800, data={\"Centros Comerciales\":df}, show_docs=True)\n",
    "# map=KeplerGl(height=800)\n",
    "# map.add_data(\n",
    "#     data=df, name=\"cities\"\n",
    "# ) \n",
    "map.config = config\n",
    "keplergl_static(map, center_map=True)\n",
    "map"
   ]
  },
  {
   "cell_type": "code",
   "execution_count": 12,
   "metadata": {},
   "outputs": [
    {
     "name": "stdout",
     "output_type": "stream",
     "text": [
      "Map saved to malls_map.html!\n"
     ]
    }
   ],
   "source": [
    "map.save_to_html(file_name='malls_map.html')"
   ]
  },
  {
   "cell_type": "code",
   "execution_count": 65,
   "metadata": {},
   "outputs": [],
   "source": [
    "config = {'version': 'v1',\n",
    " 'config': {'visState': {'filters': [],\n",
    "   'layers': [{'id': '1df0ary',\n",
    "     'type': 'point',\n",
    "     'config': {'dataId': 'Centros Comerciales',\n",
    "      'label': 'Centro',\n",
    "      'color': [18, 92, 119],\n",
    "      'highlightColor': [252, 242, 26, 255],\n",
    "      'columns': {'lat': 'gis_lat', 'lng': 'gis_lon', 'altitude': None},\n",
    "      'isVisible': True,\n",
    "      'visConfig': {'radius': 30,\n",
    "       'fixedRadius': False,\n",
    "       'opacity': 0.8,\n",
    "       'outline': False,\n",
    "       'thickness': 2,\n",
    "       'strokeColor': None,\n",
    "       'colorRange': {'name': 'Global Warming',\n",
    "        'type': 'sequential',\n",
    "        'category': 'Uber',\n",
    "        'colors': ['#5A1846',\n",
    "         '#900C3F',\n",
    "         '#C70039',\n",
    "         '#E3611C',\n",
    "         '#F1920E',\n",
    "         '#FFC300']},\n",
    "       'strokeColorRange': {'name': 'Global Warming',\n",
    "        'type': 'sequential',\n",
    "        'category': 'Uber',\n",
    "        'colors': ['#5A1846',\n",
    "         '#900C3F',\n",
    "         '#C70039',\n",
    "         '#E3611C',\n",
    "         '#F1920E',\n",
    "         '#FFC300']},\n",
    "       'radiusRange': [0, 50],\n",
    "       'filled': True},\n",
    "      'hidden': False,\n",
    "      'textLabel': [{'field': None,\n",
    "        'color': [255, 255, 255],\n",
    "        'size': 18,\n",
    "        'offset': [0, 0],\n",
    "        'anchor': 'start',\n",
    "        'alignment': 'center'}]},\n",
    "     'visualChannels': {'colorField': {'name': 'count', 'type': 'integer'},\n",
    "      'colorScale': 'quantile',\n",
    "      'strokeColorField': None,\n",
    "      'strokeColorScale': 'quantile',\n",
    "      'sizeField': None,\n",
    "      'sizeScale': 'linear'}}],\n",
    "   'interactionConfig': {'tooltip': {'fieldsToShow': {'Centros Comerciales': [{'name': 'centroComercial',\n",
    "        'format': None},\n",
    "       {'name': 'count', 'format': None},\n",
    "       {'name': 'cc', 'format': None}]},\n",
    "     'compareMode': False,\n",
    "     'compareType': 'absolute',\n",
    "     'enabled': True},\n",
    "    'brush': {'size': 0.5, 'enabled': False},\n",
    "    'geocoder': {'enabled': False},\n",
    "    'coordinate': {'enabled': False}},\n",
    "   'layerBlending': 'normal',\n",
    "   'splitMaps': [],\n",
    "   'animationConfig': {'currentTime': None, 'speed': 1}},\n",
    "  'mapState': {'bearing': 0,\n",
    "   'dragRotate': False,\n",
    "   'latitude': 4.57,\n",
    "   'longitude': -74.13,\n",
    "   'pitch': 0,\n",
    "   'zoom': 11,\n",
    "   'isSplit': False},\n",
    "  'mapStyle': {'styleType': 'dark',\n",
    "   'topLayerGroups': {},\n",
    "   'visibleLayerGroups': {'label': True,\n",
    "    'road': True,\n",
    "    'border': False,\n",
    "    'building': True,\n",
    "    'water': True,\n",
    "    'land': True,\n",
    "    '3d building': False},\n",
    "   'threeDBuildingColor': [9.665468314072013,\n",
    "    17.18305478057247,\n",
    "    31.1442867897876],\n",
    "   'mapStyles': {}}}}"
   ]
  },
  {
   "cell_type": "code",
   "execution_count": 66,
   "metadata": {},
   "outputs": [
    {
     "name": "stdout",
     "output_type": "stream",
     "text": [
      "User Guide: https://docs.kepler.gl/docs/keplergl-jupyter\n"
     ]
    },
    {
     "data": {
      "application/vnd.jupyter.widget-view+json": {
       "model_id": "97731334f774486599a8875c91d86e04",
       "version_major": 2,
       "version_minor": 0
      },
      "text/plain": [
       "KeplerGl(config={'version': 'v1', 'config': {'visState': {'filters': [], 'layers': [{'id': '1df0ary', 'type': …"
      ]
     },
     "metadata": {},
     "output_type": "display_data"
    }
   ],
   "source": [
    "map=KeplerGl(height=800, data={\"Centros Comerciales\":df}, show_docs=True)\n",
    "# map=KeplerGl(height=800)\n",
    "# map.add_data(\n",
    "#     data=df, name=\"cities\"\n",
    "# ) \n",
    "map.config = config\n",
    "keplergl_static(map, center_map=True)\n",
    "map"
   ]
  },
  {
   "cell_type": "code",
   "execution_count": null,
   "metadata": {},
   "outputs": [],
   "source": []
  }
 ],
 "metadata": {
  "kernelspec": {
   "display_name": "Python 3",
   "language": "python",
   "name": "python3"
  },
  "language_info": {
   "codemirror_mode": {
    "name": "ipython",
    "version": 3
   },
   "file_extension": ".py",
   "mimetype": "text/x-python",
   "name": "python",
   "nbconvert_exporter": "python",
   "pygments_lexer": "ipython3",
   "version": "3.11.0"
  },
  "orig_nbformat": 4
 },
 "nbformat": 4,
 "nbformat_minor": 2
}
