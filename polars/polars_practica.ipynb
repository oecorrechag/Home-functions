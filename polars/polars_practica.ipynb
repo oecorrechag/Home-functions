{
 "cells": [
  {
   "cell_type": "code",
   "execution_count": 3,
   "metadata": {},
   "outputs": [],
   "source": [
    "import pandas as pd \n",
    "import numpy as np\n",
    "import polars as pl\n",
    "import time"
   ]
  },
  {
   "cell_type": "code",
   "execution_count": 6,
   "metadata": {},
   "outputs": [
    {
     "name": "stdout",
     "output_type": "stream",
     "text": [
      "time using pandas: 0.025\n"
     ]
    }
   ],
   "source": [
    "# Time with pandas\n",
    "start = time.time() \n",
    "df_pandas = pd.read_parquet('data/data.parquet.gzip')\n",
    "end = time.time()\n",
    "pd_read = round(end - start, 3)\n",
    "print(f\"time using pandas: {pd_read}\")"
   ]
  },
  {
   "cell_type": "code",
   "execution_count": 8,
   "metadata": {},
   "outputs": [
    {
     "name": "stdout",
     "output_type": "stream",
     "text": [
      "time using polars: 0.056\n"
     ]
    }
   ],
   "source": [
    "# Time with pandas\n",
    "start = time.time() \n",
    "df_polars = pl.read_parquet('data/data.parquet.gzip')\n",
    "end = time.time()\n",
    "df_polars = round(end - start, 3)\n",
    "print(f\"time using polars: {df_polars}\")"
   ]
  },
  {
   "cell_type": "code",
   "execution_count": null,
   "metadata": {},
   "outputs": [],
   "source": []
  },
  {
   "cell_type": "code",
   "execution_count": 10,
   "metadata": {},
   "outputs": [],
   "source": [
    "df = pd.read_csv('data/sample.csv', sep = ',', decimal = '.', header = 0, encoding = 'utf-8')\n",
    "\n",
    "df.to_csv('data/data.csv', encoding = 'utf-8-sig', index = False)\n",
    "df.to_parquet('data/data.parquet.gzip', compression='gzip')"
   ]
  },
  {
   "cell_type": "code",
   "execution_count": null,
   "metadata": {},
   "outputs": [],
   "source": [
    "\n",
    "\n",
    "start = time.time()  # Polars\n",
    "df_polars = pl.read_parquet(\"credit.parquet\") # pl.read_csv('FS_sp500_Value.csv')\n",
    "end = time.time()\n",
    "pl_read = round(end - start,3)\n",
    "compare_read_data = (pd_read / pl_read) * 100"
   ]
  }
 ],
 "metadata": {
  "kernelspec": {
   "display_name": "casa",
   "language": "python",
   "name": "python3"
  },
  "language_info": {
   "codemirror_mode": {
    "name": "ipython",
    "version": 3
   },
   "file_extension": ".py",
   "mimetype": "text/x-python",
   "name": "python",
   "nbconvert_exporter": "python",
   "pygments_lexer": "ipython3",
   "version": "3.11.0"
  },
  "orig_nbformat": 4
 },
 "nbformat": 4,
 "nbformat_minor": 2
}
