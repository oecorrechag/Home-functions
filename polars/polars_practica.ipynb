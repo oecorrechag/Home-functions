{
 "cells": [
  {
   "cell_type": "code",
   "execution_count": 30,
   "metadata": {},
   "outputs": [],
   "source": [
    "import pandas as pd \n",
    "import numpy as np\n",
    "import polars as pl\n",
    "import time\n",
    "from datetime import datetime"
   ]
  },
  {
   "cell_type": "code",
   "execution_count": 17,
   "metadata": {},
   "outputs": [
    {
     "name": "stdout",
     "output_type": "stream",
     "text": [
      "time using pandas: 0.111\n"
     ]
    }
   ],
   "source": [
    "# Time with pandas\n",
    "start = time.time() \n",
    "df_pandas = pd.read_parquet('data/data.parquet.gzip')\n",
    "end = time.time()\n",
    "pd_read = round(end - start, 3)\n",
    "print(f\"time using pandas: {pd_read}\")"
   ]
  },
  {
   "cell_type": "code",
   "execution_count": 18,
   "metadata": {},
   "outputs": [
    {
     "name": "stdout",
     "output_type": "stream",
     "text": [
      "<class 'pandas.core.frame.DataFrame'>\n",
      "RangeIndex: 100000 entries, 0 to 99999\n",
      "Data columns (total 5 columns):\n",
      " #   Column       Non-Null Count   Dtype         \n",
      "---  ------       --------------   -----         \n",
      " 0   invoice      100000 non-null  int64         \n",
      " 1   date         100000 non-null  datetime64[ns]\n",
      " 2   customer_id  100000 non-null  object        \n",
      " 3   stockcode    100000 non-null  object        \n",
      " 4   price        100000 non-null  float64       \n",
      "dtypes: datetime64[ns](1), float64(1), int64(1), object(2)\n",
      "memory usage: 3.8+ MB\n"
     ]
    }
   ],
   "source": [
    "df_pandas.info()"
   ]
  },
  {
   "cell_type": "code",
   "execution_count": 21,
   "metadata": {},
   "outputs": [
    {
     "name": "stdout",
     "output_type": "stream",
     "text": [
      "time using polars: 0.049\n"
     ]
    }
   ],
   "source": [
    "# Time with pandas\n",
    "start = time.time() \n",
    "df = pl.read_parquet('data/data.parquet.gzip')\n",
    "end = time.time()\n",
    "pd_read = round(end - start, 3)\n",
    "print(f\"time using polars: {pd_read}\")"
   ]
  },
  {
   "cell_type": "code",
   "execution_count": 26,
   "metadata": {},
   "outputs": [
    {
     "data": {
      "text/html": [
       "<div><style>\n",
       ".dataframe > thead > tr > th,\n",
       ".dataframe > tbody > tr > td {\n",
       "  text-align: right;\n",
       "}\n",
       "</style>\n",
       "<small>shape: (100000, 5)</small><table border=\"1\" class=\"dataframe\"><thead><tr><th>invoice</th><th>date</th><th>customer_id</th><th>stockcode</th><th>price</th></tr><tr><td>i64</td><td>datetime[ns]</td><td>str</td><td>str</td><td>f64</td></tr></thead><tbody><tr><td>1</td><td>2020-07-25 00:00:00</td><td>&quot;d18734&quot;</td><td>&quot;y7&quot;</td><td>50.45</td></tr><tr><td>2</td><td>2020-01-17 00:00:00</td><td>&quot;c21086&quot;</td><td>&quot;x7&quot;</td><td>25.3</td></tr><tr><td>3</td><td>2019-07-05 00:00:00</td><td>&quot;d18185&quot;</td><td>&quot;z5&quot;</td><td>18.4</td></tr><tr><td>4</td><td>2019-02-26 00:00:00</td><td>&quot;c18331&quot;</td><td>&quot;z2&quot;</td><td>5.5</td></tr><tr><td>5</td><td>2019-02-10 00:00:00</td><td>&quot;b16309&quot;</td><td>&quot;y7&quot;</td><td>18.4</td></tr><tr><td>6</td><td>2020-09-15 00:00:00</td><td>&quot;a19555&quot;</td><td>&quot;x4&quot;</td><td>50.45</td></tr><tr><td>7</td><td>2020-03-21 00:00:00</td><td>&quot;e21922&quot;</td><td>&quot;z5&quot;</td><td>5.5</td></tr><tr><td>8</td><td>2020-12-14 00:00:00</td><td>&quot;d20934&quot;</td><td>&quot;y2&quot;</td><td>50.45</td></tr><tr><td>9</td><td>2020-10-05 00:00:00</td><td>&quot;a22528&quot;</td><td>&quot;y6&quot;</td><td>12.99</td></tr><tr><td>10</td><td>2019-12-04 00:00:00</td><td>&quot;b21872&quot;</td><td>&quot;z6&quot;</td><td>12.99</td></tr><tr><td>11</td><td>2020-04-09 00:00:00</td><td>&quot;b21716&quot;</td><td>&quot;x3&quot;</td><td>5.5</td></tr><tr><td>12</td><td>2019-01-03 00:00:00</td><td>&quot;d19917&quot;</td><td>&quot;z2&quot;</td><td>25.3</td></tr><tr><td>&hellip;</td><td>&hellip;</td><td>&hellip;</td><td>&hellip;</td><td>&hellip;</td></tr><tr><td>99989</td><td>2019-12-30 00:00:00</td><td>&quot;d17157&quot;</td><td>&quot;x2&quot;</td><td>18.4</td></tr><tr><td>99990</td><td>2020-10-08 00:00:00</td><td>&quot;e21475&quot;</td><td>&quot;x4&quot;</td><td>12.99</td></tr><tr><td>99991</td><td>2020-06-24 00:00:00</td><td>&quot;a20698&quot;</td><td>&quot;y2&quot;</td><td>12.99</td></tr><tr><td>99992</td><td>2019-12-01 00:00:00</td><td>&quot;b21830&quot;</td><td>&quot;x1&quot;</td><td>25.3</td></tr><tr><td>99993</td><td>2020-07-08 00:00:00</td><td>&quot;a18551&quot;</td><td>&quot;y3&quot;</td><td>18.4</td></tr><tr><td>99994</td><td>2020-02-27 00:00:00</td><td>&quot;e19573&quot;</td><td>&quot;y7&quot;</td><td>12.99</td></tr><tr><td>99995</td><td>2020-09-22 00:00:00</td><td>&quot;c22565&quot;</td><td>&quot;y2&quot;</td><td>18.4</td></tr><tr><td>99996</td><td>2019-08-16 00:00:00</td><td>&quot;a17974&quot;</td><td>&quot;y4&quot;</td><td>25.3</td></tr><tr><td>99997</td><td>2019-03-24 00:00:00</td><td>&quot;b17781&quot;</td><td>&quot;z4&quot;</td><td>18.4</td></tr><tr><td>99998</td><td>2019-03-22 00:00:00</td><td>&quot;e18094&quot;</td><td>&quot;x2&quot;</td><td>25.3</td></tr><tr><td>99999</td><td>2019-12-09 00:00:00</td><td>&quot;c22146&quot;</td><td>&quot;y7&quot;</td><td>18.4</td></tr><tr><td>100000</td><td>2019-01-18 00:00:00</td><td>&quot;d20754&quot;</td><td>&quot;x7&quot;</td><td>25.3</td></tr></tbody></table></div>"
      ],
      "text/plain": [
       "shape: (100000, 5)\n",
       "┌─────────┬─────────────────────┬─────────────┬───────────┬───────┐\n",
       "│ invoice ┆ date                ┆ customer_id ┆ stockcode ┆ price │\n",
       "│ ---     ┆ ---                 ┆ ---         ┆ ---       ┆ ---   │\n",
       "│ i64     ┆ datetime[ns]        ┆ str         ┆ str       ┆ f64   │\n",
       "╞═════════╪═════════════════════╪═════════════╪═══════════╪═══════╡\n",
       "│ 1       ┆ 2020-07-25 00:00:00 ┆ d18734      ┆ y7        ┆ 50.45 │\n",
       "│ 2       ┆ 2020-01-17 00:00:00 ┆ c21086      ┆ x7        ┆ 25.3  │\n",
       "│ 3       ┆ 2019-07-05 00:00:00 ┆ d18185      ┆ z5        ┆ 18.4  │\n",
       "│ 4       ┆ 2019-02-26 00:00:00 ┆ c18331      ┆ z2        ┆ 5.5   │\n",
       "│ …       ┆ …                   ┆ …           ┆ …         ┆ …     │\n",
       "│ 99997   ┆ 2019-03-24 00:00:00 ┆ b17781      ┆ z4        ┆ 18.4  │\n",
       "│ 99998   ┆ 2019-03-22 00:00:00 ┆ e18094      ┆ x2        ┆ 25.3  │\n",
       "│ 99999   ┆ 2019-12-09 00:00:00 ┆ c22146      ┆ y7        ┆ 18.4  │\n",
       "│ 100000  ┆ 2019-01-18 00:00:00 ┆ d20754      ┆ x7        ┆ 25.3  │\n",
       "└─────────┴─────────────────────┴─────────────┴───────────┴───────┘"
      ]
     },
     "execution_count": 26,
     "metadata": {},
     "output_type": "execute_result"
    }
   ],
   "source": [
    "df"
   ]
  },
  {
   "cell_type": "code",
   "execution_count": 23,
   "metadata": {},
   "outputs": [
    {
     "name": "stdout",
     "output_type": "stream",
     "text": [
      "shape: (19824, 5)\n",
      "┌─────────┬─────────────────────┬─────────────┬───────────┬───────┐\n",
      "│ invoice ┆ date                ┆ customer_id ┆ stockcode ┆ price │\n",
      "│ ---     ┆ ---                 ┆ ---         ┆ ---       ┆ ---   │\n",
      "│ i64     ┆ datetime[ns]        ┆ str         ┆ str       ┆ f64   │\n",
      "╞═════════╪═════════════════════╪═════════════╪═══════════╪═══════╡\n",
      "│ 4       ┆ 2019-02-26 00:00:00 ┆ c18331      ┆ z2        ┆ 5.5   │\n",
      "│ 7       ┆ 2020-03-21 00:00:00 ┆ e21922      ┆ z5        ┆ 5.5   │\n",
      "│ 11      ┆ 2020-04-09 00:00:00 ┆ b21716      ┆ x3        ┆ 5.5   │\n",
      "│ 16      ┆ 2020-06-11 00:00:00 ┆ c16529      ┆ z1        ┆ 5.5   │\n",
      "│ …       ┆ …                   ┆ …           ┆ …         ┆ …     │\n",
      "│ 99980   ┆ 2020-05-19 00:00:00 ┆ e16366      ┆ y6        ┆ 5.5   │\n",
      "│ 99983   ┆ 2020-08-13 00:00:00 ┆ d16743      ┆ y3        ┆ 5.5   │\n",
      "│ 99986   ┆ 2020-08-12 00:00:00 ┆ b15704      ┆ y3        ┆ 5.5   │\n",
      "│ 99988   ┆ 2019-06-25 00:00:00 ┆ a21538      ┆ z2        ┆ 5.5   │\n",
      "└─────────┴─────────────────────┴─────────────┴───────────┴───────┘\n"
     ]
    }
   ],
   "source": [
    "filter_df = df.filter(pl.col(\"price\") <= 5.5)\n",
    "print(filter_df)"
   ]
  },
  {
   "cell_type": "code",
   "execution_count": 27,
   "metadata": {},
   "outputs": [
    {
     "name": "stdout",
     "output_type": "stream",
     "text": [
      "shape: (5, 5)\n",
      "┌─────────┬─────────────────────┬─────────────┬───────────┬───────┐\n",
      "│ invoice ┆ date                ┆ customer_id ┆ stockcode ┆ price │\n",
      "│ ---     ┆ ---                 ┆ ---         ┆ ---       ┆ ---   │\n",
      "│ i64     ┆ datetime[ns]        ┆ str         ┆ str       ┆ f64   │\n",
      "╞═════════╪═════════════════════╪═════════════╪═══════════╪═══════╡\n",
      "│ 1       ┆ 2020-07-25 00:00:00 ┆ d18734      ┆ y7        ┆ 50.45 │\n",
      "│ 2       ┆ 2020-01-17 00:00:00 ┆ c21086      ┆ x7        ┆ 25.3  │\n",
      "│ 3       ┆ 2019-07-05 00:00:00 ┆ d18185      ┆ z5        ┆ 18.4  │\n",
      "│ 4       ┆ 2019-02-26 00:00:00 ┆ c18331      ┆ z2        ┆ 5.5   │\n",
      "│ 5       ┆ 2019-02-10 00:00:00 ┆ b16309      ┆ y7        ┆ 18.4  │\n",
      "└─────────┴─────────────────────┴─────────────┴───────────┴───────┘\n"
     ]
    }
   ],
   "source": [
    "multi_filter_df = df.filter((pl.col(\"invoice\") <= 5) & (pl.col(\"invoice\") <= 100))\n",
    "print(multi_filter_df)"
   ]
  },
  {
   "cell_type": "code",
   "execution_count": 32,
   "metadata": {},
   "outputs": [
    {
     "data": {
      "text/html": [
       "<div><style>\n",
       ".dataframe > thead > tr > th,\n",
       ".dataframe > tbody > tr > td {\n",
       "  text-align: right;\n",
       "}\n",
       "</style>\n",
       "<small>shape: (25927, 5)</small><table border=\"1\" class=\"dataframe\"><thead><tr><th>invoice</th><th>date</th><th>customer_id</th><th>stockcode</th><th>price</th></tr><tr><td>i64</td><td>datetime[ns]</td><td>str</td><td>str</td><td>f64</td></tr></thead><tbody><tr><td>1</td><td>2020-07-25 00:00:00</td><td>&quot;d18734&quot;</td><td>&quot;y7&quot;</td><td>50.45</td></tr><tr><td>2</td><td>2020-01-17 00:00:00</td><td>&quot;c21086&quot;</td><td>&quot;x7&quot;</td><td>25.3</td></tr><tr><td>7</td><td>2020-03-21 00:00:00</td><td>&quot;e21922&quot;</td><td>&quot;z5&quot;</td><td>5.5</td></tr><tr><td>11</td><td>2020-04-09 00:00:00</td><td>&quot;b21716&quot;</td><td>&quot;x3&quot;</td><td>5.5</td></tr><tr><td>13</td><td>2020-07-05 00:00:00</td><td>&quot;a19508&quot;</td><td>&quot;y5&quot;</td><td>18.4</td></tr><tr><td>15</td><td>2020-02-11 00:00:00</td><td>&quot;b20365&quot;</td><td>&quot;z7&quot;</td><td>25.3</td></tr><tr><td>16</td><td>2020-06-11 00:00:00</td><td>&quot;c16529&quot;</td><td>&quot;z1&quot;</td><td>5.5</td></tr><tr><td>24</td><td>2020-04-05 00:00:00</td><td>&quot;c19798&quot;</td><td>&quot;y2&quot;</td><td>50.45</td></tr><tr><td>28</td><td>2020-06-05 00:00:00</td><td>&quot;e18669&quot;</td><td>&quot;z4&quot;</td><td>50.45</td></tr><tr><td>29</td><td>2020-04-18 00:00:00</td><td>&quot;c15976&quot;</td><td>&quot;z2&quot;</td><td>25.3</td></tr><tr><td>37</td><td>2020-07-21 00:00:00</td><td>&quot;e22057&quot;</td><td>&quot;z5&quot;</td><td>5.5</td></tr><tr><td>42</td><td>2020-02-07 00:00:00</td><td>&quot;c19779&quot;</td><td>&quot;x2&quot;</td><td>12.99</td></tr><tr><td>&hellip;</td><td>&hellip;</td><td>&hellip;</td><td>&hellip;</td><td>&hellip;</td></tr><tr><td>99939</td><td>2020-01-24 00:00:00</td><td>&quot;c16169&quot;</td><td>&quot;y3&quot;</td><td>5.5</td></tr><tr><td>99946</td><td>2020-07-04 00:00:00</td><td>&quot;b18111&quot;</td><td>&quot;x8&quot;</td><td>25.3</td></tr><tr><td>99954</td><td>2020-03-05 00:00:00</td><td>&quot;e18230&quot;</td><td>&quot;z1&quot;</td><td>5.5</td></tr><tr><td>99958</td><td>2020-07-24 00:00:00</td><td>&quot;a21534&quot;</td><td>&quot;z3&quot;</td><td>18.4</td></tr><tr><td>99959</td><td>2020-02-05 00:00:00</td><td>&quot;e19030&quot;</td><td>&quot;x6&quot;</td><td>5.5</td></tr><tr><td>99965</td><td>2020-02-15 00:00:00</td><td>&quot;b21668&quot;</td><td>&quot;z8&quot;</td><td>5.5</td></tr><tr><td>99974</td><td>2020-06-01 00:00:00</td><td>&quot;d22228&quot;</td><td>&quot;y6&quot;</td><td>50.45</td></tr><tr><td>99978</td><td>2020-03-30 00:00:00</td><td>&quot;a18406&quot;</td><td>&quot;z4&quot;</td><td>50.45</td></tr><tr><td>99980</td><td>2020-05-19 00:00:00</td><td>&quot;e16366&quot;</td><td>&quot;y6&quot;</td><td>5.5</td></tr><tr><td>99991</td><td>2020-06-24 00:00:00</td><td>&quot;a20698&quot;</td><td>&quot;y2&quot;</td><td>12.99</td></tr><tr><td>99993</td><td>2020-07-08 00:00:00</td><td>&quot;a18551&quot;</td><td>&quot;y3&quot;</td><td>18.4</td></tr><tr><td>99994</td><td>2020-02-27 00:00:00</td><td>&quot;e19573&quot;</td><td>&quot;y7&quot;</td><td>12.99</td></tr></tbody></table></div>"
      ],
      "text/plain": [
       "shape: (25927, 5)\n",
       "┌─────────┬─────────────────────┬─────────────┬───────────┬───────┐\n",
       "│ invoice ┆ date                ┆ customer_id ┆ stockcode ┆ price │\n",
       "│ ---     ┆ ---                 ┆ ---         ┆ ---       ┆ ---   │\n",
       "│ i64     ┆ datetime[ns]        ┆ str         ┆ str       ┆ f64   │\n",
       "╞═════════╪═════════════════════╪═════════════╪═══════════╪═══════╡\n",
       "│ 1       ┆ 2020-07-25 00:00:00 ┆ d18734      ┆ y7        ┆ 50.45 │\n",
       "│ 2       ┆ 2020-01-17 00:00:00 ┆ c21086      ┆ x7        ┆ 25.3  │\n",
       "│ 7       ┆ 2020-03-21 00:00:00 ┆ e21922      ┆ z5        ┆ 5.5   │\n",
       "│ 11      ┆ 2020-04-09 00:00:00 ┆ b21716      ┆ x3        ┆ 5.5   │\n",
       "│ …       ┆ …                   ┆ …           ┆ …         ┆ …     │\n",
       "│ 99980   ┆ 2020-05-19 00:00:00 ┆ e16366      ┆ y6        ┆ 5.5   │\n",
       "│ 99991   ┆ 2020-06-24 00:00:00 ┆ a20698      ┆ y2        ┆ 12.99 │\n",
       "│ 99993   ┆ 2020-07-08 00:00:00 ┆ a18551      ┆ y3        ┆ 18.4  │\n",
       "│ 99994   ┆ 2020-02-27 00:00:00 ┆ e19573      ┆ y7        ┆ 12.99 │\n",
       "└─────────┴─────────────────────┴─────────────┴───────────┴───────┘"
      ]
     },
     "execution_count": 32,
     "metadata": {},
     "output_type": "execute_result"
    }
   ],
   "source": [
    "date_start = datetime.strptime('2020-01-17', \"%Y-%m-%d\").date()\n",
    "date_end = datetime.strptime('2020-07-25', \"%Y-%m-%d\").date()\n",
    "\n",
    "filter_date = pl_filtered = df.filter(pl.col(\"date\").is_between(date_start,date_end),)\n",
    "filter_date"
   ]
  },
  {
   "cell_type": "code",
   "execution_count": 33,
   "metadata": {},
   "outputs": [
    {
     "name": "stdout",
     "output_type": "stream",
     "text": [
      "\n",
      "  PARQUET SCAN data/data.parquet.gzip\n",
      "  PROJECT */5 COLUMNS\n",
      "  SELECTION: [([(col(\"date\")) >= (2020-01-17 00:00:00)]) & ([(col(\"date\")) <= (2020-07-25 00:00:00)])]\n"
     ]
    }
   ],
   "source": [
    "lazy_filter_df = (\n",
    "    pl.scan_parquet(\"data/data.parquet.gzip\")\n",
    "    .filter(\n",
    "        pl.col(\"date\").is_between(date_start,date_end),\n",
    "    )\n",
    ")\n",
    "print(lazy_filter_df.describe_optimized_plan())"
   ]
  },
  {
   "cell_type": "code",
   "execution_count": null,
   "metadata": {},
   "outputs": [],
   "source": [
    "\n",
    "\n"
   ]
  }
 ],
 "metadata": {
  "kernelspec": {
   "display_name": "casa",
   "language": "python",
   "name": "python3"
  },
  "language_info": {
   "codemirror_mode": {
    "name": "ipython",
    "version": 3
   },
   "file_extension": ".py",
   "mimetype": "text/x-python",
   "name": "python",
   "nbconvert_exporter": "python",
   "pygments_lexer": "ipython3",
   "version": "3.11.0"
  },
  "orig_nbformat": 4
 },
 "nbformat": 4,
 "nbformat_minor": 2
}
