{
 "cells": [
  {
   "cell_type": "code",
   "execution_count": 1,
   "metadata": {},
   "outputs": [],
   "source": [
    "import pandas as pd"
   ]
  },
  {
   "cell_type": "code",
   "execution_count": 2,
   "metadata": {},
   "outputs": [
    {
     "name": "stdout",
     "output_type": "stream",
     "text": [
      "                             direccion    latitud   longitud\n",
      "0        Av. Paulista, 1000, São Paulo -23.564927 -46.651957\n",
      "1         Rua Augusta, 1500, São Paulo -23.556546 -46.658648\n",
      "2  Praia de Copacabana, Rio de Janeiro -22.975706 -43.186624\n"
     ]
    }
   ],
   "source": [
    "import pandas as pd\n",
    "from geopy.geocoders import Nominatim\n",
    "\n",
    "# Creamos un dataframe con las direcciones que queremos georreferenciar\n",
    "df = pd.DataFrame({'direccion': ['Av. Paulista, 1000, São Paulo', \n",
    "                                 'Rua Augusta, 1500, São Paulo', \n",
    "                                 'Praia de Copacabana, Rio de Janeiro']})\n",
    "\n",
    "# Creamos una instancia del geocodificador Nominatim\n",
    "geolocator = Nominatim(user_agent=\"my_app\")\n",
    "\n",
    "# Definimos una función para georreferenciar cada dirección y obtener sus coordenadas\n",
    "def geocode(address):\n",
    "    location = geolocator.geocode(address)\n",
    "    if location:\n",
    "        return location.latitude, location.longitude\n",
    "    else:\n",
    "        return None, None\n",
    "\n",
    "# Aplicamos la función a cada dirección del dataframe y almacenamos las coordenadas en dos nuevas columnas\n",
    "df['latitud'], df['longitud'] = zip(*df['direccion'].apply(geocode))\n",
    "\n",
    "print(df)\n"
   ]
  },
  {
   "cell_type": "code",
   "execution_count": 3,
   "metadata": {},
   "outputs": [
    {
     "data": {
      "text/html": [
       "<div>\n",
       "<style scoped>\n",
       "    .dataframe tbody tr th:only-of-type {\n",
       "        vertical-align: middle;\n",
       "    }\n",
       "\n",
       "    .dataframe tbody tr th {\n",
       "        vertical-align: top;\n",
       "    }\n",
       "\n",
       "    .dataframe thead th {\n",
       "        text-align: right;\n",
       "    }\n",
       "</style>\n",
       "<table border=\"1\" class=\"dataframe\">\n",
       "  <thead>\n",
       "    <tr style=\"text-align: right;\">\n",
       "      <th></th>\n",
       "      <th>id_persona</th>\n",
       "      <th>direccion</th>\n",
       "      <th>municipio</th>\n",
       "      <th>departamento</th>\n",
       "      <th>gis_lat</th>\n",
       "      <th>gis_lon</th>\n",
       "      <th>dir_municipio</th>\n",
       "    </tr>\n",
       "  </thead>\n",
       "  <tbody>\n",
       "    <tr>\n",
       "      <th>0</th>\n",
       "      <td>6574556</td>\n",
       "      <td>5 a buenos aires bajo</td>\n",
       "      <td>armenia</td>\n",
       "      <td>quindío</td>\n",
       "      <td>4.53020</td>\n",
       "      <td>-75.68833</td>\n",
       "      <td>5 a buenos aires bajo, armenia</td>\n",
       "    </tr>\n",
       "    <tr>\n",
       "      <th>1</th>\n",
       "      <td>6574956</td>\n",
       "      <td>vereda la argentina</td>\n",
       "      <td>la tebaida</td>\n",
       "      <td>quindío</td>\n",
       "      <td>4.45301</td>\n",
       "      <td>-75.78884</td>\n",
       "      <td>vereda la argentina, la tebaida</td>\n",
       "    </tr>\n",
       "    <tr>\n",
       "      <th>2</th>\n",
       "      <td>6573108</td>\n",
       "      <td>conjunto caminos del campo mz 1 blq b cs 33</td>\n",
       "      <td>armenia</td>\n",
       "      <td>quindío</td>\n",
       "      <td>4.53020</td>\n",
       "      <td>-75.68833</td>\n",
       "      <td>conjunto caminos del campo mz 1 blq b cs 33, a...</td>\n",
       "    </tr>\n",
       "    <tr>\n",
       "      <th>3</th>\n",
       "      <td>6584574</td>\n",
       "      <td>conj lara bonilla to 18 apto 4</td>\n",
       "      <td>garzón</td>\n",
       "      <td>huila</td>\n",
       "      <td>2.19732</td>\n",
       "      <td>-75.62805</td>\n",
       "      <td>conj lara bonilla to 18 apto 4, garzón</td>\n",
       "    </tr>\n",
       "    <tr>\n",
       "      <th>4</th>\n",
       "      <td>6578654</td>\n",
       "      <td>barrio la crustala casa # 7 - 38</td>\n",
       "      <td>ipiales</td>\n",
       "      <td>nariño</td>\n",
       "      <td>0.82749</td>\n",
       "      <td>-77.63547</td>\n",
       "      <td>barrio la crustala casa # 7 - 38, ipiales</td>\n",
       "    </tr>\n",
       "  </tbody>\n",
       "</table>\n",
       "</div>"
      ],
      "text/plain": [
       "   id_persona                                    direccion   municipio  \\\n",
       "0     6574556                        5 a buenos aires bajo     armenia   \n",
       "1     6574956                          vereda la argentina  la tebaida   \n",
       "2     6573108  conjunto caminos del campo mz 1 blq b cs 33     armenia   \n",
       "3     6584574               conj lara bonilla to 18 apto 4      garzón   \n",
       "4     6578654             barrio la crustala casa # 7 - 38     ipiales   \n",
       "\n",
       "  departamento  gis_lat   gis_lon  \\\n",
       "0      quindío  4.53020 -75.68833   \n",
       "1      quindío  4.45301 -75.78884   \n",
       "2      quindío  4.53020 -75.68833   \n",
       "3        huila  2.19732 -75.62805   \n",
       "4       nariño  0.82749 -77.63547   \n",
       "\n",
       "                                       dir_municipio  \n",
       "0                     5 a buenos aires bajo, armenia  \n",
       "1                    vereda la argentina, la tebaida  \n",
       "2  conjunto caminos del campo mz 1 blq b cs 33, a...  \n",
       "3             conj lara bonilla to 18 apto 4, garzón  \n",
       "4          barrio la crustala casa # 7 - 38, ipiales  "
      ]
     },
     "execution_count": 3,
     "metadata": {},
     "output_type": "execute_result"
    }
   ],
   "source": [
    "geo_buscar = pd.read_csv('data/geo_buscar.csv', sep = ',', decimal = '.', header = 0, encoding = 'utf-8')\n",
    "geo_buscar['direccion'] = geo_buscar['direccion'].str.lower()\n",
    "geo_buscar['dir_municipio'] = geo_buscar['direccion'] + ', ' + geo_buscar['municipio']\n",
    "geo_buscar.head()"
   ]
  },
  {
   "cell_type": "code",
   "execution_count": 4,
   "metadata": {},
   "outputs": [],
   "source": [
    "# Creamos una instancia del geocodificador Nominatim\n",
    "geolocator = Nominatim(user_agent=\"my_app\")\n",
    "\n",
    "# Definimos una función para georreferenciar cada dirección y obtener sus coordenadas\n",
    "def geocode(address):\n",
    "    location = geolocator.geocode(address, timeout=None)\n",
    "    if location:\n",
    "        return location.latitude, location.longitude\n",
    "    else:\n",
    "        return None, None"
   ]
  },
  {
   "cell_type": "code",
   "execution_count": 5,
   "metadata": {},
   "outputs": [],
   "source": [
    "geolocator = Nominatim(user_agent=\"my-app\")\n",
    "\n",
    "# Agregar columnas para la latitud y longitud\n",
    "geo_buscar['latitud'] = None\n",
    "geo_buscar['longitud'] = None\n",
    "\n",
    "# Iterar sobre cada dirección y geocodificarla\n",
    "for index, row in geo_buscar.iterrows():\n",
    "    location = geolocator.geocode(row['dir_municipio'], timeout=None)\n",
    "    if location:\n",
    "        geo_buscar.at[index, 'latitud'] = location.latitude\n",
    "        geo_buscar.at[index, 'longitud'] = location.longitude"
   ]
  },
  {
   "cell_type": "code",
   "execution_count": 6,
   "metadata": {},
   "outputs": [
    {
     "data": {
      "text/plain": [
       "id_persona        0\n",
       "direccion         0\n",
       "municipio         0\n",
       "departamento      0\n",
       "gis_lat           0\n",
       "gis_lon           0\n",
       "dir_municipio     0\n",
       "latitud          91\n",
       "longitud         91\n",
       "dtype: int64"
      ]
     },
     "execution_count": 6,
     "metadata": {},
     "output_type": "execute_result"
    }
   ],
   "source": [
    "geo_buscar.isnull().sum()"
   ]
  },
  {
   "cell_type": "code",
   "execution_count": 7,
   "metadata": {},
   "outputs": [],
   "source": [
    "# Aplicamos la función a cada dirección del dataframe y almacenamos las coordenadas en dos nuevas columnas\n",
    "geo_buscar['latitud'], geo_buscar['longitud'] = zip(*geo_buscar['dir_municipio'].apply(geocode))"
   ]
  },
  {
   "cell_type": "code",
   "execution_count": 8,
   "metadata": {},
   "outputs": [],
   "source": [
    "# geo_buscar.head()"
   ]
  },
  {
   "cell_type": "code",
   "execution_count": 9,
   "metadata": {},
   "outputs": [
    {
     "data": {
      "text/plain": [
       "id_persona        0\n",
       "direccion         0\n",
       "municipio         0\n",
       "departamento      0\n",
       "gis_lat           0\n",
       "gis_lon           0\n",
       "dir_municipio     0\n",
       "latitud          91\n",
       "longitud         91\n",
       "dtype: int64"
      ]
     },
     "execution_count": 9,
     "metadata": {},
     "output_type": "execute_result"
    }
   ],
   "source": [
    "geo_buscar.isnull().sum()"
   ]
  },
  {
   "cell_type": "code",
   "execution_count": 10,
   "metadata": {},
   "outputs": [
    {
     "data": {
      "text/plain": [
       "(99, 9)"
      ]
     },
     "execution_count": 10,
     "metadata": {},
     "output_type": "execute_result"
    }
   ],
   "source": [
    "geo_buscar.shape"
   ]
  }
 ],
 "metadata": {
  "kernelspec": {
   "display_name": "Python 3",
   "language": "python",
   "name": "python3"
  },
  "language_info": {
   "codemirror_mode": {
    "name": "ipython",
    "version": 3
   },
   "file_extension": ".py",
   "mimetype": "text/x-python",
   "name": "python",
   "nbconvert_exporter": "python",
   "pygments_lexer": "ipython3",
   "version": "3.11.0"
  },
  "orig_nbformat": 4
 },
 "nbformat": 4,
 "nbformat_minor": 2
}
